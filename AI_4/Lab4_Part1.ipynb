{
  "cells": [
    {
      "cell_type": "markdown",
      "metadata": {
        "id": "view-in-github",
        "colab_type": "text"
      },
      "source": [
        "<a href=\"https://colab.research.google.com/github/AlekseySemenov1/AI_Systems/blob/main/AI_4/Lab4_Part1.ipynb\" target=\"_parent\"><img src=\"https://colab.research.google.com/assets/colab-badge.svg\" alt=\"Open In Colab\"/></a>"
      ]
    },
    {
      "cell_type": "markdown",
      "metadata": {
        "id": "xb3_klC6fpPv"
      },
      "source": [
        "# Import dependencies"
      ]
    },
    {
      "cell_type": "code",
      "execution_count": 1,
      "metadata": {
        "collapsed": true,
        "id": "uVFUiq8HfpPx"
      },
      "outputs": [],
      "source": [
        "from keras.models import Sequential\n",
        "from keras.layers import Dense, Activation\n",
        "from keras.callbacks import Callback\n",
        "from keras import regularizers\n",
        "from keras import optimizers\n",
        "\n",
        "from functools import partial\n",
        "\n",
        "%matplotlib inline\n",
        "import matplotlib.pyplot as plt\n",
        "from ipywidgets import *\n",
        "\n",
        "import numpy as np"
      ]
    },
    {
      "cell_type": "markdown",
      "metadata": {
        "id": "kNT8VmdqfpPy"
      },
      "source": [
        "# Generate data"
      ]
    },
    {
      "cell_type": "code",
      "execution_count": 2,
      "metadata": {
        "collapsed": true,
        "id": "BmP-rSgZfpPy"
      },
      "outputs": [],
      "source": [
        "# Dot count\n",
        "samples = 1000\n",
        "test_n = 200"
      ]
    },
    {
      "cell_type": "code",
      "execution_count": 3,
      "metadata": {
        "collapsed": true,
        "id": "oaFyqo5AfpPz"
      },
      "outputs": [],
      "source": [
        "# X interval\n",
        "x_int = (-6.3, 6.3)\n",
        "# Y interval\n",
        "y_int = (0, 1.2)"
      ]
    },
    {
      "cell_type": "code",
      "execution_count": 4,
      "metadata": {
        "colab": {
          "base_uri": "https://localhost:8080/"
        },
        "id": "fzz1sKvnfpPz",
        "outputId": "315cd3b0-0359-4fc7-e840-7e3fb0653090"
      },
      "outputs": [
        {
          "output_type": "stream",
          "name": "stdout",
          "text": [
            "[[ 4.65275053  0.80845652]\n",
            " [ 2.64090619  0.75334763]\n",
            " [ 2.54334291  0.9690259 ]\n",
            " ...\n",
            " [ 0.82715513  0.71185471]\n",
            " [ 0.21731617  0.76486741]\n",
            " [-4.68674254  0.87074258]]\n"
          ]
        }
      ],
      "source": [
        "# Generate\n",
        "data = [(np.random.random() * (x_int[1] - x_int[0]) + x_int[0],\n",
        "                  np.random.random() * (y_int[1] - y_int[0]) + y_int[0]) for i in range(samples + test_n)]\n",
        "#print(data)\n",
        "train_data = np.array(data[test_n:])\n",
        "test_data = np.array(data[:test_n])\n",
        "print(train_data)"
      ]
    },
    {
      "cell_type": "code",
      "execution_count": 5,
      "metadata": {
        "collapsed": true,
        "id": "QoUQfu8FfpP0"
      },
      "outputs": [],
      "source": [
        "def main_func(x):\n",
        "    return np.abs(np.sin(x))\n",
        "\n",
        "def main_func_noisy(x):\n",
        "    return main_func(x) + np.cos(4*x + 1) / 5\n",
        "\n",
        "def result_func(xy):\n",
        "    return main_func(xy[0]) > xy[1]\n",
        "\n",
        "def result_func_noisy(xy):\n",
        "    return main_func_noisy(xy[0]) > xy[1]"
      ]
    },
    {
      "cell_type": "code",
      "execution_count": 6,
      "metadata": {
        "colab": {
          "base_uri": "https://localhost:8080/"
        },
        "id": "g6FchOPnfpP0",
        "outputId": "ff5c2549-5ca7-4672-a94b-5e385abc9174"
      },
      "outputs": [
        {
          "output_type": "stream",
          "name": "stdout",
          "text": [
            "(1000,)\n",
            "(200,)\n"
          ]
        }
      ],
      "source": [
        "train_answers = np.apply_along_axis(result_func_noisy, arr=train_data, axis=1)\n",
        "#answers = np.reshape(answers, (samples,1))\n",
        "print(train_answers.shape)\n",
        "\n",
        "test_answers = np.apply_along_axis(result_func, arr=test_data, axis=1)\n",
        "print(test_answers.shape)"
      ]
    },
    {
      "cell_type": "code",
      "execution_count": 7,
      "metadata": {
        "colab": {
          "base_uri": "https://localhost:8080/"
        },
        "id": "FwhVoq1tfpP0",
        "outputId": "6288f40d-69c6-4e71-dfd7-43f8f2a7e6bf"
      },
      "outputs": [
        {
          "output_type": "stream",
          "name": "stdout",
          "text": [
            "(551, 2)\n",
            "(449, 2)\n"
          ]
        }
      ],
      "source": [
        "train_data_true = train_data[train_answers]\n",
        "train_data_false = train_data[np.logical_not(train_answers)]\n",
        "print(train_data_true.shape)\n",
        "print(train_data_false.shape)"
      ]
    },
    {
      "cell_type": "markdown",
      "metadata": {
        "id": "1kdi3q24fpP1"
      },
      "source": [
        "## Plot drawing"
      ]
    },
    {
      "cell_type": "code",
      "execution_count": 12,
      "metadata": {
        "colab": {
          "base_uri": "https://localhost:8080/",
          "height": 447
        },
        "id": "vwDg7EcufpP1",
        "outputId": "79bad550-eb44-46bf-bbee-7f035fa95021"
      },
      "outputs": [
        {
          "output_type": "execute_result",
          "data": {
            "text/plain": [
              "[<matplotlib.lines.Line2D at 0x7a65d48ae170>]"
            ]
          },
          "metadata": {},
          "execution_count": 12
        },
        {
          "output_type": "display_data",
          "data": {
            "text/plain": [
              "<Figure size 640x480 with 1 Axes>"
            ],
            "image/png": "[encoded data removed]"
          },
          "metadata": {}
        }
      ],
      "source": [
        "fig, ax = plt.subplots()\n",
        "\n",
        "xx = np.linspace(*x_int, 100)\n",
        "\n",
        "ax.plot(train_data_true[:,0], train_data_true[:,1], 'g.')\n",
        "ax.plot(train_data_false[:,0], train_data_false[:,1], 'r.')\n",
        "ax.plot(xx, main_func(xx), 'b--')\n",
        "ax.plot(xx, main_func_noisy(xx), 'y-')"
      ]
    },
    {
      "cell_type": "markdown",
      "metadata": {
        "id": "nW58bPLsfpP1"
      },
      "source": [
        "## Experimentation"
      ]
    },
    {
      "cell_type": "markdown",
      "metadata": {
        "id": "5Rfj-agZfpP1"
      },
      "source": [
        "Plot drawing"
      ]
    },
    {
      "cell_type": "code",
      "execution_count": 9,
      "metadata": {
        "collapsed": true,
        "id": "1feA0JuLfpP2"
      },
      "outputs": [],
      "source": [
        "def plot_accuracy(history):\n",
        "    # Plot training & validation accuracy values\n",
        "    plt.plot(history.history['accuracy'])\n",
        "    plt.plot(history.history['val_accuracy'])\n",
        "    plt.title('Model accuracy')\n",
        "    plt.ylabel('Accuracy')\n",
        "    plt.xlabel('Epoch')\n",
        "    plt.legend(['Train', 'Test'], loc='upper left')\n",
        "    plt.show()\n",
        "\n",
        "    # Plot training & validation loss values\n",
        "    plt.plot(history.history['loss'])\n",
        "    plt.plot(history.history['val_loss'])\n",
        "    plt.title('Model loss')\n",
        "    plt.ylabel('Loss')\n",
        "    plt.xlabel('Epoch')\n",
        "    plt.legend(['Train', 'Test'], loc='upper left')\n",
        "    plt.show()"
      ]
    },
    {
      "cell_type": "markdown",
      "metadata": {
        "id": "21qWQmlifpP2"
      },
      "source": [
        "Setting parameters"
      ]
    },
    {
      "cell_type": "code",
      "execution_count": 11,
      "metadata": {
        "scrolled": false,
        "colab": {
          "base_uri": "https://localhost:8080/",
          "height": 1000,
          "referenced_widgets": [
            "54b3b5bbbfc542439673422eb692b4fd",
            "e585bfb36e674437a1fead317d7f4ecf",
            "1c4edf549f324d66b557d64efc4a08a2",
            "099dc2a523a84c068add2331f0682280",
            "88051d5782dd4d98ba6d01061ae052b0",
            "26de4de08fef49b3a8f5206653535fe8",
            "b4594934c3f94ef591002e22e4522a72",
            "6eb404baab034b0ba08aa5e788887da0",
            "eb0cd78edb1b49939182ae5cb14ce6d9",
            "2d79bb5a1d114dbcb00d335c8f60cefe",
            "71eb65d2a0834e678ce27e64114ff89d",
            "a621d4033e324e96816216cc9dc3a875",
            "e3c95ae37b4045bf8d9339b1b7193f61",
            "6d260fad8f4547b6b8503239ac91b505",
            "dabc1b8f5f684261ba82717020b2940a",
            "661b0d94119b4ad0a990389cb00cb4f6",
            "f4253eb75f7c4ec189faafed353e2835",
            "92d8167d80634b75be1d04ec3121f683",
            "625cab0aa3a14335900cdb6e8f32d4b9",
            "7cced8ade6a34717acc7f0e7147e21cd",
            "8d846bb1f459449da5918b9c129cac83",
            "92f4a1be793e4e7bbe210e2464f6d159",
            "155a812a3ca045f8b88dfea87cc16668",
            "3d1871218e9c42bf807ea97ab5207657",
            "aff1f232f22a4ea389d4570993d63a0d",
            "492520db99374e95a93f852daae24a49",
            "8fcb6cbcbcb64ef98eb3aa6dbad4e2ef",
            "69b0e8d21c4442e6b9148f686adef74f",
            "1a727bc473914ae39fea83c2c21b87aa",
            "271dcfc337eb4313be449f50d0c61ed3",
            "453541486c694aa899bcc12ab038b43c",
            "e7c40d3ad68d4078a91962ffba5f0106",
            "75c9a1381e6d440b9d96d7731786f14d",
            "927e240cef67456dbb686503cad0910a",
            "2afd52d101254d5aafa9147b3a9ab906",
            "62ae3a132d0b4a1f80277e91ff80a7fb",
            "7d68668b71f540ebb9ff349731ca2116",
            "32cbaa51ef354cd6999f5ca2fe11df22",
            "da560e1716a54d6285ae84abc0e5e5c3",
            "9d9d414e0a1942db89726f67dfafd5e4",
            "5a6422c4bb3a497c9da2cde8045da9bf",
            "fd6f54aecf7b4e409172cb6604a8dd16",
            "8b1d183eb78b4512a2916f968ab919cf",
            "9b38f09c245145d4bfdf412d527a2a52",
            "9c05cb67afb2407eac0f04cb54258830",
            "11377fd0a63140e4a79f358026d9011c",
            "9d780e02c8f84ae6a7f2b0734390cb54",
            "a3afc23bff524fc6a5538c5185131ad6",
            "ad0a3f97ec5142c0bb9d33aab341dd60",
            "4a216f5a851d4582b30e6a1241a9b61f",
            "a523d2a611c44c0a8a28d140d97666e7",
            "d52215b652d042f1b6b31c6e674d040d",
            "e98e9c6994fc414886b941bbc161a528",
            "83aac5fa2668406083582cabb59b47fb",
            "e4f758b2b407499099d60611a7c2e9bf"
          ]
        },
        "id": "qqtbHp-cfpP2",
        "outputId": "8504a472-9670-463d-a745-96f00556883f"
      },
      "outputs": [
        {
          "output_type": "display_data",
          "data": {
            "text/plain": [
              "interactive(children=(IntSlider(value=2, description='Слоев: ', max=4), Dropdown(description='Loss function: '…"
            ],
            "application/vnd.jupyter.widget-view+json": {
              "version_major": 2,
              "version_minor": 0,
              "model_id": "54b3b5bbbfc542439673422eb692b4fd"
            }
          },
          "metadata": {}
        }
      ],
      "source": [
        "style = {'description_width': 'initial'}\n",
        "@interact_manual(\n",
        "    n_layers = IntSlider(min=0, max=4, value=2, description='Слоев: '),\n",
        "    layer1_size = IntSlider(min=0, max=20, value=6, description='Neurons count in layer 1: ', style=style),\n",
        "    layer2_size = IntSlider(min=0, max=20, value=3, description='Neurons count in layer 2: ', style=style),\n",
        "    layer3_size = IntSlider(min=0, max=20, value=0, description='Neurons count in layer 3: ', style=style),\n",
        "    layer4_size = IntSlider(min=0, max=20, value=0, description='Neurons count in layer 4: ', style=style),\n",
        "    layer1_type = Dropdown(options=['softmax', 'relu', 'tanh', 'sigmoid', 'linear'], value='relu',\n",
        "                          description='Layer 1 activation type: ', style=style),\n",
        "    layer2_type = Dropdown(options=['softmax', 'relu', 'tanh', 'sigmoid', 'linear'], value='relu',\n",
        "                          description='Layer 2 activation type: ', style=style),\n",
        "    layer3_type = Dropdown(options=['softmax', 'relu', 'tanh', 'sigmoid', 'linear'], value='relu',\n",
        "                          description='Layer 3 activation type: ', style=style),\n",
        "    layer4_type = Dropdown(options=['softmax', 'relu', 'tanh', 'sigmoid', 'linear'], value='relu',\n",
        "                          description='Layer 4 activation type: ', style=style),\n",
        "    layer_out_type = Dropdown(options=['softmax', 'relu', 'tanh', 'sigmoid', 'linear'], value='sigmoid',\n",
        "                          description='Output layer activation type: ', style=style),\n",
        "    loss_func = Dropdown(options={\n",
        "        'Standard deviation': 'mse',\n",
        "        'Mean absolute deviation': 'mae',\n",
        "        'Binary crossentropy': 'binary_crossentropy'\n",
        "    }, value='binary_crossentropy', description='Loss function: ', style=style),\n",
        "    epochs = IntSlider(min=10, max=10000, step=10, value=300, description='Epoch count: ', style=style),\n",
        "    batch_size = IntSlider(min=0, max=len(data), value=100, description='Batch size: ', style=style),\n",
        "    lr = ToggleButtons(options=[\"-0.1\", \"0\", \"0.001\", \"0.01\", \"0.05\", \"0.1\", \"0.5\", \"1\", \"5\"],\n",
        "                               value=\"0.01\", description='Learn rate: ', style=style),\n",
        "    l1=ToggleButtons(options=[\"-0.1\", \"0\", \"0.0001\", \"0.0005\", \"0.001\", \"0.005\", \"0.01\", \"0.05\", \"0.1\"],\n",
        "                               value=\"0.0001\", description='Regularization  L1: ', style=style),\n",
        "    l2=ToggleButtons(options=[\"-0.1\", \"0\", \"0.0001\", \"0.0005\", \"0.001\", \"0.005\", \"0.01\", \"0.05\", \"0.1\"],\n",
        "                               value=\"0.0001\", description='Regularization  L2: ', style=style)\n",
        ")\n",
        "def interactive_learning(n_layers, loss_func, batch_size, lr, l1, l2, layer_out_type, epochs,\n",
        "                         layer1_size, layer2_size, layer3_size, layer4_size,\n",
        "                         layer1_type, layer2_type, layer3_type, layer4_type):\n",
        "    layer_sizes = [layer1_size, layer2_size, layer3_size, layer4_size]\n",
        "    layer_types = [layer1_type, layer2_type, layer3_type, layer4_type]\n",
        "    lr = float(lr)\n",
        "    l1 = float(l1)\n",
        "    l2 = float(l2)\n",
        "\n",
        "    model = Sequential()\n",
        "\n",
        "    if n_layers == 0:\n",
        "        model.add(Dense(1, activation=layer_out_type,\n",
        "                        input_shape=(2,), kernel_regularizer=regularizers.l1_l2(l1=l1, l2=l2)))\n",
        "    else:\n",
        "        model.add(Dense(layer_sizes[0], activation=layer_types[0],\n",
        "                        input_shape=(2,), kernel_regularizer=regularizers.l1_l2(l1=l1, l2=l2)))\n",
        "        for i in range(1, n_layers):\n",
        "            model.add(Dense(layer_sizes[i], activation=layer_types[i],\n",
        "                           kernel_regularizer=regularizers.l1_l2(l1=l1, l2=l2)))\n",
        "        model.add(Dense(1, activation=layer_out_type, kernel_regularizer=regularizers.l1_l2(l1=l1, l2=l2)))\n",
        "\n",
        "    model.compile(\n",
        "     optimizer = optimizers.SGD(lr=lr),\n",
        "     loss = loss_func,\n",
        "     metrics = [\"accuracy\"]\n",
        "    )\n",
        "\n",
        "\n",
        "    history = model.fit(\n",
        "     train_data, train_answers,\n",
        "     epochs=epochs,\n",
        "     batch_size=batch_size,\n",
        "     validation_data=(test_data, test_answers),\n",
        "     verbose=0\n",
        "    )\n",
        "\n",
        "    print('Accuracy: ', history.history['val_accuracy'][-1])\n",
        "    plot_accuracy(history)"
      ]
    }
  ],
  "metadata": {
    "kernelspec": {
      "display_name": "Python 3",
      "name": "python3"
    },
    "language_info": {
      "codemirror_mode": {
        "name": "ipython",
        "version": 3
      },
      "file_extension": ".py",
      "mimetype": "text/x-python",
      "name": "python",
      "nbconvert_exporter": "python",
      "pygments_lexer": "ipython3",
      "version": "3.7.0"
    },
    "colab": {
      "provenance": [],
      "collapsed_sections": [
        "xb3_klC6fpPv"
      ],
      "include_colab_link": true
    },
    "accelerator": "TPU",
    "widgets": {
      "application/vnd.jupyter.widget-state+json": {
        "54b3b5bbbfc542439673422eb692b4fd": {
          "model_module": "@jupyter-widgets/controls",
          "model_name": "VBoxModel",
          "model_module_version": "1.5.0",
          "state": {
            "_dom_classes": [
              "widget-interact"
            ],
            "_model_module": "@jupyter-widgets/controls",
            "_model_module_version": "1.5.0",
            "_model_name": "VBoxModel",
            "_view_count": null,
            "_view_module": "@jupyter-widgets/controls",
            "_view_module_version": "1.5.0",
            "_view_name": "VBoxView",
            "box_style": "",
            "children": [
              "IPY_MODEL_e585bfb36e674437a1fead317d7f4ecf",
              "IPY_MODEL_1c4edf549f324d66b557d64efc4a08a2",
              "IPY_MODEL_099dc2a523a84c068add2331f0682280",
              "IPY_MODEL_88051d5782dd4d98ba6d01061ae052b0",
              "IPY_MODEL_26de4de08fef49b3a8f5206653535fe8",
              "IPY_MODEL_b4594934c3f94ef591002e22e4522a72",
              "IPY_MODEL_6eb404baab034b0ba08aa5e788887da0",
              "IPY_MODEL_eb0cd78edb1b49939182ae5cb14ce6d9",
              "IPY_MODEL_2d79bb5a1d114dbcb00d335c8f60cefe",
              "IPY_MODEL_71eb65d2a0834e678ce27e64114ff89d",
              "IPY_MODEL_a621d4033e324e96816216cc9dc3a875",
              "IPY_MODEL_e3c95ae37b4045bf8d9339b1b7193f61",
              "IPY_MODEL_6d260fad8f4547b6b8503239ac91b505",
              "IPY_MODEL_dabc1b8f5f684261ba82717020b2940a",
              "IPY_MODEL_661b0d94119b4ad0a990389cb00cb4f6",
              "IPY_MODEL_f4253eb75f7c4ec189faafed353e2835",
              "IPY_MODEL_92d8167d80634b75be1d04ec3121f683",
              "IPY_MODEL_625cab0aa3a14335900cdb6e8f32d4b9"
            ],
            "layout": "IPY_MODEL_7cced8ade6a34717acc7f0e7147e21cd"
          }
        },
        "e585bfb36e674437a1fead317d7f4ecf": {
          "model_module": "@jupyter-widgets/controls",
          "model_name": "IntSliderModel",
          "model_module_version": "1.5.0",
          "state": {
            "_dom_classes": [],
            "_model_module": "@jupyter-widgets/controls",
            "_model_module_version": "1.5.0",
            "_model_name": "IntSliderModel",
            "_view_count": null,
            "_view_module": "@jupyter-widgets/controls",
            "_view_module_version": "1.5.0",
            "_view_name": "IntSliderView",
            "continuous_update": true,
            "description": "Слоев: ",
            "description_tooltip": null,
            "disabled": false,
            "layout": "IPY_MODEL_8d846bb1f459449da5918b9c129cac83",
            "max": 4,
            "min": 0,
            "orientation": "horizontal",
            "readout": true,
            "readout_format": "d",
            "step": 1,
            "style": "IPY_MODEL_92f4a1be793e4e7bbe210e2464f6d159",
            "value": 4
          }
        },
        "1c4edf549f324d66b557d64efc4a08a2": {
          "model_module": "@jupyter-widgets/controls",
          "model_name": "DropdownModel",
          "model_module_version": "1.5.0",
          "state": {
            "_dom_classes": [],
            "_model_module": "@jupyter-widgets/controls",
            "_model_module_version": "1.5.0",
            "_model_name": "DropdownModel",
            "_options_labels": [
              "Standard deviation",
              "Mean absolute deviation",
              "Binary crossentropy"
            ],
            "_view_count": null,
            "_view_module": "@jupyter-widgets/controls",
            "_view_module_version": "1.5.0",
            "_view_name": "DropdownView",
            "description": "Loss function: ",
            "description_tooltip": null,
            "disabled": false,
            "index": 2,
            "layout": "IPY_MODEL_155a812a3ca045f8b88dfea87cc16668",
            "style": "IPY_MODEL_3d1871218e9c42bf807ea97ab5207657"
          }
        },
        "099dc2a523a84c068add2331f0682280": {
          "model_module": "@jupyter-widgets/controls",
          "model_name": "IntSliderModel",
          "model_module_version": "1.5.0",
          "state": {
            "_dom_classes": [],
            "_model_module": "@jupyter-widgets/controls",
            "_model_module_version": "1.5.0",
            "_model_name": "IntSliderModel",
            "_view_count": null,
            "_view_module": "@jupyter-widgets/controls",
            "_view_module_version": "1.5.0",
            "_view_name": "IntSliderView",
            "continuous_update": true,
            "description": "Batch size: ",
            "description_tooltip": null,
            "disabled": false,
            "layout": "IPY_MODEL_aff1f232f22a4ea389d4570993d63a0d",
            "max": 1200,
            "min": 0,
            "orientation": "horizontal",
            "readout": true,
            "readout_format": "d",
            "step": 1,
            "style": "IPY_MODEL_492520db99374e95a93f852daae24a49",
            "value": 200
          }
        },
        "88051d5782dd4d98ba6d01061ae052b0": {
          "model_module": "@jupyter-widgets/controls",
          "model_name": "ToggleButtonsModel",
          "model_module_version": "1.5.0",
          "state": {
            "_dom_classes": [],
            "_model_module": "@jupyter-widgets/controls",
            "_model_module_version": "1.5.0",
            "_model_name": "ToggleButtonsModel",
            "_options_labels": [
              "-0.1",
              "0",
              "0.001",
              "0.01",
              "0.05",
              "0.1",
              "0.5",
              "1",
              "5"
            ],
            "_view_count": null,
            "_view_module": "@jupyter-widgets/controls",
            "_view_module_version": "1.5.0",
            "_view_name": "ToggleButtonsView",
            "button_style": "",
            "description": "Learn rate: ",
            "description_tooltip": null,
            "disabled": false,
            "icons": [],
            "index": 4,
            "layout": "IPY_MODEL_8fcb6cbcbcb64ef98eb3aa6dbad4e2ef",
            "style": "IPY_MODEL_69b0e8d21c4442e6b9148f686adef74f",
            "tooltips": []
          }
        },
        "26de4de08fef49b3a8f5206653535fe8": {
          "model_module": "@jupyter-widgets/controls",
          "model_name": "ToggleButtonsModel",
          "model_module_version": "1.5.0",
          "state": {
            "_dom_classes": [],
            "_model_module": "@jupyter-widgets/controls",
            "_model_module_version": "1.5.0",
            "_model_name": "ToggleButtonsModel",
            "_options_labels": [
              "-0.1",
              "0",
              "0.0001",
              "0.0005",
              "0.001",
              "0.005",
              "0.01",
              "0.05",
              "0.1"
            ],
            "_view_count": null,
            "_view_module": "@jupyter-widgets/controls",
            "_view_module_version": "1.5.0",
            "_view_name": "ToggleButtonsView",
            "button_style": "",
            "description": "Regularization  L1: ",
            "description_tooltip": null,
            "disabled": false,
            "icons": [],
            "index": 1,
            "layout": "IPY_MODEL_1a727bc473914ae39fea83c2c21b87aa",
            "style": "IPY_MODEL_271dcfc337eb4313be449f50d0c61ed3",
            "tooltips": []
          }
        },
        "b4594934c3f94ef591002e22e4522a72": {
          "model_module": "@jupyter-widgets/controls",
          "model_name": "ToggleButtonsModel",
          "model_module_version": "1.5.0",
          "state": {
            "_dom_classes": [],
            "_model_module": "@jupyter-widgets/controls",
            "_model_module_version": "1.5.0",
            "_model_name": "ToggleButtonsModel",
            "_options_labels": [
              "-0.1",
              "0",
              "0.0001",
              "0.0005",
              "0.001",
              "0.005",
              "0.01",
              "0.05",
              "0.1"
            ],
            "_view_count": null,
            "_view_module": "@jupyter-widgets/controls",
            "_view_module_version": "1.5.0",
            "_view_name": "ToggleButtonsView",
            "button_style": "",
            "description": "Regularization  L2: ",
            "description_tooltip": null,
            "disabled": false,
            "icons": [],
            "index": 2,
            "layout": "IPY_MODEL_453541486c694aa899bcc12ab038b43c",
            "style": "IPY_MODEL_e7c40d3ad68d4078a91962ffba5f0106",
            "tooltips": []
          }
        },
        "6eb404baab034b0ba08aa5e788887da0": {
          "model_module": "@jupyter-widgets/controls",
          "model_name": "DropdownModel",
          "model_module_version": "1.5.0",
          "state": {
            "_dom_classes": [],
            "_model_module": "@jupyter-widgets/controls",
            "_model_module_version": "1.5.0",
            "_model_name": "DropdownModel",
            "_options_labels": [
              "softmax",
              "relu",
              "tanh",
              "sigmoid",
              "linear"
            ],
            "_view_count": null,
            "_view_module": "@jupyter-widgets/controls",
            "_view_module_version": "1.5.0",
            "_view_name": "DropdownView",
            "description": "Output layer activation type: ",
            "description_tooltip": null,
            "disabled": false,
            "index": 3,
            "layout": "IPY_MODEL_75c9a1381e6d440b9d96d7731786f14d",
            "style": "IPY_MODEL_927e240cef67456dbb686503cad0910a"
          }
        },
        "eb0cd78edb1b49939182ae5cb14ce6d9": {
          "model_module": "@jupyter-widgets/controls",
          "model_name": "IntSliderModel",
          "model_module_version": "1.5.0",
          "state": {
            "_dom_classes": [],
            "_model_module": "@jupyter-widgets/controls",
            "_model_module_version": "1.5.0",
            "_model_name": "IntSliderModel",
            "_view_count": null,
            "_view_module": "@jupyter-widgets/controls",
            "_view_module_version": "1.5.0",
            "_view_name": "IntSliderView",
            "continuous_update": true,
            "description": "Epoch count: ",
            "description_tooltip": null,
            "disabled": false,
            "layout": "IPY_MODEL_2afd52d101254d5aafa9147b3a9ab906",
            "max": 10000,
            "min": 10,
            "orientation": "horizontal",
            "readout": true,
            "readout_format": "d",
            "step": 10,
            "style": "IPY_MODEL_62ae3a132d0b4a1f80277e91ff80a7fb",
            "value": 1500
          }
        },
        "2d79bb5a1d114dbcb00d335c8f60cefe": {
          "model_module": "@jupyter-widgets/controls",
          "model_name": "IntSliderModel",
          "model_module_version": "1.5.0",
          "state": {
            "_dom_classes": [],
            "_model_module": "@jupyter-widgets/controls",
            "_model_module_version": "1.5.0",
            "_model_name": "IntSliderModel",
            "_view_count": null,
            "_view_module": "@jupyter-widgets/controls",
            "_view_module_version": "1.5.0",
            "_view_name": "IntSliderView",
            "continuous_update": true,
            "description": "Neurons count in layer 1: ",
            "description_tooltip": null,
            "disabled": false,
            "layout": "IPY_MODEL_7d68668b71f540ebb9ff349731ca2116",
            "max": 20,
            "min": 0,
            "orientation": "horizontal",
            "readout": true,
            "readout_format": "d",
            "step": 1,
            "style": "IPY_MODEL_32cbaa51ef354cd6999f5ca2fe11df22",
            "value": 20
          }
        },
        "71eb65d2a0834e678ce27e64114ff89d": {
          "model_module": "@jupyter-widgets/controls",
          "model_name": "IntSliderModel",
          "model_module_version": "1.5.0",
          "state": {
            "_dom_classes": [],
            "_model_module": "@jupyter-widgets/controls",
            "_model_module_version": "1.5.0",
            "_model_name": "IntSliderModel",
            "_view_count": null,
            "_view_module": "@jupyter-widgets/controls",
            "_view_module_version": "1.5.0",
            "_view_name": "IntSliderView",
            "continuous_update": true,
            "description": "Neurons count in layer 2: ",
            "description_tooltip": null,
            "disabled": false,
            "layout": "IPY_MODEL_da560e1716a54d6285ae84abc0e5e5c3",
            "max": 20,
            "min": 0,
            "orientation": "horizontal",
            "readout": true,
            "readout_format": "d",
            "step": 1,
            "style": "IPY_MODEL_9d9d414e0a1942db89726f67dfafd5e4",
            "value": 20
          }
        },
        "a621d4033e324e96816216cc9dc3a875": {
          "model_module": "@jupyter-widgets/controls",
          "model_name": "IntSliderModel",
          "model_module_version": "1.5.0",
          "state": {
            "_dom_classes": [],
            "_model_module": "@jupyter-widgets/controls",
            "_model_module_version": "1.5.0",
            "_model_name": "IntSliderModel",
            "_view_count": null,
            "_view_module": "@jupyter-widgets/controls",
            "_view_module_version": "1.5.0",
            "_view_name": "IntSliderView",
            "continuous_update": true,
            "description": "Neurons count in layer 3: ",
            "description_tooltip": null,
            "disabled": false,
            "layout": "IPY_MODEL_5a6422c4bb3a497c9da2cde8045da9bf",
            "max": 20,
            "min": 0,
            "orientation": "horizontal",
            "readout": true,
            "readout_format": "d",
            "step": 1,
            "style": "IPY_MODEL_fd6f54aecf7b4e409172cb6604a8dd16",
            "value": 15
          }
        },
        "e3c95ae37b4045bf8d9339b1b7193f61": {
          "model_module": "@jupyter-widgets/controls",
          "model_name": "IntSliderModel",
          "model_module_version": "1.5.0",
          "state": {
            "_dom_classes": [],
            "_model_module": "@jupyter-widgets/controls",
            "_model_module_version": "1.5.0",
            "_model_name": "IntSliderModel",
            "_view_count": null,
            "_view_module": "@jupyter-widgets/controls",
            "_view_module_version": "1.5.0",
            "_view_name": "IntSliderView",
            "continuous_update": true,
            "description": "Neurons count in layer 4: ",
            "description_tooltip": null,
            "disabled": false,
            "layout": "IPY_MODEL_8b1d183eb78b4512a2916f968ab919cf",
            "max": 20,
            "min": 0,
            "orientation": "horizontal",
            "readout": true,
            "readout_format": "d",
            "step": 1,
            "style": "IPY_MODEL_9b38f09c245145d4bfdf412d527a2a52",
            "value": 10
          }
        },
        "6d260fad8f4547b6b8503239ac91b505": {
          "model_module": "@jupyter-widgets/controls",
          "model_name": "DropdownModel",
          "model_module_version": "1.5.0",
          "state": {
            "_dom_classes": [],
            "_model_module": "@jupyter-widgets/controls",
            "_model_module_version": "1.5.0",
            "_model_name": "DropdownModel",
            "_options_labels": [
              "softmax",
              "relu",
              "tanh",
              "sigmoid",
              "linear"
            ],
            "_view_count": null,
            "_view_module": "@jupyter-widgets/controls",
            "_view_module_version": "1.5.0",
            "_view_name": "DropdownView",
            "description": "Layer 1 activation type: ",
            "description_tooltip": null,
            "disabled": false,
            "index": 1,
            "layout": "IPY_MODEL_9c05cb67afb2407eac0f04cb54258830",
            "style": "IPY_MODEL_11377fd0a63140e4a79f358026d9011c"
          }
        },
        "dabc1b8f5f684261ba82717020b2940a": {
          "model_module": "@jupyter-widgets/controls",
          "model_name": "DropdownModel",
          "model_module_version": "1.5.0",
          "state": {
            "_dom_classes": [],
            "_model_module": "@jupyter-widgets/controls",
            "_model_module_version": "1.5.0",
            "_model_name": "DropdownModel",
            "_options_labels": [
              "softmax",
              "relu",
              "tanh",
              "sigmoid",
              "linear"
            ],
            "_view_count": null,
            "_view_module": "@jupyter-widgets/controls",
            "_view_module_version": "1.5.0",
            "_view_name": "DropdownView",
            "description": "Layer 2 activation type: ",
            "description_tooltip": null,
            "disabled": false,
            "index": 1,
            "layout": "IPY_MODEL_9d780e02c8f84ae6a7f2b0734390cb54",
            "style": "IPY_MODEL_a3afc23bff524fc6a5538c5185131ad6"
          }
        },
        "661b0d94119b4ad0a990389cb00cb4f6": {
          "model_module": "@jupyter-widgets/controls",
          "model_name": "DropdownModel",
          "model_module_version": "1.5.0",
          "state": {
            "_dom_classes": [],
            "_model_module": "@jupyter-widgets/controls",
            "_model_module_version": "1.5.0",
            "_model_name": "DropdownModel",
            "_options_labels": [
              "softmax",
              "relu",
              "tanh",
              "sigmoid",
              "linear"
            ],
            "_view_count": null,
            "_view_module": "@jupyter-widgets/controls",
            "_view_module_version": "1.5.0",
            "_view_name": "DropdownView",
            "description": "Layer 3 activation type: ",
            "description_tooltip": null,
            "disabled": false,
            "index": 1,
            "layout": "IPY_MODEL_ad0a3f97ec5142c0bb9d33aab341dd60",
            "style": "IPY_MODEL_4a216f5a851d4582b30e6a1241a9b61f"
          }
        },
        "f4253eb75f7c4ec189faafed353e2835": {
          "model_module": "@jupyter-widgets/controls",
          "model_name": "DropdownModel",
          "model_module_version": "1.5.0",
          "state": {
            "_dom_classes": [],
            "_model_module": "@jupyter-widgets/controls",
            "_model_module_version": "1.5.0",
            "_model_name": "DropdownModel",
            "_options_labels": [
              "softmax",
              "relu",
              "tanh",
              "sigmoid",
              "linear"
            ],
            "_view_count": null,
            "_view_module": "@jupyter-widgets/controls",
            "_view_module_version": "1.5.0",
            "_view_name": "DropdownView",
            "description": "Layer 4 activation type: ",
            "description_tooltip": null,
            "disabled": false,
            "index": 1,
            "layout": "IPY_MODEL_a523d2a611c44c0a8a28d140d97666e7",
            "style": "IPY_MODEL_d52215b652d042f1b6b31c6e674d040d"
          }
        },
        "92d8167d80634b75be1d04ec3121f683": {
          "model_module": "@jupyter-widgets/controls",
          "model_name": "ButtonModel",
          "model_module_version": "1.5.0",
          "state": {
            "_dom_classes": [],
            "_model_module": "@jupyter-widgets/controls",
            "_model_module_version": "1.5.0",
            "_model_name": "ButtonModel",
            "_view_count": null,
            "_view_module": "@jupyter-widgets/controls",
            "_view_module_version": "1.5.0",
            "_view_name": "ButtonView",
            "button_style": "",
            "description": "Run Interact",
            "disabled": false,
            "icon": "",
            "layout": "IPY_MODEL_e98e9c6994fc414886b941bbc161a528",
            "style": "IPY_MODEL_83aac5fa2668406083582cabb59b47fb",
            "tooltip": ""
          }
        },
        "625cab0aa3a14335900cdb6e8f32d4b9": {
          "model_module": "@jupyter-widgets/output",
          "model_name": "OutputModel",
          "model_module_version": "1.0.0",
          "state": {
            "_dom_classes": [],
            "_model_module": "@jupyter-widgets/output",
            "_model_module_version": "1.0.0",
            "_model_name": "OutputModel",
            "_view_count": null,
            "_view_module": "@jupyter-widgets/output",
            "_view_module_version": "1.0.0",
            "_view_name": "OutputView",
            "layout": "IPY_MODEL_e4f758b2b407499099d60611a7c2e9bf",
            "msg_id": "",
            "outputs": [
              {
                "output_type": "stream",
                "name": "stderr",
                "text": [
                  "/usr/local/lib/python3.10/dist-packages/keras/optimizers/legacy/gradient_descent.py:114: UserWarning: The `lr` argument is deprecated, use `learning_rate` instead.\n",
                  "  super().__init__(name, **kwargs)\n"
                ]
              },
              {
                "output_type": "stream",
                "name": "stdout",
                "text": [
                  "Accuracy:  0.8799999952316284\n"
                ]
              },
              {
                "output_type": "display_data",
                "data": {
                  "text/plain": "<Figure size 640x480 with 1 Axes>",
                  "image/png": "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\n"
                },
                "metadata": {}
              },
              {
                "output_type": "display_data",
                "data": {
                  "text/plain": "<Figure size 640x480 with 1 Axes>",
                  "image/png": "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\n"
                },
                "metadata": {}
              },
              {
                "output_type": "stream",
                "name": "stdout",
                "text": [
                  "\r  1/625 [..............................] - ETA: 1:53"
                ]
              },
              {
                "output_type": "stream",
                "name": "stdout",
                "text": [
                  "\b\b\b\b\b\b\b\b\b\b\b\b\b\b\b\b\b\b\b\b\b\b\b\b\b\b\b\b\b\b\b\b\b\b\b\b\b\b\b\b\b\b\b\b\b\b\b\b\b\b\b\b\r 21/625 [>.............................] - ETA: 1s  "
                ]
              },
              {
                "output_type": "stream",
                "name": "stdout",
                "text": [
                  "\b\b\b\b\b\b\b\b\b\b\b\b\b\b\b\b\b\b\b\b\b\b\b\b\b\b\b\b\b\b\b\b\b\b\b\b\b\b\b\b\b\b\b\b\b\b\b\b\b\b\r 44/625 [=>............................] - ETA: 1s"
                ]
              },
              {
                "output_type": "stream",
                "name": "stdout",
                "text": [
                  "\b\b\b\b\b\b\b\b\b\b\b\b\b\b\b\b\b\b\b\b\b\b\b\b\b\b\b\b\b\b\b\b\b\b\b\b\b\b\b\b\b\b\b\b\b\b\b\b\b\b\r 68/625 [==>...........................] - ETA: 1s"
                ]
              },
              {
                "output_type": "stream",
                "name": "stdout",
                "text": [
                  "\b\b\b\b\b\b\b\b\b\b\b\b\b\b\b\b\b\b\b\b\b\b\b\b\b\b\b\b\b\b\b\b\b\b\b\b\b\b\b\b\b\b\b\b\b\b\b\b\b\b\r 94/625 [===>..........................] - ETA: 1s"
                ]
              },
              {
                "output_type": "stream",
                "name": "stdout",
                "text": [
                  "\b\b\b\b\b\b\b\b\b\b\b\b\b\b\b\b\b\b\b\b\b\b\b\b\b\b\b\b\b\b\b\b\b\b\b\b\b\b\b\b\b\b\b\b\b\b\b\b\b\b\r116/625 [====>.........................] - ETA: 1s"
                ]
              },
              {
                "output_type": "stream",
                "name": "stdout",
                "text": [
                  "\b\b\b\b\b\b\b\b\b\b\b\b\b\b\b\b\b\b\b\b\b\b\b\b\b\b\b\b\b\b\b\b\b\b\b\b\b\b\b\b\b\b\b\b\b\b\b\b\b\b\r143/625 [=====>........................] - ETA: 1s"
                ]
              },
              {
                "output_type": "stream",
                "name": "stdout",
                "text": [
                  "\b\b\b\b\b\b\b\b\b\b\b\b\b\b\b\b\b\b\b\b\b\b\b\b\b\b\b\b\b\b\b\b\b\b\b\b\b\b\b\b\b\b\b\b\b\b\b\b\b\b\r165/625 [======>.......................] - ETA: 1s"
                ]
              },
              {
                "output_type": "stream",
                "name": "stdout",
                "text": [
                  "\b\b\b\b\b\b\b\b\b\b\b\b\b\b\b\b\b\b\b\b\b\b\b\b\b\b\b\b\b\b\b\b\b\b\b\b\b\b\b\b\b\b\b\b\b\b\b\b\b\b\r187/625 [=======>......................] - ETA: 0s"
                ]
              },
              {
                "output_type": "stream",
                "name": "stdout",
                "text": [
                  "\b\b\b\b\b\b\b\b\b\b\b\b\b\b\b\b\b\b\b\b\b\b\b\b\b\b\b\b\b\b\b\b\b\b\b\b\b\b\b\b\b\b\b\b\b\b\b\b\b\b\r209/625 [=========>....................] - ETA: 0s"
                ]
              },
              {
                "output_type": "stream",
                "name": "stdout",
                "text": [
                  "\b\b\b\b\b\b\b\b\b\b\b\b\b\b\b\b\b\b\b\b\b\b\b\b\b\b\b\b\b\b\b\b\b\b\b\b\b\b\b\b\b\b\b\b\b\b\b\b\b\b\r233/625 [==========>...................] - ETA: 0s"
                ]
              },
              {
                "output_type": "stream",
                "name": "stdout",
                "text": [
                  "\b\b\b\b\b\b\b\b\b\b\b\b\b\b\b\b\b\b\b\b\b\b\b\b\b\b\b\b\b\b\b\b\b\b\b\b\b\b\b\b\b\b\b\b\b\b\b\b\b\b\r252/625 [===========>..................] - ETA: 0s"
                ]
              },
              {
                "output_type": "stream",
                "name": "stdout",
                "text": [
                  "\b\b\b\b\b\b\b\b\b\b\b\b\b\b\b\b\b\b\b\b\b\b\b\b\b\b\b\b\b\b\b\b\b\b\b\b\b\b\b\b\b\b\b\b\b\b\b\b\b\b\r274/625 [============>.................] - ETA: 0s"
                ]
              },
              {
                "output_type": "stream",
                "name": "stdout",
                "text": [
                  "\b\b\b\b\b\b\b\b\b\b\b\b\b\b\b\b\b\b\b\b\b\b\b\b\b\b\b\b\b\b\b\b\b\b\b\b\b\b\b\b\b\b\b\b\b\b\b\b\b\b\r290/625 [============>.................] - ETA: 0s"
                ]
              },
              {
                "output_type": "stream",
                "name": "stdout",
                "text": [
                  "\b\b\b\b\b\b\b\b\b\b\b\b\b\b\b\b\b\b\b\b\b\b\b\b\b\b\b\b\b\b\b\b\b\b\b\b\b\b\b\b\b\b\b\b\b\b\b\b\b\b\r314/625 [==============>...............] - ETA: 0s"
                ]
              },
              {
                "output_type": "stream",
                "name": "stdout",
                "text": [
                  "\b\b\b\b\b\b\b\b\b\b\b\b\b\b\b\b\b\b\b\b\b\b\b\b\b\b\b\b\b\b\b\b\b\b\b\b\b\b\b\b\b\b\b\b\b\b\b\b\b\b\r337/625 [===============>..............] - ETA: 0s"
                ]
              },
              {
                "output_type": "stream",
                "name": "stdout",
                "text": [
                  "\b\b\b\b\b\b\b\b\b\b\b\b\b\b\b\b\b\b\b\b\b\b\b\b\b\b\b\b\b\b\b\b\b\b\b\b\b\b\b\b\b\b\b\b\b\b\b\b\b\b\r363/625 [================>.............] - ETA: 0s"
                ]
              },
              {
                "output_type": "stream",
                "name": "stdout",
                "text": [
                  "\b\b\b\b\b\b\b\b\b\b\b\b\b\b\b\b\b\b\b\b\b\b\b\b\b\b\b\b\b\b\b\b\b\b\b\b\b\b\b\b\b\b\b\b\b\b\b\b\b\b\r384/625 [=================>............] - ETA: 0s"
                ]
              },
              {
                "output_type": "stream",
                "name": "stdout",
                "text": [
                  "\b\b\b\b\b\b\b\b\b\b\b\b\b\b\b\b\b\b\b\b\b\b\b\b\b\b\b\b\b\b\b\b\b\b\b\b\b\b\b\b\b\b\b\b\b\b\b\b\b\b\r410/625 [==================>...........] - ETA: 0s"
                ]
              },
              {
                "output_type": "stream",
                "name": "stdout",
                "text": [
                  "\b\b\b\b\b\b\b\b\b\b\b\b\b\b\b\b\b\b\b\b\b\b\b\b\b\b\b\b\b\b\b\b\b\b\b\b\b\b\b\b\b\b\b\b\b\b\b\b\b\b\r431/625 [===================>..........] - ETA: 0s"
                ]
              },
              {
                "output_type": "stream",
                "name": "stdout",
                "text": [
                  "\b\b\b\b\b\b\b\b\b\b\b\b\b\b\b\b\b\b\b\b\b\b\b\b\b\b\b\b\b\b\b\b\b\b\b\b\b\b\b\b\b\b\b\b\b\b\b\b\b\b\r455/625 [====================>.........] - ETA: 0s"
                ]
              },
              {
                "output_type": "stream",
                "name": "stdout",
                "text": [
                  "\b\b\b\b\b\b\b\b\b\b\b\b\b\b\b\b\b\b\b\b\b\b\b\b\b\b\b\b\b\b\b\b\b\b\b\b\b\b\b\b\b\b\b\b\b\b\b\b\b\b\r475/625 [=====================>........] - ETA: 0s"
                ]
              },
              {
                "output_type": "stream",
                "name": "stdout",
                "text": [
                  "\b\b\b\b\b\b\b\b\b\b\b\b\b\b\b\b\b\b\b\b\b\b\b\b\b\b\b\b\b\b\b\b\b\b\b\b\b\b\b\b\b\b\b\b\b\b\b\b\b\b\r495/625 [======================>.......] - ETA: 0s"
                ]
              },
              {
                "output_type": "stream",
                "name": "stdout",
                "text": [
                  "\b\b\b\b\b\b\b\b\b\b\b\b\b\b\b\b\b\b\b\b\b\b\b\b\b\b\b\b\b\b\b\b\b\b\b\b\b\b\b\b\b\b\b\b\b\b\b\b\b\b\r517/625 [=======================>......] - ETA: 0s"
                ]
              },
              {
                "output_type": "stream",
                "name": "stdout",
                "text": [
                  "\b\b\b\b\b\b\b\b\b\b\b\b\b\b\b\b\b\b\b\b\b\b\b\b\b\b\b\b\b\b\b\b\b\b\b\b\b\b\b\b\b\b\b\b\b\b\b\b\b\b\r538/625 [========================>.....] - ETA: 0s"
                ]
              },
              {
                "output_type": "stream",
                "name": "stdout",
                "text": [
                  "\b\b\b\b\b\b\b\b\b\b\b\b\b\b\b\b\b\b\b\b\b\b\b\b\b\b\b\b\b\b\b\b\b\b\b\b\b\b\b\b\b\b\b\b\b\b\b\b\b\b\r561/625 [=========================>....] - ETA: 0s"
                ]
              },
              {
                "output_type": "stream",
                "name": "stdout",
                "text": [
                  "\b\b\b\b\b\b\b\b\b\b\b\b\b\b\b\b\b\b\b\b\b\b\b\b\b\b\b\b\b\b\b\b\b\b\b\b\b\b\b\b\b\b\b\b\b\b\b\b\b\b\r585/625 [===========================>..] - ETA: 0s"
                ]
              },
              {
                "output_type": "stream",
                "name": "stdout",
                "text": [
                  "\b\b\b\b\b\b\b\b\b\b\b\b\b\b\b\b\b\b\b\b\b\b\b\b\b\b\b\b\b\b\b\b\b\b\b\b\b\b\b\b\b\b\b\b\b\b\b\b\b\b\r607/625 [============================>.] - ETA: 0s"
                ]
              },
              {
                "output_type": "stream",
                "name": "stdout",
                "text": [
                  "\b\b\b\b\b\b\b\b\b\b\b\b\b\b\b\b\b\b\b\b\b\b\b\b\b\b\b\b\b\b\b\b\b\b\b\b\b\b\b\b\b\b\b\b\b\b\b\b\b\b\r625/625 [==============================] - 2s 2ms/step\n"
                ]
              },
              {
                "output_type": "display_data",
                "data": {
                  "text/plain": "<Figure size 640x480 with 2 Axes>",
                  "image/png": "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\n"
                },
                "metadata": {}
              },
              {
                "output_type": "display_data",
                "data": {
                  "text/plain": "<Figure size 640x480 with 2 Axes>",
                  "image/png": "iVBORw0KGgoAAAANSUhEUgAAAgsAAAGzCAYAAAChLlRLAAAAOXRFWHRTb2Z0d2FyZQBNYXRwbG90bGliIHZlcnNpb24zLjcuMSwgaHR0cHM6Ly9tYXRwbG90bGliLm9yZy/bCgiHAAAACXBIWXMAAA9hAAAPYQGoP6dpAAAr1ElEQVR4nO3de3RU5b3/8c8QyQSFYOQSboEAegREQgiSBuQIq5FoEQ89ohQvgQh4UNICoYrxkoC2xFZAVhWNgIBHoaEqtwKF0ihleYhFwLjEA7oQEA6SAEWTkEoCyf794Y+RIclDdjK3zLxfa81azJN9+e4ZZu/PPLP3sx2WZVkCAACoQzN/FwAAAAIbYQEAABgRFgAAgBFhAQAAGBEWAACAEWEBAAAYERYAAIARYQEAABgRFgAAgBFhAQgQDodDs2fPvuJ0xcXFGjNmjNq0aSOHw6GFCxd6vbaGmDBhgmJjY/1dBgAPICwgKL366qtyOBxKTExs8DK++eYbzZ49W4WFhZ4rzANmzJihrVu3KjMzU2+99ZbuuOMOv9USqK8RAM+6yt8FAN6wcuVKxcbGateuXTp48KCuv/5628v45ptvNGfOHMXGxqp///6eL7KB3n//ff3Hf/yHfv3rX/u7FONrtGTJElVXV/unMAAeRc8Cgs7hw4e1c+dOLViwQO3atdPKlSv9XZJHnTx5Utdee62/y7ii5s2by+l0+rsMAB5AWEDQWblypaKiojRy5EiNGTOmzrDw3XffacaMGYqNjZXT6VSXLl2Umpqq06dPa/v27brlllskSWlpaXI4HHI4HFqxYoUkKTY2VhMmTKixzGHDhmnYsGGu55WVlcrKylJCQoJat26ta665RkOHDtUHH3xge7tWrFghh8Mhy7K0aNEiV02SNHv2bNe/a5vnyJEjrrbY2Fjddddd+vDDDzVo0CBFRESoR48e+u///m+Pvka1nbNQXl6umTNnKiYmRk6nUzfeeKPmzZuny29+63A4lJ6ernXr1qlv375yOp266aabtGXLFtuvG4DG42cIBJ2VK1fqP//zPxUeHq5x48bptdde08cff+w6sEnS2bNnNXToUO3fv18PP/ywBgwYoNOnT2vDhg36v//7P/Xu3VvPPfecsrKy9Mgjj2jo0KGSpMGDB9uqpbS0VEuXLtW4ceM0efJklZWV6Y033lBKSop27dpl6+eNf//3f9dbb72lhx56SLfffrtSU1Nt1XKpgwcPasyYMZo4caLGjx+vZcuWacKECUpISNBNN90kyfOvkWVZuvvuu/XBBx9o4sSJ6t+/v7Zu3arHH39cx48f10svveQ2/Ycffqg1a9boscceU6tWrfSHP/xB99xzj44ePao2bdo0eNsBNIAFBJHdu3dbkqxt27ZZlmVZ1dXVVpcuXaxp06a5TZeVlWVJstasWVNjGdXV1ZZlWdbHH39sSbKWL19eY5pu3bpZ48ePr9F+2223Wbfddpvr+YULF6yKigq3ab799lsrOjraevjhh93aJVnZ2dlX3EZJ1tSpU93asrOzrdo+zsuXL7ckWYcPH3arXZK1Y8cOV9vJkyctp9NpzZw509XW2Ndo/PjxVrdu3VzP161bZ0myfvOb37hNN2bMGMvhcFgHDx5028bw8HC3tk8//dSSZL388ss11gXAu/gZAkFl5cqVio6O1vDhwyX90J09duxY5eXlqaqqyjXde++9p7i4OP385z+vsYzauvMbKiwsTOHh4ZKk6upqnTlzRhcuXNDAgQO1d+9ej63Hrj59+rh6AiSpXbt2uvHGG3Xo0CFXm6dfo82bNyssLEy/+tWv3Npnzpwpy7L0l7/8xa09OTlZPXv2dD3v16+fIiMj3WoE4BuEBQSNqqoq5eXlafjw4Tp8+LAOHjyogwcPKjExUcXFxcrPz3dN+9VXX6lv374+qevNN99Uv379FBERoTZt2qhdu3batGmTSkpKfLL+2nTt2rVGW1RUlL799lvXc0+/Rl9//bU6deqkVq1aubX37t3b9Xe7NQLwDc5ZQNB4//33deLECeXl5SkvL6/G31euXKkRI0Z4ZF11fbOuqqpSWFiY6/nbb7+tCRMmaPTo0Xr88cfVvn17hYWFKScnR1999ZVHarlSPbW5tMZLWZedaOhPTaFGIFQQFhA0Vq5cqfbt22vRokU1/rZmzRqtXbtWubm5atGihXr27Kl9+/YZl2fqao+KitJ3331Xo/3rr79Wjx49XM/fffdd9ejRQ2vWrHFbXnZ2dj22qP6ioqIk/XD1wqWXVV7+bd2Oxr5Gl+vWrZv+9re/qayszK134cCBA66/AwhM/AyBoPD9999rzZo1uuuuuzRmzJgaj/T0dJWVlWnDhg2SpHvuuUeffvqp1q5dW2NZF7+5XnPNNZJUayjo2bOnPvroI1VWVrraNm7cqGPHjrlNd/Hb8aXfhv/xj3+ooKCgcRtcSz2StGPHDldbeXm53nzzzQYvs7Gv0eV+9rOfqaqqSq+88opb+0svvSSHw6E777yzwbUC8C56FhAUNmzYoLKyMt199921/v0nP/mJa4CmsWPH6vHHH9e7776re++9Vw8//LASEhJ05swZbdiwQbm5uYqLi1PPnj117bXXKjc3V61atdI111yjxMREde/eXZMmTdK7776rO+64Q/fdd5+++uorvf32224n5EnSXXfdpTVr1ujnP/+5Ro4cqcOHDys3N1d9+vTR2bNnPbb9I0aMUNeuXTVx4kQ9/vjjCgsL07Jly9SuXTsdPXq0Qcts7Gt0uVGjRmn48OF6+umndeTIEcXFxemvf/2r1q9fr+nTp9d47QAEEH9eigF4yqhRo6yIiAirvLy8zmkmTJhgNW/e3Dp9+rRlWZb1z3/+00pPT7c6d+5shYeHW126dLHGjx/v+rtlWdb69eutPn36WFdddVWNSwTnz59vde7c2XI6ndaQIUOs3bt317h0srq62po7d67VrVs3y+l0WvHx8dbGjRtrXFZoWY27dNKyLGvPnj1WYmKiFR4ebnXt2tVasGBBnZdOjhw5ssb8l9fe2Neotm0sKyuzZsyYYXXq1Mlq3ry5dcMNN1gvvvii61LMK21jXZesAvAuh2VxthAAAKgb5ywAAAAjwgIAADAiLAAAACPbYWHHjh0aNWqUOnXqJIfDoXXr1hmnX7NmjW6//Xa1a9dOkZGRSkpK0tatWxtaLwAAIcvuMViStm/frgEDBsjpdOr666933RnWDtthoby8XHFxcbUOfFObHTt26Pbbb9fmzZu1Z88eDR8+XKNGjdInn3xiu1gAAEKZ3WPw4cOHNXLkSA0fPlyFhYWaPn26Jk2aZPtLe6OuhnA4HFq7dq1Gjx5ta76bbrpJY8eOVVZWVkNXDQBASKvPMXjWrFnatGmT22isv/jFL/Tdd99py5Yt9V6Xzwdlqq6uVllZma677ro6p6moqFBFRYXbPGfOnFGbNm08ekdAAEDwsSxLZWVl6tSpk5o1886peefOnXMbwbUxLMuqcWxzOp1yOp2NXnZBQYGSk5Pd2lJSUjR9+nRby/F5WJg3b57Onj2r++67r85pcnJyNGfOHB9WBQAINseOHVOXLl08vtxz587pui7X6ft/fu+R5bVs2bLGiK7Z2dmaPXt2o5ddVFSk6Ohot7bo6GiVlpbq+++/V4sWLeq1HJ+GhVWrVmnOnDlav3692rdvX+d0mZmZysjIcD0vKSlR165dlXDH07qqeYQvSgUANFEXzp/Tni2/rXE7dE+prKzU9//8XvdsGKvm1zRv1LLOl5/Xe3ev1rFjxxQZGelq90Svgif5LCzk5eVp0qRJeuedd2p0iVyuru6Xq5pHEBYAAPXi7Z+tm1/TXOEtwz2yrMjISLew4CkdOnRQcXGxW1txcbEiIyPr3asg+WichT/+8Y9KS0vTH//4R40cOdIXqwQAIOQlJSUpPz/frW3btm1KSkqytRzbYeHs2bMqLCxUYWGhpB8uyygsLHTd2S4zM1Opqamu6VetWqXU1FTNnz9fiYmJKioqUlFRkUpKSuyuGgCAkGb3GDxlyhQdOnRITzzxhA4cOKBXX31Vf/rTnzRjxgxb67UdFnbv3q34+HjFx8dLkjIyMhQfH++6DPLEiRNut8RdvHixLly4oKlTp6pjx46ux7Rp0+yuGgCAkGb3GNy9e3dt2rRJ27ZtU1xcnObPn6+lS5cqJSXF1nqbxF0nS0tL1bp1ayWOep5zFgAARhfOn9M//vysSkpKvHIewMVj0i/yH2z0OQuVZyuV99O3vVarp3BvCAAAYERYAAAARoQFAABgRFgAAABGhAUAAGBEWAAAAEaEBQAAYERYAAAARoQFAABgRFgAAABGhAUAAGBEWAAAAEaEBQAAYERYAAAARoQFAABgRFgAAABGhAUAAGBEWAAAAEaEBQAAYERYAAAARoQFAABgRFgAAABGhAUAAGBEWAAAAEaEBQAAYERYAAAARoQFAABgRFgAAABGhAUAAGBEWAAAAEaEBQAAYERYAAAARoQFAABgRFgAAABGhAUAAGBEWAAAAEaEBQAAYERYAAAARoQFAABgRFgAAABGhAUAAGBEWAAAAEaEBQAAYERYAAAARoQFAABgRFgAAABGhAUAAGBEWAAAAEaEBQAAYERYAAAARrbDwo4dOzRq1Ch16tRJDodD69atu+I827dv14ABA+R0OnX99ddrxYoVDSgVAAD4g+2wUF5erri4OC1atKhe0x8+fFgjR47U8OHDVVhYqOnTp2vSpEnaunWr7WIBAIDvXWV3hjvvvFN33nlnvafPzc1V9+7dNX/+fElS79699eGHH+qll15SSkqK3dUDAAAf8/o5CwUFBUpOTnZrS0lJUUFBQZ3zVFRUqLS01O0BAAD8w3bPgl1FRUWKjo52a4uOjlZpaam+//57tWjRosY8OTk5mjNnjrdL85mes/bXaPvqd739UAmkH98P3oPA0XPWft4PP2IfhSvxelhoiMzMTGVkZLiel5aWKiYmxo8VNUxtH8DL/8YH0ncufz94D/yL98P/2EehvrweFjp06KDi4mK3tuLiYkVGRtbaqyBJTqdTTqfT26UhRJh2iJf+nZ2ib/B+AE2P189ZSEpKUn5+vlvbtm3blJSU5O1VA1c8MF0+rZ3pYR/vB9A02Q4LZ8+eVWFhoQoLCyX9cGlkYWGhjh49KumHnxBSU1Nd00+ZMkWHDh3SE088oQMHDujVV1/Vn/70J82YMcMzWwAAALzKdljYvXu34uPjFR8fL0nKyMhQfHy8srKyJEknTpxwBQdJ6t69uzZt2qRt27YpLi5O8+fP19KlS4P+ssn6fiPimxMAf2AfBTtsn7MwbNgwWZZV599rG51x2LBh+uSTT+yuqklqyAeL32gB+Ar7KDQE94bwoMYmcBJ8YOB98A5eV/9jH4WGCshLJwF/45uUZ3BwAYIDPQuAAQc7ACAsAACAK+BnCAQlegSCBz8JAf5HWEBQISQEL0ID4D/8DAEAAIwICwGGb8YAgEDDzxAe4OkDPN2tADyF/RM8gZ6FRvD2jW7oZQDQGN7eP7GPCh2EBQAAYERYAOAVfOsEggfnLABXcOlBj99pr4yQAAQfehYAGzgQmvH6AMGJsAAAAIwICwAAwIiwAAAAjDjBEUGB38pDB4MCAb5HWECTRkgIXYQGwHf4GQJNFkEBAHyDsAAAAIwICwAAwIiwEODoagfQEOw74Emc4NgAvv4QciIXgPry1/5JYh8VzOhZsMHft2TlmwIAE3/vI/y9fngPYQEAABgRFgAAgBFhAQAAGBEWAJv4XbYmf5/PA8C7uBoCaACuUPkBAQEIDfQsAI3AwRJAKCAsAAAAI8ICAAAwIiwAAAAjTnBEk8N5ArgUJ5sC3kdYQJNBSIAJoQHwHn6GAAAARoQFAABgRFgAAABGhAUAAGBEWAAAAEaEhXoKlDPxuWEPgMsF0n4hUOqAZ3Hp5BUE6n98LhMDEOj7J4l9VLCgZ8EgUD+IAAD4EmEBAAAYERYAAIARYQEAABgRFgAAgBFhAUCDcAIwEDq4dBJopFC7jJWQAIQeehYADwmkgXG8Jdi3D0DtGhQWFi1apNjYWEVERCgxMVG7du0yTr9w4ULdeOONatGihWJiYjRjxgydO3euQQUDAADfsh0WVq9erYyMDGVnZ2vv3r2Ki4tTSkqKTp48Wev0q1at0pNPPqns7Gzt379fb7zxhlavXq2nnnqq0cUDAADvsx0WFixYoMmTJystLU19+vRRbm6urr76ai1btqzW6Xfu3KkhQ4bo/vvvV2xsrEaMGKFx48ZdsTcCAAAEBlthobKyUnv27FFycvKPC2jWTMnJySooKKh1nsGDB2vPnj2ucHDo0CFt3rxZP/vZz+pcT0VFhUpLS90eAADAP2xdDXH69GlVVVUpOjrarT06OloHDhyodZ77779fp0+f1q233irLsnThwgVNmTLF+DNETk6O5syZY6c0AADgJV6/GmL79u2aO3euXn31Ve3du1dr1qzRpk2b9Pzzz9c5T2ZmpkpKSlyPY8eOebtMBDjOwkd9hcJVKYCv2epZaNu2rcLCwlRcXOzWXlxcrA4dOtQ6z7PPPquHHnpIkyZNkiTdfPPNKi8v1yOPPKKnn35azZrVzCtOp1NOp9NOaQhS7PTRUKE2/gXgTbZ6FsLDw5WQkKD8/HxXW3V1tfLz85WUlFTrPP/6179qBIKwsDBJkmVZdutFCCEoAEBgsD2CY0ZGhsaPH6+BAwdq0KBBWrhwocrLy5WWliZJSk1NVefOnZWTkyNJGjVqlBYsWKD4+HglJibq4MGDevbZZzVq1ChXaAAAAIHLdlgYO3asTp06paysLBUVFal///7asmWL66THo0ePuvUkPPPMM3I4HHrmmWd0/PhxtWvXTqNGjdJvf/tbz20FAADwmgbdGyI9PV3p6em1/m379u3uK7jqKmVnZys7O7shqwIAAH7GvSEAAIARYaEOnFwHAI3HvjQ4cIvqy/AfGwA8i8tYmz56Fi7RFIMCA9AAoakpfu6bYs34AT0LQYLkDoQGDrjwB3oWAKCJICjAXwgLAADAiLAAAACMCAsAAMCIsAAAAIwICwDqhZPrgNDFpZOAhwXbZayEBAD0LABeEgwDZjX1+gF4BmEBAAAYERYAAIARYQEAABgRFgAAgBFhAQAAGBEWAACAEWEBAAAYERYQkLi+H54SDONdAP7GCI4IKOzU4S3BNrIm4Ev0LCBgEBQAIDARFgAAgBFhAQAAGBEWAACAEWEBAAAYERYAAIARYQEAABgRFv4/LtsDAO9jX9s0hfygTPzHBQDfYoCspiekexaCMSgwtC0QfIL1cx2M2xSsQr5nIViR3IGmj4MpAkVI9ywAAIArIywAAAAjwgIAADAiLAAAACPCAgAAMCIsAAAAI8ICAAAwIiwAqBXX+AO4iEGZAC+79KDbFAbJIiQAuBw9C4APBfqBONDrA+AfhAUAAGBEWAAAAEaEBQAAYERYAAAARoQFAABgRFgAAABGhAUAAGDEoEzwO67thy9d/P/WFAbIAgJFg3oWFi1apNjYWEVERCgxMVG7du0yTv/dd99p6tSp6tixo5xOp/7t3/5NmzdvblDBCB49Z+0nKMBv+P+HpsrOMXjFihVyOBxuj4iICNvrtB0WVq9erYyMDGVnZ2vv3r2Ki4tTSkqKTp48Wev0lZWVuv3223XkyBG9++67+uKLL7RkyRJ17tzZdrEAAIQyu8dgSYqMjNSJEydcj6+//tr2em3/DLFgwQJNnjxZaWlpkqTc3Fxt2rRJy5Yt05NPPllj+mXLlunMmTPauXOnmjdvLkmKjY01rqOiokIVFRWu56WlpXbLBACgybj8OOd0OuV0OmtMZ/cYLEkOh0MdOnRoVH22wkJlZaX27NmjzMxMV1uzZs2UnJysgoKCWufZsGGDkpKSNHXqVK1fv17t2rXT/fffr1mzZiksLKzWeXJycjRnzhw7pQEA4FOHF96oq5rb79K/1IXz5yRJMTExbu3Z2dmaPXu2W1tDjsGSdPbsWXXr1k3V1dUaMGCA5s6dq5tuuslWnbbCwunTp1VVVaXo6Gi39ujoaB04cKDWeQ4dOqT3339fDzzwgDZv3qyDBw/qscce0/nz55WdnV3rPJmZmcrIyHA9Ly0trfFCAgAQLI4dO6bIyEjX89p6FRpyDL7xxhu1bNky9evXTyUlJZo3b54GDx6szz//XF26dKl3fV6/GqK6ulrt27fX4sWLFRYWpoSEBB0/flwvvvhinWGhru4XAACCUWRkpFtY8JSkpCQlJSW5ng8ePFi9e/fW66+/rueff77ey7EVFtq2bauwsDAVFxe7tRcXF9f5e0jHjh3VvHlzt58cevfuraKiIlVWVio8PNxOCQAAhKSGHIMv17x5c8XHx+vgwYO21m3raojw8HAlJCQoPz/f1VZdXa38/Hy35HKpIUOG6ODBg6qurna1ffnll+rYsSNBAQCAemrIMfhyVVVV+uyzz9SxY0db67Z96WRGRoaWLFmiN998U/v379ejjz6q8vJy15mZqampbidfPProozpz5oymTZumL7/8Ups2bdLcuXM1depUu6v2GK6vBoDAwP7YHrvH4Oeee05//etfdejQIe3du1cPPvigvv76a02aNMnWem2fszB27FidOnVKWVlZKioqUv/+/bVlyxbXCRdHjx5Vs2Y/ZpCYmBht3bpVM2bMUL9+/dS5c2dNmzZNs2bNsrvqRuM/JAAEJkbWrB+7x+Bvv/1WkydPVlFRkaKiopSQkKCdO3eqT58+ttbrsCzL8uiWeEFpaalat26txFHPN+oylVAOC4H4AQzV9yMQ34uLQvE9CcT3IxTfh4s88X5cOH9O//jzsyopKfHKSYOeOiZJ3q/VU7g3RIggtQOBL5RDAgIbd50EAABGhAUAAGBEWAAAAEaEBQAAYERYAAAARoQFAABgRFgAAABGhAUAAGBEWAAAAEaEBcDHAnGUPm7mA8CE4Z4BPwiU4bcJCADqg54FwI84WANoCggLAADAiLAAAACMCAsAAMCIsAAAAIwICwAAwIiwAAAAjAgL8AsuGUSg4P8icGUMygSfYseMQBQog2QBgYqeBfgMQQGBjv+jQO0ICwAAwIiwAAAAjAgLAADAiLAAAACMCAsAAMCIsAAAAIwICwAAwIiwAAAAjEImLDDYCgAEPvbVgSnoh3vmPx4ANC0Mvx14grpngaBQU89Z+3ldgADE57ImXpPAEfQ9C6gdyR0IDBwQ0RQEdc8CAAQyggKaCsICAAAwIiwAAAAjwgIAADAiLAAAACPCAgAAMCIsAAAAI8ICAAAwIiwAAAAjwgIQohgQCEB9Mdwz4GeXHrR9Mfw2IQGAXfQsAAHE2wdyggKAhiAsAAAAI8ICAAAwIiwAAAAjwgIAADBqUFhYtGiRYmNjFRERocTERO3atate8+Xl5cnhcGj06NENWS0AAPAD22Fh9erVysjIUHZ2tvbu3au4uDilpKTo5MmTxvmOHDmiX//61xo6dGiDiwUAAL5nOywsWLBAkydPVlpamvr06aPc3FxdffXVWrZsWZ3zVFVV6YEHHtCcOXPUo0ePRhUMAAB8y1ZYqKys1J49e5ScnPzjApo1U3JysgoKCuqc77nnnlP79u01ceLEeq2noqJCpaWlbg8AAOAftsLC6dOnVVVVpejoaLf26OhoFRUV1TrPhx9+qDfeeENLliyp93pycnLUunVr1yMmJsZOmQAAwIO8ejVEWVmZHnroIS1ZskRt27at93yZmZkqKSlxPY4dO+bFKuFtPWftZ+RANBn8fwVqsnVviLZt2yosLEzFxcVu7cXFxerQoUON6b/66isdOXJEo0aNcrVVV1f/sOKrrtIXX3yhnj171pjP6XTK6XTaKQ0BiB0umrKL/399cb8OINDZ6lkIDw9XQkKC8vPzXW3V1dXKz89XUlJSjel79eqlzz77TIWFha7H3XffreHDh6uwsJCfFwAAaAJs33UyIyND48eP18CBAzVo0CAtXLhQ5eXlSktLkySlpqaqc+fOysnJUUREhPr27es2/7XXXitJNdoBAEBgsh0Wxo4dq1OnTikrK0tFRUXq37+/tmzZ4jrp8ejRo2rWjIEhAQAIFrbDgiSlp6crPT291r9t377dOO+KFSsaskoAAOAndAEAAAAjwgIAADAiLAAAACPCAgAAMCIsAAAAowZdDRHoGDkQAIIDI2kGhqDqWWBMd/t4vQD/4LNnD/t3/wrKngXYQ3IHfIcDHpqioOpZQOOwEwO8i88YmirCAgAAMCIsAAAAI8ICAAAwIiwAAAAjwgIAADAiLAAAACPCAgAAMCIsAAAAI8ICAAAwIiwAAAAjwgIQIhhqGEBDcSMpIMB4+sZehAQAjUXPAhCgPHFLXoICAE8gLAAAACPCAgAAMCIsAAAAI8ICAAAwIiwAAAAjwgIAADAiLAAAACPCAgAAMCIsAAAAI4Z7hscxaiCCiaeH3waaIsICPIaQgGBGaEAo42cIAABgRFgAAABGhAUAAGBEWAAAAEaEBQAAYERYAAAARoQFAABgRFgAAABGhAUAAGAUFCM4MnIgAIQGRtL0jyYdFggJABCaCA2+xc8QAADAiLAAN/TWAN7BZwtNWZP+GQLeQfce4DmEBAQDehZQJ3ZyQOPwGUKwICwAAAAjwgIAADAiLAAAAKMGhYVFixYpNjZWERERSkxM1K5du+qcdsmSJRo6dKiioqIUFRWl5ORk4/QAACCw2A4Lq1evVkZGhrKzs7V3717FxcUpJSVFJ0+erHX67du3a9y4cfrggw9UUFCgmJgYjRgxQsePH2908QAAwPtsh4UFCxZo8uTJSktLU58+fZSbm6urr75ay5Ytq3X6lStX6rHHHlP//v3Vq1cvLV26VNXV1crPz2908QAAwPtshYXKykrt2bNHycnJPy6gWTMlJyeroKCgXsv417/+pfPnz+u6666rc5qKigqVlpa6PQAAgH/YCgunT59WVVWVoqOj3dqjo6NVVFRUr2XMmjVLnTp1cgscl8vJyVHr1q1dj5iYGDtlAgAAD/Lp1RAvvPCC8vLytHbtWkVERNQ5XWZmpkpKSlyPY8eO+bBKIDgwIBAAT7E13HPbtm0VFham4uJit/bi4mJ16NDBOO+8efP0wgsv6G9/+5v69etnnNbpdMrpdNopDQhadoffJiQA8DRbPQvh4eFKSEhwOznx4smKSUlJdc73+9//Xs8//7y2bNmigQMHNrxaIIT1nLX/ikGAoADAG2zfSCojI0Pjx4/XwIEDNWjQIC1cuFDl5eVKS0uTJKWmpqpz587KycmRJP3ud79TVlaWVq1apdjYWNe5DS1btlTLli09uCkAAMAbbIeFsWPH6tSpU8rKylJRUZH69++vLVu2uE56PHr0qJo1+7HD4rXXXlNlZaXGjBnjtpzs7GzNnj27cdUDAACva9AtqtPT05Wenl7r37Zv3+72/MiRIw1ZBQAACBDcGwIAABgRFgAAgBFhAQAAGBEWAACAEWEBAAAYERYAAIARYQEAABgRFgAAgFGDBmUCLsX9CBBK7N7YCwgGhAU0GCEBoYzQgFDCzxAAAMCIsAAAAIwICwAAwIiwAAAAjAgLAADAiLAAAACMCAsAAMCIsAAAAIwICwAAwKhJjuDIyIEAAImRNH2lSfUsdJ/+BUHBx3i9ATQFPWftZ3/lRU2yZwG+RXIH6o8DFoJRk+pZgH+xEwTM+IwgWBEWAACAEWEBAAAYERYAAIARYQEAABgRFgAAgBFhAQAAGBEWAACAEWEBAAAYERYAAIARYQEAABgRFoAgwVDDALyFG0kBTQyhAICv0bMAAACMCAsAAMCIsAAAAIwICwAAwIiwAAAAjAgLAADAiLAAAACMCAsAAMCIsAAAAIwICwAAwIiwAAAAjAgLsIX7EgBA6OFGUrCNwAD8iM8DQgE9CwCAoEF48w7CAgAgqHSf/oW/Swg6DQoLixYtUmxsrCIiIpSYmKhdu3YZp3/nnXfUq1cvRURE6Oabb9bmzZsbVCwAAKHOH8dg22Fh9erVysjIUHZ2tvbu3au4uDilpKTo5MmTtU6/c+dOjRs3ThMnTtQnn3yi0aNHa/To0dq3b5/tYgEACGX+OgY7LMuy7MyQmJioW265Ra+88ookqbq6WjExMfrlL3+pJ598ssb0Y8eOVXl5uTZu3Ohq+8lPfqL+/fsrNze3XussLS1V69at9Yv8BxXeMtxOuQCAEFN5tlJ5P31bJSUlioyM9PjyLx6TEkc9r6uaRzRqWRfOn9M//vxsvWv1xzFYsnk1RGVlpfbs2aPMzExXW7NmzZScnKyCgoJa5ykoKFBGRoZbW0pKitatW1fneioqKlRRUeF6XlJSIkk6X15pp1wAQAi6eKyw+V3Ytqrz5zy2jNLSUrd2p9Mpp9Pp1uarY3BtbIWF06dPq6qqStHR0W7t0dHROnDgQK3zFBUV1Tp9UVFRnevJycnRnDlzarS/d/ef7JQLAAhhZWVlat26tceXGx4erg4dOmj3lt96ZHktW7ZUTEyMW1t2drZmz57t1uarY3BtAnKchczMTLckVF1drTNnzqhNmzZyOBy1zlNaWqqYmBgdO3bMK91OgYxtZ9vZ9tDBtl952y3LUllZmTp16uSVOiIiInT48GFVVnqmt9uyrBrHtst7FfzNVlho27atwsLCVFxc7NZeXFysDh061DpPhw4dbE0v1d79cu2119arxsjIyJD7AF3EtrPtoYZtZ9vr4o0ehUtFREQoIqJx5yvY5atjcG1sXQ0RHh6uhIQE5efnu9qqq6uVn5+vpKSkWudJSkpym16Stm3bVuf0AACgJn8eg23/DJGRkaHx48dr4MCBGjRokBYuXKjy8nKlpaVJklJTU9W5c2fl5ORIkqZNm6bbbrtN8+fP18iRI5WXl6fdu3dr8eLFdlcNAEBI89cx2HZYGDt2rE6dOqWsrCwVFRWpf//+2rJli+sEiqNHj6pZsx87LAYPHqxVq1bpmWee0VNPPaUbbrhB69atU9++fe2u2sjpdCo7OzvgfufxBbadbQ81bDvbHqr8dQy2Pc4CAAAILdwbAgAAGBEWAACAEWEBAAAYERYAAIARYQEAABgFbVjYtGmTEhMT1aJFC0VFRWn06NH+LsmnKioq1L9/fzkcDhUWFvq7HK87cuSIJk6cqO7du6tFixbq2bOnsrOzPTYcayCye0/7YJCTk6NbbrlFrVq1Uvv27TV69Gh98cUX/i7L51544QU5HA5Nnz7d36X4zPHjx/Xggw+qTZs2atGihW6++Wbt3r3b32WFjKAMC++9954eeughpaWl6dNPP9X//M//6P777/d3WT71xBNPeG1c9EB04MABVVdX6/XXX9fnn3+ul156Sbm5uXrqqaf8XZpX2L2nfbD4+9//rqlTp+qjjz7Stm3bdP78eY0YMULl5eX+Ls1nPv74Y73++uvq16+fv0vxmW+//VZDhgxR8+bN9Ze//EX/+7//q/nz5ysqKsrfpYUOK8icP3/e6ty5s7V06VJ/l+I3mzdvtnr16mV9/vnnliTrk08+8XdJfvH73//e6t69u7/L8IpBgwZZU6dOdT2vqqqyOnXqZOXk5PixKt87efKkJcn6+9//7u9SfKKsrMy64YYbrG3btlm33XabNW3aNH+X5BOzZs2ybr31Vn+XEdKCrmdh7969On78uJo1a6b4+Hh17NhRd955p/bt2+fv0nyiuLhYkydP1ltvvaWrr77a3+X4VUlJia677jp/l+FxF+9pn5yc7Gq70j3tg1VJSYkkBeX7XJupU6dq5MiRbu99KNiwYYMGDhyoe++9V+3bt1d8fLyWLFni77JCStCFhUOHDkmSZs+erWeeeUYbN25UVFSUhg0bpjNnzvi5Ou+yLEsTJkzQlClTNHDgQH+X41cHDx7Uyy+/rP/6r//ydykeZ7qnvd171Ddl1dXVmj59uoYMGeLx4eMDUV5envbu3esa8z+UHDp0SK+99ppuuOEGbd26VY8++qh+9atf6c033/R3aSGjyYSFJ598Ug6Hw/i4+Lu1JD399NO65557lJCQoOXLl8vhcOidd97x81Y0TH23/eWXX1ZZWZkyMzP9XbLH1HfbL3X8+HHdcccduvfeezV58mQ/VQ5vmzp1qvbt26e8vDx/l+J1x44d07Rp07Ry5Uqf3xY5EFRXV2vAgAGaO3eu4uPj9cgjj2jy5MnKzc31d2khw/aNpPxl5syZmjBhgnGaHj166MSJE5KkPn36uNqdTqd69Oiho0ePerNEr6nvtr///vsqKCiocZOVgQMH6oEHHmiSKby+237RN998o+HDh2vw4MFBe2fThtzTPtikp6dr48aN2rFjh7p06eLvcrxuz549OnnypAYMGOBqq6qq0o4dO/TKK6+ooqJCYWFhfqzQuzp27Oi2T5ek3r1767333vNTRaGnyYSFdu3aqV27dlecLiEhQU6nU1988YVuvfVWSdL58+d15MgRdevWzdtlekV9t/0Pf/iDfvOb37ief/PNN0pJSdHq1auVmJjozRK9pr7bLv3QozB8+HBXb9Kld14LJpfe0/7iJcEX72mfnp7u3+K8zLIs/fKXv9TatWu1fft2de/e3d8l+cRPf/pTffbZZ25taWlp6tWrl2bNmhXUQUGShgwZUuMS2S+//LLJ7tOboiYTFuorMjJSU6ZMUXZ2tmJiYtStWze9+OKLkqR7773Xz9V5V9euXd2et2zZUpLUs2fPoP/2dfz4cQ0bNkzdunXTvHnzdOrUKdffgvHb9pXuaR+spk6dqlWrVmn9+vVq1aqV6xyN1q1bq0WLFn6uzntatWpV47yMa665Rm3atAmJ8zVmzJihwYMHa+7cubrvvvu0a9cuLV68OGh7DwOSvy/H8IbKykpr5syZVvv27a1WrVpZycnJ1r59+/xdls8dPnw4ZC6dXL58uSWp1kewevnll62uXbta4eHh1qBBg6yPPvrI3yV5XV3v8fLly/1dms+F0qWTlmVZf/7zn62+fftaTqfT6tWrl7V48WJ/lxRSHJZlWX5JKQAAoEkIzh91AQCAxxAWAACAEWEBAAAYERYAAIARYQEAABgRFgAAgBFhAQAAGBEWAACAEWEBAAAYERYAAIARYQEAABj9P1U0sH9b4eV/AAAAAElFTkSuQmCC\n"
                },
                "metadata": {}
              }
            ]
          }
        },
        "7cced8ade6a34717acc7f0e7147e21cd": {
          "model_module": "@jupyter-widgets/base",
          "model_name": "LayoutModel",
          "model_module_version": "1.2.0",
          "state": {
            "_model_module": "@jupyter-widgets/base",
            "_model_module_version": "1.2.0",
            "_model_name": "LayoutModel",
            "_view_count": null,
            "_view_module": "@jupyter-widgets/base",
            "_view_module_version": "1.2.0",
            "_view_name": "LayoutView",
            "align_content": null,
            "align_items": null,
            "align_self": null,
            "border": null,
            "bottom": null,
            "display": null,
            "flex": null,
            "flex_flow": null,
            "grid_area": null,
            "grid_auto_columns": null,
            "grid_auto_flow": null,
            "grid_auto_rows": null,
            "grid_column": null,
            "grid_gap": null,
            "grid_row": null,
            "grid_template_areas": null,
            "grid_template_columns": null,
            "grid_template_rows": null,
            "height": null,
            "justify_content": null,
            "justify_items": null,
            "left": null,
            "margin": null,
            "max_height": null,
            "max_width": null,
            "min_height": null,
            "min_width": null,
            "object_fit": null,
            "object_position": null,
            "order": null,
            "overflow": null,
            "overflow_x": null,
            "overflow_y": null,
            "padding": null,
            "right": null,
            "top": null,
            "visibility": null,
            "width": null
          }
        },
        "8d846bb1f459449da5918b9c129cac83": {
          "model_module": "@jupyter-widgets/base",
          "model_name": "LayoutModel",
          "model_module_version": "1.2.0",
          "state": {
            "_model_module": "@jupyter-widgets/base",
            "_model_module_version": "1.2.0",
            "_model_name": "LayoutModel",
            "_view_count": null,
            "_view_module": "@jupyter-widgets/base",
            "_view_module_version": "1.2.0",
            "_view_name": "LayoutView",
            "align_content": null,
            "align_items": null,
            "align_self": null,
            "border": null,
            "bottom": null,
            "display": null,
            "flex": null,
            "flex_flow": null,
            "grid_area": null,
            "grid_auto_columns": null,
            "grid_auto_flow": null,
            "grid_auto_rows": null,
            "grid_column": null,
            "grid_gap": null,
            "grid_row": null,
            "grid_template_areas": null,
            "grid_template_columns": null,
            "grid_template_rows": null,
            "height": null,
            "justify_content": null,
            "justify_items": null,
            "left": null,
            "margin": null,
            "max_height": null,
            "max_width": null,
            "min_height": null,
            "min_width": null,
            "object_fit": null,
            "object_position": null,
            "order": null,
            "overflow": null,
            "overflow_x": null,
            "overflow_y": null,
            "padding": null,
            "right": null,
            "top": null,
            "visibility": null,
            "width": null
          }
        },
        "92f4a1be793e4e7bbe210e2464f6d159": {
          "model_module": "@jupyter-widgets/controls",
          "model_name": "SliderStyleModel",
          "model_module_version": "1.5.0",
          "state": {
            "_model_module": "@jupyter-widgets/controls",
            "_model_module_version": "1.5.0",
            "_model_name": "SliderStyleModel",
            "_view_count": null,
            "_view_module": "@jupyter-widgets/base",
            "_view_module_version": "1.2.0",
            "_view_name": "StyleView",
            "description_width": "",
            "handle_color": null
          }
        },
        "155a812a3ca045f8b88dfea87cc16668": {
          "model_module": "@jupyter-widgets/base",
          "model_name": "LayoutModel",
          "model_module_version": "1.2.0",
          "state": {
            "_model_module": "@jupyter-widgets/base",
            "_model_module_version": "1.2.0",
            "_model_name": "LayoutModel",
            "_view_count": null,
            "_view_module": "@jupyter-widgets/base",
            "_view_module_version": "1.2.0",
            "_view_name": "LayoutView",
            "align_content": null,
            "align_items": null,
            "align_self": null,
            "border": null,
            "bottom": null,
            "display": null,
            "flex": null,
            "flex_flow": null,
            "grid_area": null,
            "grid_auto_columns": null,
            "grid_auto_flow": null,
            "grid_auto_rows": null,
            "grid_column": null,
            "grid_gap": null,
            "grid_row": null,
            "grid_template_areas": null,
            "grid_template_columns": null,
            "grid_template_rows": null,
            "height": null,
            "justify_content": null,
            "justify_items": null,
            "left": null,
            "margin": null,
            "max_height": null,
            "max_width": null,
            "min_height": null,
            "min_width": null,
            "object_fit": null,
            "object_position": null,
            "order": null,
            "overflow": null,
            "overflow_x": null,
            "overflow_y": null,
            "padding": null,
            "right": null,
            "top": null,
            "visibility": null,
            "width": null
          }
        },
        "3d1871218e9c42bf807ea97ab5207657": {
          "model_module": "@jupyter-widgets/controls",
          "model_name": "DescriptionStyleModel",
          "model_module_version": "1.5.0",
          "state": {
            "_model_module": "@jupyter-widgets/controls",
            "_model_module_version": "1.5.0",
            "_model_name": "DescriptionStyleModel",
            "_view_count": null,
            "_view_module": "@jupyter-widgets/base",
            "_view_module_version": "1.2.0",
            "_view_name": "StyleView",
            "description_width": "initial"
          }
        },
        "aff1f232f22a4ea389d4570993d63a0d": {
          "model_module": "@jupyter-widgets/base",
          "model_name": "LayoutModel",
          "model_module_version": "1.2.0",
          "state": {
            "_model_module": "@jupyter-widgets/base",
            "_model_module_version": "1.2.0",
            "_model_name": "LayoutModel",
            "_view_count": null,
            "_view_module": "@jupyter-widgets/base",
            "_view_module_version": "1.2.0",
            "_view_name": "LayoutView",
            "align_content": null,
            "align_items": null,
            "align_self": null,
            "border": null,
            "bottom": null,
            "display": null,
            "flex": null,
            "flex_flow": null,
            "grid_area": null,
            "grid_auto_columns": null,
            "grid_auto_flow": null,
            "grid_auto_rows": null,
            "grid_column": null,
            "grid_gap": null,
            "grid_row": null,
            "grid_template_areas": null,
            "grid_template_columns": null,
            "grid_template_rows": null,
            "height": null,
            "justify_content": null,
            "justify_items": null,
            "left": null,
            "margin": null,
            "max_height": null,
            "max_width": null,
            "min_height": null,
            "min_width": null,
            "object_fit": null,
            "object_position": null,
            "order": null,
            "overflow": null,
            "overflow_x": null,
            "overflow_y": null,
            "padding": null,
            "right": null,
            "top": null,
            "visibility": null,
            "width": null
          }
        },
        "492520db99374e95a93f852daae24a49": {
          "model_module": "@jupyter-widgets/controls",
          "model_name": "SliderStyleModel",
          "model_module_version": "1.5.0",
          "state": {
            "_model_module": "@jupyter-widgets/controls",
            "_model_module_version": "1.5.0",
            "_model_name": "SliderStyleModel",
            "_view_count": null,
            "_view_module": "@jupyter-widgets/base",
            "_view_module_version": "1.2.0",
            "_view_name": "StyleView",
            "description_width": "initial",
            "handle_color": null
          }
        },
        "8fcb6cbcbcb64ef98eb3aa6dbad4e2ef": {
          "model_module": "@jupyter-widgets/base",
          "model_name": "LayoutModel",
          "model_module_version": "1.2.0",
          "state": {
            "_model_module": "@jupyter-widgets/base",
            "_model_module_version": "1.2.0",
            "_model_name": "LayoutModel",
            "_view_count": null,
            "_view_module": "@jupyter-widgets/base",
            "_view_module_version": "1.2.0",
            "_view_name": "LayoutView",
            "align_content": null,
            "align_items": null,
            "align_self": null,
            "border": null,
            "bottom": null,
            "display": null,
            "flex": null,
            "flex_flow": null,
            "grid_area": null,
            "grid_auto_columns": null,
            "grid_auto_flow": null,
            "grid_auto_rows": null,
            "grid_column": null,
            "grid_gap": null,
            "grid_row": null,
            "grid_template_areas": null,
            "grid_template_columns": null,
            "grid_template_rows": null,
            "height": null,
            "justify_content": null,
            "justify_items": null,
            "left": null,
            "margin": null,
            "max_height": null,
            "max_width": null,
            "min_height": null,
            "min_width": null,
            "object_fit": null,
            "object_position": null,
            "order": null,
            "overflow": null,
            "overflow_x": null,
            "overflow_y": null,
            "padding": null,
            "right": null,
            "top": null,
            "visibility": null,
            "width": null
          }
        },
        "69b0e8d21c4442e6b9148f686adef74f": {
          "model_module": "@jupyter-widgets/controls",
          "model_name": "ToggleButtonsStyleModel",
          "model_module_version": "1.5.0",
          "state": {
            "_model_module": "@jupyter-widgets/controls",
            "_model_module_version": "1.5.0",
            "_model_name": "ToggleButtonsStyleModel",
            "_view_count": null,
            "_view_module": "@jupyter-widgets/base",
            "_view_module_version": "1.2.0",
            "_view_name": "StyleView",
            "button_width": "",
            "description_width": "initial",
            "font_weight": ""
          }
        },
        "1a727bc473914ae39fea83c2c21b87aa": {
          "model_module": "@jupyter-widgets/base",
          "model_name": "LayoutModel",
          "model_module_version": "1.2.0",
          "state": {
            "_model_module": "@jupyter-widgets/base",
            "_model_module_version": "1.2.0",
            "_model_name": "LayoutModel",
            "_view_count": null,
            "_view_module": "@jupyter-widgets/base",
            "_view_module_version": "1.2.0",
            "_view_name": "LayoutView",
            "align_content": null,
            "align_items": null,
            "align_self": null,
            "border": null,
            "bottom": null,
            "display": null,
            "flex": null,
            "flex_flow": null,
            "grid_area": null,
            "grid_auto_columns": null,
            "grid_auto_flow": null,
            "grid_auto_rows": null,
            "grid_column": null,
            "grid_gap": null,
            "grid_row": null,
            "grid_template_areas": null,
            "grid_template_columns": null,
            "grid_template_rows": null,
            "height": null,
            "justify_content": null,
            "justify_items": null,
            "left": null,
            "margin": null,
            "max_height": null,
            "max_width": null,
            "min_height": null,
            "min_width": null,
            "object_fit": null,
            "object_position": null,
            "order": null,
            "overflow": null,
            "overflow_x": null,
            "overflow_y": null,
            "padding": null,
            "right": null,
            "top": null,
            "visibility": null,
            "width": null
          }
        },
        "271dcfc337eb4313be449f50d0c61ed3": {
          "model_module": "@jupyter-widgets/controls",
          "model_name": "ToggleButtonsStyleModel",
          "model_module_version": "1.5.0",
          "state": {
            "_model_module": "@jupyter-widgets/controls",
            "_model_module_version": "1.5.0",
            "_model_name": "ToggleButtonsStyleModel",
            "_view_count": null,
            "_view_module": "@jupyter-widgets/base",
            "_view_module_version": "1.2.0",
            "_view_name": "StyleView",
            "button_width": "",
            "description_width": "initial",
            "font_weight": ""
          }
        },
        "453541486c694aa899bcc12ab038b43c": {
          "model_module": "@jupyter-widgets/base",
          "model_name": "LayoutModel",
          "model_module_version": "1.2.0",
          "state": {
            "_model_module": "@jupyter-widgets/base",
            "_model_module_version": "1.2.0",
            "_model_name": "LayoutModel",
            "_view_count": null,
            "_view_module": "@jupyter-widgets/base",
            "_view_module_version": "1.2.0",
            "_view_name": "LayoutView",
            "align_content": null,
            "align_items": null,
            "align_self": null,
            "border": null,
            "bottom": null,
            "display": null,
            "flex": null,
            "flex_flow": null,
            "grid_area": null,
            "grid_auto_columns": null,
            "grid_auto_flow": null,
            "grid_auto_rows": null,
            "grid_column": null,
            "grid_gap": null,
            "grid_row": null,
            "grid_template_areas": null,
            "grid_template_columns": null,
            "grid_template_rows": null,
            "height": null,
            "justify_content": null,
            "justify_items": null,
            "left": null,
            "margin": null,
            "max_height": null,
            "max_width": null,
            "min_height": null,
            "min_width": null,
            "object_fit": null,
            "object_position": null,
            "order": null,
            "overflow": null,
            "overflow_x": null,
            "overflow_y": null,
            "padding": null,
            "right": null,
            "top": null,
            "visibility": null,
            "width": null
          }
        },
        "e7c40d3ad68d4078a91962ffba5f0106": {
          "model_module": "@jupyter-widgets/controls",
          "model_name": "ToggleButtonsStyleModel",
          "model_module_version": "1.5.0",
          "state": {
            "_model_module": "@jupyter-widgets/controls",
            "_model_module_version": "1.5.0",
            "_model_name": "ToggleButtonsStyleModel",
            "_view_count": null,
            "_view_module": "@jupyter-widgets/base",
            "_view_module_version": "1.2.0",
            "_view_name": "StyleView",
            "button_width": "",
            "description_width": "initial",
            "font_weight": ""
          }
        },
        "75c9a1381e6d440b9d96d7731786f14d": {
          "model_module": "@jupyter-widgets/base",
          "model_name": "LayoutModel",
          "model_module_version": "1.2.0",
          "state": {
            "_model_module": "@jupyter-widgets/base",
            "_model_module_version": "1.2.0",
            "_model_name": "LayoutModel",
            "_view_count": null,
            "_view_module": "@jupyter-widgets/base",
            "_view_module_version": "1.2.0",
            "_view_name": "LayoutView",
            "align_content": null,
            "align_items": null,
            "align_self": null,
            "border": null,
            "bottom": null,
            "display": null,
            "flex": null,
            "flex_flow": null,
            "grid_area": null,
            "grid_auto_columns": null,
            "grid_auto_flow": null,
            "grid_auto_rows": null,
            "grid_column": null,
            "grid_gap": null,
            "grid_row": null,
            "grid_template_areas": null,
            "grid_template_columns": null,
            "grid_template_rows": null,
            "height": null,
            "justify_content": null,
            "justify_items": null,
            "left": null,
            "margin": null,
            "max_height": null,
            "max_width": null,
            "min_height": null,
            "min_width": null,
            "object_fit": null,
            "object_position": null,
            "order": null,
            "overflow": null,
            "overflow_x": null,
            "overflow_y": null,
            "padding": null,
            "right": null,
            "top": null,
            "visibility": null,
            "width": null
          }
        },
        "927e240cef67456dbb686503cad0910a": {
          "model_module": "@jupyter-widgets/controls",
          "model_name": "DescriptionStyleModel",
          "model_module_version": "1.5.0",
          "state": {
            "_model_module": "@jupyter-widgets/controls",
            "_model_module_version": "1.5.0",
            "_model_name": "DescriptionStyleModel",
            "_view_count": null,
            "_view_module": "@jupyter-widgets/base",
            "_view_module_version": "1.2.0",
            "_view_name": "StyleView",
            "description_width": "initial"
          }
        },
        "2afd52d101254d5aafa9147b3a9ab906": {
          "model_module": "@jupyter-widgets/base",
          "model_name": "LayoutModel",
          "model_module_version": "1.2.0",
          "state": {
            "_model_module": "@jupyter-widgets/base",
            "_model_module_version": "1.2.0",
            "_model_name": "LayoutModel",
            "_view_count": null,
            "_view_module": "@jupyter-widgets/base",
            "_view_module_version": "1.2.0",
            "_view_name": "LayoutView",
            "align_content": null,
            "align_items": null,
            "align_self": null,
            "border": null,
            "bottom": null,
            "display": null,
            "flex": null,
            "flex_flow": null,
            "grid_area": null,
            "grid_auto_columns": null,
            "grid_auto_flow": null,
            "grid_auto_rows": null,
            "grid_column": null,
            "grid_gap": null,
            "grid_row": null,
            "grid_template_areas": null,
            "grid_template_columns": null,
            "grid_template_rows": null,
            "height": null,
            "justify_content": null,
            "justify_items": null,
            "left": null,
            "margin": null,
            "max_height": null,
            "max_width": null,
            "min_height": null,
            "min_width": null,
            "object_fit": null,
            "object_position": null,
            "order": null,
            "overflow": null,
            "overflow_x": null,
            "overflow_y": null,
            "padding": null,
            "right": null,
            "top": null,
            "visibility": null,
            "width": null
          }
        },
        "62ae3a132d0b4a1f80277e91ff80a7fb": {
          "model_module": "@jupyter-widgets/controls",
          "model_name": "SliderStyleModel",
          "model_module_version": "1.5.0",
          "state": {
            "_model_module": "@jupyter-widgets/controls",
            "_model_module_version": "1.5.0",
            "_model_name": "SliderStyleModel",
            "_view_count": null,
            "_view_module": "@jupyter-widgets/base",
            "_view_module_version": "1.2.0",
            "_view_name": "StyleView",
            "description_width": "initial",
            "handle_color": null
          }
        },
        "7d68668b71f540ebb9ff349731ca2116": {
          "model_module": "@jupyter-widgets/base",
          "model_name": "LayoutModel",
          "model_module_version": "1.2.0",
          "state": {
            "_model_module": "@jupyter-widgets/base",
            "_model_module_version": "1.2.0",
            "_model_name": "LayoutModel",
            "_view_count": null,
            "_view_module": "@jupyter-widgets/base",
            "_view_module_version": "1.2.0",
            "_view_name": "LayoutView",
            "align_content": null,
            "align_items": null,
            "align_self": null,
            "border": null,
            "bottom": null,
            "display": null,
            "flex": null,
            "flex_flow": null,
            "grid_area": null,
            "grid_auto_columns": null,
            "grid_auto_flow": null,
            "grid_auto_rows": null,
            "grid_column": null,
            "grid_gap": null,
            "grid_row": null,
            "grid_template_areas": null,
            "grid_template_columns": null,
            "grid_template_rows": null,
            "height": null,
            "justify_content": null,
            "justify_items": null,
            "left": null,
            "margin": null,
            "max_height": null,
            "max_width": null,
            "min_height": null,
            "min_width": null,
            "object_fit": null,
            "object_position": null,
            "order": null,
            "overflow": null,
            "overflow_x": null,
            "overflow_y": null,
            "padding": null,
            "right": null,
            "top": null,
            "visibility": null,
            "width": null
          }
        },
        "32cbaa51ef354cd6999f5ca2fe11df22": {
          "model_module": "@jupyter-widgets/controls",
          "model_name": "SliderStyleModel",
          "model_module_version": "1.5.0",
          "state": {
            "_model_module": "@jupyter-widgets/controls",
            "_model_module_version": "1.5.0",
            "_model_name": "SliderStyleModel",
            "_view_count": null,
            "_view_module": "@jupyter-widgets/base",
            "_view_module_version": "1.2.0",
            "_view_name": "StyleView",
            "description_width": "initial",
            "handle_color": null
          }
        },
        "da560e1716a54d6285ae84abc0e5e5c3": {
          "model_module": "@jupyter-widgets/base",
          "model_name": "LayoutModel",
          "model_module_version": "1.2.0",
          "state": {
            "_model_module": "@jupyter-widgets/base",
            "_model_module_version": "1.2.0",
            "_model_name": "LayoutModel",
            "_view_count": null,
            "_view_module": "@jupyter-widgets/base",
            "_view_module_version": "1.2.0",
            "_view_name": "LayoutView",
            "align_content": null,
            "align_items": null,
            "align_self": null,
            "border": null,
            "bottom": null,
            "display": null,
            "flex": null,
            "flex_flow": null,
            "grid_area": null,
            "grid_auto_columns": null,
            "grid_auto_flow": null,
            "grid_auto_rows": null,
            "grid_column": null,
            "grid_gap": null,
            "grid_row": null,
            "grid_template_areas": null,
            "grid_template_columns": null,
            "grid_template_rows": null,
            "height": null,
            "justify_content": null,
            "justify_items": null,
            "left": null,
            "margin": null,
            "max_height": null,
            "max_width": null,
            "min_height": null,
            "min_width": null,
            "object_fit": null,
            "object_position": null,
            "order": null,
            "overflow": null,
            "overflow_x": null,
            "overflow_y": null,
            "padding": null,
            "right": null,
            "top": null,
            "visibility": null,
            "width": null
          }
        },
        "9d9d414e0a1942db89726f67dfafd5e4": {
          "model_module": "@jupyter-widgets/controls",
          "model_name": "SliderStyleModel",
          "model_module_version": "1.5.0",
          "state": {
            "_model_module": "@jupyter-widgets/controls",
            "_model_module_version": "1.5.0",
            "_model_name": "SliderStyleModel",
            "_view_count": null,
            "_view_module": "@jupyter-widgets/base",
            "_view_module_version": "1.2.0",
            "_view_name": "StyleView",
            "description_width": "initial",
            "handle_color": null
          }
        },
        "5a6422c4bb3a497c9da2cde8045da9bf": {
          "model_module": "@jupyter-widgets/base",
          "model_name": "LayoutModel",
          "model_module_version": "1.2.0",
          "state": {
            "_model_module": "@jupyter-widgets/base",
            "_model_module_version": "1.2.0",
            "_model_name": "LayoutModel",
            "_view_count": null,
            "_view_module": "@jupyter-widgets/base",
            "_view_module_version": "1.2.0",
            "_view_name": "LayoutView",
            "align_content": null,
            "align_items": null,
            "align_self": null,
            "border": null,
            "bottom": null,
            "display": null,
            "flex": null,
            "flex_flow": null,
            "grid_area": null,
            "grid_auto_columns": null,
            "grid_auto_flow": null,
            "grid_auto_rows": null,
            "grid_column": null,
            "grid_gap": null,
            "grid_row": null,
            "grid_template_areas": null,
            "grid_template_columns": null,
            "grid_template_rows": null,
            "height": null,
            "justify_content": null,
            "justify_items": null,
            "left": null,
            "margin": null,
            "max_height": null,
            "max_width": null,
            "min_height": null,
            "min_width": null,
            "object_fit": null,
            "object_position": null,
            "order": null,
            "overflow": null,
            "overflow_x": null,
            "overflow_y": null,
            "padding": null,
            "right": null,
            "top": null,
            "visibility": null,
            "width": null
          }
        },
        "fd6f54aecf7b4e409172cb6604a8dd16": {
          "model_module": "@jupyter-widgets/controls",
          "model_name": "SliderStyleModel",
          "model_module_version": "1.5.0",
          "state": {
            "_model_module": "@jupyter-widgets/controls",
            "_model_module_version": "1.5.0",
            "_model_name": "SliderStyleModel",
            "_view_count": null,
            "_view_module": "@jupyter-widgets/base",
            "_view_module_version": "1.2.0",
            "_view_name": "StyleView",
            "description_width": "initial",
            "handle_color": null
          }
        },
        "8b1d183eb78b4512a2916f968ab919cf": {
          "model_module": "@jupyter-widgets/base",
          "model_name": "LayoutModel",
          "model_module_version": "1.2.0",
          "state": {
            "_model_module": "@jupyter-widgets/base",
            "_model_module_version": "1.2.0",
            "_model_name": "LayoutModel",
            "_view_count": null,
            "_view_module": "@jupyter-widgets/base",
            "_view_module_version": "1.2.0",
            "_view_name": "LayoutView",
            "align_content": null,
            "align_items": null,
            "align_self": null,
            "border": null,
            "bottom": null,
            "display": null,
            "flex": null,
            "flex_flow": null,
            "grid_area": null,
            "grid_auto_columns": null,
            "grid_auto_flow": null,
            "grid_auto_rows": null,
            "grid_column": null,
            "grid_gap": null,
            "grid_row": null,
            "grid_template_areas": null,
            "grid_template_columns": null,
            "grid_template_rows": null,
            "height": null,
            "justify_content": null,
            "justify_items": null,
            "left": null,
            "margin": null,
            "max_height": null,
            "max_width": null,
            "min_height": null,
            "min_width": null,
            "object_fit": null,
            "object_position": null,
            "order": null,
            "overflow": null,
            "overflow_x": null,
            "overflow_y": null,
            "padding": null,
            "right": null,
            "top": null,
            "visibility": null,
            "width": null
          }
        },
        "9b38f09c245145d4bfdf412d527a2a52": {
          "model_module": "@jupyter-widgets/controls",
          "model_name": "SliderStyleModel",
          "model_module_version": "1.5.0",
          "state": {
            "_model_module": "@jupyter-widgets/controls",
            "_model_module_version": "1.5.0",
            "_model_name": "SliderStyleModel",
            "_view_count": null,
            "_view_module": "@jupyter-widgets/base",
            "_view_module_version": "1.2.0",
            "_view_name": "StyleView",
            "description_width": "initial",
            "handle_color": null
          }
        },
        "9c05cb67afb2407eac0f04cb54258830": {
          "model_module": "@jupyter-widgets/base",
          "model_name": "LayoutModel",
          "model_module_version": "1.2.0",
          "state": {
            "_model_module": "@jupyter-widgets/base",
            "_model_module_version": "1.2.0",
            "_model_name": "LayoutModel",
            "_view_count": null,
            "_view_module": "@jupyter-widgets/base",
            "_view_module_version": "1.2.0",
            "_view_name": "LayoutView",
            "align_content": null,
            "align_items": null,
            "align_self": null,
            "border": null,
            "bottom": null,
            "display": null,
            "flex": null,
            "flex_flow": null,
            "grid_area": null,
            "grid_auto_columns": null,
            "grid_auto_flow": null,
            "grid_auto_rows": null,
            "grid_column": null,
            "grid_gap": null,
            "grid_row": null,
            "grid_template_areas": null,
            "grid_template_columns": null,
            "grid_template_rows": null,
            "height": null,
            "justify_content": null,
            "justify_items": null,
            "left": null,
            "margin": null,
            "max_height": null,
            "max_width": null,
            "min_height": null,
            "min_width": null,
            "object_fit": null,
            "object_position": null,
            "order": null,
            "overflow": null,
            "overflow_x": null,
            "overflow_y": null,
            "padding": null,
            "right": null,
            "top": null,
            "visibility": null,
            "width": null
          }
        },
        "11377fd0a63140e4a79f358026d9011c": {
          "model_module": "@jupyter-widgets/controls",
          "model_name": "DescriptionStyleModel",
          "model_module_version": "1.5.0",
          "state": {
            "_model_module": "@jupyter-widgets/controls",
            "_model_module_version": "1.5.0",
            "_model_name": "DescriptionStyleModel",
            "_view_count": null,
            "_view_module": "@jupyter-widgets/base",
            "_view_module_version": "1.2.0",
            "_view_name": "StyleView",
            "description_width": "initial"
          }
        },
        "9d780e02c8f84ae6a7f2b0734390cb54": {
          "model_module": "@jupyter-widgets/base",
          "model_name": "LayoutModel",
          "model_module_version": "1.2.0",
          "state": {
            "_model_module": "@jupyter-widgets/base",
            "_model_module_version": "1.2.0",
            "_model_name": "LayoutModel",
            "_view_count": null,
            "_view_module": "@jupyter-widgets/base",
            "_view_module_version": "1.2.0",
            "_view_name": "LayoutView",
            "align_content": null,
            "align_items": null,
            "align_self": null,
            "border": null,
            "bottom": null,
            "display": null,
            "flex": null,
            "flex_flow": null,
            "grid_area": null,
            "grid_auto_columns": null,
            "grid_auto_flow": null,
            "grid_auto_rows": null,
            "grid_column": null,
            "grid_gap": null,
            "grid_row": null,
            "grid_template_areas": null,
            "grid_template_columns": null,
            "grid_template_rows": null,
            "height": null,
            "justify_content": null,
            "justify_items": null,
            "left": null,
            "margin": null,
            "max_height": null,
            "max_width": null,
            "min_height": null,
            "min_width": null,
            "object_fit": null,
            "object_position": null,
            "order": null,
            "overflow": null,
            "overflow_x": null,
            "overflow_y": null,
            "padding": null,
            "right": null,
            "top": null,
            "visibility": null,
            "width": null
          }
        },
        "a3afc23bff524fc6a5538c5185131ad6": {
          "model_module": "@jupyter-widgets/controls",
          "model_name": "DescriptionStyleModel",
          "model_module_version": "1.5.0",
          "state": {
            "_model_module": "@jupyter-widgets/controls",
            "_model_module_version": "1.5.0",
            "_model_name": "DescriptionStyleModel",
            "_view_count": null,
            "_view_module": "@jupyter-widgets/base",
            "_view_module_version": "1.2.0",
            "_view_name": "StyleView",
            "description_width": "initial"
          }
        },
        "ad0a3f97ec5142c0bb9d33aab341dd60": {
          "model_module": "@jupyter-widgets/base",
          "model_name": "LayoutModel",
          "model_module_version": "1.2.0",
          "state": {
            "_model_module": "@jupyter-widgets/base",
            "_model_module_version": "1.2.0",
            "_model_name": "LayoutModel",
            "_view_count": null,
            "_view_module": "@jupyter-widgets/base",
            "_view_module_version": "1.2.0",
            "_view_name": "LayoutView",
            "align_content": null,
            "align_items": null,
            "align_self": null,
            "border": null,
            "bottom": null,
            "display": null,
            "flex": null,
            "flex_flow": null,
            "grid_area": null,
            "grid_auto_columns": null,
            "grid_auto_flow": null,
            "grid_auto_rows": null,
            "grid_column": null,
            "grid_gap": null,
            "grid_row": null,
            "grid_template_areas": null,
            "grid_template_columns": null,
            "grid_template_rows": null,
            "height": null,
            "justify_content": null,
            "justify_items": null,
            "left": null,
            "margin": null,
            "max_height": null,
            "max_width": null,
            "min_height": null,
            "min_width": null,
            "object_fit": null,
            "object_position": null,
            "order": null,
            "overflow": null,
            "overflow_x": null,
            "overflow_y": null,
            "padding": null,
            "right": null,
            "top": null,
            "visibility": null,
            "width": null
          }
        },
        "4a216f5a851d4582b30e6a1241a9b61f": {
          "model_module": "@jupyter-widgets/controls",
          "model_name": "DescriptionStyleModel",
          "model_module_version": "1.5.0",
          "state": {
            "_model_module": "@jupyter-widgets/controls",
            "_model_module_version": "1.5.0",
            "_model_name": "DescriptionStyleModel",
            "_view_count": null,
            "_view_module": "@jupyter-widgets/base",
            "_view_module_version": "1.2.0",
            "_view_name": "StyleView",
            "description_width": "initial"
          }
        },
        "a523d2a611c44c0a8a28d140d97666e7": {
          "model_module": "@jupyter-widgets/base",
          "model_name": "LayoutModel",
          "model_module_version": "1.2.0",
          "state": {
            "_model_module": "@jupyter-widgets/base",
            "_model_module_version": "1.2.0",
            "_model_name": "LayoutModel",
            "_view_count": null,
            "_view_module": "@jupyter-widgets/base",
            "_view_module_version": "1.2.0",
            "_view_name": "LayoutView",
            "align_content": null,
            "align_items": null,
            "align_self": null,
            "border": null,
            "bottom": null,
            "display": null,
            "flex": null,
            "flex_flow": null,
            "grid_area": null,
            "grid_auto_columns": null,
            "grid_auto_flow": null,
            "grid_auto_rows": null,
            "grid_column": null,
            "grid_gap": null,
            "grid_row": null,
            "grid_template_areas": null,
            "grid_template_columns": null,
            "grid_template_rows": null,
            "height": null,
            "justify_content": null,
            "justify_items": null,
            "left": null,
            "margin": null,
            "max_height": null,
            "max_width": null,
            "min_height": null,
            "min_width": null,
            "object_fit": null,
            "object_position": null,
            "order": null,
            "overflow": null,
            "overflow_x": null,
            "overflow_y": null,
            "padding": null,
            "right": null,
            "top": null,
            "visibility": null,
            "width": null
          }
        },
        "d52215b652d042f1b6b31c6e674d040d": {
          "model_module": "@jupyter-widgets/controls",
          "model_name": "DescriptionStyleModel",
          "model_module_version": "1.5.0",
          "state": {
            "_model_module": "@jupyter-widgets/controls",
            "_model_module_version": "1.5.0",
            "_model_name": "DescriptionStyleModel",
            "_view_count": null,
            "_view_module": "@jupyter-widgets/base",
            "_view_module_version": "1.2.0",
            "_view_name": "StyleView",
            "description_width": "initial"
          }
        },
        "e98e9c6994fc414886b941bbc161a528": {
          "model_module": "@jupyter-widgets/base",
          "model_name": "LayoutModel",
          "model_module_version": "1.2.0",
          "state": {
            "_model_module": "@jupyter-widgets/base",
            "_model_module_version": "1.2.0",
            "_model_name": "LayoutModel",
            "_view_count": null,
            "_view_module": "@jupyter-widgets/base",
            "_view_module_version": "1.2.0",
            "_view_name": "LayoutView",
            "align_content": null,
            "align_items": null,
            "align_self": null,
            "border": null,
            "bottom": null,
            "display": null,
            "flex": null,
            "flex_flow": null,
            "grid_area": null,
            "grid_auto_columns": null,
            "grid_auto_flow": null,
            "grid_auto_rows": null,
            "grid_column": null,
            "grid_gap": null,
            "grid_row": null,
            "grid_template_areas": null,
            "grid_template_columns": null,
            "grid_template_rows": null,
            "height": null,
            "justify_content": null,
            "justify_items": null,
            "left": null,
            "margin": null,
            "max_height": null,
            "max_width": null,
            "min_height": null,
            "min_width": null,
            "object_fit": null,
            "object_position": null,
            "order": null,
            "overflow": null,
            "overflow_x": null,
            "overflow_y": null,
            "padding": null,
            "right": null,
            "top": null,
            "visibility": null,
            "width": null
          }
        },
        "83aac5fa2668406083582cabb59b47fb": {
          "model_module": "@jupyter-widgets/controls",
          "model_name": "ButtonStyleModel",
          "model_module_version": "1.5.0",
          "state": {
            "_model_module": "@jupyter-widgets/controls",
            "_model_module_version": "1.5.0",
            "_model_name": "ButtonStyleModel",
            "_view_count": null,
            "_view_module": "@jupyter-widgets/base",
            "_view_module_version": "1.2.0",
            "_view_name": "StyleView",
            "button_color": null,
            "font_weight": ""
          }
        },
        "e4f758b2b407499099d60611a7c2e9bf": {
          "model_module": "@jupyter-widgets/base",
          "model_name": "LayoutModel",
          "model_module_version": "1.2.0",
          "state": {
            "_model_module": "@jupyter-widgets/base",
            "_model_module_version": "1.2.0",
            "_model_name": "LayoutModel",
            "_view_count": null,
            "_view_module": "@jupyter-widgets/base",
            "_view_module_version": "1.2.0",
            "_view_name": "LayoutView",
            "align_content": null,
            "align_items": null,
            "align_self": null,
            "border": null,
            "bottom": null,
            "display": null,
            "flex": null,
            "flex_flow": null,
            "grid_area": null,
            "grid_auto_columns": null,
            "grid_auto_flow": null,
            "grid_auto_rows": null,
            "grid_column": null,
            "grid_gap": null,
            "grid_row": null,
            "grid_template_areas": null,
            "grid_template_columns": null,
            "grid_template_rows": null,
            "height": null,
            "justify_content": null,
            "justify_items": null,
            "left": null,
            "margin": null,
            "max_height": null,
            "max_width": null,
            "min_height": null,
            "min_width": null,
            "object_fit": null,
            "object_position": null,
            "order": null,
            "overflow": null,
            "overflow_x": null,
            "overflow_y": null,
            "padding": null,
            "right": null,
            "top": null,
            "visibility": null,
            "width": null
          }
        }
      }
    }
  },
  "nbformat": 4,
  "nbformat_minor": 0
}