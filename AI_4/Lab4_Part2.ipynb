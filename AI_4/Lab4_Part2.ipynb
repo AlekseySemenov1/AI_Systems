{
  "cells": [
    {
      "cell_type": "markdown",
      "metadata": {
        "id": "view-in-github",
        "colab_type": "text"
      },
      "source": [
        "<a href=\"https://colab.research.google.com/github/AlekseySemenov1/AI_Systems/blob/main/AI_4/Lab4_Part2.ipynb\" target=\"_parent\"><img src=\"https://colab.research.google.com/assets/colab-badge.svg\" alt=\"Open In Colab\"/></a>"
      ]
    },
    {
      "cell_type": "markdown",
      "metadata": {
        "id": "mw7aYOPq16is"
      },
      "source": [
        "# Import dependencies"
      ]
    },
    {
      "cell_type": "code",
      "execution_count": null,
      "metadata": {
        "id": "Y2pNLJ8l16iy"
      },
      "outputs": [],
      "source": [
        "from keras.models import Sequential\n",
        "from keras.layers import Dense, Activation\n",
        "from keras.callbacks import Callback\n",
        "from keras import regularizers\n",
        "from keras import optimizers\n",
        "\n",
        "from functools import partial\n",
        "\n",
        "%matplotlib inline\n",
        "import matplotlib.pyplot as plt\n",
        "from ipywidgets import *\n",
        "\n",
        "import numpy as np"
      ]
    },
    {
      "cell_type": "markdown",
      "metadata": {
        "id": "pRaQQWTi16i5"
      },
      "source": [
        "# Import data"
      ]
    },
    {
      "cell_type": "code",
      "execution_count": null,
      "metadata": {
        "collapsed": true,
        "id": "n_RrprXN16i7"
      },
      "outputs": [],
      "source": [
        "def one_hot(y):\n",
        "    t = np.zeros((len(y), np.max(y) + 1))\n",
        "    t[np.arange(len(y)), y] = 1\n",
        "    return t"
      ]
    },
    {
      "cell_type": "code",
      "execution_count": null,
      "metadata": {
        "colab": {
          "base_uri": "https://localhost:8080/"
        },
        "id": "Ovyc2RE216i9",
        "outputId": "ac02cafb-9c27-4c1d-8330-aa2ebfca1339"
      },
      "outputs": [
        {
          "output_type": "stream",
          "name": "stdout",
          "text": [
            "Downloading data from https://storage.googleapis.com/tensorflow/tf-keras-datasets/mnist.npz\n",
            "11490434/11490434 [==============================] - 0s 0us/step\n",
            "(60000, 784)\n",
            "[[0. 0. 0. ... 0. 0. 0.]\n",
            " [1. 0. 0. ... 0. 0. 0.]\n",
            " [0. 0. 0. ... 0. 0. 0.]\n",
            " ...\n",
            " [0. 0. 0. ... 0. 0. 0.]\n",
            " [0. 0. 0. ... 0. 0. 0.]\n",
            " [0. 0. 0. ... 0. 1. 0.]]\n"
          ]
        }
      ],
      "source": [
        "from keras.datasets import mnist\n",
        "\n",
        "(x_train, y_train), (x_test, y_test) = mnist.load_data()\n",
        "\n",
        "# flatten data\n",
        "x_train = x_train.reshape((x_train.shape[0], -1))\n",
        "x_test = x_test.reshape((x_test.shape[0], -1))\n",
        "\n",
        "# transform decimal to unitary code\n",
        "y_train = one_hot(y_train)\n",
        "y_test = one_hot(y_test)\n",
        "\n",
        "print(x_train.shape)\n",
        "print(y_train)"
      ]
    },
    {
      "cell_type": "markdown",
      "metadata": {
        "id": "_mrGRsUb16i-"
      },
      "source": [
        "## Experimentation"
      ]
    },
    {
      "cell_type": "markdown",
      "metadata": {
        "id": "ATI_WmRm16i_"
      },
      "source": [
        "Plot drawing"
      ]
    },
    {
      "cell_type": "code",
      "execution_count": null,
      "metadata": {
        "collapsed": true,
        "id": "Ui__r3be16jA"
      },
      "outputs": [],
      "source": [
        "def plot_accuracy(history):\n",
        "    # Plot training & validation accuracy values\n",
        "    plt.plot(history.history['accuracy'])\n",
        "    plt.plot(history.history['val_accuracy'])\n",
        "    plt.title('Model accuracy')\n",
        "    plt.ylabel('Accuracy')\n",
        "    plt.xlabel('Epoch')\n",
        "    plt.legend(['Train', 'Test'], loc='upper left')\n",
        "    plt.show()\n",
        "\n",
        "    # Plot training & validation loss values\n",
        "    plt.plot(history.history['loss'])\n",
        "    plt.plot(history.history['val_loss'])\n",
        "    plt.title('Model loss')\n",
        "    plt.ylabel('Loss')\n",
        "    plt.xlabel('Epoch')\n",
        "    plt.legend(['Train', 'Test'], loc='upper left')\n",
        "    plt.show()"
      ]
    },
    {
      "cell_type": "markdown",
      "metadata": {
        "id": "a6KqbfJL16jB"
      },
      "source": [
        "Setting parameters"
      ]
    },
    {
      "cell_type": "code",
      "execution_count": null,
      "metadata": {
        "scrolled": false,
        "colab": {
          "base_uri": "https://localhost:8080/",
          "height": 1000,
          "referenced_widgets": [
            "68e0a0dfcc9b40cca878f2e2a3b73b09",
            "8fe8e855f58c4f5ebee80247e5dd99db",
            "3381a44e8ed141a6ac88c4becc7d7d70",
            "3e00bf1e4eae4185b9e5fedaf2b3be7e",
            "3366fce515d4491497050157c251a9bc",
            "adb88c86d59749f982a783d9de43d3f7",
            "35d59501071e49f1b27590d4703b481d",
            "ec5c9c068e3c4a01a8c36f26da2725d1",
            "632d05b7a6cf4603ae7a34797a09a279",
            "a0a46ca8930d4ae7876a4f154989859c",
            "2e6f1159d1344e46b8f464f6d3f4646d",
            "a737cb3a9fb0415596bc71c7bb7b0064",
            "20e3ba26a1d04bfdab89e319050c54bf",
            "e0edd40e56174c4b9697183d5ac63ba6",
            "a79efa737a0242999bed7d939e311eb4",
            "0c006c408bc64b548932e9827eb4f8a0",
            "f987ff41a42d4b309b00ef6672596cf8",
            "42a2b473f0b6443ca276f4cd15c2cbc7",
            "0120b6ad1de54e6bae24ab5f941ca47d",
            "14465c7cce2a47acb9ebca2c9990d4a0",
            "9a228377527a4832821695c2ae7bf00b",
            "3a771722b0e94b4992306a137623ee07",
            "ad843b8098db4989ba205998de18117d",
            "1638e0173c30406285ecff68ff32c0d5",
            "e91bff43faa04c37ad5ba02edf2e8ba4",
            "4d14860dc30a46c29ef730da9951e1b2",
            "186cbeb63dc747f39ef91ab60aa0047a",
            "71e09b03d1d34e618bec8d8299d0ff9c",
            "75b279c5a08942fe8128fb1571191862",
            "a7152c0676cf4bc5960407c6b0bb397c",
            "01c071a87d0e48eb86bbcc01d908a809",
            "668dc001b6ca41058d45ddf05b762933",
            "985fb28f7eb64fbea481342f01d8d126",
            "3a449bf1d7b94067909a0cacf6375388",
            "cb44a179ea314a2ab7b50e181dd5ed45",
            "3cef73cfe2f34eec94b31480cc407145",
            "e595b1459e704d549f26642b1dbb1fee",
            "419876d0f9444f3eab9f9aa41adce5c3",
            "0dc8fc58d3944f109dcef3b7e431970b",
            "8cbc82a19cef489f969a7ddd499b9199",
            "e07b9edebed04ec9be49978c912eecf6",
            "73ada098c08a4843ab17f5efaf85be63",
            "8ff03ebf1e6341829d793c6237d7ce15",
            "7852604a12ef4dfb97cd778a4a5b0bc8",
            "3716395f5ea34966aadffc51975ecca8",
            "cc6bcaa5cdf84dcaae99b85181ee8ade"
          ]
        },
        "id": "xNU-FXNo16jD",
        "outputId": "6df45446-9a2d-4924-eb8f-5f5d89c5543f"
      },
      "outputs": [
        {
          "output_type": "display_data",
          "data": {
            "text/plain": [
              "interactive(children=(IntSlider(value=2, description='Layers: ', max=4), Dropdown(description='Loss function: …"
            ],
            "application/vnd.jupyter.widget-view+json": {
              "version_major": 2,
              "version_minor": 0,
              "model_id": "68e0a0dfcc9b40cca878f2e2a3b73b09"
            }
          },
          "metadata": {}
        }
      ],
      "source": [
        "@interact_manual(\n",
        "    n_layers=IntSlider(min=0, max=4, value=2, description='Layers: '),\n",
        "    layer_size=IntSlider(min=0, max=20, value=6, description='Neurons per layer: '),\n",
        "    layer1_type=Dropdown(options=['softmax', 'relu', 'tanh', 'sigmoid', 'linear'], value='relu',\n",
        "                          description='Layer 1 activation type: '),\n",
        "    layer2_type=Dropdown(options=['softmax', 'relu', 'tanh', 'sigmoid', 'linear'], value='relu',\n",
        "                          description='Layer 2 activation type '),\n",
        "    layer3_type=Dropdown(options=['softmax', 'relu', 'tanh', 'sigmoid', 'linear'], value='relu',\n",
        "                          description='Layer 3 activation type: '),\n",
        "    layer4_type=Dropdown(options=['softmax', 'relu', 'tanh', 'sigmoid', 'linear'], value='relu',\n",
        "                          description='Layer 4 activation type: '),\n",
        "    layer_out_type=Dropdown(options=['softmax', 'relu', 'tanh', 'sigmoid', 'linear'], value='sigmoid',\n",
        "                          description='Output layer activation type: '),\n",
        "    loss_func=Dropdown(options={\n",
        "        'Standard deviation': 'mse',\n",
        "        'Mean absolute deviation': 'mae',\n",
        "        'Binary crossentropy': 'binary_crossentropy',\n",
        "        'Categorical crossentropy': 'categorical_crossentropy'\n",
        "    }, value='categorical_crossentropy', description='Loss function: '),\n",
        "    batch_size = BoundedIntText(min=0, max=len(x_train), value=100, description='Batch size: '),\n",
        "    lr=ToggleButtons(options=[\"-0.1\", \"0\", \"0.001\", \"0.01\", \"0.05\", \"0.1\", \"0.5\", \"1\", \"5\"],\n",
        "                               value=\"0.01\", description='Learn rate: '),\n",
        "    l1=ToggleButtons(options=[\"-0.1\", \"0\", \"0.0001\", \"0.0005\", \"0.001\", \"0.005\", \"0.01\", \"0.05\", \"0.1\"],\n",
        "                               value=\"0.0001\", description='Regularization  L1: '),\n",
        "    l2=ToggleButtons(options=[\"-0.1\", \"0\", \"0.0001\", \"0.0005\", \"0.001\", \"0.005\", \"0.01\", \"0.05\", \"0.1\"],\n",
        "                               value=\"0.0001\", description='Regularization  L2: '),\n",
        "    epochs=IntSlider(min=10, max=100, step=10, value=20, description='Epoch count: '),\n",
        ")\n",
        "def interactive_learning(n_layers, loss_func, batch_size, lr, l1, l2,\n",
        "                         layer_out_type, epochs,\n",
        "                         layer_size,\n",
        "                         layer1_type, layer2_type, layer3_type, layer4_type):\n",
        "    layer_sizes = [layer_size, layer_size, layer_size, layer_size]\n",
        "    layer_types = [layer1_type, layer2_type, layer3_type, layer4_type]\n",
        "    lr = float(lr)\n",
        "    l1 = float(l1)\n",
        "    l2 = float(l2)\n",
        "\n",
        "    model = Sequential()\n",
        "\n",
        "    if n_layers == 0:\n",
        "        model.add(Dense(len(y_train[0]), activation=layer_out_type,\n",
        "                        input_shape=x_train[0].shape, kernel_regularizer=regularizers.l1_l2(l1=l1, l2=l2)))\n",
        "    else:\n",
        "        model.add(Dense(layer_sizes[0], activation=layer_types[0],\n",
        "                        input_shape=x_train[0].shape, kernel_regularizer=regularizers.l1_l2(l1=l1, l2=l2)))\n",
        "        for i in range(1, n_layers):\n",
        "            model.add(Dense(layer_sizes[i], activation=layer_types[i],\n",
        "                           kernel_regularizer=regularizers.l1_l2(l1=l1, l2=l2)))\n",
        "        model.add(Dense(len(y_train[0]), activation=layer_out_type, kernel_regularizer=regularizers.l1_l2(l1=l1, l2=l2)))\n",
        "\n",
        "    model.compile(\n",
        "     optimizer = optimizers.SGD(lr=lr),\n",
        "     loss = loss_func,\n",
        "     metrics = [\"accuracy\"]\n",
        "    )\n",
        "\n",
        "    history = model.fit(\n",
        "     x_train, y_train,\n",
        "     epochs=epochs,\n",
        "     batch_size=batch_size,\n",
        "     validation_data=(x_test, y_test),\n",
        "     verbose=1\n",
        "    )\n",
        "\n",
        "    print('Accuracy: ', history.history['val_accuracy'][-1])\n",
        "    plot_accuracy(history)"
      ]
    }
  ],
  "metadata": {
    "kernelspec": {
      "display_name": "Python 3",
      "language": "python",
      "name": "python3"
    },
    "language_info": {
      "codemirror_mode": {
        "name": "ipython",
        "version": 3
      },
      "file_extension": ".py",
      "mimetype": "text/x-python",
      "name": "python",
      "nbconvert_exporter": "python",
      "pygments_lexer": "ipython3",
      "version": "3.6.3"
    },
    "colab": {
      "provenance": [],
      "include_colab_link": true
    },
    "widgets": {
      "application/vnd.jupyter.widget-state+json": {
        "68e0a0dfcc9b40cca878f2e2a3b73b09": {
          "model_module": "@jupyter-widgets/controls",
          "model_name": "VBoxModel",
          "model_module_version": "1.5.0",
          "state": {
            "_dom_classes": [
              "widget-interact"
            ],
            "_model_module": "@jupyter-widgets/controls",
            "_model_module_version": "1.5.0",
            "_model_name": "VBoxModel",
            "_view_count": null,
            "_view_module": "@jupyter-widgets/controls",
            "_view_module_version": "1.5.0",
            "_view_name": "VBoxView",
            "box_style": "",
            "children": [
              "IPY_MODEL_8fe8e855f58c4f5ebee80247e5dd99db",
              "IPY_MODEL_3381a44e8ed141a6ac88c4becc7d7d70",
              "IPY_MODEL_3e00bf1e4eae4185b9e5fedaf2b3be7e",
              "IPY_MODEL_3366fce515d4491497050157c251a9bc",
              "IPY_MODEL_adb88c86d59749f982a783d9de43d3f7",
              "IPY_MODEL_35d59501071e49f1b27590d4703b481d",
              "IPY_MODEL_ec5c9c068e3c4a01a8c36f26da2725d1",
              "IPY_MODEL_632d05b7a6cf4603ae7a34797a09a279",
              "IPY_MODEL_a0a46ca8930d4ae7876a4f154989859c",
              "IPY_MODEL_2e6f1159d1344e46b8f464f6d3f4646d",
              "IPY_MODEL_a737cb3a9fb0415596bc71c7bb7b0064",
              "IPY_MODEL_20e3ba26a1d04bfdab89e319050c54bf",
              "IPY_MODEL_e0edd40e56174c4b9697183d5ac63ba6",
              "IPY_MODEL_a79efa737a0242999bed7d939e311eb4",
              "IPY_MODEL_0c006c408bc64b548932e9827eb4f8a0"
            ],
            "layout": "IPY_MODEL_f987ff41a42d4b309b00ef6672596cf8"
          }
        },
        "8fe8e855f58c4f5ebee80247e5dd99db": {
          "model_module": "@jupyter-widgets/controls",
          "model_name": "IntSliderModel",
          "model_module_version": "1.5.0",
          "state": {
            "_dom_classes": [],
            "_model_module": "@jupyter-widgets/controls",
            "_model_module_version": "1.5.0",
            "_model_name": "IntSliderModel",
            "_view_count": null,
            "_view_module": "@jupyter-widgets/controls",
            "_view_module_version": "1.5.0",
            "_view_name": "IntSliderView",
            "continuous_update": true,
            "description": "Layers: ",
            "description_tooltip": null,
            "disabled": false,
            "layout": "IPY_MODEL_42a2b473f0b6443ca276f4cd15c2cbc7",
            "max": 4,
            "min": 0,
            "orientation": "horizontal",
            "readout": true,
            "readout_format": "d",
            "step": 1,
            "style": "IPY_MODEL_0120b6ad1de54e6bae24ab5f941ca47d",
            "value": 2
          }
        },
        "3381a44e8ed141a6ac88c4becc7d7d70": {
          "model_module": "@jupyter-widgets/controls",
          "model_name": "DropdownModel",
          "model_module_version": "1.5.0",
          "state": {
            "_dom_classes": [],
            "_model_module": "@jupyter-widgets/controls",
            "_model_module_version": "1.5.0",
            "_model_name": "DropdownModel",
            "_options_labels": [
              "Standard deviation",
              "Mean absolute deviation",
              "Binary crossentropy",
              "Categorical crossentropy"
            ],
            "_view_count": null,
            "_view_module": "@jupyter-widgets/controls",
            "_view_module_version": "1.5.0",
            "_view_name": "DropdownView",
            "description": "Loss function: ",
            "description_tooltip": null,
            "disabled": false,
            "index": 3,
            "layout": "IPY_MODEL_14465c7cce2a47acb9ebca2c9990d4a0",
            "style": "IPY_MODEL_9a228377527a4832821695c2ae7bf00b"
          }
        },
        "3e00bf1e4eae4185b9e5fedaf2b3be7e": {
          "model_module": "@jupyter-widgets/controls",
          "model_name": "BoundedIntTextModel",
          "model_module_version": "1.5.0",
          "state": {
            "_dom_classes": [],
            "_model_module": "@jupyter-widgets/controls",
            "_model_module_version": "1.5.0",
            "_model_name": "BoundedIntTextModel",
            "_view_count": null,
            "_view_module": "@jupyter-widgets/controls",
            "_view_module_version": "1.5.0",
            "_view_name": "IntTextView",
            "continuous_update": false,
            "description": "Batch size: ",
            "description_tooltip": null,
            "disabled": false,
            "layout": "IPY_MODEL_3a771722b0e94b4992306a137623ee07",
            "max": 60000,
            "min": 0,
            "step": 1,
            "style": "IPY_MODEL_ad843b8098db4989ba205998de18117d",
            "value": 100
          }
        },
        "3366fce515d4491497050157c251a9bc": {
          "model_module": "@jupyter-widgets/controls",
          "model_name": "ToggleButtonsModel",
          "model_module_version": "1.5.0",
          "state": {
            "_dom_classes": [],
            "_model_module": "@jupyter-widgets/controls",
            "_model_module_version": "1.5.0",
            "_model_name": "ToggleButtonsModel",
            "_options_labels": [
              "-0.1",
              "0",
              "0.001",
              "0.01",
              "0.05",
              "0.1",
              "0.5",
              "1",
              "5"
            ],
            "_view_count": null,
            "_view_module": "@jupyter-widgets/controls",
            "_view_module_version": "1.5.0",
            "_view_name": "ToggleButtonsView",
            "button_style": "",
            "description": "Learn rate: ",
            "description_tooltip": null,
            "disabled": false,
            "icons": [],
            "index": 2,
            "layout": "IPY_MODEL_1638e0173c30406285ecff68ff32c0d5",
            "style": "IPY_MODEL_e91bff43faa04c37ad5ba02edf2e8ba4",
            "tooltips": []
          }
        },
        "adb88c86d59749f982a783d9de43d3f7": {
          "model_module": "@jupyter-widgets/controls",
          "model_name": "ToggleButtonsModel",
          "model_module_version": "1.5.0",
          "state": {
            "_dom_classes": [],
            "_model_module": "@jupyter-widgets/controls",
            "_model_module_version": "1.5.0",
            "_model_name": "ToggleButtonsModel",
            "_options_labels": [
              "-0.1",
              "0",
              "0.0001",
              "0.0005",
              "0.001",
              "0.005",
              "0.01",
              "0.05",
              "0.1"
            ],
            "_view_count": null,
            "_view_module": "@jupyter-widgets/controls",
            "_view_module_version": "1.5.0",
            "_view_name": "ToggleButtonsView",
            "button_style": "",
            "description": "Regularization  L1: ",
            "description_tooltip": null,
            "disabled": false,
            "icons": [],
            "index": 5,
            "layout": "IPY_MODEL_4d14860dc30a46c29ef730da9951e1b2",
            "style": "IPY_MODEL_186cbeb63dc747f39ef91ab60aa0047a",
            "tooltips": []
          }
        },
        "35d59501071e49f1b27590d4703b481d": {
          "model_module": "@jupyter-widgets/controls",
          "model_name": "ToggleButtonsModel",
          "model_module_version": "1.5.0",
          "state": {
            "_dom_classes": [],
            "_model_module": "@jupyter-widgets/controls",
            "_model_module_version": "1.5.0",
            "_model_name": "ToggleButtonsModel",
            "_options_labels": [
              "-0.1",
              "0",
              "0.0001",
              "0.0005",
              "0.001",
              "0.005",
              "0.01",
              "0.05",
              "0.1"
            ],
            "_view_count": null,
            "_view_module": "@jupyter-widgets/controls",
            "_view_module_version": "1.5.0",
            "_view_name": "ToggleButtonsView",
            "button_style": "",
            "description": "Regularization  L2: ",
            "description_tooltip": null,
            "disabled": false,
            "icons": [],
            "index": 8,
            "layout": "IPY_MODEL_71e09b03d1d34e618bec8d8299d0ff9c",
            "style": "IPY_MODEL_75b279c5a08942fe8128fb1571191862",
            "tooltips": []
          }
        },
        "ec5c9c068e3c4a01a8c36f26da2725d1": {
          "model_module": "@jupyter-widgets/controls",
          "model_name": "DropdownModel",
          "model_module_version": "1.5.0",
          "state": {
            "_dom_classes": [],
            "_model_module": "@jupyter-widgets/controls",
            "_model_module_version": "1.5.0",
            "_model_name": "DropdownModel",
            "_options_labels": [
              "softmax",
              "relu",
              "tanh",
              "sigmoid",
              "linear"
            ],
            "_view_count": null,
            "_view_module": "@jupyter-widgets/controls",
            "_view_module_version": "1.5.0",
            "_view_name": "DropdownView",
            "description": "Output layer activation type: ",
            "description_tooltip": null,
            "disabled": false,
            "index": 0,
            "layout": "IPY_MODEL_a7152c0676cf4bc5960407c6b0bb397c",
            "style": "IPY_MODEL_01c071a87d0e48eb86bbcc01d908a809"
          }
        },
        "632d05b7a6cf4603ae7a34797a09a279": {
          "model_module": "@jupyter-widgets/controls",
          "model_name": "IntSliderModel",
          "model_module_version": "1.5.0",
          "state": {
            "_dom_classes": [],
            "_model_module": "@jupyter-widgets/controls",
            "_model_module_version": "1.5.0",
            "_model_name": "IntSliderModel",
            "_view_count": null,
            "_view_module": "@jupyter-widgets/controls",
            "_view_module_version": "1.5.0",
            "_view_name": "IntSliderView",
            "continuous_update": true,
            "description": "Epoch count: ",
            "description_tooltip": null,
            "disabled": false,
            "layout": "IPY_MODEL_668dc001b6ca41058d45ddf05b762933",
            "max": 100,
            "min": 10,
            "orientation": "horizontal",
            "readout": true,
            "readout_format": "d",
            "step": 10,
            "style": "IPY_MODEL_985fb28f7eb64fbea481342f01d8d126",
            "value": 20
          }
        },
        "a0a46ca8930d4ae7876a4f154989859c": {
          "model_module": "@jupyter-widgets/controls",
          "model_name": "IntSliderModel",
          "model_module_version": "1.5.0",
          "state": {
            "_dom_classes": [],
            "_model_module": "@jupyter-widgets/controls",
            "_model_module_version": "1.5.0",
            "_model_name": "IntSliderModel",
            "_view_count": null,
            "_view_module": "@jupyter-widgets/controls",
            "_view_module_version": "1.5.0",
            "_view_name": "IntSliderView",
            "continuous_update": true,
            "description": "Neurons per layer: ",
            "description_tooltip": null,
            "disabled": false,
            "layout": "IPY_MODEL_3a449bf1d7b94067909a0cacf6375388",
            "max": 20,
            "min": 0,
            "orientation": "horizontal",
            "readout": true,
            "readout_format": "d",
            "step": 1,
            "style": "IPY_MODEL_cb44a179ea314a2ab7b50e181dd5ed45",
            "value": 12
          }
        },
        "2e6f1159d1344e46b8f464f6d3f4646d": {
          "model_module": "@jupyter-widgets/controls",
          "model_name": "DropdownModel",
          "model_module_version": "1.5.0",
          "state": {
            "_dom_classes": [],
            "_model_module": "@jupyter-widgets/controls",
            "_model_module_version": "1.5.0",
            "_model_name": "DropdownModel",
            "_options_labels": [
              "softmax",
              "relu",
              "tanh",
              "sigmoid",
              "linear"
            ],
            "_view_count": null,
            "_view_module": "@jupyter-widgets/controls",
            "_view_module_version": "1.5.0",
            "_view_name": "DropdownView",
            "description": "Layer 1 activation type: ",
            "description_tooltip": null,
            "disabled": false,
            "index": 1,
            "layout": "IPY_MODEL_3cef73cfe2f34eec94b31480cc407145",
            "style": "IPY_MODEL_e595b1459e704d549f26642b1dbb1fee"
          }
        },
        "a737cb3a9fb0415596bc71c7bb7b0064": {
          "model_module": "@jupyter-widgets/controls",
          "model_name": "DropdownModel",
          "model_module_version": "1.5.0",
          "state": {
            "_dom_classes": [],
            "_model_module": "@jupyter-widgets/controls",
            "_model_module_version": "1.5.0",
            "_model_name": "DropdownModel",
            "_options_labels": [
              "softmax",
              "relu",
              "tanh",
              "sigmoid",
              "linear"
            ],
            "_view_count": null,
            "_view_module": "@jupyter-widgets/controls",
            "_view_module_version": "1.5.0",
            "_view_name": "DropdownView",
            "description": "Layer 2 activation type ",
            "description_tooltip": null,
            "disabled": false,
            "index": 1,
            "layout": "IPY_MODEL_419876d0f9444f3eab9f9aa41adce5c3",
            "style": "IPY_MODEL_0dc8fc58d3944f109dcef3b7e431970b"
          }
        },
        "20e3ba26a1d04bfdab89e319050c54bf": {
          "model_module": "@jupyter-widgets/controls",
          "model_name": "DropdownModel",
          "model_module_version": "1.5.0",
          "state": {
            "_dom_classes": [],
            "_model_module": "@jupyter-widgets/controls",
            "_model_module_version": "1.5.0",
            "_model_name": "DropdownModel",
            "_options_labels": [
              "softmax",
              "relu",
              "tanh",
              "sigmoid",
              "linear"
            ],
            "_view_count": null,
            "_view_module": "@jupyter-widgets/controls",
            "_view_module_version": "1.5.0",
            "_view_name": "DropdownView",
            "description": "Layer 3 activation type: ",
            "description_tooltip": null,
            "disabled": false,
            "index": 1,
            "layout": "IPY_MODEL_8cbc82a19cef489f969a7ddd499b9199",
            "style": "IPY_MODEL_e07b9edebed04ec9be49978c912eecf6"
          }
        },
        "e0edd40e56174c4b9697183d5ac63ba6": {
          "model_module": "@jupyter-widgets/controls",
          "model_name": "DropdownModel",
          "model_module_version": "1.5.0",
          "state": {
            "_dom_classes": [],
            "_model_module": "@jupyter-widgets/controls",
            "_model_module_version": "1.5.0",
            "_model_name": "DropdownModel",
            "_options_labels": [
              "softmax",
              "relu",
              "tanh",
              "sigmoid",
              "linear"
            ],
            "_view_count": null,
            "_view_module": "@jupyter-widgets/controls",
            "_view_module_version": "1.5.0",
            "_view_name": "DropdownView",
            "description": "Layer 4 activation type: ",
            "description_tooltip": null,
            "disabled": false,
            "index": 1,
            "layout": "IPY_MODEL_73ada098c08a4843ab17f5efaf85be63",
            "style": "IPY_MODEL_8ff03ebf1e6341829d793c6237d7ce15"
          }
        },
        "a79efa737a0242999bed7d939e311eb4": {
          "model_module": "@jupyter-widgets/controls",
          "model_name": "ButtonModel",
          "model_module_version": "1.5.0",
          "state": {
            "_dom_classes": [],
            "_model_module": "@jupyter-widgets/controls",
            "_model_module_version": "1.5.0",
            "_model_name": "ButtonModel",
            "_view_count": null,
            "_view_module": "@jupyter-widgets/controls",
            "_view_module_version": "1.5.0",
            "_view_name": "ButtonView",
            "button_style": "",
            "description": "Run Interact",
            "disabled": false,
            "icon": "",
            "layout": "IPY_MODEL_7852604a12ef4dfb97cd778a4a5b0bc8",
            "style": "IPY_MODEL_3716395f5ea34966aadffc51975ecca8",
            "tooltip": ""
          }
        },
        "0c006c408bc64b548932e9827eb4f8a0": {
          "model_module": "@jupyter-widgets/output",
          "model_name": "OutputModel",
          "model_module_version": "1.0.0",
          "state": {
            "_dom_classes": [],
            "_model_module": "@jupyter-widgets/output",
            "_model_module_version": "1.0.0",
            "_model_name": "OutputModel",
            "_view_count": null,
            "_view_module": "@jupyter-widgets/output",
            "_view_module_version": "1.0.0",
            "_view_name": "OutputView",
            "layout": "IPY_MODEL_cc6bcaa5cdf84dcaae99b85181ee8ade",
            "msg_id": "",
            "outputs": [
              {
                "output_type": "stream",
                "name": "stderr",
                "text": [
                  "/usr/local/lib/python3.10/dist-packages/keras/optimizers/legacy/gradient_descent.py:114: UserWarning: The `lr` argument is deprecated, use `learning_rate` instead.\n",
                  "  super().__init__(name, **kwargs)\n"
                ]
              },
              {
                "output_type": "stream",
                "name": "stdout",
                "text": [
                  "Epoch 1/20\n"
                ]
              },
              {
                "output_type": "stream",
                "name": "stdout",
                "text": [
                  "\r  1/600 [..............................] - ETA: 7:42 - loss: 103.9740 - accuracy: 0.0500"
                ]
              },
              {
                "output_type": "stream",
                "name": "stdout",
                "text": [
                  "\b\b\b\b\b\b\b\b\b\b\b\b\b\b\b\b\b\b\b\b\b\b\b\b\b\b\b\b\b\b\b\b\b\b\b\b\b\b\b\b\b\b\b\b\b\b\b\b\b\b\b\b\b\b\b\b\b\b\b\b\b\b\b\b\b\b\b\b\b\b\b\b\b\b\b\b\b\b\b\b\b\b\b\b\b\b\b\b\r 24/600 [>.............................] - ETA: 1s - loss: 17.6831 - accuracy: 0.1338   "
                ]
              },
              {
                "output_type": "stream",
                "name": "stdout",
                "text": [
                  "\b\b\b\b\b\b\b\b\b\b\b\b\b\b\b\b\b\b\b\b\b\b\b\b\b\b\b\b\b\b\b\b\b\b\b\b\b\b\b\b\b\b\b\b\b\b\b\b\b\b\b\b\b\b\b\b\b\b\b\b\b\b\b\b\b\b\b\b\b\b\b\b\b\b\b\b\b\b\b\b\b\b\b\b\b\r 42/600 [=>............................] - ETA: 1s - loss: 14.0517 - accuracy: 0.1488"
                ]
              },
              {
                "output_type": "stream",
                "name": "stdout",
                "text": [
                  "\b\b\b\b\b\b\b\b\b\b\b\b\b\b\b\b\b\b\b\b\b\b\b\b\b\b\b\b\b\b\b\b\b\b\b\b\b\b\b\b\b\b\b\b\b\b\b\b\b\b\b\b\b\b\b\b\b\b\b\b\b\b\b\b\b\b\b\b\b\b\b\b\b\b\b\b\b\b\b\b\b\b\b\b\b\r 65/600 [==>...........................] - ETA: 1s - loss: 12.2751 - accuracy: 0.1586"
                ]
              },
              {
                "output_type": "stream",
                "name": "stdout",
                "text": [
                  "\b\b\b\b\b\b\b\b\b\b\b\b\b\b\b\b\b\b\b\b\b\b\b\b\b\b\b\b\b\b\b\b\b\b\b\b\b\b\b\b\b\b\b\b\b\b\b\b\b\b\b\b\b\b\b\b\b\b\b\b\b\b\b\b\b\b\b\b\b\b\b\b\b\b\b\b\b\b\b\b\b\b\b\b\b\r 89/600 [===>..........................] - ETA: 1s - loss: 11.3827 - accuracy: 0.1654"
                ]
              },
              {
                "output_type": "stream",
                "name": "stdout",
                "text": [
                  "\b\b\b\b\b\b\b\b\b\b\b\b\b\b\b\b\b\b\b\b\b\b\b\b\b\b\b\b\b\b\b\b\b\b\b\b\b\b\b\b\b\b\b\b\b\b\b\b\b\b\b\b\b\b\b\b\b\b\b\b\b\b\b\b\b\b\b\b\b\b\b\b\b\b\b\b\b\b\b\b\b\b\b\b\b\r113/600 [====>.........................] - ETA: 1s - loss: 10.8389 - accuracy: 0.1727"
                ]
              },
              {
                "output_type": "stream",
                "name": "stdout",
                "text": [
                  "\b\b\b\b\b\b\b\b\b\b\b\b\b\b\b\b\b\b\b\b\b\b\b\b\b\b\b\b\b\b\b\b\b\b\b\b\b\b\b\b\b\b\b\b\b\b\b\b\b\b\b\b\b\b\b\b\b\b\b\b\b\b\b\b\b\b\b\b\b\b\b\b\b\b\b\b\b\b\b\b\b\b\b\b\b\r137/600 [=====>........................] - ETA: 1s - loss: 10.4758 - accuracy: 0.1777"
                ]
              },
              {
                "output_type": "stream",
                "name": "stdout",
                "text": [
                  "\b\b\b\b\b\b\b\b\b\b\b\b\b\b\b\b\b\b\b\b\b\b\b\b\b\b\b\b\b\b\b\b\b\b\b\b\b\b\b\b\b\b\b\b\b\b\b\b\b\b\b\b\b\b\b\b\b\b\b\b\b\b\b\b\b\b\b\b\b\b\b\b\b\b\b\b\b\b\b\b\b\b\b\b\b\r161/600 [=======>......................] - ETA: 0s - loss: 10.2007 - accuracy: 0.1831"
                ]
              },
              {
                "output_type": "stream",
                "name": "stdout",
                "text": [
                  "\b\b\b\b\b\b\b\b\b\b\b\b\b\b\b\b\b\b\b\b\b\b\b\b\b\b\b\b\b\b\b\b\b\b\b\b\b\b\b\b\b\b\b\b\b\b\b\b\b\b\b\b\b\b\b\b\b\b\b\b\b\b\b\b\b\b\b\b\b\b\b\b\b\b\b\b\b\b\b\b\b\b\b\b\b\r176/600 [=======>......................] - ETA: 0s - loss: 10.0602 - accuracy: 0.1864"
                ]
              },
              {
                "output_type": "stream",
                "name": "stdout",
                "text": [
                  "\b\b\b\b\b\b\b\b\b\b\b\b\b\b\b\b\b\b\b\b\b\b\b\b\b\b\b\b\b\b\b\b\b\b\b\b\b\b\b\b\b\b\b\b\b\b\b\b\b\b\b\b\b\b\b\b\b\b\b\b\b\b\b\b\b\b\b\b\b\b\b\b\b\b\b\b\b\b\b\b\b\b\b\b\b\r198/600 [========>.....................] - ETA: 0s - loss: 9.8871 - accuracy: 0.1906 "
                ]
              },
              {
                "output_type": "stream",
                "name": "stdout",
                "text": [
                  "\b\b\b\b\b\b\b\b\b\b\b\b\b\b\b\b\b\b\b\b\b\b\b\b\b\b\b\b\b\b\b\b\b\b\b\b\b\b\b\b\b\b\b\b\b\b\b\b\b\b\b\b\b\b\b\b\b\b\b\b\b\b\b\b\b\b\b\b\b\b\b\b\b\b\b\b\b\b\b\b\b\b\b\b\r216/600 [=========>....................] - ETA: 0s - loss: 9.7690 - accuracy: 0.1916"
                ]
              },
              {
                "output_type": "stream",
                "name": "stdout",
                "text": [
                  "\b\b\b\b\b\b\b\b\b\b\b\b\b\b\b\b\b\b\b\b\b\b\b\b\b\b\b\b\b\b\b\b\b\b\b\b\b\b\b\b\b\b\b\b\b\b\b\b\b\b\b\b\b\b\b\b\b\b\b\b\b\b\b\b\b\b\b\b\b\b\b\b\b\b\b\b\b\b\b\b\b\b\b\b\r238/600 [==========>...................] - ETA: 0s - loss: 9.6383 - accuracy: 0.1945"
                ]
              },
              {
                "output_type": "stream",
                "name": "stdout",
                "text": [
                  "\b\b\b\b\b\b\b\b\b\b\b\b\b\b\b\b\b\b\b\b\b\b\b\b\b\b\b\b\b\b\b\b\b\b\b\b\b\b\b\b\b\b\b\b\b\b\b\b\b\b\b\b\b\b\b\b\b\b\b\b\b\b\b\b\b\b\b\b\b\b\b\b\b\b\b\b\b\b\b\b\b\b\b\b\r259/600 [===========>..................] - ETA: 0s - loss: 9.5324 - accuracy: 0.1963"
                ]
              },
              {
                "output_type": "stream",
                "name": "stdout",
                "text": [
                  "\b\b\b\b\b\b\b\b\b\b\b\b\b\b\b\b\b\b\b\b\b\b\b\b\b\b\b\b\b\b\b\b\b\b\b\b\b\b\b\b\b\b\b\b\b\b\b\b\b\b\b\b\b\b\b\b\b\b\b\b\b\b\b\b\b\b\b\b\b\b\b\b\b\b\b\b\b\b\b\b\b\b\b\b\r282/600 [=============>................] - ETA: 0s - loss: 9.4275 - accuracy: 0.1982"
                ]
              },
              {
                "output_type": "stream",
                "name": "stdout",
                "text": [
                  "\b\b\b\b\b\b\b\b\b\b\b\b\b\b\b\b\b\b\b\b\b\b\b\b\b\b\b\b\b\b\b\b\b\b\b\b\b\b\b\b\b\b\b\b\b\b\b\b\b\b\b\b\b\b\b\b\b\b\b\b\b\b\b\b\b\b\b\b\b\b\b\b\b\b\b\b\b\b\b\b\b\b\b\b\r304/600 [==============>...............] - ETA: 0s - loss: 9.3368 - accuracy: 0.2013"
                ]
              },
              {
                "output_type": "stream",
                "name": "stdout",
                "text": [
                  "\b\b\b\b\b\b\b\b\b\b\b\b\b\b\b\b\b\b\b\b\b\b\b\b\b\b\b\b\b\b\b\b\b\b\b\b\b\b\b\b\b\b\b\b\b\b\b\b\b\b\b\b\b\b\b\b\b\b\b\b\b\b\b\b\b\b\b\b\b\b\b\b\b\b\b\b\b\b\b\b\b\b\b\b\r327/600 [===============>..............] - ETA: 0s - loss: 9.2467 - accuracy: 0.2052"
                ]
              },
              {
                "output_type": "stream",
                "name": "stdout",
                "text": [
                  "\b\b\b\b\b\b\b\b\b\b\b\b\b\b\b\b\b\b\b\b\b\b\b\b\b\b\b\b\b\b\b\b\b\b\b\b\b\b\b\b\b\b\b\b\b\b\b\b\b\b\b\b\b\b\b\b\b\b\b\b\b\b\b\b\b\b\b\b\b\b\b\b\b\b\b\b\b\b\b\b\b\b\b\b\r351/600 [================>.............] - ETA: 0s - loss: 9.1612 - accuracy: 0.2073"
                ]
              },
              {
                "output_type": "stream",
                "name": "stdout",
                "text": [
                  "\b\b\b\b\b\b\b\b\b\b\b\b\b\b\b\b\b\b\b\b\b\b\b\b\b\b\b\b\b\b\b\b\b\b\b\b\b\b\b\b\b\b\b\b\b\b\b\b\b\b\b\b\b\b\b\b\b\b\b\b\b\b\b\b\b\b\b\b\b\b\b\b\b\b\b\b\b\b\b\b\b\b\b\b\r375/600 [=================>............] - ETA: 0s - loss: 9.0833 - accuracy: 0.2097"
                ]
              },
              {
                "output_type": "stream",
                "name": "stdout",
                "text": [
                  "\b\b\b\b\b\b\b\b\b\b\b\b\b\b\b\b\b\b\b\b\b\b\b\b\b\b\b\b\b\b\b\b\b\b\b\b\b\b\b\b\b\b\b\b\b\b\b\b\b\b\b\b\b\b\b\b\b\b\b\b\b\b\b\b\b\b\b\b\b\b\b\b\b\b\b\b\b\b\b\b\b\b\b\b\r400/600 [===================>..........] - ETA: 0s - loss: 9.0048 - accuracy: 0.2132"
                ]
              },
              {
                "output_type": "stream",
                "name": "stdout",
                "text": [
                  "\b\b\b\b\b\b\b\b\b\b\b\b\b\b\b\b\b\b\b\b\b\b\b\b\b\b\b\b\b\b\b\b\b\b\b\b\b\b\b\b\b\b\b\b\b\b\b\b\b\b\b\b\b\b\b\b\b\b\b\b\b\b\b\b\b\b\b\b\b\b\b\b\b\b\b\b\b\b\b\b\b\b\b\b\r425/600 [====================>.........] - ETA: 0s - loss: 8.9324 - accuracy: 0.2166"
                ]
              },
              {
                "output_type": "stream",
                "name": "stdout",
                "text": [
                  "\b\b\b\b\b\b\b\b\b\b\b\b\b\b\b\b\b\b\b\b\b\b\b\b\b\b\b\b\b\b\b\b\b\b\b\b\b\b\b\b\b\b\b\b\b\b\b\b\b\b\b\b\b\b\b\b\b\b\b\b\b\b\b\b\b\b\b\b\b\b\b\b\b\b\b\b\b\b\b\b\b\b\b\b\r451/600 [=====================>........] - ETA: 0s - loss: 8.8601 - accuracy: 0.2201"
                ]
              },
              {
                "output_type": "stream",
                "name": "stdout",
                "text": [
                  "\b\b\b\b\b\b\b\b\b\b\b\b\b\b\b\b\b\b\b\b\b\b\b\b\b\b\b\b\b\b\b\b\b\b\b\b\b\b\b\b\b\b\b\b\b\b\b\b\b\b\b\b\b\b\b\b\b\b\b\b\b\b\b\b\b\b\b\b\b\b\b\b\b\b\b\b\b\b\b\b\b\b\b\b\r476/600 [======================>.......] - ETA: 0s - loss: 8.7948 - accuracy: 0.2230"
                ]
              },
              {
                "output_type": "stream",
                "name": "stdout",
                "text": [
                  "\b\b\b\b\b\b\b\b\b\b\b\b\b\b\b\b\b\b\b\b\b\b\b\b\b\b\b\b\b\b\b\b\b\b\b\b\b\b\b\b\b\b\b\b\b\b\b\b\b\b\b\b\b\b\b\b\b\b\b\b\b\b\b\b\b\b\b\b\b\b\b\b\b\b\b\b\b\b\b\b\b\b\b\b\r501/600 [========================>.....] - ETA: 0s - loss: 8.7332 - accuracy: 0.2256"
                ]
              },
              {
                "output_type": "stream",
                "name": "stdout",
                "text": [
                  "\b\b\b\b\b\b\b\b\b\b\b\b\b\b\b\b\b\b\b\b\b\b\b\b\b\b\b\b\b\b\b\b\b\b\b\b\b\b\b\b\b\b\b\b\b\b\b\b\b\b\b\b\b\b\b\b\b\b\b\b\b\b\b\b\b\b\b\b\b\b\b\b\b\b\b\b\b\b\b\b\b\b\b\b\r525/600 [=========================>....] - ETA: 0s - loss: 8.6760 - accuracy: 0.2286"
                ]
              },
              {
                "output_type": "stream",
                "name": "stdout",
                "text": [
                  "\b\b\b\b\b\b\b\b\b\b\b\b\b\b\b\b\b\b\b\b\b\b\b\b\b\b\b\b\b\b\b\b\b\b\b\b\b\b\b\b\b\b\b\b\b\b\b\b\b\b\b\b\b\b\b\b\b\b\b\b\b\b\b\b\b\b\b\b\b\b\b\b\b\b\b\b\b\b\b\b\b\b\b\b\r546/600 [==========================>...] - ETA: 0s - loss: 8.6278 - accuracy: 0.2306"
                ]
              },
              {
                "output_type": "stream",
                "name": "stdout",
                "text": [
                  "\b\b\b\b\b\b\b\b\b\b\b\b\b\b\b\b\b\b\b\b\b\b\b\b\b\b\b\b\b\b\b\b\b\b\b\b\b\b\b\b\b\b\b\b\b\b\b\b\b\b\b\b\b\b\b\b\b\b\b\b\b\b\b\b\b\b\b\b\b\b\b\b\b\b\b\b\b\b\b\b\b\b\b\b\r567/600 [===========================>..] - ETA: 0s - loss: 8.5822 - accuracy: 0.2325"
                ]
              },
              {
                "output_type": "stream",
                "name": "stdout",
                "text": [
                  "\b\b\b\b\b\b\b\b\b\b\b\b\b\b\b\b\b\b\b\b\b\b\b\b\b\b\b\b\b\b\b\b\b\b\b\b\b\b\b\b\b\b\b\b\b\b\b\b\b\b\b\b\b\b\b\b\b\b\b\b\b\b\b\b\b\b\b\b\b\b\b\b\b\b\b\b\b\b\b\b\b\b\b\b\r591/600 [============================>.] - ETA: 0s - loss: 8.5305 - accuracy: 0.2343"
                ]
              },
              {
                "output_type": "stream",
                "name": "stdout",
                "text": [
                  "\b\b\b\b\b\b\b\b\b\b\b\b\b\b\b\b\b\b\b\b\b\b\b\b\b\b\b\b\b\b\b\b\b\b\b\b\b\b\b\b\b\b\b\b\b\b\b\b\b\b\b\b\b\b\b\b\b\b\b\b\b\b\b\b\b\b\b\b\b\b\b\b\b\b\b\b\b\b\b\b\b\b\b\b\r600/600 [==============================] - 3s 3ms/step - loss: 8.5120 - accuracy: 0.2351 - val_loss: 7.2381 - val_accuracy: 0.2886\n"
                ]
              },
              {
                "output_type": "stream",
                "name": "stdout",
                "text": [
                  "Epoch 2/20\n"
                ]
              },
              {
                "output_type": "stream",
                "name": "stdout",
                "text": [
                  "\r  1/600 [..............................] - ETA: 3s - loss: 7.4564 - accuracy: 0.3600"
                ]
              },
              {
                "output_type": "stream",
                "name": "stdout",
                "text": [
                  "\b\b\b\b\b\b\b\b\b\b\b\b\b\b\b\b\b\b\b\b\b\b\b\b\b\b\b\b\b\b\b\b\b\b\b\b\b\b\b\b\b\b\b\b\b\b\b\b\b\b\b\b\b\b\b\b\b\b\b\b\b\b\b\b\b\b\b\b\b\b\b\b\b\b\b\b\b\b\b\b\b\b\b\b\r 24/600 [>.............................] - ETA: 1s - loss: 7.1952 - accuracy: 0.3013"
                ]
              },
              {
                "output_type": "stream",
                "name": "stdout",
                "text": [
                  "\b\b\b\b\b\b\b\b\b\b\b\b\b\b\b\b\b\b\b\b\b\b\b\b\b\b\b\b\b\b\b\b\b\b\b\b\b\b\b\b\b\b\b\b\b\b\b\b\b\b\b\b\b\b\b\b\b\b\b\b\b\b\b\b\b\b\b\b\b\b\b\b\b\b\b\b\b\b\b\b\b\b\b\b\r 47/600 [=>............................] - ETA: 1s - loss: 7.1490 - accuracy: 0.3106"
                ]
              },
              {
                "output_type": "stream",
                "name": "stdout",
                "text": [
                  "\b\b\b\b\b\b\b\b\b\b\b\b\b\b\b\b\b\b\b\b\b\b\b\b\b\b\b\b\b\b\b\b\b\b\b\b\b\b\b\b\b\b\b\b\b\b\b\b\b\b\b\b\b\b\b\b\b\b\b\b\b\b\b\b\b\b\b\b\b\b\b\b\b\b\b\b\b\b\b\b\b\b\b\b\r 71/600 [==>...........................] - ETA: 1s - loss: 7.1273 - accuracy: 0.2996"
                ]
              },
              {
                "output_type": "stream",
                "name": "stdout",
                "text": [
                  "\b\b\b\b\b\b\b\b\b\b\b\b\b\b\b\b\b\b\b\b\b\b\b\b\b\b\b\b\b\b\b\b\b\b\b\b\b\b\b\b\b\b\b\b\b\b\b\b\b\b\b\b\b\b\b\b\b\b\b\b\b\b\b\b\b\b\b\b\b\b\b\b\b\b\b\b\b\b\b\b\b\b\b\b\r 94/600 [===>..........................] - ETA: 1s - loss: 7.1074 - accuracy: 0.2956"
                ]
              },
              {
                "output_type": "stream",
                "name": "stdout",
                "text": [
                  "\b\b\b\b\b\b\b\b\b\b\b\b\b\b\b\b\b\b\b\b\b\b\b\b\b\b\b\b\b\b\b\b\b\b\b\b\b\b\b\b\b\b\b\b\b\b\b\b\b\b\b\b\b\b\b\b\b\b\b\b\b\b\b\b\b\b\b\b\b\b\b\b\b\b\b\b\b\b\b\b\b\b\b\b\r114/600 [====>.........................] - ETA: 1s - loss: 7.0842 - accuracy: 0.2960"
                ]
              },
              {
                "output_type": "stream",
                "name": "stdout",
                "text": [
                  "\b\b\b\b\b\b\b\b\b\b\b\b\b\b\b\b\b\b\b\b\b\b\b\b\b\b\b\b\b\b\b\b\b\b\b\b\b\b\b\b\b\b\b\b\b\b\b\b\b\b\b\b\b\b\b\b\b\b\b\b\b\b\b\b\b\b\b\b\b\b\b\b\b\b\b\b\b\b\b\b\b\b\b\b\r136/600 [=====>........................] - ETA: 1s - loss: 7.0545 - accuracy: 0.2972"
                ]
              },
              {
                "output_type": "stream",
                "name": "stdout",
                "text": [
                  "\b\b\b\b\b\b\b\b\b\b\b\b\b\b\b\b\b\b\b\b\b\b\b\b\b\b\b\b\b\b\b\b\b\b\b\b\b\b\b\b\b\b\b\b\b\b\b\b\b\b\b\b\b\b\b\b\b\b\b\b\b\b\b\b\b\b\b\b\b\b\b\b\b\b\b\b\b\b\b\b\b\b\b\b\r155/600 [======>.......................] - ETA: 1s - loss: 7.0270 - accuracy: 0.2999"
                ]
              },
              {
                "output_type": "stream",
                "name": "stdout",
                "text": [
                  "\b\b\b\b\b\b\b\b\b\b\b\b\b\b\b\b\b\b\b\b\b\b\b\b\b\b\b\b\b\b\b\b\b\b\b\b\b\b\b\b\b\b\b\b\b\b\b\b\b\b\b\b\b\b\b\b\b\b\b\b\b\b\b\b\b\b\b\b\b\b\b\b\b\b\b\b\b\b\b\b\b\b\b\b\r179/600 [=======>......................] - ETA: 0s - loss: 6.9996 - accuracy: 0.3036"
                ]
              },
              {
                "output_type": "stream",
                "name": "stdout",
                "text": [
                  "\b\b\b\b\b\b\b\b\b\b\b\b\b\b\b\b\b\b\b\b\b\b\b\b\b\b\b\b\b\b\b\b\b\b\b\b\b\b\b\b\b\b\b\b\b\b\b\b\b\b\b\b\b\b\b\b\b\b\b\b\b\b\b\b\b\b\b\b\b\b\b\b\b\b\b\b\b\b\b\b\b\b\b\b\r202/600 [=========>....................] - ETA: 0s - loss: 6.9713 - accuracy: 0.3057"
                ]
              },
              {
                "output_type": "stream",
                "name": "stdout",
                "text": [
                  "\b\b\b\b\b\b\b\b\b\b\b\b\b\b\b\b\b\b\b\b\b\b\b\b\b\b\b\b\b\b\b\b\b\b\b\b\b\b\b\b\b\b\b\b\b\b\b\b\b\b\b\b\b\b\b\b\b\b\b\b\b\b\b\b\b\b\b\b\b\b\b\b\b\b\b\b\b\b\b\b\b\b\b\b\r221/600 [==========>...................] - ETA: 0s - loss: 6.9477 - accuracy: 0.3066"
                ]
              },
              {
                "output_type": "stream",
                "name": "stdout",
                "text": [
                  "\b\b\b\b\b\b\b\b\b\b\b\b\b\b\b\b\b\b\b\b\b\b\b\b\b\b\b\b\b\b\b\b\b\b\b\b\b\b\b\b\b\b\b\b\b\b\b\b\b\b\b\b\b\b\b\b\b\b\b\b\b\b\b\b\b\b\b\b\b\b\b\b\b\b\b\b\b\b\b\b\b\b\b\b\r244/600 [===========>..................] - ETA: 0s - loss: 6.9168 - accuracy: 0.3088"
                ]
              },
              {
                "output_type": "stream",
                "name": "stdout",
                "text": [
                  "\b\b\b\b\b\b\b\b\b\b\b\b\b\b\b\b\b\b\b\b\b\b\b\b\b\b\b\b\b\b\b\b\b\b\b\b\b\b\b\b\b\b\b\b\b\b\b\b\b\b\b\b\b\b\b\b\b\b\b\b\b\b\b\b\b\b\b\b\b\b\b\b\b\b\b\b\b\b\b\b\b\b\b\b\r266/600 [============>.................] - ETA: 0s - loss: 6.8883 - accuracy: 0.3108"
                ]
              },
              {
                "output_type": "stream",
                "name": "stdout",
                "text": [
                  "\b\b\b\b\b\b\b\b\b\b\b\b\b\b\b\b\b\b\b\b\b\b\b\b\b\b\b\b\b\b\b\b\b\b\b\b\b\b\b\b\b\b\b\b\b\b\b\b\b\b\b\b\b\b\b\b\b\b\b\b\b\b\b\b\b\b\b\b\b\b\b\b\b\b\b\b\b\b\b\b\b\b\b\b\r290/600 [=============>................] - ETA: 0s - loss: 6.8574 - accuracy: 0.3130"
                ]
              },
              {
                "output_type": "stream",
                "name": "stdout",
                "text": [
                  "\b\b\b\b\b\b\b\b\b\b\b\b\b\b\b\b\b\b\b\b\b\b\b\b\b\b\b\b\b\b\b\b\b\b\b\b\b\b\b\b\b\b\b\b\b\b\b\b\b\b\b\b\b\b\b\b\b\b\b\b\b\b\b\b\b\b\b\b\b\b\b\b\b\b\b\b\b\b\b\b\b\b\b\b\r316/600 [==============>...............] - ETA: 0s - loss: 6.8226 - accuracy: 0.3164"
                ]
              },
              {
                "output_type": "stream",
                "name": "stdout",
                "text": [
                  "\b\b\b\b\b\b\b\b\b\b\b\b\b\b\b\b\b\b\b\b\b\b\b\b\b\b\b\b\b\b\b\b\b\b\b\b\b\b\b\b\b\b\b\b\b\b\b\b\b\b\b\b\b\b\b\b\b\b\b\b\b\b\b\b\b\b\b\b\b\b\b\b\b\b\b\b\b\b\b\b\b\b\b\b\r342/600 [================>.............] - ETA: 0s - loss: 6.7900 - accuracy: 0.3190"
                ]
              },
              {
                "output_type": "stream",
                "name": "stdout",
                "text": [
                  "\b\b\b\b\b\b\b\b\b\b\b\b\b\b\b\b\b\b\b\b\b\b\b\b\b\b\b\b\b\b\b\b\b\b\b\b\b\b\b\b\b\b\b\b\b\b\b\b\b\b\b\b\b\b\b\b\b\b\b\b\b\b\b\b\b\b\b\b\b\b\b\b\b\b\b\b\b\b\b\b\b\b\b\b\r360/600 [=================>............] - ETA: 0s - loss: 6.7677 - accuracy: 0.3209"
                ]
              },
              {
                "output_type": "stream",
                "name": "stdout",
                "text": [
                  "\b\b\b\b\b\b\b\b\b\b\b\b\b\b\b\b\b\b\b\b\b\b\b\b\b\b\b\b\b\b\b\b\b\b\b\b\b\b\b\b\b\b\b\b\b\b\b\b\b\b\b\b\b\b\b\b\b\b\b\b\b\b\b\b\b\b\b\b\b\b\b\b\b\b\b\b\b\b\b\b\b\b\b\b\r380/600 [==================>...........] - ETA: 0s - loss: 6.7438 - accuracy: 0.3233"
                ]
              },
              {
                "output_type": "stream",
                "name": "stdout",
                "text": [
                  "\b\b\b\b\b\b\b\b\b\b\b\b\b\b\b\b\b\b\b\b\b\b\b\b\b\b\b\b\b\b\b\b\b\b\b\b\b\b\b\b\b\b\b\b\b\b\b\b\b\b\b\b\b\b\b\b\b\b\b\b\b\b\b\b\b\b\b\b\b\b\b\b\b\b\b\b\b\b\b\b\b\b\b\b\r405/600 [===================>..........] - ETA: 0s - loss: 6.7095 - accuracy: 0.3274"
                ]
              },
              {
                "output_type": "stream",
                "name": "stdout",
                "text": [
                  "\b\b\b\b\b\b\b\b\b\b\b\b\b\b\b\b\b\b\b\b\b\b\b\b\b\b\b\b\b\b\b\b\b\b\b\b\b\b\b\b\b\b\b\b\b\b\b\b\b\b\b\b\b\b\b\b\b\b\b\b\b\b\b\b\b\b\b\b\b\b\b\b\b\b\b\b\b\b\b\b\b\b\b\b\r429/600 [====================>.........] - ETA: 0s - loss: 6.6773 - accuracy: 0.3307"
                ]
              },
              {
                "output_type": "stream",
                "name": "stdout",
                "text": [
                  "\b\b\b\b\b\b\b\b\b\b\b\b\b\b\b\b\b\b\b\b\b\b\b\b\b\b\b\b\b\b\b\b\b\b\b\b\b\b\b\b\b\b\b\b\b\b\b\b\b\b\b\b\b\b\b\b\b\b\b\b\b\b\b\b\b\b\b\b\b\b\b\b\b\b\b\b\b\b\b\b\b\b\b\b\r452/600 [=====================>........] - ETA: 0s - loss: 6.6454 - accuracy: 0.3345"
                ]
              },
              {
                "output_type": "stream",
                "name": "stdout",
                "text": [
                  "\b\b\b\b\b\b\b\b\b\b\b\b\b\b\b\b\b\b\b\b\b\b\b\b\b\b\b\b\b\b\b\b\b\b\b\b\b\b\b\b\b\b\b\b\b\b\b\b\b\b\b\b\b\b\b\b\b\b\b\b\b\b\b\b\b\b\b\b\b\b\b\b\b\b\b\b\b\b\b\b\b\b\b\b\r478/600 [======================>.......] - ETA: 0s - loss: 6.6104 - accuracy: 0.3388"
                ]
              },
              {
                "output_type": "stream",
                "name": "stdout",
                "text": [
                  "\b\b\b\b\b\b\b\b\b\b\b\b\b\b\b\b\b\b\b\b\b\b\b\b\b\b\b\b\b\b\b\b\b\b\b\b\b\b\b\b\b\b\b\b\b\b\b\b\b\b\b\b\b\b\b\b\b\b\b\b\b\b\b\b\b\b\b\b\b\b\b\b\b\b\b\b\b\b\b\b\b\b\b\b\r503/600 [========================>.....] - ETA: 0s - loss: 6.5778 - accuracy: 0.3415"
                ]
              },
              {
                "output_type": "stream",
                "name": "stdout",
                "text": [
                  "\b\b\b\b\b\b\b\b\b\b\b\b\b\b\b\b\b\b\b\b\b\b\b\b\b\b\b\b\b\b\b\b\b\b\b\b\b\b\b\b\b\b\b\b\b\b\b\b\b\b\b\b\b\b\b\b\b\b\b\b\b\b\b\b\b\b\b\b\b\b\b\b\b\b\b\b\b\b\b\b\b\b\b\b\r526/600 [=========================>....] - ETA: 0s - loss: 6.5457 - accuracy: 0.3452"
                ]
              },
              {
                "output_type": "stream",
                "name": "stdout",
                "text": [
                  "\b\b\b\b\b\b\b\b\b\b\b\b\b\b\b\b\b\b\b\b\b\b\b\b\b\b\b\b\b\b\b\b\b\b\b\b\b\b\b\b\b\b\b\b\b\b\b\b\b\b\b\b\b\b\b\b\b\b\b\b\b\b\b\b\b\b\b\b\b\b\b\b\b\b\b\b\b\b\b\b\b\b\b\b\r551/600 [==========================>...] - ETA: 0s - loss: 6.5100 - accuracy: 0.3498"
                ]
              },
              {
                "output_type": "stream",
                "name": "stdout",
                "text": [
                  "\b\b\b\b\b\b\b\b\b\b\b\b\b\b\b\b\b\b\b\b\b\b\b\b\b\b\b\b\b\b\b\b\b\b\b\b\b\b\b\b\b\b\b\b\b\b\b\b\b\b\b\b\b\b\b\b\b\b\b\b\b\b\b\b\b\b\b\b\b\b\b\b\b\b\b\b\b\b\b\b\b\b\b\b\r577/600 [===========================>..] - ETA: 0s - loss: 6.4747 - accuracy: 0.3547"
                ]
              },
              {
                "output_type": "stream",
                "name": "stdout",
                "text": [
                  "\b\b\b\b\b\b\b\b\b\b\b\b\b\b\b\b\b\b\b\b\b\b\b\b\b\b\b\b\b\b\b\b\b\b\b\b\b\b\b\b\b\b\b\b\b\b\b\b\b\b\b\b\b\b\b\b\b\b\b\b\b\b\b\b\b\b\b\b\b\b\b\b\b\b\b\b\b\b\b\b\b\b\b\b\r597/600 [============================>.] - ETA: 0s - loss: 6.4453 - accuracy: 0.3596"
                ]
              },
              {
                "output_type": "stream",
                "name": "stdout",
                "text": [
                  "\b\b\b\b\b\b\b\b\b\b\b\b\b\b\b\b\b\b\b\b\b\b\b\b\b\b\b\b\b\b\b\b\b\b\b\b\b\b\b\b\b\b\b\b\b\b\b\b\b\b\b\b\b\b\b\b\b\b\b\b\b\b\b\b\b\b\b\b\b\b\b\b\b\b\b\b\b\b\b\b\b\b\b\b\r600/600 [==============================] - 2s 3ms/step - loss: 6.4416 - accuracy: 0.3601 - val_loss: 5.5541 - val_accuracy: 0.5030\n"
                ]
              },
              {
                "output_type": "stream",
                "name": "stdout",
                "text": [
                  "Epoch 3/20\n"
                ]
              },
              {
                "output_type": "stream",
                "name": "stdout",
                "text": [
                  "\r  1/600 [..............................] - ETA: 3s - loss: 5.6495 - accuracy: 0.5500"
                ]
              },
              {
                "output_type": "stream",
                "name": "stdout",
                "text": [
                  "\b\b\b\b\b\b\b\b\b\b\b\b\b\b\b\b\b\b\b\b\b\b\b\b\b\b\b\b\b\b\b\b\b\b\b\b\b\b\b\b\b\b\b\b\b\b\b\b\b\b\b\b\b\b\b\b\b\b\b\b\b\b\b\b\b\b\b\b\b\b\b\b\b\b\b\b\b\b\b\b\b\b\b\b\r 21/600 [>.............................] - ETA: 1s - loss: 5.5537 - accuracy: 0.5043"
                ]
              },
              {
                "output_type": "stream",
                "name": "stdout",
                "text": [
                  "\b\b\b\b\b\b\b\b\b\b\b\b\b\b\b\b\b\b\b\b\b\b\b\b\b\b\b\b\b\b\b\b\b\b\b\b\b\b\b\b\b\b\b\b\b\b\b\b\b\b\b\b\b\b\b\b\b\b\b\b\b\b\b\b\b\b\b\b\b\b\b\b\b\b\b\b\b\b\b\b\b\b\b\b\r 43/600 [=>............................] - ETA: 1s - loss: 5.5007 - accuracy: 0.5191"
                ]
              },
              {
                "output_type": "stream",
                "name": "stdout",
                "text": [
                  "\b\b\b\b\b\b\b\b\b\b\b\b\b\b\b\b\b\b\b\b\b\b\b\b\b\b\b\b\b\b\b\b\b\b\b\b\b\b\b\b\b\b\b\b\b\b\b\b\b\b\b\b\b\b\b\b\b\b\b\b\b\b\b\b\b\b\b\b\b\b\b\b\b\b\b\b\b\b\b\b\b\b\b\b\r 66/600 [==>...........................] - ETA: 1s - loss: 5.4920 - accuracy: 0.5165"
                ]
              },
              {
                "output_type": "stream",
                "name": "stdout",
                "text": [
                  "\b\b\b\b\b\b\b\b\b\b\b\b\b\b\b\b\b\b\b\b\b\b\b\b\b\b\b\b\b\b\b\b\b\b\b\b\b\b\b\b\b\b\b\b\b\b\b\b\b\b\b\b\b\b\b\b\b\b\b\b\b\b\b\b\b\b\b\b\b\b\b\b\b\b\b\b\b\b\b\b\b\b\b\b\r 86/600 [===>..........................] - ETA: 1s - loss: 5.4714 - accuracy: 0.5212"
                ]
              },
              {
                "output_type": "stream",
                "name": "stdout",
                "text": [
                  "\b\b\b\b\b\b\b\b\b\b\b\b\b\b\b\b\b\b\b\b\b\b\b\b\b\b\b\b\b\b\b\b\b\b\b\b\b\b\b\b\b\b\b\b\b\b\b\b\b\b\b\b\b\b\b\b\b\b\b\b\b\b\b\b\b\b\b\b\b\b\b\b\b\b\b\b\b\b\b\b\b\b\b\b\r110/600 [====>.........................] - ETA: 1s - loss: 5.4361 - accuracy: 0.5224"
                ]
              },
              {
                "output_type": "stream",
                "name": "stdout",
                "text": [
                  "\b\b\b\b\b\b\b\b\b\b\b\b\b\b\b\b\b\b\b\b\b\b\b\b\b\b\b\b\b\b\b\b\b\b\b\b\b\b\b\b\b\b\b\b\b\b\b\b\b\b\b\b\b\b\b\b\b\b\b\b\b\b\b\b\b\b\b\b\b\b\b\b\b\b\b\b\b\b\b\b\b\b\b\b\r135/600 [=====>........................] - ETA: 1s - loss: 5.4048 - accuracy: 0.5264"
                ]
              },
              {
                "output_type": "stream",
                "name": "stdout",
                "text": [
                  "\b\b\b\b\b\b\b\b\b\b\b\b\b\b\b\b\b\b\b\b\b\b\b\b\b\b\b\b\b\b\b\b\b\b\b\b\b\b\b\b\b\b\b\b\b\b\b\b\b\b\b\b\b\b\b\b\b\b\b\b\b\b\b\b\b\b\b\b\b\b\b\b\b\b\b\b\b\b\b\b\b\b\b\b\r159/600 [======>.......................] - ETA: 0s - loss: 5.3681 - accuracy: 0.5318"
                ]
              },
              {
                "output_type": "stream",
                "name": "stdout",
                "text": [
                  "\b\b\b\b\b\b\b\b\b\b\b\b\b\b\b\b\b\b\b\b\b\b\b\b\b\b\b\b\b\b\b\b\b\b\b\b\b\b\b\b\b\b\b\b\b\b\b\b\b\b\b\b\b\b\b\b\b\b\b\b\b\b\b\b\b\b\b\b\b\b\b\b\b\b\b\b\b\b\b\b\b\b\b\b\r182/600 [========>.....................] - ETA: 0s - loss: 5.3382 - accuracy: 0.5323"
                ]
              },
              {
                "output_type": "stream",
                "name": "stdout",
                "text": [
                  "\b\b\b\b\b\b\b\b\b\b\b\b\b\b\b\b\b\b\b\b\b\b\b\b\b\b\b\b\b\b\b\b\b\b\b\b\b\b\b\b\b\b\b\b\b\b\b\b\b\b\b\b\b\b\b\b\b\b\b\b\b\b\b\b\b\b\b\b\b\b\b\b\b\b\b\b\b\b\b\b\b\b\b\b\r206/600 [=========>....................] - ETA: 0s - loss: 5.3046 - accuracy: 0.5353"
                ]
              },
              {
                "output_type": "stream",
                "name": "stdout",
                "text": [
                  "\b\b\b\b\b\b\b\b\b\b\b\b\b\b\b\b\b\b\b\b\b\b\b\b\b\b\b\b\b\b\b\b\b\b\b\b\b\b\b\b\b\b\b\b\b\b\b\b\b\b\b\b\b\b\b\b\b\b\b\b\b\b\b\b\b\b\b\b\b\b\b\b\b\b\b\b\b\b\b\b\b\b\b\b\r230/600 [==========>...................] - ETA: 0s - loss: 5.2781 - accuracy: 0.5356"
                ]
              },
              {
                "output_type": "stream",
                "name": "stdout",
                "text": [
                  "\b\b\b\b\b\b\b\b\b\b\b\b\b\b\b\b\b\b\b\b\b\b\b\b\b\b\b\b\b\b\b\b\b\b\b\b\b\b\b\b\b\b\b\b\b\b\b\b\b\b\b\b\b\b\b\b\b\b\b\b\b\b\b\b\b\b\b\b\b\b\b\b\b\b\b\b\b\b\b\b\b\b\b\b\r251/600 [===========>..................] - ETA: 0s - loss: 5.2574 - accuracy: 0.5351"
                ]
              },
              {
                "output_type": "stream",
                "name": "stdout",
                "text": [
                  "\b\b\b\b\b\b\b\b\b\b\b\b\b\b\b\b\b\b\b\b\b\b\b\b\b\b\b\b\b\b\b\b\b\b\b\b\b\b\b\b\b\b\b\b\b\b\b\b\b\b\b\b\b\b\b\b\b\b\b\b\b\b\b\b\b\b\b\b\b\b\b\b\b\b\b\b\b\b\b\b\b\b\b\b\r276/600 [============>.................] - ETA: 0s - loss: 5.2243 - accuracy: 0.5379"
                ]
              },
              {
                "output_type": "stream",
                "name": "stdout",
                "text": [
                  "\b\b\b\b\b\b\b\b\b\b\b\b\b\b\b\b\b\b\b\b\b\b\b\b\b\b\b\b\b\b\b\b\b\b\b\b\b\b\b\b\b\b\b\b\b\b\b\b\b\b\b\b\b\b\b\b\b\b\b\b\b\b\b\b\b\b\b\b\b\b\b\b\b\b\b\b\b\b\b\b\b\b\b\b\r301/600 [==============>...............] - ETA: 0s - loss: 5.1988 - accuracy: 0.5386"
                ]
              },
              {
                "output_type": "stream",
                "name": "stdout",
                "text": [
                  "\b\b\b\b\b\b\b\b\b\b\b\b\b\b\b\b\b\b\b\b\b\b\b\b\b\b\b\b\b\b\b\b\b\b\b\b\b\b\b\b\b\b\b\b\b\b\b\b\b\b\b\b\b\b\b\b\b\b\b\b\b\b\b\b\b\b\b\b\b\b\b\b\b\b\b\b\b\b\b\b\b\b\b\b\r323/600 [===============>..............] - ETA: 0s - loss: 5.1747 - accuracy: 0.5386"
                ]
              },
              {
                "output_type": "stream",
                "name": "stdout",
                "text": [
                  "\b\b\b\b\b\b\b\b\b\b\b\b\b\b\b\b\b\b\b\b\b\b\b\b\b\b\b\b\b\b\b\b\b\b\b\b\b\b\b\b\b\b\b\b\b\b\b\b\b\b\b\b\b\b\b\b\b\b\b\b\b\b\b\b\b\b\b\b\b\b\b\b\b\b\b\b\b\b\b\b\b\b\b\b\r350/600 [================>.............] - ETA: 0s - loss: 5.1464 - accuracy: 0.5387"
                ]
              },
              {
                "output_type": "stream",
                "name": "stdout",
                "text": [
                  "\b\b\b\b\b\b\b\b\b\b\b\b\b\b\b\b\b\b\b\b\b\b\b\b\b\b\b\b\b\b\b\b\b\b\b\b\b\b\b\b\b\b\b\b\b\b\b\b\b\b\b\b\b\b\b\b\b\b\b\b\b\b\b\b\b\b\b\b\b\b\b\b\b\b\b\b\b\b\b\b\b\b\b\b\r374/600 [=================>............] - ETA: 0s - loss: 5.1196 - accuracy: 0.5401"
                ]
              },
              {
                "output_type": "stream",
                "name": "stdout",
                "text": [
                  "\b\b\b\b\b\b\b\b\b\b\b\b\b\b\b\b\b\b\b\b\b\b\b\b\b\b\b\b\b\b\b\b\b\b\b\b\b\b\b\b\b\b\b\b\b\b\b\b\b\b\b\b\b\b\b\b\b\b\b\b\b\b\b\b\b\b\b\b\b\b\b\b\b\b\b\b\b\b\b\b\b\b\b\b\r396/600 [==================>...........] - ETA: 0s - loss: 5.0943 - accuracy: 0.5406"
                ]
              },
              {
                "output_type": "stream",
                "name": "stdout",
                "text": [
                  "\b\b\b\b\b\b\b\b\b\b\b\b\b\b\b\b\b\b\b\b\b\b\b\b\b\b\b\b\b\b\b\b\b\b\b\b\b\b\b\b\b\b\b\b\b\b\b\b\b\b\b\b\b\b\b\b\b\b\b\b\b\b\b\b\b\b\b\b\b\b\b\b\b\b\b\b\b\b\b\b\b\b\b\b\r421/600 [====================>.........] - ETA: 0s - loss: 5.0645 - accuracy: 0.5422"
                ]
              },
              {
                "output_type": "stream",
                "name": "stdout",
                "text": [
                  "\b\b\b\b\b\b\b\b\b\b\b\b\b\b\b\b\b\b\b\b\b\b\b\b\b\b\b\b\b\b\b\b\b\b\b\b\b\b\b\b\b\b\b\b\b\b\b\b\b\b\b\b\b\b\b\b\b\b\b\b\b\b\b\b\b\b\b\b\b\b\b\b\b\b\b\b\b\b\b\b\b\b\b\b\r442/600 [=====================>........] - ETA: 0s - loss: 5.0420 - accuracy: 0.5431"
                ]
              },
              {
                "output_type": "stream",
                "name": "stdout",
                "text": [
                  "\b\b\b\b\b\b\b\b\b\b\b\b\b\b\b\b\b\b\b\b\b\b\b\b\b\b\b\b\b\b\b\b\b\b\b\b\b\b\b\b\b\b\b\b\b\b\b\b\b\b\b\b\b\b\b\b\b\b\b\b\b\b\b\b\b\b\b\b\b\b\b\b\b\b\b\b\b\b\b\b\b\b\b\b\r464/600 [======================>.......] - ETA: 0s - loss: 5.0179 - accuracy: 0.5446"
                ]
              },
              {
                "output_type": "stream",
                "name": "stdout",
                "text": [
                  "\b\b\b\b\b\b\b\b\b\b\b\b\b\b\b\b\b\b\b\b\b\b\b\b\b\b\b\b\b\b\b\b\b\b\b\b\b\b\b\b\b\b\b\b\b\b\b\b\b\b\b\b\b\b\b\b\b\b\b\b\b\b\b\b\b\b\b\b\b\b\b\b\b\b\b\b\b\b\b\b\b\b\b\b\r483/600 [=======================>......] - ETA: 0s - loss: 4.9982 - accuracy: 0.5464"
                ]
              },
              {
                "output_type": "stream",
                "name": "stdout",
                "text": [
                  "\b\b\b\b\b\b\b\b\b\b\b\b\b\b\b\b\b\b\b\b\b\b\b\b\b\b\b\b\b\b\b\b\b\b\b\b\b\b\b\b\b\b\b\b\b\b\b\b\b\b\b\b\b\b\b\b\b\b\b\b\b\b\b\b\b\b\b\b\b\b\b\b\b\b\b\b\b\b\b\b\b\b\b\b\r505/600 [========================>.....] - ETA: 0s - loss: 4.9742 - accuracy: 0.5489"
                ]
              },
              {
                "output_type": "stream",
                "name": "stdout",
                "text": [
                  "\b\b\b\b\b\b\b\b\b\b\b\b\b\b\b\b\b\b\b\b\b\b\b\b\b\b\b\b\b\b\b\b\b\b\b\b\b\b\b\b\b\b\b\b\b\b\b\b\b\b\b\b\b\b\b\b\b\b\b\b\b\b\b\b\b\b\b\b\b\b\b\b\b\b\b\b\b\b\b\b\b\b\b\b\r527/600 [=========================>....] - ETA: 0s - loss: 4.9496 - accuracy: 0.5503"
                ]
              },
              {
                "output_type": "stream",
                "name": "stdout",
                "text": [
                  "\b\b\b\b\b\b\b\b\b\b\b\b\b\b\b\b\b\b\b\b\b\b\b\b\b\b\b\b\b\b\b\b\b\b\b\b\b\b\b\b\b\b\b\b\b\b\b\b\b\b\b\b\b\b\b\b\b\b\b\b\b\b\b\b\b\b\b\b\b\b\b\b\b\b\b\b\b\b\b\b\b\b\b\b\r551/600 [==========================>...] - ETA: 0s - loss: 4.9236 - accuracy: 0.5524"
                ]
              },
              {
                "output_type": "stream",
                "name": "stdout",
                "text": [
                  "\b\b\b\b\b\b\b\b\b\b\b\b\b\b\b\b\b\b\b\b\b\b\b\b\b\b\b\b\b\b\b\b\b\b\b\b\b\b\b\b\b\b\b\b\b\b\b\b\b\b\b\b\b\b\b\b\b\b\b\b\b\b\b\b\b\b\b\b\b\b\b\b\b\b\b\b\b\b\b\b\b\b\b\b\r575/600 [===========================>..] - ETA: 0s - loss: 4.8985 - accuracy: 0.5546"
                ]
              },
              {
                "output_type": "stream",
                "name": "stdout",
                "text": [
                  "\b\b\b\b\b\b\b\b\b\b\b\b\b\b\b\b\b\b\b\b\b\b\b\b\b\b\b\b\b\b\b\b\b\b\b\b\b\b\b\b\b\b\b\b\b\b\b\b\b\b\b\b\b\b\b\b\b\b\b\b\b\b\b\b\b\b\b\b\b\b\b\b\b\b\b\b\b\b\b\b\b\b\b\b\r599/600 [============================>.] - ETA: 0s - loss: 4.8727 - accuracy: 0.5566"
                ]
              },
              {
                "output_type": "stream",
                "name": "stdout",
                "text": [
                  "\b\b\b\b\b\b\b\b\b\b\b\b\b\b\b\b\b\b\b\b\b\b\b\b\b\b\b\b\b\b\b\b\b\b\b\b\b\b\b\b\b\b\b\b\b\b\b\b\b\b\b\b\b\b\b\b\b\b\b\b\b\b\b\b\b\b\b\b\b\b\b\b\b\b\b\b\b\b\b\b\b\b\b\b\r600/600 [==============================] - 1s 2ms/step - loss: 4.8716 - accuracy: 0.5566 - val_loss: 4.2470 - val_accuracy: 0.5997\n"
                ]
              },
              {
                "output_type": "stream",
                "name": "stdout",
                "text": [
                  "Epoch 4/20\n"
                ]
              },
              {
                "output_type": "stream",
                "name": "stdout",
                "text": [
                  "\r  1/600 [..............................] - ETA: 3s - loss: 4.3637 - accuracy: 0.5300"
                ]
              },
              {
                "output_type": "stream",
                "name": "stdout",
                "text": [
                  "\b\b\b\b\b\b\b\b\b\b\b\b\b\b\b\b\b\b\b\b\b\b\b\b\b\b\b\b\b\b\b\b\b\b\b\b\b\b\b\b\b\b\b\b\b\b\b\b\b\b\b\b\b\b\b\b\b\b\b\b\b\b\b\b\b\b\b\b\b\b\b\b\b\b\b\b\b\b\b\b\b\b\b\b\r 23/600 [>.............................] - ETA: 1s - loss: 4.2585 - accuracy: 0.5909"
                ]
              },
              {
                "output_type": "stream",
                "name": "stdout",
                "text": [
                  "\b\b\b\b\b\b\b\b\b\b\b\b\b\b\b\b\b\b\b\b\b\b\b\b\b\b\b\b\b\b\b\b\b\b\b\b\b\b\b\b\b\b\b\b\b\b\b\b\b\b\b\b\b\b\b\b\b\b\b\b\b\b\b\b\b\b\b\b\b\b\b\b\b\b\b\b\b\b\b\b\b\b\b\b\r 48/600 [=>............................] - ETA: 1s - loss: 4.2075 - accuracy: 0.5992"
                ]
              },
              {
                "output_type": "stream",
                "name": "stdout",
                "text": [
                  "\b\b\b\b\b\b\b\b\b\b\b\b\b\b\b\b\b\b\b\b\b\b\b\b\b\b\b\b\b\b\b\b\b\b\b\b\b\b\b\b\b\b\b\b\b\b\b\b\b\b\b\b\b\b\b\b\b\b\b\b\b\b\b\b\b\b\b\b\b\b\b\b\b\b\b\b\b\b\b\b\b\b\b\b\r 73/600 [==>...........................] - ETA: 1s - loss: 4.1872 - accuracy: 0.5974"
                ]
              },
              {
                "output_type": "stream",
                "name": "stdout",
                "text": [
                  "\b\b\b\b\b\b\b\b\b\b\b\b\b\b\b\b\b\b\b\b\b\b\b\b\b\b\b\b\b\b\b\b\b\b\b\b\b\b\b\b\b\b\b\b\b\b\b\b\b\b\b\b\b\b\b\b\b\b\b\b\b\b\b\b\b\b\b\b\b\b\b\b\b\b\b\b\b\b\b\b\b\b\b\b\r 96/600 [===>..........................] - ETA: 1s - loss: 4.1676 - accuracy: 0.5955"
                ]
              },
              {
                "output_type": "stream",
                "name": "stdout",
                "text": [
                  "\b\b\b\b\b\b\b\b\b\b\b\b\b\b\b\b\b\b\b\b\b\b\b\b\b\b\b\b\b\b\b\b\b\b\b\b\b\b\b\b\b\b\b\b\b\b\b\b\b\b\b\b\b\b\b\b\b\b\b\b\b\b\b\b\b\b\b\b\b\b\b\b\b\b\b\b\b\b\b\b\b\b\b\b\r119/600 [====>.........................] - ETA: 1s - loss: 4.1431 - accuracy: 0.5969"
                ]
              },
              {
                "output_type": "stream",
                "name": "stdout",
                "text": [
                  "\b\b\b\b\b\b\b\b\b\b\b\b\b\b\b\b\b\b\b\b\b\b\b\b\b\b\b\b\b\b\b\b\b\b\b\b\b\b\b\b\b\b\b\b\b\b\b\b\b\b\b\b\b\b\b\b\b\b\b\b\b\b\b\b\b\b\b\b\b\b\b\b\b\b\b\b\b\b\b\b\b\b\b\b\r141/600 [======>.......................] - ETA: 1s - loss: 4.1187 - accuracy: 0.5982"
                ]
              },
              {
                "output_type": "stream",
                "name": "stdout",
                "text": [
                  "\b\b\b\b\b\b\b\b\b\b\b\b\b\b\b\b\b\b\b\b\b\b\b\b\b\b\b\b\b\b\b\b\b\b\b\b\b\b\b\b\b\b\b\b\b\b\b\b\b\b\b\b\b\b\b\b\b\b\b\b\b\b\b\b\b\b\b\b\b\b\b\b\b\b\b\b\b\b\b\b\b\b\b\b\r164/600 [=======>......................] - ETA: 0s - loss: 4.0929 - accuracy: 0.6039"
                ]
              },
              {
                "output_type": "stream",
                "name": "stdout",
                "text": [
                  "\b\b\b\b\b\b\b\b\b\b\b\b\b\b\b\b\b\b\b\b\b\b\b\b\b\b\b\b\b\b\b\b\b\b\b\b\b\b\b\b\b\b\b\b\b\b\b\b\b\b\b\b\b\b\b\b\b\b\b\b\b\b\b\b\b\b\b\b\b\b\b\b\b\b\b\b\b\b\b\b\b\b\b\b\r186/600 [========>.....................] - ETA: 0s - loss: 4.0761 - accuracy: 0.6069"
                ]
              },
              {
                "output_type": "stream",
                "name": "stdout",
                "text": [
                  "\b\b\b\b\b\b\b\b\b\b\b\b\b\b\b\b\b\b\b\b\b\b\b\b\b\b\b\b\b\b\b\b\b\b\b\b\b\b\b\b\b\b\b\b\b\b\b\b\b\b\b\b\b\b\b\b\b\b\b\b\b\b\b\b\b\b\b\b\b\b\b\b\b\b\b\b\b\b\b\b\b\b\b\b\r212/600 [=========>....................] - ETA: 0s - loss: 4.0581 - accuracy: 0.6088"
                ]
              },
              {
                "output_type": "stream",
                "name": "stdout",
                "text": [
                  "\b\b\b\b\b\b\b\b\b\b\b\b\b\b\b\b\b\b\b\b\b\b\b\b\b\b\b\b\b\b\b\b\b\b\b\b\b\b\b\b\b\b\b\b\b\b\b\b\b\b\b\b\b\b\b\b\b\b\b\b\b\b\b\b\b\b\b\b\b\b\b\b\b\b\b\b\b\b\b\b\b\b\b\b\r237/600 [==========>...................] - ETA: 0s - loss: 4.0352 - accuracy: 0.6154"
                ]
              },
              {
                "output_type": "stream",
                "name": "stdout",
                "text": [
                  "\b\b\b\b\b\b\b\b\b\b\b\b\b\b\b\b\b\b\b\b\b\b\b\b\b\b\b\b\b\b\b\b\b\b\b\b\b\b\b\b\b\b\b\b\b\b\b\b\b\b\b\b\b\b\b\b\b\b\b\b\b\b\b\b\b\b\b\b\b\b\b\b\b\b\b\b\b\b\b\b\b\b\b\b\r256/600 [===========>..................] - ETA: 0s - loss: 4.0187 - accuracy: 0.6184"
                ]
              },
              {
                "output_type": "stream",
                "name": "stdout",
                "text": [
                  "\b\b\b\b\b\b\b\b\b\b\b\b\b\b\b\b\b\b\b\b\b\b\b\b\b\b\b\b\b\b\b\b\b\b\b\b\b\b\b\b\b\b\b\b\b\b\b\b\b\b\b\b\b\b\b\b\b\b\b\b\b\b\b\b\b\b\b\b\b\b\b\b\b\b\b\b\b\b\b\b\b\b\b\b\r279/600 [============>.................] - ETA: 0s - loss: 3.9969 - accuracy: 0.6249"
                ]
              },
              {
                "output_type": "stream",
                "name": "stdout",
                "text": [
                  "\b\b\b\b\b\b\b\b\b\b\b\b\b\b\b\b\b\b\b\b\b\b\b\b\b\b\b\b\b\b\b\b\b\b\b\b\b\b\b\b\b\b\b\b\b\b\b\b\b\b\b\b\b\b\b\b\b\b\b\b\b\b\b\b\b\b\b\b\b\b\b\b\b\b\b\b\b\b\b\b\b\b\b\b\r300/600 [==============>...............] - ETA: 0s - loss: 3.9784 - accuracy: 0.6283"
                ]
              },
              {
                "output_type": "stream",
                "name": "stdout",
                "text": [
                  "\b\b\b\b\b\b\b\b\b\b\b\b\b\b\b\b\b\b\b\b\b\b\b\b\b\b\b\b\b\b\b\b\b\b\b\b\b\b\b\b\b\b\b\b\b\b\b\b\b\b\b\b\b\b\b\b\b\b\b\b\b\b\b\b\b\b\b\b\b\b\b\b\b\b\b\b\b\b\b\b\b\b\b\b\r324/600 [===============>..............] - ETA: 0s - loss: 3.9556 - accuracy: 0.6327"
                ]
              },
              {
                "output_type": "stream",
                "name": "stdout",
                "text": [
                  "\b\b\b\b\b\b\b\b\b\b\b\b\b\b\b\b\b\b\b\b\b\b\b\b\b\b\b\b\b\b\b\b\b\b\b\b\b\b\b\b\b\b\b\b\b\b\b\b\b\b\b\b\b\b\b\b\b\b\b\b\b\b\b\b\b\b\b\b\b\b\b\b\b\b\b\b\b\b\b\b\b\b\b\b\r347/600 [================>.............] - ETA: 0s - loss: 3.9358 - accuracy: 0.6359"
                ]
              },
              {
                "output_type": "stream",
                "name": "stdout",
                "text": [
                  "\b\b\b\b\b\b\b\b\b\b\b\b\b\b\b\b\b\b\b\b\b\b\b\b\b\b\b\b\b\b\b\b\b\b\b\b\b\b\b\b\b\b\b\b\b\b\b\b\b\b\b\b\b\b\b\b\b\b\b\b\b\b\b\b\b\b\b\b\b\b\b\b\b\b\b\b\b\b\b\b\b\b\b\b\r370/600 [=================>............] - ETA: 0s - loss: 3.9150 - accuracy: 0.6390"
                ]
              },
              {
                "output_type": "stream",
                "name": "stdout",
                "text": [
                  "\b\b\b\b\b\b\b\b\b\b\b\b\b\b\b\b\b\b\b\b\b\b\b\b\b\b\b\b\b\b\b\b\b\b\b\b\b\b\b\b\b\b\b\b\b\b\b\b\b\b\b\b\b\b\b\b\b\b\b\b\b\b\b\b\b\b\b\b\b\b\b\b\b\b\b\b\b\b\b\b\b\b\b\b\r394/600 [==================>...........] - ETA: 0s - loss: 3.8993 - accuracy: 0.6410"
                ]
              },
              {
                "output_type": "stream",
                "name": "stdout",
                "text": [
                  "\b\b\b\b\b\b\b\b\b\b\b\b\b\b\b\b\b\b\b\b\b\b\b\b\b\b\b\b\b\b\b\b\b\b\b\b\b\b\b\b\b\b\b\b\b\b\b\b\b\b\b\b\b\b\b\b\b\b\b\b\b\b\b\b\b\b\b\b\b\b\b\b\b\b\b\b\b\b\b\b\b\b\b\b\r419/600 [===================>..........] - ETA: 0s - loss: 3.8801 - accuracy: 0.6434"
                ]
              },
              {
                "output_type": "stream",
                "name": "stdout",
                "text": [
                  "\b\b\b\b\b\b\b\b\b\b\b\b\b\b\b\b\b\b\b\b\b\b\b\b\b\b\b\b\b\b\b\b\b\b\b\b\b\b\b\b\b\b\b\b\b\b\b\b\b\b\b\b\b\b\b\b\b\b\b\b\b\b\b\b\b\b\b\b\b\b\b\b\b\b\b\b\b\b\b\b\b\b\b\b\r441/600 [=====================>........] - ETA: 0s - loss: 3.8644 - accuracy: 0.6454"
                ]
              },
              {
                "output_type": "stream",
                "name": "stdout",
                "text": [
                  "\b\b\b\b\b\b\b\b\b\b\b\b\b\b\b\b\b\b\b\b\b\b\b\b\b\b\b\b\b\b\b\b\b\b\b\b\b\b\b\b\b\b\b\b\b\b\b\b\b\b\b\b\b\b\b\b\b\b\b\b\b\b\b\b\b\b\b\b\b\b\b\b\b\b\b\b\b\b\b\b\b\b\b\b\r463/600 [======================>.......] - ETA: 0s - loss: 3.8475 - accuracy: 0.6473"
                ]
              },
              {
                "output_type": "stream",
                "name": "stdout",
                "text": [
                  "\b\b\b\b\b\b\b\b\b\b\b\b\b\b\b\b\b\b\b\b\b\b\b\b\b\b\b\b\b\b\b\b\b\b\b\b\b\b\b\b\b\b\b\b\b\b\b\b\b\b\b\b\b\b\b\b\b\b\b\b\b\b\b\b\b\b\b\b\b\b\b\b\b\b\b\b\b\b\b\b\b\b\b\b\r486/600 [=======================>......] - ETA: 0s - loss: 3.8278 - accuracy: 0.6492"
                ]
              },
              {
                "output_type": "stream",
                "name": "stdout",
                "text": [
                  "\b\b\b\b\b\b\b\b\b\b\b\b\b\b\b\b\b\b\b\b\b\b\b\b\b\b\b\b\b\b\b\b\b\b\b\b\b\b\b\b\b\b\b\b\b\b\b\b\b\b\b\b\b\b\b\b\b\b\b\b\b\b\b\b\b\b\b\b\b\b\b\b\b\b\b\b\b\b\b\b\b\b\b\b\r511/600 [========================>.....] - ETA: 0s - loss: 3.8079 - accuracy: 0.6516"
                ]
              },
              {
                "output_type": "stream",
                "name": "stdout",
                "text": [
                  "\b\b\b\b\b\b\b\b\b\b\b\b\b\b\b\b\b\b\b\b\b\b\b\b\b\b\b\b\b\b\b\b\b\b\b\b\b\b\b\b\b\b\b\b\b\b\b\b\b\b\b\b\b\b\b\b\b\b\b\b\b\b\b\b\b\b\b\b\b\b\b\b\b\b\b\b\b\b\b\b\b\b\b\b\r532/600 [=========================>....] - ETA: 0s - loss: 3.7922 - accuracy: 0.6528"
                ]
              },
              {
                "output_type": "stream",
                "name": "stdout",
                "text": [
                  "\b\b\b\b\b\b\b\b\b\b\b\b\b\b\b\b\b\b\b\b\b\b\b\b\b\b\b\b\b\b\b\b\b\b\b\b\b\b\b\b\b\b\b\b\b\b\b\b\b\b\b\b\b\b\b\b\b\b\b\b\b\b\b\b\b\b\b\b\b\b\b\b\b\b\b\b\b\b\b\b\b\b\b\b\r556/600 [==========================>...] - ETA: 0s - loss: 3.7727 - accuracy: 0.6548"
                ]
              },
              {
                "output_type": "stream",
                "name": "stdout",
                "text": [
                  "\b\b\b\b\b\b\b\b\b\b\b\b\b\b\b\b\b\b\b\b\b\b\b\b\b\b\b\b\b\b\b\b\b\b\b\b\b\b\b\b\b\b\b\b\b\b\b\b\b\b\b\b\b\b\b\b\b\b\b\b\b\b\b\b\b\b\b\b\b\b\b\b\b\b\b\b\b\b\b\b\b\b\b\b\r581/600 [============================>.] - ETA: 0s - loss: 3.7526 - accuracy: 0.6564"
                ]
              },
              {
                "output_type": "stream",
                "name": "stdout",
                "text": [
                  "\b\b\b\b\b\b\b\b\b\b\b\b\b\b\b\b\b\b\b\b\b\b\b\b\b\b\b\b\b\b\b\b\b\b\b\b\b\b\b\b\b\b\b\b\b\b\b\b\b\b\b\b\b\b\b\b\b\b\b\b\b\b\b\b\b\b\b\b\b\b\b\b\b\b\b\b\b\b\b\b\b\b\b\b\r600/600 [==============================] - 2s 2ms/step - loss: 3.7381 - accuracy: 0.6579 - val_loss: 3.2663 - val_accuracy: 0.7243\n"
                ]
              },
              {
                "output_type": "stream",
                "name": "stdout",
                "text": [
                  "Epoch 5/20\n"
                ]
              },
              {
                "output_type": "stream",
                "name": "stdout",
                "text": [
                  "\r  1/600 [..............................] - ETA: 6s - loss: 3.2458 - accuracy: 0.7400"
                ]
              },
              {
                "output_type": "stream",
                "name": "stdout",
                "text": [
                  "\b\b\b\b\b\b\b\b\b\b\b\b\b\b\b\b\b\b\b\b\b\b\b\b\b\b\b\b\b\b\b\b\b\b\b\b\b\b\b\b\b\b\b\b\b\b\b\b\b\b\b\b\b\b\b\b\b\b\b\b\b\b\b\b\b\b\b\b\b\b\b\b\b\b\b\b\b\b\b\b\b\b\b\b\r 21/600 [>.............................] - ETA: 1s - loss: 3.2698 - accuracy: 0.7257"
                ]
              },
              {
                "output_type": "stream",
                "name": "stdout",
                "text": [
                  "\b\b\b\b\b\b\b\b\b\b\b\b\b\b\b\b\b\b\b\b\b\b\b\b\b\b\b\b\b\b\b\b\b\b\b\b\b\b\b\b\b\b\b\b\b\b\b\b\b\b\b\b\b\b\b\b\b\b\b\b\b\b\b\b\b\b\b\b\b\b\b\b\b\b\b\b\b\b\b\b\b\b\b\b\r 40/600 [=>............................] - ETA: 1s - loss: 3.2779 - accuracy: 0.7175"
                ]
              },
              {
                "output_type": "stream",
                "name": "stdout",
                "text": [
                  "\b\b\b\b\b\b\b\b\b\b\b\b\b\b\b\b\b\b\b\b\b\b\b\b\b\b\b\b\b\b\b\b\b\b\b\b\b\b\b\b\b\b\b\b\b\b\b\b\b\b\b\b\b\b\b\b\b\b\b\b\b\b\b\b\b\b\b\b\b\b\b\b\b\b\b\b\b\b\b\b\b\b\b\b\r 63/600 [==>...........................] - ETA: 1s - loss: 3.2518 - accuracy: 0.7222"
                ]
              },
              {
                "output_type": "stream",
                "name": "stdout",
                "text": [
                  "\b\b\b\b\b\b\b\b\b\b\b\b\b\b\b\b\b\b\b\b\b\b\b\b\b\b\b\b\b\b\b\b\b\b\b\b\b\b\b\b\b\b\b\b\b\b\b\b\b\b\b\b\b\b\b\b\b\b\b\b\b\b\b\b\b\b\b\b\b\b\b\b\b\b\b\b\b\b\b\b\b\b\b\b\r 84/600 [===>..........................] - ETA: 1s - loss: 3.2399 - accuracy: 0.7193"
                ]
              },
              {
                "output_type": "stream",
                "name": "stdout",
                "text": [
                  "\b\b\b\b\b\b\b\b\b\b\b\b\b\b\b\b\b\b\b\b\b\b\b\b\b\b\b\b\b\b\b\b\b\b\b\b\b\b\b\b\b\b\b\b\b\b\b\b\b\b\b\b\b\b\b\b\b\b\b\b\b\b\b\b\b\b\b\b\b\b\b\b\b\b\b\b\b\b\b\b\b\b\b\b\r106/600 [====>.........................] - ETA: 1s - loss: 3.2207 - accuracy: 0.7197"
                ]
              },
              {
                "output_type": "stream",
                "name": "stdout",
                "text": [
                  "\b\b\b\b\b\b\b\b\b\b\b\b\b\b\b\b\b\b\b\b\b\b\b\b\b\b\b\b\b\b\b\b\b\b\b\b\b\b\b\b\b\b\b\b\b\b\b\b\b\b\b\b\b\b\b\b\b\b\b\b\b\b\b\b\b\b\b\b\b\b\b\b\b\b\b\b\b\b\b\b\b\b\b\b\r128/600 [=====>........................] - ETA: 1s - loss: 3.2048 - accuracy: 0.7199"
                ]
              },
              {
                "output_type": "stream",
                "name": "stdout",
                "text": [
                  "\b\b\b\b\b\b\b\b\b\b\b\b\b\b\b\b\b\b\b\b\b\b\b\b\b\b\b\b\b\b\b\b\b\b\b\b\b\b\b\b\b\b\b\b\b\b\b\b\b\b\b\b\b\b\b\b\b\b\b\b\b\b\b\b\b\b\b\b\b\b\b\b\b\b\b\b\b\b\b\b\b\b\b\b\r153/600 [======>.......................] - ETA: 1s - loss: 3.1888 - accuracy: 0.7173"
                ]
              },
              {
                "output_type": "stream",
                "name": "stdout",
                "text": [
                  "\b\b\b\b\b\b\b\b\b\b\b\b\b\b\b\b\b\b\b\b\b\b\b\b\b\b\b\b\b\b\b\b\b\b\b\b\b\b\b\b\b\b\b\b\b\b\b\b\b\b\b\b\b\b\b\b\b\b\b\b\b\b\b\b\b\b\b\b\b\b\b\b\b\b\b\b\b\b\b\b\b\b\b\b\r179/600 [=======>......................] - ETA: 0s - loss: 3.1669 - accuracy: 0.7185"
                ]
              },
              {
                "output_type": "stream",
                "name": "stdout",
                "text": [
                  "\b\b\b\b\b\b\b\b\b\b\b\b\b\b\b\b\b\b\b\b\b\b\b\b\b\b\b\b\b\b\b\b\b\b\b\b\b\b\b\b\b\b\b\b\b\b\b\b\b\b\b\b\b\b\b\b\b\b\b\b\b\b\b\b\b\b\b\b\b\b\b\b\b\b\b\b\b\b\b\b\b\b\b\b\r203/600 [=========>....................] - ETA: 0s - loss: 3.1478 - accuracy: 0.7198"
                ]
              },
              {
                "output_type": "stream",
                "name": "stdout",
                "text": [
                  "\b\b\b\b\b\b\b\b\b\b\b\b\b\b\b\b\b\b\b\b\b\b\b\b\b\b\b\b\b\b\b\b\b\b\b\b\b\b\b\b\b\b\b\b\b\b\b\b\b\b\b\b\b\b\b\b\b\b\b\b\b\b\b\b\b\b\b\b\b\b\b\b\b\b\b\b\b\b\b\b\b\b\b\b\r228/600 [==========>...................] - ETA: 0s - loss: 3.1289 - accuracy: 0.7208"
                ]
              },
              {
                "output_type": "stream",
                "name": "stdout",
                "text": [
                  "\b\b\b\b\b\b\b\b\b\b\b\b\b\b\b\b\b\b\b\b\b\b\b\b\b\b\b\b\b\b\b\b\b\b\b\b\b\b\b\b\b\b\b\b\b\b\b\b\b\b\b\b\b\b\b\b\b\b\b\b\b\b\b\b\b\b\b\b\b\b\b\b\b\b\b\b\b\b\b\b\b\b\b\b\r253/600 [===========>..................] - ETA: 0s - loss: 3.1130 - accuracy: 0.7201"
                ]
              },
              {
                "output_type": "stream",
                "name": "stdout",
                "text": [
                  "\b\b\b\b\b\b\b\b\b\b\b\b\b\b\b\b\b\b\b\b\b\b\b\b\b\b\b\b\b\b\b\b\b\b\b\b\b\b\b\b\b\b\b\b\b\b\b\b\b\b\b\b\b\b\b\b\b\b\b\b\b\b\b\b\b\b\b\b\b\b\b\b\b\b\b\b\b\b\b\b\b\b\b\b\r278/600 [============>.................] - ETA: 0s - loss: 3.0976 - accuracy: 0.7210"
                ]
              },
              {
                "output_type": "stream",
                "name": "stdout",
                "text": [
                  "\b\b\b\b\b\b\b\b\b\b\b\b\b\b\b\b\b\b\b\b\b\b\b\b\b\b\b\b\b\b\b\b\b\b\b\b\b\b\b\b\b\b\b\b\b\b\b\b\b\b\b\b\b\b\b\b\b\b\b\b\b\b\b\b\b\b\b\b\b\b\b\b\b\b\b\b\b\b\b\b\b\b\b\b\r303/600 [==============>...............] - ETA: 0s - loss: 3.0827 - accuracy: 0.7213"
                ]
              },
              {
                "output_type": "stream",
                "name": "stdout",
                "text": [
                  "\b\b\b\b\b\b\b\b\b\b\b\b\b\b\b\b\b\b\b\b\b\b\b\b\b\b\b\b\b\b\b\b\b\b\b\b\b\b\b\b\b\b\b\b\b\b\b\b\b\b\b\b\b\b\b\b\b\b\b\b\b\b\b\b\b\b\b\b\b\b\b\b\b\b\b\b\b\b\b\b\b\b\b\b\r327/600 [===============>..............] - ETA: 0s - loss: 3.0676 - accuracy: 0.7213"
                ]
              },
              {
                "output_type": "stream",
                "name": "stdout",
                "text": [
                  "\b\b\b\b\b\b\b\b\b\b\b\b\b\b\b\b\b\b\b\b\b\b\b\b\b\b\b\b\b\b\b\b\b\b\b\b\b\b\b\b\b\b\b\b\b\b\b\b\b\b\b\b\b\b\b\b\b\b\b\b\b\b\b\b\b\b\b\b\b\b\b\b\b\b\b\b\b\b\b\b\b\b\b\b\r348/600 [================>.............] - ETA: 0s - loss: 3.0560 - accuracy: 0.7213"
                ]
              },
              {
                "output_type": "stream",
                "name": "stdout",
                "text": [
                  "\b\b\b\b\b\b\b\b\b\b\b\b\b\b\b\b\b\b\b\b\b\b\b\b\b\b\b\b\b\b\b\b\b\b\b\b\b\b\b\b\b\b\b\b\b\b\b\b\b\b\b\b\b\b\b\b\b\b\b\b\b\b\b\b\b\b\b\b\b\b\b\b\b\b\b\b\b\b\b\b\b\b\b\b\r371/600 [=================>............] - ETA: 0s - loss: 3.0425 - accuracy: 0.7214"
                ]
              },
              {
                "output_type": "stream",
                "name": "stdout",
                "text": [
                  "\b\b\b\b\b\b\b\b\b\b\b\b\b\b\b\b\b\b\b\b\b\b\b\b\b\b\b\b\b\b\b\b\b\b\b\b\b\b\b\b\b\b\b\b\b\b\b\b\b\b\b\b\b\b\b\b\b\b\b\b\b\b\b\b\b\b\b\b\b\b\b\b\b\b\b\b\b\b\b\b\b\b\b\b\r393/600 [==================>...........] - ETA: 0s - loss: 3.0327 - accuracy: 0.7213"
                ]
              },
              {
                "output_type": "stream",
                "name": "stdout",
                "text": [
                  "\b\b\b\b\b\b\b\b\b\b\b\b\b\b\b\b\b\b\b\b\b\b\b\b\b\b\b\b\b\b\b\b\b\b\b\b\b\b\b\b\b\b\b\b\b\b\b\b\b\b\b\b\b\b\b\b\b\b\b\b\b\b\b\b\b\b\b\b\b\b\b\b\b\b\b\b\b\b\b\b\b\b\b\b\r415/600 [===================>..........] - ETA: 0s - loss: 3.0205 - accuracy: 0.7216"
                ]
              },
              {
                "output_type": "stream",
                "name": "stdout",
                "text": [
                  "\b\b\b\b\b\b\b\b\b\b\b\b\b\b\b\b\b\b\b\b\b\b\b\b\b\b\b\b\b\b\b\b\b\b\b\b\b\b\b\b\b\b\b\b\b\b\b\b\b\b\b\b\b\b\b\b\b\b\b\b\b\b\b\b\b\b\b\b\b\b\b\b\b\b\b\b\b\b\b\b\b\b\b\b\r440/600 [=====================>........] - ETA: 0s - loss: 3.0054 - accuracy: 0.7223"
                ]
              },
              {
                "output_type": "stream",
                "name": "stdout",
                "text": [
                  "\b\b\b\b\b\b\b\b\b\b\b\b\b\b\b\b\b\b\b\b\b\b\b\b\b\b\b\b\b\b\b\b\b\b\b\b\b\b\b\b\b\b\b\b\b\b\b\b\b\b\b\b\b\b\b\b\b\b\b\b\b\b\b\b\b\b\b\b\b\b\b\b\b\b\b\b\b\b\b\b\b\b\b\b\r463/600 [======================>.......] - ETA: 0s - loss: 2.9923 - accuracy: 0.7230"
                ]
              },
              {
                "output_type": "stream",
                "name": "stdout",
                "text": [
                  "\b\b\b\b\b\b\b\b\b\b\b\b\b\b\b\b\b\b\b\b\b\b\b\b\b\b\b\b\b\b\b\b\b\b\b\b\b\b\b\b\b\b\b\b\b\b\b\b\b\b\b\b\b\b\b\b\b\b\b\b\b\b\b\b\b\b\b\b\b\b\b\b\b\b\b\b\b\b\b\b\b\b\b\b\r488/600 [=======================>......] - ETA: 0s - loss: 2.9773 - accuracy: 0.7238"
                ]
              },
              {
                "output_type": "stream",
                "name": "stdout",
                "text": [
                  "\b\b\b\b\b\b\b\b\b\b\b\b\b\b\b\b\b\b\b\b\b\b\b\b\b\b\b\b\b\b\b\b\b\b\b\b\b\b\b\b\b\b\b\b\b\b\b\b\b\b\b\b\b\b\b\b\b\b\b\b\b\b\b\b\b\b\b\b\b\b\b\b\b\b\b\b\b\b\b\b\b\b\b\b\r499/600 [=======================>......] - ETA: 0s - loss: 2.9714 - accuracy: 0.7239"
                ]
              },
              {
                "output_type": "stream",
                "name": "stdout",
                "text": [
                  "\b\b\b\b\b\b\b\b\b\b\b\b\b\b\b\b\b\b\b\b\b\b\b\b\b\b\b\b\b\b\b\b\b\b\b\b\b\b\b\b\b\b\b\b\b\b\b\b\b\b\b\b\b\b\b\b\b\b\b\b\b\b\b\b\b\b\b\b\b\b\b\b\b\b\b\b\b\b\b\b\b\b\b\b\r513/600 [========================>.....] - ETA: 0s - loss: 2.9625 - accuracy: 0.7240"
                ]
              },
              {
                "output_type": "stream",
                "name": "stdout",
                "text": [
                  "\b\b\b\b\b\b\b\b\b\b\b\b\b\b\b\b\b\b\b\b\b\b\b\b\b\b\b\b\b\b\b\b\b\b\b\b\b\b\b\b\b\b\b\b\b\b\b\b\b\b\b\b\b\b\b\b\b\b\b\b\b\b\b\b\b\b\b\b\b\b\b\b\b\b\b\b\b\b\b\b\b\b\b\b\r530/600 [=========================>....] - ETA: 0s - loss: 2.9532 - accuracy: 0.7236"
                ]
              },
              {
                "output_type": "stream",
                "name": "stdout",
                "text": [
                  "\b\b\b\b\b\b\b\b\b\b\b\b\b\b\b\b\b\b\b\b\b\b\b\b\b\b\b\b\b\b\b\b\b\b\b\b\b\b\b\b\b\b\b\b\b\b\b\b\b\b\b\b\b\b\b\b\b\b\b\b\b\b\b\b\b\b\b\b\b\b\b\b\b\b\b\b\b\b\b\b\b\b\b\b\r545/600 [==========================>...] - ETA: 0s - loss: 2.9434 - accuracy: 0.7243"
                ]
              },
              {
                "output_type": "stream",
                "name": "stdout",
                "text": [
                  "\b\b\b\b\b\b\b\b\b\b\b\b\b\b\b\b\b\b\b\b\b\b\b\b\b\b\b\b\b\b\b\b\b\b\b\b\b\b\b\b\b\b\b\b\b\b\b\b\b\b\b\b\b\b\b\b\b\b\b\b\b\b\b\b\b\b\b\b\b\b\b\b\b\b\b\b\b\b\b\b\b\b\b\b\r560/600 [===========================>..] - ETA: 0s - loss: 2.9342 - accuracy: 0.7246"
                ]
              },
              {
                "output_type": "stream",
                "name": "stdout",
                "text": [
                  "\b\b\b\b\b\b\b\b\b\b\b\b\b\b\b\b\b\b\b\b\b\b\b\b\b\b\b\b\b\b\b\b\b\b\b\b\b\b\b\b\b\b\b\b\b\b\b\b\b\b\b\b\b\b\b\b\b\b\b\b\b\b\b\b\b\b\b\b\b\b\b\b\b\b\b\b\b\b\b\b\b\b\b\b\r573/600 [===========================>..] - ETA: 0s - loss: 2.9279 - accuracy: 0.7242"
                ]
              },
              {
                "output_type": "stream",
                "name": "stdout",
                "text": [
                  "\b\b\b\b\b\b\b\b\b\b\b\b\b\b\b\b\b\b\b\b\b\b\b\b\b\b\b\b\b\b\b\b\b\b\b\b\b\b\b\b\b\b\b\b\b\b\b\b\b\b\b\b\b\b\b\b\b\b\b\b\b\b\b\b\b\b\b\b\b\b\b\b\b\b\b\b\b\b\b\b\b\b\b\b\r588/600 [============================>.] - ETA: 0s - loss: 2.9201 - accuracy: 0.7240"
                ]
              },
              {
                "output_type": "stream",
                "name": "stdout",
                "text": [
                  "\b\b\b\b\b\b\b\b\b\b\b\b\b\b\b\b\b\b\b\b\b\b\b\b\b\b\b\b\b\b\b\b\b\b\b\b\b\b\b\b\b\b\b\b\b\b\b\b\b\b\b\b\b\b\b\b\b\b\b\b\b\b\b\b\b\b\b\b\b\b\b\b\b\b\b\b\b\b\b\b\b\b\b\b\r600/600 [==============================] - 2s 3ms/step - loss: 2.9138 - accuracy: 0.7241 - val_loss: 2.5538 - val_accuracy: 0.7466\n"
                ]
              },
              {
                "output_type": "stream",
                "name": "stdout",
                "text": [
                  "Epoch 6/20\n"
                ]
              },
              {
                "output_type": "stream",
                "name": "stdout",
                "text": [
                  "\r  1/600 [..............................] - ETA: 6s - loss: 2.6387 - accuracy: 0.7000"
                ]
              },
              {
                "output_type": "stream",
                "name": "stdout",
                "text": [
                  "\b\b\b\b\b\b\b\b\b\b\b\b\b\b\b\b\b\b\b\b\b\b\b\b\b\b\b\b\b\b\b\b\b\b\b\b\b\b\b\b\b\b\b\b\b\b\b\b\b\b\b\b\b\b\b\b\b\b\b\b\b\b\b\b\b\b\b\b\b\b\b\b\b\b\b\b\b\b\b\b\b\b\b\b\r 17/600 [..............................] - ETA: 1s - loss: 2.5999 - accuracy: 0.7229"
                ]
              },
              {
                "output_type": "stream",
                "name": "stdout",
                "text": [
                  "\b\b\b\b\b\b\b\b\b\b\b\b\b\b\b\b\b\b\b\b\b\b\b\b\b\b\b\b\b\b\b\b\b\b\b\b\b\b\b\b\b\b\b\b\b\b\b\b\b\b\b\b\b\b\b\b\b\b\b\b\b\b\b\b\b\b\b\b\b\b\b\b\b\b\b\b\b\b\b\b\b\b\b\b\r 32/600 [>.............................] - ETA: 1s - loss: 2.5935 - accuracy: 0.7191"
                ]
              },
              {
                "output_type": "stream",
                "name": "stdout",
                "text": [
                  "\b\b\b\b\b\b\b\b\b\b\b\b\b\b\b\b\b\b\b\b\b\b\b\b\b\b\b\b\b\b\b\b\b\b\b\b\b\b\b\b\b\b\b\b\b\b\b\b\b\b\b\b\b\b\b\b\b\b\b\b\b\b\b\b\b\b\b\b\b\b\b\b\b\b\b\b\b\b\b\b\b\b\b\b\r 49/600 [=>............................] - ETA: 1s - loss: 2.5662 - accuracy: 0.7245"
                ]
              },
              {
                "output_type": "stream",
                "name": "stdout",
                "text": [
                  "\b\b\b\b\b\b\b\b\b\b\b\b\b\b\b\b\b\b\b\b\b\b\b\b\b\b\b\b\b\b\b\b\b\b\b\b\b\b\b\b\b\b\b\b\b\b\b\b\b\b\b\b\b\b\b\b\b\b\b\b\b\b\b\b\b\b\b\b\b\b\b\b\b\b\b\b\b\b\b\b\b\b\b\b\r 66/600 [==>...........................] - ETA: 1s - loss: 2.5494 - accuracy: 0.7311"
                ]
              },
              {
                "output_type": "stream",
                "name": "stdout",
                "text": [
                  "\b\b\b\b\b\b\b\b\b\b\b\b\b\b\b\b\b\b\b\b\b\b\b\b\b\b\b\b\b\b\b\b\b\b\b\b\b\b\b\b\b\b\b\b\b\b\b\b\b\b\b\b\b\b\b\b\b\b\b\b\b\b\b\b\b\b\b\b\b\b\b\b\b\b\b\b\b\b\b\b\b\b\b\b\r 83/600 [===>..........................] - ETA: 1s - loss: 2.5381 - accuracy: 0.7324"
                ]
              },
              {
                "output_type": "stream",
                "name": "stdout",
                "text": [
                  "\b\b\b\b\b\b\b\b\b\b\b\b\b\b\b\b\b\b\b\b\b\b\b\b\b\b\b\b\b\b\b\b\b\b\b\b\b\b\b\b\b\b\b\b\b\b\b\b\b\b\b\b\b\b\b\b\b\b\b\b\b\b\b\b\b\b\b\b\b\b\b\b\b\b\b\b\b\b\b\b\b\b\b\b\r 97/600 [===>..........................] - ETA: 1s - loss: 2.5290 - accuracy: 0.7333"
                ]
              },
              {
                "output_type": "stream",
                "name": "stdout",
                "text": [
                  "\b\b\b\b\b\b\b\b\b\b\b\b\b\b\b\b\b\b\b\b\b\b\b\b\b\b\b\b\b\b\b\b\b\b\b\b\b\b\b\b\b\b\b\b\b\b\b\b\b\b\b\b\b\b\b\b\b\b\b\b\b\b\b\b\b\b\b\b\b\b\b\b\b\b\b\b\b\b\b\b\b\b\b\b\r113/600 [====>.........................] - ETA: 1s - loss: 2.5227 - accuracy: 0.7346"
                ]
              },
              {
                "output_type": "stream",
                "name": "stdout",
                "text": [
                  "\b\b\b\b\b\b\b\b\b\b\b\b\b\b\b\b\b\b\b\b\b\b\b\b\b\b\b\b\b\b\b\b\b\b\b\b\b\b\b\b\b\b\b\b\b\b\b\b\b\b\b\b\b\b\b\b\b\b\b\b\b\b\b\b\b\b\b\b\b\b\b\b\b\b\b\b\b\b\b\b\b\b\b\b\r128/600 [=====>........................] - ETA: 1s - loss: 2.5179 - accuracy: 0.7343"
                ]
              },
              {
                "output_type": "stream",
                "name": "stdout",
                "text": [
                  "\b\b\b\b\b\b\b\b\b\b\b\b\b\b\b\b\b\b\b\b\b\b\b\b\b\b\b\b\b\b\b\b\b\b\b\b\b\b\b\b\b\b\b\b\b\b\b\b\b\b\b\b\b\b\b\b\b\b\b\b\b\b\b\b\b\b\b\b\b\b\b\b\b\b\b\b\b\b\b\b\b\b\b\b\r145/600 [======>.......................] - ETA: 1s - loss: 2.5113 - accuracy: 0.7335"
                ]
              },
              {
                "output_type": "stream",
                "name": "stdout",
                "text": [
                  "\b\b\b\b\b\b\b\b\b\b\b\b\b\b\b\b\b\b\b\b\b\b\b\b\b\b\b\b\b\b\b\b\b\b\b\b\b\b\b\b\b\b\b\b\b\b\b\b\b\b\b\b\b\b\b\b\b\b\b\b\b\b\b\b\b\b\b\b\b\b\b\b\b\b\b\b\b\b\b\b\b\b\b\b\r161/600 [=======>......................] - ETA: 1s - loss: 2.4995 - accuracy: 0.7358"
                ]
              },
              {
                "output_type": "stream",
                "name": "stdout",
                "text": [
                  "\b\b\b\b\b\b\b\b\b\b\b\b\b\b\b\b\b\b\b\b\b\b\b\b\b\b\b\b\b\b\b\b\b\b\b\b\b\b\b\b\b\b\b\b\b\b\b\b\b\b\b\b\b\b\b\b\b\b\b\b\b\b\b\b\b\b\b\b\b\b\b\b\b\b\b\b\b\b\b\b\b\b\b\b\r177/600 [=======>......................] - ETA: 1s - loss: 2.4944 - accuracy: 0.7355"
                ]
              },
              {
                "output_type": "stream",
                "name": "stdout",
                "text": [
                  "\b\b\b\b\b\b\b\b\b\b\b\b\b\b\b\b\b\b\b\b\b\b\b\b\b\b\b\b\b\b\b\b\b\b\b\b\b\b\b\b\b\b\b\b\b\b\b\b\b\b\b\b\b\b\b\b\b\b\b\b\b\b\b\b\b\b\b\b\b\b\b\b\b\b\b\b\b\b\b\b\b\b\b\b\r191/600 [========>.....................] - ETA: 1s - loss: 2.4895 - accuracy: 0.7353"
                ]
              },
              {
                "output_type": "stream",
                "name": "stdout",
                "text": [
                  "\b\b\b\b\b\b\b\b\b\b\b\b\b\b\b\b\b\b\b\b\b\b\b\b\b\b\b\b\b\b\b\b\b\b\b\b\b\b\b\b\b\b\b\b\b\b\b\b\b\b\b\b\b\b\b\b\b\b\b\b\b\b\b\b\b\b\b\b\b\b\b\b\b\b\b\b\b\b\b\b\b\b\b\b\r206/600 [=========>....................] - ETA: 1s - loss: 2.4890 - accuracy: 0.7334"
                ]
              },
              {
                "output_type": "stream",
                "name": "stdout",
                "text": [
                  "\b\b\b\b\b\b\b\b\b\b\b\b\b\b\b\b\b\b\b\b\b\b\b\b\b\b\b\b\b\b\b\b\b\b\b\b\b\b\b\b\b\b\b\b\b\b\b\b\b\b\b\b\b\b\b\b\b\b\b\b\b\b\b\b\b\b\b\b\b\b\b\b\b\b\b\b\b\b\b\b\b\b\b\b\r222/600 [==========>...................] - ETA: 1s - loss: 2.4793 - accuracy: 0.7351"
                ]
              },
              {
                "output_type": "stream",
                "name": "stdout",
                "text": [
                  "\b\b\b\b\b\b\b\b\b\b\b\b\b\b\b\b\b\b\b\b\b\b\b\b\b\b\b\b\b\b\b\b\b\b\b\b\b\b\b\b\b\b\b\b\b\b\b\b\b\b\b\b\b\b\b\b\b\b\b\b\b\b\b\b\b\b\b\b\b\b\b\b\b\b\b\b\b\b\b\b\b\b\b\b\r238/600 [==========>...................] - ETA: 1s - loss: 2.4731 - accuracy: 0.7352"
                ]
              },
              {
                "output_type": "stream",
                "name": "stdout",
                "text": [
                  "\b\b\b\b\b\b\b\b\b\b\b\b\b\b\b\b\b\b\b\b\b\b\b\b\b\b\b\b\b\b\b\b\b\b\b\b\b\b\b\b\b\b\b\b\b\b\b\b\b\b\b\b\b\b\b\b\b\b\b\b\b\b\b\b\b\b\b\b\b\b\b\b\b\b\b\b\b\b\b\b\b\b\b\b\r253/600 [===========>..................] - ETA: 1s - loss: 2.4651 - accuracy: 0.7360"
                ]
              },
              {
                "output_type": "stream",
                "name": "stdout",
                "text": [
                  "\b\b\b\b\b\b\b\b\b\b\b\b\b\b\b\b\b\b\b\b\b\b\b\b\b\b\b\b\b\b\b\b\b\b\b\b\b\b\b\b\b\b\b\b\b\b\b\b\b\b\b\b\b\b\b\b\b\b\b\b\b\b\b\b\b\b\b\b\b\b\b\b\b\b\b\b\b\b\b\b\b\b\b\b\r268/600 [============>.................] - ETA: 1s - loss: 2.4569 - accuracy: 0.7365"
                ]
              },
              {
                "output_type": "stream",
                "name": "stdout",
                "text": [
                  "\b\b\b\b\b\b\b\b\b\b\b\b\b\b\b\b\b\b\b\b\b\b\b\b\b\b\b\b\b\b\b\b\b\b\b\b\b\b\b\b\b\b\b\b\b\b\b\b\b\b\b\b\b\b\b\b\b\b\b\b\b\b\b\b\b\b\b\b\b\b\b\b\b\b\b\b\b\b\b\b\b\b\b\b\r282/600 [=============>................] - ETA: 1s - loss: 2.4500 - accuracy: 0.7368"
                ]
              },
              {
                "output_type": "stream",
                "name": "stdout",
                "text": [
                  "\b\b\b\b\b\b\b\b\b\b\b\b\b\b\b\b\b\b\b\b\b\b\b\b\b\b\b\b\b\b\b\b\b\b\b\b\b\b\b\b\b\b\b\b\b\b\b\b\b\b\b\b\b\b\b\b\b\b\b\b\b\b\b\b\b\b\b\b\b\b\b\b\b\b\b\b\b\b\b\b\b\b\b\b\r297/600 [=============>................] - ETA: 1s - loss: 2.4410 - accuracy: 0.7371"
                ]
              },
              {
                "output_type": "stream",
                "name": "stdout",
                "text": [
                  "\b\b\b\b\b\b\b\b\b\b\b\b\b\b\b\b\b\b\b\b\b\b\b\b\b\b\b\b\b\b\b\b\b\b\b\b\b\b\b\b\b\b\b\b\b\b\b\b\b\b\b\b\b\b\b\b\b\b\b\b\b\b\b\b\b\b\b\b\b\b\b\b\b\b\b\b\b\b\b\b\b\b\b\b\r312/600 [==============>...............] - ETA: 0s - loss: 2.4329 - accuracy: 0.7384"
                ]
              },
              {
                "output_type": "stream",
                "name": "stdout",
                "text": [
                  "\b\b\b\b\b\b\b\b\b\b\b\b\b\b\b\b\b\b\b\b\b\b\b\b\b\b\b\b\b\b\b\b\b\b\b\b\b\b\b\b\b\b\b\b\b\b\b\b\b\b\b\b\b\b\b\b\b\b\b\b\b\b\b\b\b\b\b\b\b\b\b\b\b\b\b\b\b\b\b\b\b\b\b\b\r326/600 [===============>..............] - ETA: 0s - loss: 2.4250 - accuracy: 0.7394"
                ]
              },
              {
                "output_type": "stream",
                "name": "stdout",
                "text": [
                  "\b\b\b\b\b\b\b\b\b\b\b\b\b\b\b\b\b\b\b\b\b\b\b\b\b\b\b\b\b\b\b\b\b\b\b\b\b\b\b\b\b\b\b\b\b\b\b\b\b\b\b\b\b\b\b\b\b\b\b\b\b\b\b\b\b\b\b\b\b\b\b\b\b\b\b\b\b\b\b\b\b\b\b\b\r340/600 [================>.............] - ETA: 0s - loss: 2.4200 - accuracy: 0.7399"
                ]
              },
              {
                "output_type": "stream",
                "name": "stdout",
                "text": [
                  "\b\b\b\b\b\b\b\b\b\b\b\b\b\b\b\b\b\b\b\b\b\b\b\b\b\b\b\b\b\b\b\b\b\b\b\b\b\b\b\b\b\b\b\b\b\b\b\b\b\b\b\b\b\b\b\b\b\b\b\b\b\b\b\b\b\b\b\b\b\b\b\b\b\b\b\b\b\b\b\b\b\b\b\b\r352/600 [================>.............] - ETA: 0s - loss: 2.4154 - accuracy: 0.7403"
                ]
              },
              {
                "output_type": "stream",
                "name": "stdout",
                "text": [
                  "\b\b\b\b\b\b\b\b\b\b\b\b\b\b\b\b\b\b\b\b\b\b\b\b\b\b\b\b\b\b\b\b\b\b\b\b\b\b\b\b\b\b\b\b\b\b\b\b\b\b\b\b\b\b\b\b\b\b\b\b\b\b\b\b\b\b\b\b\b\b\b\b\b\b\b\b\b\b\b\b\b\b\b\b\r365/600 [=================>............] - ETA: 0s - loss: 2.4083 - accuracy: 0.7410"
                ]
              },
              {
                "output_type": "stream",
                "name": "stdout",
                "text": [
                  "\b\b\b\b\b\b\b\b\b\b\b\b\b\b\b\b\b\b\b\b\b\b\b\b\b\b\b\b\b\b\b\b\b\b\b\b\b\b\b\b\b\b\b\b\b\b\b\b\b\b\b\b\b\b\b\b\b\b\b\b\b\b\b\b\b\b\b\b\b\b\b\b\b\b\b\b\b\b\b\b\b\b\b\b\r377/600 [=================>............] - ETA: 0s - loss: 2.4016 - accuracy: 0.7423"
                ]
              },
              {
                "output_type": "stream",
                "name": "stdout",
                "text": [
                  "\b\b\b\b\b\b\b\b\b\b\b\b\b\b\b\b\b\b\b\b\b\b\b\b\b\b\b\b\b\b\b\b\b\b\b\b\b\b\b\b\b\b\b\b\b\b\b\b\b\b\b\b\b\b\b\b\b\b\b\b\b\b\b\b\b\b\b\b\b\b\b\b\b\b\b\b\b\b\b\b\b\b\b\b\r390/600 [==================>...........] - ETA: 0s - loss: 2.3949 - accuracy: 0.7429"
                ]
              },
              {
                "output_type": "stream",
                "name": "stdout",
                "text": [
                  "\b\b\b\b\b\b\b\b\b\b\b\b\b\b\b\b\b\b\b\b\b\b\b\b\b\b\b\b\b\b\b\b\b\b\b\b\b\b\b\b\b\b\b\b\b\b\b\b\b\b\b\b\b\b\b\b\b\b\b\b\b\b\b\b\b\b\b\b\b\b\b\b\b\b\b\b\b\b\b\b\b\b\b\b\r402/600 [===================>..........] - ETA: 0s - loss: 2.3885 - accuracy: 0.7440"
                ]
              },
              {
                "output_type": "stream",
                "name": "stdout",
                "text": [
                  "\b\b\b\b\b\b\b\b\b\b\b\b\b\b\b\b\b\b\b\b\b\b\b\b\b\b\b\b\b\b\b\b\b\b\b\b\b\b\b\b\b\b\b\b\b\b\b\b\b\b\b\b\b\b\b\b\b\b\b\b\b\b\b\b\b\b\b\b\b\b\b\b\b\b\b\b\b\b\b\b\b\b\b\b\r415/600 [===================>..........] - ETA: 0s - loss: 2.3816 - accuracy: 0.7450"
                ]
              },
              {
                "output_type": "stream",
                "name": "stdout",
                "text": [
                  "\b\b\b\b\b\b\b\b\b\b\b\b\b\b\b\b\b\b\b\b\b\b\b\b\b\b\b\b\b\b\b\b\b\b\b\b\b\b\b\b\b\b\b\b\b\b\b\b\b\b\b\b\b\b\b\b\b\b\b\b\b\b\b\b\b\b\b\b\b\b\b\b\b\b\b\b\b\b\b\b\b\b\b\b\r428/600 [====================>.........] - ETA: 0s - loss: 2.3738 - accuracy: 0.7464"
                ]
              },
              {
                "output_type": "stream",
                "name": "stdout",
                "text": [
                  "\b\b\b\b\b\b\b\b\b\b\b\b\b\b\b\b\b\b\b\b\b\b\b\b\b\b\b\b\b\b\b\b\b\b\b\b\b\b\b\b\b\b\b\b\b\b\b\b\b\b\b\b\b\b\b\b\b\b\b\b\b\b\b\b\b\b\b\b\b\b\b\b\b\b\b\b\b\b\b\b\b\b\b\b\r440/600 [=====================>........] - ETA: 0s - loss: 2.3682 - accuracy: 0.7470"
                ]
              },
              {
                "output_type": "stream",
                "name": "stdout",
                "text": [
                  "\b\b\b\b\b\b\b\b\b\b\b\b\b\b\b\b\b\b\b\b\b\b\b\b\b\b\b\b\b\b\b\b\b\b\b\b\b\b\b\b\b\b\b\b\b\b\b\b\b\b\b\b\b\b\b\b\b\b\b\b\b\b\b\b\b\b\b\b\b\b\b\b\b\b\b\b\b\b\b\b\b\b\b\b\r453/600 [=====================>........] - ETA: 0s - loss: 2.3611 - accuracy: 0.7480"
                ]
              },
              {
                "output_type": "stream",
                "name": "stdout",
                "text": [
                  "\b\b\b\b\b\b\b\b\b\b\b\b\b\b\b\b\b\b\b\b\b\b\b\b\b\b\b\b\b\b\b\b\b\b\b\b\b\b\b\b\b\b\b\b\b\b\b\b\b\b\b\b\b\b\b\b\b\b\b\b\b\b\b\b\b\b\b\b\b\b\b\b\b\b\b\b\b\b\b\b\b\b\b\b\r469/600 [======================>.......] - ETA: 0s - loss: 2.3522 - accuracy: 0.7491"
                ]
              },
              {
                "output_type": "stream",
                "name": "stdout",
                "text": [
                  "\b\b\b\b\b\b\b\b\b\b\b\b\b\b\b\b\b\b\b\b\b\b\b\b\b\b\b\b\b\b\b\b\b\b\b\b\b\b\b\b\b\b\b\b\b\b\b\b\b\b\b\b\b\b\b\b\b\b\b\b\b\b\b\b\b\b\b\b\b\b\b\b\b\b\b\b\b\b\b\b\b\b\b\b\r484/600 [=======================>......] - ETA: 0s - loss: 2.3434 - accuracy: 0.7505"
                ]
              },
              {
                "output_type": "stream",
                "name": "stdout",
                "text": [
                  "\b\b\b\b\b\b\b\b\b\b\b\b\b\b\b\b\b\b\b\b\b\b\b\b\b\b\b\b\b\b\b\b\b\b\b\b\b\b\b\b\b\b\b\b\b\b\b\b\b\b\b\b\b\b\b\b\b\b\b\b\b\b\b\b\b\b\b\b\b\b\b\b\b\b\b\b\b\b\b\b\b\b\b\b\r497/600 [=======================>......] - ETA: 0s - loss: 2.3357 - accuracy: 0.7518"
                ]
              },
              {
                "output_type": "stream",
                "name": "stdout",
                "text": [
                  "\b\b\b\b\b\b\b\b\b\b\b\b\b\b\b\b\b\b\b\b\b\b\b\b\b\b\b\b\b\b\b\b\b\b\b\b\b\b\b\b\b\b\b\b\b\b\b\b\b\b\b\b\b\b\b\b\b\b\b\b\b\b\b\b\b\b\b\b\b\b\b\b\b\b\b\b\b\b\b\b\b\b\b\b\r512/600 [========================>.....] - ETA: 0s - loss: 2.3273 - accuracy: 0.7530"
                ]
              },
              {
                "output_type": "stream",
                "name": "stdout",
                "text": [
                  "\b\b\b\b\b\b\b\b\b\b\b\b\b\b\b\b\b\b\b\b\b\b\b\b\b\b\b\b\b\b\b\b\b\b\b\b\b\b\b\b\b\b\b\b\b\b\b\b\b\b\b\b\b\b\b\b\b\b\b\b\b\b\b\b\b\b\b\b\b\b\b\b\b\b\b\b\b\b\b\b\b\b\b\b\r528/600 [=========================>....] - ETA: 0s - loss: 2.3191 - accuracy: 0.7543"
                ]
              },
              {
                "output_type": "stream",
                "name": "stdout",
                "text": [
                  "\b\b\b\b\b\b\b\b\b\b\b\b\b\b\b\b\b\b\b\b\b\b\b\b\b\b\b\b\b\b\b\b\b\b\b\b\b\b\b\b\b\b\b\b\b\b\b\b\b\b\b\b\b\b\b\b\b\b\b\b\b\b\b\b\b\b\b\b\b\b\b\b\b\b\b\b\b\b\b\b\b\b\b\b\r545/600 [==========================>...] - ETA: 0s - loss: 2.3085 - accuracy: 0.7562"
                ]
              },
              {
                "output_type": "stream",
                "name": "stdout",
                "text": [
                  "\b\b\b\b\b\b\b\b\b\b\b\b\b\b\b\b\b\b\b\b\b\b\b\b\b\b\b\b\b\b\b\b\b\b\b\b\b\b\b\b\b\b\b\b\b\b\b\b\b\b\b\b\b\b\b\b\b\b\b\b\b\b\b\b\b\b\b\b\b\b\b\b\b\b\b\b\b\b\b\b\b\b\b\b\r558/600 [==========================>...] - ETA: 0s - loss: 2.3014 - accuracy: 0.7575"
                ]
              },
              {
                "output_type": "stream",
                "name": "stdout",
                "text": [
                  "\b\b\b\b\b\b\b\b\b\b\b\b\b\b\b\b\b\b\b\b\b\b\b\b\b\b\b\b\b\b\b\b\b\b\b\b\b\b\b\b\b\b\b\b\b\b\b\b\b\b\b\b\b\b\b\b\b\b\b\b\b\b\b\b\b\b\b\b\b\b\b\b\b\b\b\b\b\b\b\b\b\b\b\b\r572/600 [===========================>..] - ETA: 0s - loss: 2.2947 - accuracy: 0.7584"
                ]
              },
              {
                "output_type": "stream",
                "name": "stdout",
                "text": [
                  "\b\b\b\b\b\b\b\b\b\b\b\b\b\b\b\b\b\b\b\b\b\b\b\b\b\b\b\b\b\b\b\b\b\b\b\b\b\b\b\b\b\b\b\b\b\b\b\b\b\b\b\b\b\b\b\b\b\b\b\b\b\b\b\b\b\b\b\b\b\b\b\b\b\b\b\b\b\b\b\b\b\b\b\b\r592/600 [============================>.] - ETA: 0s - loss: 2.2833 - accuracy: 0.7604"
                ]
              },
              {
                "output_type": "stream",
                "name": "stdout",
                "text": [
                  "\b\b\b\b\b\b\b\b\b\b\b\b\b\b\b\b\b\b\b\b\b\b\b\b\b\b\b\b\b\b\b\b\b\b\b\b\b\b\b\b\b\b\b\b\b\b\b\b\b\b\b\b\b\b\b\b\b\b\b\b\b\b\b\b\b\b\b\b\b\b\b\b\b\b\b\b\b\b\b\b\b\b\b\b\r600/600 [==============================] - 2s 4ms/step - loss: 2.2787 - accuracy: 0.7610 - val_loss: 1.9349 - val_accuracy: 0.8122\n"
                ]
              },
              {
                "output_type": "stream",
                "name": "stdout",
                "text": [
                  "Epoch 7/20\n"
                ]
              },
              {
                "output_type": "stream",
                "name": "stdout",
                "text": [
                  "\r  1/600 [..............................] - ETA: 4s - loss: 2.0008 - accuracy: 0.7800"
                ]
              },
              {
                "output_type": "stream",
                "name": "stdout",
                "text": [
                  "\b\b\b\b\b\b\b\b\b\b\b\b\b\b\b\b\b\b\b\b\b\b\b\b\b\b\b\b\b\b\b\b\b\b\b\b\b\b\b\b\b\b\b\b\b\b\b\b\b\b\b\b\b\b\b\b\b\b\b\b\b\b\b\b\b\b\b\b\b\b\b\b\b\b\b\b\b\b\b\b\b\b\b\b\r 26/600 [>.............................] - ETA: 1s - loss: 1.9352 - accuracy: 0.8012"
                ]
              },
              {
                "output_type": "stream",
                "name": "stdout",
                "text": [
                  "\b\b\b\b\b\b\b\b\b\b\b\b\b\b\b\b\b\b\b\b\b\b\b\b\b\b\b\b\b\b\b\b\b\b\b\b\b\b\b\b\b\b\b\b\b\b\b\b\b\b\b\b\b\b\b\b\b\b\b\b\b\b\b\b\b\b\b\b\b\b\b\b\b\b\b\b\b\b\b\b\b\b\b\b\r 51/600 [=>............................] - ETA: 1s - loss: 1.9255 - accuracy: 0.8090"
                ]
              },
              {
                "output_type": "stream",
                "name": "stdout",
                "text": [
                  "\b\b\b\b\b\b\b\b\b\b\b\b\b\b\b\b\b\b\b\b\b\b\b\b\b\b\b\b\b\b\b\b\b\b\b\b\b\b\b\b\b\b\b\b\b\b\b\b\b\b\b\b\b\b\b\b\b\b\b\b\b\b\b\b\b\b\b\b\b\b\b\b\b\b\b\b\b\b\b\b\b\b\b\b\r 73/600 [==>...........................] - ETA: 1s - loss: 1.9275 - accuracy: 0.8071"
                ]
              },
              {
                "output_type": "stream",
                "name": "stdout",
                "text": [
                  "\b\b\b\b\b\b\b\b\b\b\b\b\b\b\b\b\b\b\b\b\b\b\b\b\b\b\b\b\b\b\b\b\b\b\b\b\b\b\b\b\b\b\b\b\b\b\b\b\b\b\b\b\b\b\b\b\b\b\b\b\b\b\b\b\b\b\b\b\b\b\b\b\b\b\b\b\b\b\b\b\b\b\b\b\r 91/600 [===>..........................] - ETA: 1s - loss: 1.9275 - accuracy: 0.8064"
                ]
              },
              {
                "output_type": "stream",
                "name": "stdout",
                "text": [
                  "\b\b\b\b\b\b\b\b\b\b\b\b\b\b\b\b\b\b\b\b\b\b\b\b\b\b\b\b\b\b\b\b\b\b\b\b\b\b\b\b\b\b\b\b\b\b\b\b\b\b\b\b\b\b\b\b\b\b\b\b\b\b\b\b\b\b\b\b\b\b\b\b\b\b\b\b\b\b\b\b\b\b\b\b\r110/600 [====>.........................] - ETA: 1s - loss: 1.9168 - accuracy: 0.8076"
                ]
              },
              {
                "output_type": "stream",
                "name": "stdout",
                "text": [
                  "\b\b\b\b\b\b\b\b\b\b\b\b\b\b\b\b\b\b\b\b\b\b\b\b\b\b\b\b\b\b\b\b\b\b\b\b\b\b\b\b\b\b\b\b\b\b\b\b\b\b\b\b\b\b\b\b\b\b\b\b\b\b\b\b\b\b\b\b\b\b\b\b\b\b\b\b\b\b\b\b\b\b\b\b\r133/600 [=====>........................] - ETA: 1s - loss: 1.9092 - accuracy: 0.8076"
                ]
              },
              {
                "output_type": "stream",
                "name": "stdout",
                "text": [
                  "\b\b\b\b\b\b\b\b\b\b\b\b\b\b\b\b\b\b\b\b\b\b\b\b\b\b\b\b\b\b\b\b\b\b\b\b\b\b\b\b\b\b\b\b\b\b\b\b\b\b\b\b\b\b\b\b\b\b\b\b\b\b\b\b\b\b\b\b\b\b\b\b\b\b\b\b\b\b\b\b\b\b\b\b\r157/600 [======>.......................] - ETA: 1s - loss: 1.8968 - accuracy: 0.8095"
                ]
              },
              {
                "output_type": "stream",
                "name": "stdout",
                "text": [
                  "\b\b\b\b\b\b\b\b\b\b\b\b\b\b\b\b\b\b\b\b\b\b\b\b\b\b\b\b\b\b\b\b\b\b\b\b\b\b\b\b\b\b\b\b\b\b\b\b\b\b\b\b\b\b\b\b\b\b\b\b\b\b\b\b\b\b\b\b\b\b\b\b\b\b\b\b\b\b\b\b\b\b\b\b\r182/600 [========>.....................] - ETA: 0s - loss: 1.8852 - accuracy: 0.8110"
                ]
              },
              {
                "output_type": "stream",
                "name": "stdout",
                "text": [
                  "\b\b\b\b\b\b\b\b\b\b\b\b\b\b\b\b\b\b\b\b\b\b\b\b\b\b\b\b\b\b\b\b\b\b\b\b\b\b\b\b\b\b\b\b\b\b\b\b\b\b\b\b\b\b\b\b\b\b\b\b\b\b\b\b\b\b\b\b\b\b\b\b\b\b\b\b\b\b\b\b\b\b\b\b\r202/600 [=========>....................] - ETA: 0s - loss: 1.8731 - accuracy: 0.8135"
                ]
              },
              {
                "output_type": "stream",
                "name": "stdout",
                "text": [
                  "\b\b\b\b\b\b\b\b\b\b\b\b\b\b\b\b\b\b\b\b\b\b\b\b\b\b\b\b\b\b\b\b\b\b\b\b\b\b\b\b\b\b\b\b\b\b\b\b\b\b\b\b\b\b\b\b\b\b\b\b\b\b\b\b\b\b\b\b\b\b\b\b\b\b\b\b\b\b\b\b\b\b\b\b\r224/600 [==========>...................] - ETA: 0s - loss: 1.8645 - accuracy: 0.8151"
                ]
              },
              {
                "output_type": "stream",
                "name": "stdout",
                "text": [
                  "\b\b\b\b\b\b\b\b\b\b\b\b\b\b\b\b\b\b\b\b\b\b\b\b\b\b\b\b\b\b\b\b\b\b\b\b\b\b\b\b\b\b\b\b\b\b\b\b\b\b\b\b\b\b\b\b\b\b\b\b\b\b\b\b\b\b\b\b\b\b\b\b\b\b\b\b\b\b\b\b\b\b\b\b\r248/600 [===========>..................] - ETA: 0s - loss: 1.8602 - accuracy: 0.8150"
                ]
              },
              {
                "output_type": "stream",
                "name": "stdout",
                "text": [
                  "\b\b\b\b\b\b\b\b\b\b\b\b\b\b\b\b\b\b\b\b\b\b\b\b\b\b\b\b\b\b\b\b\b\b\b\b\b\b\b\b\b\b\b\b\b\b\b\b\b\b\b\b\b\b\b\b\b\b\b\b\b\b\b\b\b\b\b\b\b\b\b\b\b\b\b\b\b\b\b\b\b\b\b\b\r272/600 [============>.................] - ETA: 0s - loss: 1.8511 - accuracy: 0.8155"
                ]
              },
              {
                "output_type": "stream",
                "name": "stdout",
                "text": [
                  "\b\b\b\b\b\b\b\b\b\b\b\b\b\b\b\b\b\b\b\b\b\b\b\b\b\b\b\b\b\b\b\b\b\b\b\b\b\b\b\b\b\b\b\b\b\b\b\b\b\b\b\b\b\b\b\b\b\b\b\b\b\b\b\b\b\b\b\b\b\b\b\b\b\b\b\b\b\b\b\b\b\b\b\b\r297/600 [=============>................] - ETA: 0s - loss: 1.8404 - accuracy: 0.8175"
                ]
              },
              {
                "output_type": "stream",
                "name": "stdout",
                "text": [
                  "\b\b\b\b\b\b\b\b\b\b\b\b\b\b\b\b\b\b\b\b\b\b\b\b\b\b\b\b\b\b\b\b\b\b\b\b\b\b\b\b\b\b\b\b\b\b\b\b\b\b\b\b\b\b\b\b\b\b\b\b\b\b\b\b\b\b\b\b\b\b\b\b\b\b\b\b\b\b\b\b\b\b\b\b\r320/600 [===============>..............] - ETA: 0s - loss: 1.8290 - accuracy: 0.8195"
                ]
              },
              {
                "output_type": "stream",
                "name": "stdout",
                "text": [
                  "\b\b\b\b\b\b\b\b\b\b\b\b\b\b\b\b\b\b\b\b\b\b\b\b\b\b\b\b\b\b\b\b\b\b\b\b\b\b\b\b\b\b\b\b\b\b\b\b\b\b\b\b\b\b\b\b\b\b\b\b\b\b\b\b\b\b\b\b\b\b\b\b\b\b\b\b\b\b\b\b\b\b\b\b\r342/600 [================>.............] - ETA: 0s - loss: 1.8197 - accuracy: 0.8212"
                ]
              },
              {
                "output_type": "stream",
                "name": "stdout",
                "text": [
                  "\b\b\b\b\b\b\b\b\b\b\b\b\b\b\b\b\b\b\b\b\b\b\b\b\b\b\b\b\b\b\b\b\b\b\b\b\b\b\b\b\b\b\b\b\b\b\b\b\b\b\b\b\b\b\b\b\b\b\b\b\b\b\b\b\b\b\b\b\b\b\b\b\b\b\b\b\b\b\b\b\b\b\b\b\r368/600 [=================>............] - ETA: 0s - loss: 1.8082 - accuracy: 0.8223"
                ]
              },
              {
                "output_type": "stream",
                "name": "stdout",
                "text": [
                  "\b\b\b\b\b\b\b\b\b\b\b\b\b\b\b\b\b\b\b\b\b\b\b\b\b\b\b\b\b\b\b\b\b\b\b\b\b\b\b\b\b\b\b\b\b\b\b\b\b\b\b\b\b\b\b\b\b\b\b\b\b\b\b\b\b\b\b\b\b\b\b\b\b\b\b\b\b\b\b\b\b\b\b\b\r393/600 [==================>...........] - ETA: 0s - loss: 1.7976 - accuracy: 0.8231"
                ]
              },
              {
                "output_type": "stream",
                "name": "stdout",
                "text": [
                  "\b\b\b\b\b\b\b\b\b\b\b\b\b\b\b\b\b\b\b\b\b\b\b\b\b\b\b\b\b\b\b\b\b\b\b\b\b\b\b\b\b\b\b\b\b\b\b\b\b\b\b\b\b\b\b\b\b\b\b\b\b\b\b\b\b\b\b\b\b\b\b\b\b\b\b\b\b\b\b\b\b\b\b\b\r411/600 [===================>..........] - ETA: 0s - loss: 1.7912 - accuracy: 0.8234"
                ]
              },
              {
                "output_type": "stream",
                "name": "stdout",
                "text": [
                  "\b\b\b\b\b\b\b\b\b\b\b\b\b\b\b\b\b\b\b\b\b\b\b\b\b\b\b\b\b\b\b\b\b\b\b\b\b\b\b\b\b\b\b\b\b\b\b\b\b\b\b\b\b\b\b\b\b\b\b\b\b\b\b\b\b\b\b\b\b\b\b\b\b\b\b\b\b\b\b\b\b\b\b\b\r418/600 [===================>..........] - ETA: 0s - loss: 1.7875 - accuracy: 0.8238"
                ]
              },
              {
                "output_type": "stream",
                "name": "stdout",
                "text": [
                  "\b\b\b\b\b\b\b\b\b\b\b\b\b\b\b\b\b\b\b\b\b\b\b\b\b\b\b\b\b\b\b\b\b\b\b\b\b\b\b\b\b\b\b\b\b\b\b\b\b\b\b\b\b\b\b\b\b\b\b\b\b\b\b\b\b\b\b\b\b\b\b\b\b\b\b\b\b\b\b\b\b\b\b\b\r424/600 [====================>.........] - ETA: 0s - loss: 1.7845 - accuracy: 0.8245"
                ]
              },
              {
                "output_type": "stream",
                "name": "stdout",
                "text": [
                  "\b\b\b\b\b\b\b\b\b\b\b\b\b\b\b\b\b\b\b\b\b\b\b\b\b\b\b\b\b\b\b\b\b\b\b\b\b\b\b\b\b\b\b\b\b\b\b\b\b\b\b\b\b\b\b\b\b\b\b\b\b\b\b\b\b\b\b\b\b\b\b\b\b\b\b\b\b\b\b\b\b\b\b\b\r431/600 [====================>.........] - ETA: 0s - loss: 1.7820 - accuracy: 0.8249"
                ]
              },
              {
                "output_type": "stream",
                "name": "stdout",
                "text": [
                  "\b\b\b\b\b\b\b\b\b\b\b\b\b\b\b\b\b\b\b\b\b\b\b\b\b\b\b\b\b\b\b\b\b\b\b\b\b\b\b\b\b\b\b\b\b\b\b\b\b\b\b\b\b\b\b\b\b\b\b\b\b\b\b\b\b\b\b\b\b\b\b\b\b\b\b\b\b\b\b\b\b\b\b\b\r449/600 [=====================>........] - ETA: 0s - loss: 1.7748 - accuracy: 0.8253"
                ]
              },
              {
                "output_type": "stream",
                "name": "stdout",
                "text": [
                  "\b\b\b\b\b\b\b\b\b\b\b\b\b\b\b\b\b\b\b\b\b\b\b\b\b\b\b\b\b\b\b\b\b\b\b\b\b\b\b\b\b\b\b\b\b\b\b\b\b\b\b\b\b\b\b\b\b\b\b\b\b\b\b\b\b\b\b\b\b\b\b\b\b\b\b\b\b\b\b\b\b\b\b\b\r473/600 [======================>.......] - ETA: 0s - loss: 1.7649 - accuracy: 0.8268"
                ]
              },
              {
                "output_type": "stream",
                "name": "stdout",
                "text": [
                  "\b\b\b\b\b\b\b\b\b\b\b\b\b\b\b\b\b\b\b\b\b\b\b\b\b\b\b\b\b\b\b\b\b\b\b\b\b\b\b\b\b\b\b\b\b\b\b\b\b\b\b\b\b\b\b\b\b\b\b\b\b\b\b\b\b\b\b\b\b\b\b\b\b\b\b\b\b\b\b\b\b\b\b\b\r493/600 [=======================>......] - ETA: 0s - loss: 1.7566 - accuracy: 0.8279"
                ]
              },
              {
                "output_type": "stream",
                "name": "stdout",
                "text": [
                  "\b\b\b\b\b\b\b\b\b\b\b\b\b\b\b\b\b\b\b\b\b\b\b\b\b\b\b\b\b\b\b\b\b\b\b\b\b\b\b\b\b\b\b\b\b\b\b\b\b\b\b\b\b\b\b\b\b\b\b\b\b\b\b\b\b\b\b\b\b\b\b\b\b\b\b\b\b\b\b\b\b\b\b\b\r516/600 [========================>.....] - ETA: 0s - loss: 1.7479 - accuracy: 0.8290"
                ]
              },
              {
                "output_type": "stream",
                "name": "stdout",
                "text": [
                  "\b\b\b\b\b\b\b\b\b\b\b\b\b\b\b\b\b\b\b\b\b\b\b\b\b\b\b\b\b\b\b\b\b\b\b\b\b\b\b\b\b\b\b\b\b\b\b\b\b\b\b\b\b\b\b\b\b\b\b\b\b\b\b\b\b\b\b\b\b\b\b\b\b\b\b\b\b\b\b\b\b\b\b\b\r539/600 [=========================>....] - ETA: 0s - loss: 1.7388 - accuracy: 0.8301"
                ]
              },
              {
                "output_type": "stream",
                "name": "stdout",
                "text": [
                  "\b\b\b\b\b\b\b\b\b\b\b\b\b\b\b\b\b\b\b\b\b\b\b\b\b\b\b\b\b\b\b\b\b\b\b\b\b\b\b\b\b\b\b\b\b\b\b\b\b\b\b\b\b\b\b\b\b\b\b\b\b\b\b\b\b\b\b\b\b\b\b\b\b\b\b\b\b\b\b\b\b\b\b\b\r564/600 [===========================>..] - ETA: 0s - loss: 1.7296 - accuracy: 0.8310"
                ]
              },
              {
                "output_type": "stream",
                "name": "stdout",
                "text": [
                  "\b\b\b\b\b\b\b\b\b\b\b\b\b\b\b\b\b\b\b\b\b\b\b\b\b\b\b\b\b\b\b\b\b\b\b\b\b\b\b\b\b\b\b\b\b\b\b\b\b\b\b\b\b\b\b\b\b\b\b\b\b\b\b\b\b\b\b\b\b\b\b\b\b\b\b\b\b\b\b\b\b\b\b\b\r589/600 [============================>.] - ETA: 0s - loss: 1.7210 - accuracy: 0.8320"
                ]
              },
              {
                "output_type": "stream",
                "name": "stdout",
                "text": [
                  "\b\b\b\b\b\b\b\b\b\b\b\b\b\b\b\b\b\b\b\b\b\b\b\b\b\b\b\b\b\b\b\b\b\b\b\b\b\b\b\b\b\b\b\b\b\b\b\b\b\b\b\b\b\b\b\b\b\b\b\b\b\b\b\b\b\b\b\b\b\b\b\b\b\b\b\b\b\b\b\b\b\b\b\b\r600/600 [==============================] - 2s 3ms/step - loss: 1.7176 - accuracy: 0.8322 - val_loss: 1.4927 - val_accuracy: 0.8501\n"
                ]
              },
              {
                "output_type": "stream",
                "name": "stdout",
                "text": [
                  "Epoch 8/20\n"
                ]
              },
              {
                "output_type": "stream",
                "name": "stdout",
                "text": [
                  "\r  1/600 [..............................] - ETA: 4s - loss: 1.5947 - accuracy: 0.8100"
                ]
              },
              {
                "output_type": "stream",
                "name": "stdout",
                "text": [
                  "\b\b\b\b\b\b\b\b\b\b\b\b\b\b\b\b\b\b\b\b\b\b\b\b\b\b\b\b\b\b\b\b\b\b\b\b\b\b\b\b\b\b\b\b\b\b\b\b\b\b\b\b\b\b\b\b\b\b\b\b\b\b\b\b\b\b\b\b\b\b\b\b\b\b\b\b\b\b\b\b\b\b\b\b\r 15/600 [..............................] - ETA: 2s - loss: 1.5394 - accuracy: 0.8407"
                ]
              },
              {
                "output_type": "stream",
                "name": "stdout",
                "text": [
                  "\b\b\b\b\b\b\b\b\b\b\b\b\b\b\b\b\b\b\b\b\b\b\b\b\b\b\b\b\b\b\b\b\b\b\b\b\b\b\b\b\b\b\b\b\b\b\b\b\b\b\b\b\b\b\b\b\b\b\b\b\b\b\b\b\b\b\b\b\b\b\b\b\b\b\b\b\b\b\b\b\b\b\b\b\r 28/600 [>.............................] - ETA: 2s - loss: 1.5113 - accuracy: 0.8486"
                ]
              },
              {
                "output_type": "stream",
                "name": "stdout",
                "text": [
                  "\b\b\b\b\b\b\b\b\b\b\b\b\b\b\b\b\b\b\b\b\b\b\b\b\b\b\b\b\b\b\b\b\b\b\b\b\b\b\b\b\b\b\b\b\b\b\b\b\b\b\b\b\b\b\b\b\b\b\b\b\b\b\b\b\b\b\b\b\b\b\b\b\b\b\b\b\b\b\b\b\b\b\b\b\r 38/600 [>.............................] - ETA: 2s - loss: 1.5256 - accuracy: 0.8432"
                ]
              },
              {
                "output_type": "stream",
                "name": "stdout",
                "text": [
                  "\b\b\b\b\b\b\b\b\b\b\b\b\b\b\b\b\b\b\b\b\b\b\b\b\b\b\b\b\b\b\b\b\b\b\b\b\b\b\b\b\b\b\b\b\b\b\b\b\b\b\b\b\b\b\b\b\b\b\b\b\b\b\b\b\b\b\b\b\b\b\b\b\b\b\b\b\b\b\b\b\b\b\b\b\r 47/600 [=>............................] - ETA: 2s - loss: 1.5139 - accuracy: 0.8464"
                ]
              },
              {
                "output_type": "stream",
                "name": "stdout",
                "text": [
                  "\b\b\b\b\b\b\b\b\b\b\b\b\b\b\b\b\b\b\b\b\b\b\b\b\b\b\b\b\b\b\b\b\b\b\b\b\b\b\b\b\b\b\b\b\b\b\b\b\b\b\b\b\b\b\b\b\b\b\b\b\b\b\b\b\b\b\b\b\b\b\b\b\b\b\b\b\b\b\b\b\b\b\b\b\r 60/600 [==>...........................] - ETA: 2s - loss: 1.5091 - accuracy: 0.8468"
                ]
              },
              {
                "output_type": "stream",
                "name": "stdout",
                "text": [
                  "\b\b\b\b\b\b\b\b\b\b\b\b\b\b\b\b\b\b\b\b\b\b\b\b\b\b\b\b\b\b\b\b\b\b\b\b\b\b\b\b\b\b\b\b\b\b\b\b\b\b\b\b\b\b\b\b\b\b\b\b\b\b\b\b\b\b\b\b\b\b\b\b\b\b\b\b\b\b\b\b\b\b\b\b\r 79/600 [==>...........................] - ETA: 2s - loss: 1.5017 - accuracy: 0.8482"
                ]
              },
              {
                "output_type": "stream",
                "name": "stdout",
                "text": [
                  "\b\b\b\b\b\b\b\b\b\b\b\b\b\b\b\b\b\b\b\b\b\b\b\b\b\b\b\b\b\b\b\b\b\b\b\b\b\b\b\b\b\b\b\b\b\b\b\b\b\b\b\b\b\b\b\b\b\b\b\b\b\b\b\b\b\b\b\b\b\b\b\b\b\b\b\b\b\b\b\b\b\b\b\b\r102/600 [====>.........................] - ETA: 1s - loss: 1.4824 - accuracy: 0.8529"
                ]
              },
              {
                "output_type": "stream",
                "name": "stdout",
                "text": [
                  "\b\b\b\b\b\b\b\b\b\b\b\b\b\b\b\b\b\b\b\b\b\b\b\b\b\b\b\b\b\b\b\b\b\b\b\b\b\b\b\b\b\b\b\b\b\b\b\b\b\b\b\b\b\b\b\b\b\b\b\b\b\b\b\b\b\b\b\b\b\b\b\b\b\b\b\b\b\b\b\b\b\b\b\b\r126/600 [=====>........................] - ETA: 1s - loss: 1.4686 - accuracy: 0.8548"
                ]
              },
              {
                "output_type": "stream",
                "name": "stdout",
                "text": [
                  "\b\b\b\b\b\b\b\b\b\b\b\b\b\b\b\b\b\b\b\b\b\b\b\b\b\b\b\b\b\b\b\b\b\b\b\b\b\b\b\b\b\b\b\b\b\b\b\b\b\b\b\b\b\b\b\b\b\b\b\b\b\b\b\b\b\b\b\b\b\b\b\b\b\b\b\b\b\b\b\b\b\b\b\b\r151/600 [======>.......................] - ETA: 1s - loss: 1.4617 - accuracy: 0.8552"
                ]
              },
              {
                "output_type": "stream",
                "name": "stdout",
                "text": [
                  "\b\b\b\b\b\b\b\b\b\b\b\b\b\b\b\b\b\b\b\b\b\b\b\b\b\b\b\b\b\b\b\b\b\b\b\b\b\b\b\b\b\b\b\b\b\b\b\b\b\b\b\b\b\b\b\b\b\b\b\b\b\b\b\b\b\b\b\b\b\b\b\b\b\b\b\b\b\b\b\b\b\b\b\b\r170/600 [=======>......................] - ETA: 1s - loss: 1.4562 - accuracy: 0.8555"
                ]
              },
              {
                "output_type": "stream",
                "name": "stdout",
                "text": [
                  "\b\b\b\b\b\b\b\b\b\b\b\b\b\b\b\b\b\b\b\b\b\b\b\b\b\b\b\b\b\b\b\b\b\b\b\b\b\b\b\b\b\b\b\b\b\b\b\b\b\b\b\b\b\b\b\b\b\b\b\b\b\b\b\b\b\b\b\b\b\b\b\b\b\b\b\b\b\b\b\b\b\b\b\b\r194/600 [========>.....................] - ETA: 1s - loss: 1.4553 - accuracy: 0.8537"
                ]
              },
              {
                "output_type": "stream",
                "name": "stdout",
                "text": [
                  "\b\b\b\b\b\b\b\b\b\b\b\b\b\b\b\b\b\b\b\b\b\b\b\b\b\b\b\b\b\b\b\b\b\b\b\b\b\b\b\b\b\b\b\b\b\b\b\b\b\b\b\b\b\b\b\b\b\b\b\b\b\b\b\b\b\b\b\b\b\b\b\b\b\b\b\b\b\b\b\b\b\b\b\b\r214/600 [=========>....................] - ETA: 1s - loss: 1.4499 - accuracy: 0.8541"
                ]
              },
              {
                "output_type": "stream",
                "name": "stdout",
                "text": [
                  "\b\b\b\b\b\b\b\b\b\b\b\b\b\b\b\b\b\b\b\b\b\b\b\b\b\b\b\b\b\b\b\b\b\b\b\b\b\b\b\b\b\b\b\b\b\b\b\b\b\b\b\b\b\b\b\b\b\b\b\b\b\b\b\b\b\b\b\b\b\b\b\b\b\b\b\b\b\b\b\b\b\b\b\b\r238/600 [==========>...................] - ETA: 1s - loss: 1.4430 - accuracy: 0.8546"
                ]
              },
              {
                "output_type": "stream",
                "name": "stdout",
                "text": [
                  "\b\b\b\b\b\b\b\b\b\b\b\b\b\b\b\b\b\b\b\b\b\b\b\b\b\b\b\b\b\b\b\b\b\b\b\b\b\b\b\b\b\b\b\b\b\b\b\b\b\b\b\b\b\b\b\b\b\b\b\b\b\b\b\b\b\b\b\b\b\b\b\b\b\b\b\b\b\b\b\b\b\b\b\b\r263/600 [============>.................] - ETA: 0s - loss: 1.4362 - accuracy: 0.8543"
                ]
              },
              {
                "output_type": "stream",
                "name": "stdout",
                "text": [
                  "\b\b\b\b\b\b\b\b\b\b\b\b\b\b\b\b\b\b\b\b\b\b\b\b\b\b\b\b\b\b\b\b\b\b\b\b\b\b\b\b\b\b\b\b\b\b\b\b\b\b\b\b\b\b\b\b\b\b\b\b\b\b\b\b\b\b\b\b\b\b\b\b\b\b\b\b\b\b\b\b\b\b\b\b\r288/600 [=============>................] - ETA: 0s - loss: 1.4327 - accuracy: 0.8533"
                ]
              },
              {
                "output_type": "stream",
                "name": "stdout",
                "text": [
                  "\b\b\b\b\b\b\b\b\b\b\b\b\b\b\b\b\b\b\b\b\b\b\b\b\b\b\b\b\b\b\b\b\b\b\b\b\b\b\b\b\b\b\b\b\b\b\b\b\b\b\b\b\b\b\b\b\b\b\b\b\b\b\b\b\b\b\b\b\b\b\b\b\b\b\b\b\b\b\b\b\b\b\b\b\r310/600 [==============>...............] - ETA: 0s - loss: 1.4265 - accuracy: 0.8540"
                ]
              },
              {
                "output_type": "stream",
                "name": "stdout",
                "text": [
                  "\b\b\b\b\b\b\b\b\b\b\b\b\b\b\b\b\b\b\b\b\b\b\b\b\b\b\b\b\b\b\b\b\b\b\b\b\b\b\b\b\b\b\b\b\b\b\b\b\b\b\b\b\b\b\b\b\b\b\b\b\b\b\b\b\b\b\b\b\b\b\b\b\b\b\b\b\b\b\b\b\b\b\b\b\r335/600 [===============>..............] - ETA: 0s - loss: 1.4195 - accuracy: 0.8544"
                ]
              },
              {
                "output_type": "stream",
                "name": "stdout",
                "text": [
                  "\b\b\b\b\b\b\b\b\b\b\b\b\b\b\b\b\b\b\b\b\b\b\b\b\b\b\b\b\b\b\b\b\b\b\b\b\b\b\b\b\b\b\b\b\b\b\b\b\b\b\b\b\b\b\b\b\b\b\b\b\b\b\b\b\b\b\b\b\b\b\b\b\b\b\b\b\b\b\b\b\b\b\b\b\r361/600 [=================>............] - ETA: 0s - loss: 1.4133 - accuracy: 0.8546"
                ]
              },
              {
                "output_type": "stream",
                "name": "stdout",
                "text": [
                  "\b\b\b\b\b\b\b\b\b\b\b\b\b\b\b\b\b\b\b\b\b\b\b\b\b\b\b\b\b\b\b\b\b\b\b\b\b\b\b\b\b\b\b\b\b\b\b\b\b\b\b\b\b\b\b\b\b\b\b\b\b\b\b\b\b\b\b\b\b\b\b\b\b\b\b\b\b\b\b\b\b\b\b\b\r387/600 [==================>...........] - ETA: 0s - loss: 1.4074 - accuracy: 0.8550"
                ]
              },
              {
                "output_type": "stream",
                "name": "stdout",
                "text": [
                  "\b\b\b\b\b\b\b\b\b\b\b\b\b\b\b\b\b\b\b\b\b\b\b\b\b\b\b\b\b\b\b\b\b\b\b\b\b\b\b\b\b\b\b\b\b\b\b\b\b\b\b\b\b\b\b\b\b\b\b\b\b\b\b\b\b\b\b\b\b\b\b\b\b\b\b\b\b\b\b\b\b\b\b\b\r413/600 [===================>..........] - ETA: 0s - loss: 1.4029 - accuracy: 0.8545"
                ]
              },
              {
                "output_type": "stream",
                "name": "stdout",
                "text": [
                  "\b\b\b\b\b\b\b\b\b\b\b\b\b\b\b\b\b\b\b\b\b\b\b\b\b\b\b\b\b\b\b\b\b\b\b\b\b\b\b\b\b\b\b\b\b\b\b\b\b\b\b\b\b\b\b\b\b\b\b\b\b\b\b\b\b\b\b\b\b\b\b\b\b\b\b\b\b\b\b\b\b\b\b\b\r432/600 [====================>.........] - ETA: 0s - loss: 1.3998 - accuracy: 0.8541"
                ]
              },
              {
                "output_type": "stream",
                "name": "stdout",
                "text": [
                  "\b\b\b\b\b\b\b\b\b\b\b\b\b\b\b\b\b\b\b\b\b\b\b\b\b\b\b\b\b\b\b\b\b\b\b\b\b\b\b\b\b\b\b\b\b\b\b\b\b\b\b\b\b\b\b\b\b\b\b\b\b\b\b\b\b\b\b\b\b\b\b\b\b\b\b\b\b\b\b\b\b\b\b\b\r458/600 [=====================>........] - ETA: 0s - loss: 1.3970 - accuracy: 0.8534"
                ]
              },
              {
                "output_type": "stream",
                "name": "stdout",
                "text": [
                  "\b\b\b\b\b\b\b\b\b\b\b\b\b\b\b\b\b\b\b\b\b\b\b\b\b\b\b\b\b\b\b\b\b\b\b\b\b\b\b\b\b\b\b\b\b\b\b\b\b\b\b\b\b\b\b\b\b\b\b\b\b\b\b\b\b\b\b\b\b\b\b\b\b\b\b\b\b\b\b\b\b\b\b\b\r483/600 [=======================>......] - ETA: 0s - loss: 1.3922 - accuracy: 0.8533"
                ]
              },
              {
                "output_type": "stream",
                "name": "stdout",
                "text": [
                  "\b\b\b\b\b\b\b\b\b\b\b\b\b\b\b\b\b\b\b\b\b\b\b\b\b\b\b\b\b\b\b\b\b\b\b\b\b\b\b\b\b\b\b\b\b\b\b\b\b\b\b\b\b\b\b\b\b\b\b\b\b\b\b\b\b\b\b\b\b\b\b\b\b\b\b\b\b\b\b\b\b\b\b\b\r506/600 [========================>.....] - ETA: 0s - loss: 1.3881 - accuracy: 0.8534"
                ]
              },
              {
                "output_type": "stream",
                "name": "stdout",
                "text": [
                  "\b\b\b\b\b\b\b\b\b\b\b\b\b\b\b\b\b\b\b\b\b\b\b\b\b\b\b\b\b\b\b\b\b\b\b\b\b\b\b\b\b\b\b\b\b\b\b\b\b\b\b\b\b\b\b\b\b\b\b\b\b\b\b\b\b\b\b\b\b\b\b\b\b\b\b\b\b\b\b\b\b\b\b\b\r531/600 [=========================>....] - ETA: 0s - loss: 1.3825 - accuracy: 0.8538"
                ]
              },
              {
                "output_type": "stream",
                "name": "stdout",
                "text": [
                  "\b\b\b\b\b\b\b\b\b\b\b\b\b\b\b\b\b\b\b\b\b\b\b\b\b\b\b\b\b\b\b\b\b\b\b\b\b\b\b\b\b\b\b\b\b\b\b\b\b\b\b\b\b\b\b\b\b\b\b\b\b\b\b\b\b\b\b\b\b\b\b\b\b\b\b\b\b\b\b\b\b\b\b\b\r557/600 [==========================>...] - ETA: 0s - loss: 1.3776 - accuracy: 0.8536"
                ]
              },
              {
                "output_type": "stream",
                "name": "stdout",
                "text": [
                  "\b\b\b\b\b\b\b\b\b\b\b\b\b\b\b\b\b\b\b\b\b\b\b\b\b\b\b\b\b\b\b\b\b\b\b\b\b\b\b\b\b\b\b\b\b\b\b\b\b\b\b\b\b\b\b\b\b\b\b\b\b\b\b\b\b\b\b\b\b\b\b\b\b\b\b\b\b\b\b\b\b\b\b\b\r578/600 [===========================>..] - ETA: 0s - loss: 1.3722 - accuracy: 0.8540"
                ]
              },
              {
                "output_type": "stream",
                "name": "stdout",
                "text": [
                  "\b\b\b\b\b\b\b\b\b\b\b\b\b\b\b\b\b\b\b\b\b\b\b\b\b\b\b\b\b\b\b\b\b\b\b\b\b\b\b\b\b\b\b\b\b\b\b\b\b\b\b\b\b\b\b\b\b\b\b\b\b\b\b\b\b\b\b\b\b\b\b\b\b\b\b\b\b\b\b\b\b\b\b\b\r600/600 [==============================] - 2s 3ms/step - loss: 1.3661 - accuracy: 0.8547 - val_loss: 1.2209 - val_accuracy: 0.8634\n"
                ]
              },
              {
                "output_type": "stream",
                "name": "stdout",
                "text": [
                  "Epoch 9/20\n"
                ]
              },
              {
                "output_type": "stream",
                "name": "stdout",
                "text": [
                  "\r  1/600 [..............................] - ETA: 4s - loss: 1.2579 - accuracy: 0.8800"
                ]
              },
              {
                "output_type": "stream",
                "name": "stdout",
                "text": [
                  "\b\b\b\b\b\b\b\b\b\b\b\b\b\b\b\b\b\b\b\b\b\b\b\b\b\b\b\b\b\b\b\b\b\b\b\b\b\b\b\b\b\b\b\b\b\b\b\b\b\b\b\b\b\b\b\b\b\b\b\b\b\b\b\b\b\b\b\b\b\b\b\b\b\b\b\b\b\b\b\b\b\b\b\b\r 18/600 [..............................] - ETA: 1s - loss: 1.2598 - accuracy: 0.8572"
                ]
              },
              {
                "output_type": "stream",
                "name": "stdout",
                "text": [
                  "\b\b\b\b\b\b\b\b\b\b\b\b\b\b\b\b\b\b\b\b\b\b\b\b\b\b\b\b\b\b\b\b\b\b\b\b\b\b\b\b\b\b\b\b\b\b\b\b\b\b\b\b\b\b\b\b\b\b\b\b\b\b\b\b\b\b\b\b\b\b\b\b\b\b\b\b\b\b\b\b\b\b\b\b\r 42/600 [=>............................] - ETA: 1s - loss: 1.2413 - accuracy: 0.8590"
                ]
              },
              {
                "output_type": "stream",
                "name": "stdout",
                "text": [
                  "\b\b\b\b\b\b\b\b\b\b\b\b\b\b\b\b\b\b\b\b\b\b\b\b\b\b\b\b\b\b\b\b\b\b\b\b\b\b\b\b\b\b\b\b\b\b\b\b\b\b\b\b\b\b\b\b\b\b\b\b\b\b\b\b\b\b\b\b\b\b\b\b\b\b\b\b\b\b\b\b\b\b\b\b\r 67/600 [==>...........................] - ETA: 1s - loss: 1.2417 - accuracy: 0.8591"
                ]
              },
              {
                "output_type": "stream",
                "name": "stdout",
                "text": [
                  "\b\b\b\b\b\b\b\b\b\b\b\b\b\b\b\b\b\b\b\b\b\b\b\b\b\b\b\b\b\b\b\b\b\b\b\b\b\b\b\b\b\b\b\b\b\b\b\b\b\b\b\b\b\b\b\b\b\b\b\b\b\b\b\b\b\b\b\b\b\b\b\b\b\b\b\b\b\b\b\b\b\b\b\b\r 92/600 [===>..........................] - ETA: 1s - loss: 1.2376 - accuracy: 0.8562"
                ]
              },
              {
                "output_type": "stream",
                "name": "stdout",
                "text": [
                  "\b\b\b\b\b\b\b\b\b\b\b\b\b\b\b\b\b\b\b\b\b\b\b\b\b\b\b\b\b\b\b\b\b\b\b\b\b\b\b\b\b\b\b\b\b\b\b\b\b\b\b\b\b\b\b\b\b\b\b\b\b\b\b\b\b\b\b\b\b\b\b\b\b\b\b\b\b\b\b\b\b\b\b\b\r116/600 [====>.........................] - ETA: 1s - loss: 1.2293 - accuracy: 0.8582"
                ]
              },
              {
                "output_type": "stream",
                "name": "stdout",
                "text": [
                  "\b\b\b\b\b\b\b\b\b\b\b\b\b\b\b\b\b\b\b\b\b\b\b\b\b\b\b\b\b\b\b\b\b\b\b\b\b\b\b\b\b\b\b\b\b\b\b\b\b\b\b\b\b\b\b\b\b\b\b\b\b\b\b\b\b\b\b\b\b\b\b\b\b\b\b\b\b\b\b\b\b\b\b\b\r141/600 [======>.......................] - ETA: 1s - loss: 1.2207 - accuracy: 0.8594"
                ]
              },
              {
                "output_type": "stream",
                "name": "stdout",
                "text": [
                  "\b\b\b\b\b\b\b\b\b\b\b\b\b\b\b\b\b\b\b\b\b\b\b\b\b\b\b\b\b\b\b\b\b\b\b\b\b\b\b\b\b\b\b\b\b\b\b\b\b\b\b\b\b\b\b\b\b\b\b\b\b\b\b\b\b\b\b\b\b\b\b\b\b\b\b\b\b\b\b\b\b\b\b\b\r163/600 [=======>......................] - ETA: 0s - loss: 1.2144 - accuracy: 0.8596"
                ]
              },
              {
                "output_type": "stream",
                "name": "stdout",
                "text": [
                  "\b\b\b\b\b\b\b\b\b\b\b\b\b\b\b\b\b\b\b\b\b\b\b\b\b\b\b\b\b\b\b\b\b\b\b\b\b\b\b\b\b\b\b\b\b\b\b\b\b\b\b\b\b\b\b\b\b\b\b\b\b\b\b\b\b\b\b\b\b\b\b\b\b\b\b\b\b\b\b\b\b\b\b\b\r188/600 [========>.....................] - ETA: 0s - loss: 1.2059 - accuracy: 0.8606"
                ]
              },
              {
                "output_type": "stream",
                "name": "stdout",
                "text": [
                  "\b\b\b\b\b\b\b\b\b\b\b\b\b\b\b\b\b\b\b\b\b\b\b\b\b\b\b\b\b\b\b\b\b\b\b\b\b\b\b\b\b\b\b\b\b\b\b\b\b\b\b\b\b\b\b\b\b\b\b\b\b\b\b\b\b\b\b\b\b\b\b\b\b\b\b\b\b\b\b\b\b\b\b\b\r213/600 [=========>....................] - ETA: 0s - loss: 1.2021 - accuracy: 0.8599"
                ]
              },
              {
                "output_type": "stream",
                "name": "stdout",
                "text": [
                  "\b\b\b\b\b\b\b\b\b\b\b\b\b\b\b\b\b\b\b\b\b\b\b\b\b\b\b\b\b\b\b\b\b\b\b\b\b\b\b\b\b\b\b\b\b\b\b\b\b\b\b\b\b\b\b\b\b\b\b\b\b\b\b\b\b\b\b\b\b\b\b\b\b\b\b\b\b\b\b\b\b\b\b\b\r239/600 [==========>...................] - ETA: 0s - loss: 1.1997 - accuracy: 0.8605"
                ]
              },
              {
                "output_type": "stream",
                "name": "stdout",
                "text": [
                  "\b\b\b\b\b\b\b\b\b\b\b\b\b\b\b\b\b\b\b\b\b\b\b\b\b\b\b\b\b\b\b\b\b\b\b\b\b\b\b\b\b\b\b\b\b\b\b\b\b\b\b\b\b\b\b\b\b\b\b\b\b\b\b\b\b\b\b\b\b\b\b\b\b\b\b\b\b\b\b\b\b\b\b\b\r264/600 [============>.................] - ETA: 0s - loss: 1.1964 - accuracy: 0.8604"
                ]
              },
              {
                "output_type": "stream",
                "name": "stdout",
                "text": [
                  "\b\b\b\b\b\b\b\b\b\b\b\b\b\b\b\b\b\b\b\b\b\b\b\b\b\b\b\b\b\b\b\b\b\b\b\b\b\b\b\b\b\b\b\b\b\b\b\b\b\b\b\b\b\b\b\b\b\b\b\b\b\b\b\b\b\b\b\b\b\b\b\b\b\b\b\b\b\b\b\b\b\b\b\b\r288/600 [=============>................] - ETA: 0s - loss: 1.1908 - accuracy: 0.8611"
                ]
              },
              {
                "output_type": "stream",
                "name": "stdout",
                "text": [
                  "\b\b\b\b\b\b\b\b\b\b\b\b\b\b\b\b\b\b\b\b\b\b\b\b\b\b\b\b\b\b\b\b\b\b\b\b\b\b\b\b\b\b\b\b\b\b\b\b\b\b\b\b\b\b\b\b\b\b\b\b\b\b\b\b\b\b\b\b\b\b\b\b\b\b\b\b\b\b\b\b\b\b\b\b\r309/600 [==============>...............] - ETA: 0s - loss: 1.1894 - accuracy: 0.8609"
                ]
              },
              {
                "output_type": "stream",
                "name": "stdout",
                "text": [
                  "\b\b\b\b\b\b\b\b\b\b\b\b\b\b\b\b\b\b\b\b\b\b\b\b\b\b\b\b\b\b\b\b\b\b\b\b\b\b\b\b\b\b\b\b\b\b\b\b\b\b\b\b\b\b\b\b\b\b\b\b\b\b\b\b\b\b\b\b\b\b\b\b\b\b\b\b\b\b\b\b\b\b\b\b\r334/600 [===============>..............] - ETA: 0s - loss: 1.1859 - accuracy: 0.8613"
                ]
              },
              {
                "output_type": "stream",
                "name": "stdout",
                "text": [
                  "\b\b\b\b\b\b\b\b\b\b\b\b\b\b\b\b\b\b\b\b\b\b\b\b\b\b\b\b\b\b\b\b\b\b\b\b\b\b\b\b\b\b\b\b\b\b\b\b\b\b\b\b\b\b\b\b\b\b\b\b\b\b\b\b\b\b\b\b\b\b\b\b\b\b\b\b\b\b\b\b\b\b\b\b\r356/600 [================>.............] - ETA: 0s - loss: 1.1811 - accuracy: 0.8611"
                ]
              },
              {
                "output_type": "stream",
                "name": "stdout",
                "text": [
                  "\b\b\b\b\b\b\b\b\b\b\b\b\b\b\b\b\b\b\b\b\b\b\b\b\b\b\b\b\b\b\b\b\b\b\b\b\b\b\b\b\b\b\b\b\b\b\b\b\b\b\b\b\b\b\b\b\b\b\b\b\b\b\b\b\b\b\b\b\b\b\b\b\b\b\b\b\b\b\b\b\b\b\b\b\r380/600 [==================>...........] - ETA: 0s - loss: 1.1737 - accuracy: 0.8622"
                ]
              },
              {
                "output_type": "stream",
                "name": "stdout",
                "text": [
                  "\b\b\b\b\b\b\b\b\b\b\b\b\b\b\b\b\b\b\b\b\b\b\b\b\b\b\b\b\b\b\b\b\b\b\b\b\b\b\b\b\b\b\b\b\b\b\b\b\b\b\b\b\b\b\b\b\b\b\b\b\b\b\b\b\b\b\b\b\b\b\b\b\b\b\b\b\b\b\b\b\b\b\b\b\r404/600 [===================>..........] - ETA: 0s - loss: 1.1718 - accuracy: 0.8621"
                ]
              },
              {
                "output_type": "stream",
                "name": "stdout",
                "text": [
                  "\b\b\b\b\b\b\b\b\b\b\b\b\b\b\b\b\b\b\b\b\b\b\b\b\b\b\b\b\b\b\b\b\b\b\b\b\b\b\b\b\b\b\b\b\b\b\b\b\b\b\b\b\b\b\b\b\b\b\b\b\b\b\b\b\b\b\b\b\b\b\b\b\b\b\b\b\b\b\b\b\b\b\b\b\r428/600 [====================>.........] - ETA: 0s - loss: 1.1684 - accuracy: 0.8620"
                ]
              },
              {
                "output_type": "stream",
                "name": "stdout",
                "text": [
                  "\b\b\b\b\b\b\b\b\b\b\b\b\b\b\b\b\b\b\b\b\b\b\b\b\b\b\b\b\b\b\b\b\b\b\b\b\b\b\b\b\b\b\b\b\b\b\b\b\b\b\b\b\b\b\b\b\b\b\b\b\b\b\b\b\b\b\b\b\b\b\b\b\b\b\b\b\b\b\b\b\b\b\b\b\r446/600 [=====================>........] - ETA: 0s - loss: 1.1659 - accuracy: 0.8619"
                ]
              },
              {
                "output_type": "stream",
                "name": "stdout",
                "text": [
                  "\b\b\b\b\b\b\b\b\b\b\b\b\b\b\b\b\b\b\b\b\b\b\b\b\b\b\b\b\b\b\b\b\b\b\b\b\b\b\b\b\b\b\b\b\b\b\b\b\b\b\b\b\b\b\b\b\b\b\b\b\b\b\b\b\b\b\b\b\b\b\b\b\b\b\b\b\b\b\b\b\b\b\b\b\r469/600 [======================>.......] - ETA: 0s - loss: 1.1614 - accuracy: 0.8620"
                ]
              },
              {
                "output_type": "stream",
                "name": "stdout",
                "text": [
                  "\b\b\b\b\b\b\b\b\b\b\b\b\b\b\b\b\b\b\b\b\b\b\b\b\b\b\b\b\b\b\b\b\b\b\b\b\b\b\b\b\b\b\b\b\b\b\b\b\b\b\b\b\b\b\b\b\b\b\b\b\b\b\b\b\b\b\b\b\b\b\b\b\b\b\b\b\b\b\b\b\b\b\b\b\r488/600 [=======================>......] - ETA: 0s - loss: 1.1601 - accuracy: 0.8618"
                ]
              },
              {
                "output_type": "stream",
                "name": "stdout",
                "text": [
                  "\b\b\b\b\b\b\b\b\b\b\b\b\b\b\b\b\b\b\b\b\b\b\b\b\b\b\b\b\b\b\b\b\b\b\b\b\b\b\b\b\b\b\b\b\b\b\b\b\b\b\b\b\b\b\b\b\b\b\b\b\b\b\b\b\b\b\b\b\b\b\b\b\b\b\b\b\b\b\b\b\b\b\b\b\r513/600 [========================>.....] - ETA: 0s - loss: 1.1560 - accuracy: 0.8620"
                ]
              },
              {
                "output_type": "stream",
                "name": "stdout",
                "text": [
                  "\b\b\b\b\b\b\b\b\b\b\b\b\b\b\b\b\b\b\b\b\b\b\b\b\b\b\b\b\b\b\b\b\b\b\b\b\b\b\b\b\b\b\b\b\b\b\b\b\b\b\b\b\b\b\b\b\b\b\b\b\b\b\b\b\b\b\b\b\b\b\b\b\b\b\b\b\b\b\b\b\b\b\b\b\r540/600 [==========================>...] - ETA: 0s - loss: 1.1522 - accuracy: 0.8618"
                ]
              },
              {
                "output_type": "stream",
                "name": "stdout",
                "text": [
                  "\b\b\b\b\b\b\b\b\b\b\b\b\b\b\b\b\b\b\b\b\b\b\b\b\b\b\b\b\b\b\b\b\b\b\b\b\b\b\b\b\b\b\b\b\b\b\b\b\b\b\b\b\b\b\b\b\b\b\b\b\b\b\b\b\b\b\b\b\b\b\b\b\b\b\b\b\b\b\b\b\b\b\b\b\r562/600 [===========================>..] - ETA: 0s - loss: 1.1494 - accuracy: 0.8618"
                ]
              },
              {
                "output_type": "stream",
                "name": "stdout",
                "text": [
                  "\b\b\b\b\b\b\b\b\b\b\b\b\b\b\b\b\b\b\b\b\b\b\b\b\b\b\b\b\b\b\b\b\b\b\b\b\b\b\b\b\b\b\b\b\b\b\b\b\b\b\b\b\b\b\b\b\b\b\b\b\b\b\b\b\b\b\b\b\b\b\b\b\b\b\b\b\b\b\b\b\b\b\b\b\r587/600 [============================>.] - ETA: 0s - loss: 1.1450 - accuracy: 0.8623"
                ]
              },
              {
                "output_type": "stream",
                "name": "stdout",
                "text": [
                  "\b\b\b\b\b\b\b\b\b\b\b\b\b\b\b\b\b\b\b\b\b\b\b\b\b\b\b\b\b\b\b\b\b\b\b\b\b\b\b\b\b\b\b\b\b\b\b\b\b\b\b\b\b\b\b\b\b\b\b\b\b\b\b\b\b\b\b\b\b\b\b\b\b\b\b\b\b\b\b\b\b\b\b\b\r600/600 [==============================] - 1s 2ms/step - loss: 1.1424 - accuracy: 0.8625 - val_loss: 1.0466 - val_accuracy: 0.8718\n"
                ]
              },
              {
                "output_type": "stream",
                "name": "stdout",
                "text": [
                  "Epoch 10/20\n"
                ]
              },
              {
                "output_type": "stream",
                "name": "stdout",
                "text": [
                  "\r  1/600 [..............................] - ETA: 3s - loss: 1.1667 - accuracy: 0.8400"
                ]
              },
              {
                "output_type": "stream",
                "name": "stdout",
                "text": [
                  "\b\b\b\b\b\b\b\b\b\b\b\b\b\b\b\b\b\b\b\b\b\b\b\b\b\b\b\b\b\b\b\b\b\b\b\b\b\b\b\b\b\b\b\b\b\b\b\b\b\b\b\b\b\b\b\b\b\b\b\b\b\b\b\b\b\b\b\b\b\b\b\b\b\b\b\b\b\b\b\b\b\b\b\b\r 22/600 [>.............................] - ETA: 1s - loss: 1.0545 - accuracy: 0.8700"
                ]
              },
              {
                "output_type": "stream",
                "name": "stdout",
                "text": [
                  "\b\b\b\b\b\b\b\b\b\b\b\b\b\b\b\b\b\b\b\b\b\b\b\b\b\b\b\b\b\b\b\b\b\b\b\b\b\b\b\b\b\b\b\b\b\b\b\b\b\b\b\b\b\b\b\b\b\b\b\b\b\b\b\b\b\b\b\b\b\b\b\b\b\b\b\b\b\b\b\b\b\b\b\b\r 47/600 [=>............................] - ETA: 1s - loss: 1.0428 - accuracy: 0.8694"
                ]
              },
              {
                "output_type": "stream",
                "name": "stdout",
                "text": [
                  "\b\b\b\b\b\b\b\b\b\b\b\b\b\b\b\b\b\b\b\b\b\b\b\b\b\b\b\b\b\b\b\b\b\b\b\b\b\b\b\b\b\b\b\b\b\b\b\b\b\b\b\b\b\b\b\b\b\b\b\b\b\b\b\b\b\b\b\b\b\b\b\b\b\b\b\b\b\b\b\b\b\b\b\b\r 70/600 [==>...........................] - ETA: 1s - loss: 1.0544 - accuracy: 0.8643"
                ]
              },
              {
                "output_type": "stream",
                "name": "stdout",
                "text": [
                  "\b\b\b\b\b\b\b\b\b\b\b\b\b\b\b\b\b\b\b\b\b\b\b\b\b\b\b\b\b\b\b\b\b\b\b\b\b\b\b\b\b\b\b\b\b\b\b\b\b\b\b\b\b\b\b\b\b\b\b\b\b\b\b\b\b\b\b\b\b\b\b\b\b\b\b\b\b\b\b\b\b\b\b\b\r 94/600 [===>..........................] - ETA: 1s - loss: 1.0511 - accuracy: 0.8638"
                ]
              },
              {
                "output_type": "stream",
                "name": "stdout",
                "text": [
                  "\b\b\b\b\b\b\b\b\b\b\b\b\b\b\b\b\b\b\b\b\b\b\b\b\b\b\b\b\b\b\b\b\b\b\b\b\b\b\b\b\b\b\b\b\b\b\b\b\b\b\b\b\b\b\b\b\b\b\b\b\b\b\b\b\b\b\b\b\b\b\b\b\b\b\b\b\b\b\b\b\b\b\b\b\r118/600 [====>.........................] - ETA: 1s - loss: 1.0448 - accuracy: 0.8644"
                ]
              },
              {
                "output_type": "stream",
                "name": "stdout",
                "text": [
                  "\b\b\b\b\b\b\b\b\b\b\b\b\b\b\b\b\b\b\b\b\b\b\b\b\b\b\b\b\b\b\b\b\b\b\b\b\b\b\b\b\b\b\b\b\b\b\b\b\b\b\b\b\b\b\b\b\b\b\b\b\b\b\b\b\b\b\b\b\b\b\b\b\b\b\b\b\b\b\b\b\b\b\b\b\r138/600 [=====>........................] - ETA: 1s - loss: 1.0523 - accuracy: 0.8611"
                ]
              },
              {
                "output_type": "stream",
                "name": "stdout",
                "text": [
                  "\b\b\b\b\b\b\b\b\b\b\b\b\b\b\b\b\b\b\b\b\b\b\b\b\b\b\b\b\b\b\b\b\b\b\b\b\b\b\b\b\b\b\b\b\b\b\b\b\b\b\b\b\b\b\b\b\b\b\b\b\b\b\b\b\b\b\b\b\b\b\b\b\b\b\b\b\b\b\b\b\b\b\b\b\r163/600 [=======>......................] - ETA: 0s - loss: 1.0474 - accuracy: 0.8615"
                ]
              },
              {
                "output_type": "stream",
                "name": "stdout",
                "text": [
                  "\b\b\b\b\b\b\b\b\b\b\b\b\b\b\b\b\b\b\b\b\b\b\b\b\b\b\b\b\b\b\b\b\b\b\b\b\b\b\b\b\b\b\b\b\b\b\b\b\b\b\b\b\b\b\b\b\b\b\b\b\b\b\b\b\b\b\b\b\b\b\b\b\b\b\b\b\b\b\b\b\b\b\b\b\r188/600 [========>.....................] - ETA: 0s - loss: 1.0463 - accuracy: 0.8614"
                ]
              },
              {
                "output_type": "stream",
                "name": "stdout",
                "text": [
                  "\b\b\b\b\b\b\b\b\b\b\b\b\b\b\b\b\b\b\b\b\b\b\b\b\b\b\b\b\b\b\b\b\b\b\b\b\b\b\b\b\b\b\b\b\b\b\b\b\b\b\b\b\b\b\b\b\b\b\b\b\b\b\b\b\b\b\b\b\b\b\b\b\b\b\b\b\b\b\b\b\b\b\b\b\r214/600 [=========>....................] - ETA: 0s - loss: 1.0418 - accuracy: 0.8618"
                ]
              },
              {
                "output_type": "stream",
                "name": "stdout",
                "text": [
                  "\b\b\b\b\b\b\b\b\b\b\b\b\b\b\b\b\b\b\b\b\b\b\b\b\b\b\b\b\b\b\b\b\b\b\b\b\b\b\b\b\b\b\b\b\b\b\b\b\b\b\b\b\b\b\b\b\b\b\b\b\b\b\b\b\b\b\b\b\b\b\b\b\b\b\b\b\b\b\b\b\b\b\b\b\r240/600 [===========>..................] - ETA: 0s - loss: 1.0370 - accuracy: 0.8630"
                ]
              },
              {
                "output_type": "stream",
                "name": "stdout",
                "text": [
                  "\b\b\b\b\b\b\b\b\b\b\b\b\b\b\b\b\b\b\b\b\b\b\b\b\b\b\b\b\b\b\b\b\b\b\b\b\b\b\b\b\b\b\b\b\b\b\b\b\b\b\b\b\b\b\b\b\b\b\b\b\b\b\b\b\b\b\b\b\b\b\b\b\b\b\b\b\b\b\b\b\b\b\b\b\r261/600 [============>.................] - ETA: 0s - loss: 1.0323 - accuracy: 0.8638"
                ]
              },
              {
                "output_type": "stream",
                "name": "stdout",
                "text": [
                  "\b\b\b\b\b\b\b\b\b\b\b\b\b\b\b\b\b\b\b\b\b\b\b\b\b\b\b\b\b\b\b\b\b\b\b\b\b\b\b\b\b\b\b\b\b\b\b\b\b\b\b\b\b\b\b\b\b\b\b\b\b\b\b\b\b\b\b\b\b\b\b\b\b\b\b\b\b\b\b\b\b\b\b\b\r277/600 [============>.................] - ETA: 0s - loss: 1.0316 - accuracy: 0.8635"
                ]
              },
              {
                "output_type": "stream",
                "name": "stdout",
                "text": [
                  "\b\b\b\b\b\b\b\b\b\b\b\b\b\b\b\b\b\b\b\b\b\b\b\b\b\b\b\b\b\b\b\b\b\b\b\b\b\b\b\b\b\b\b\b\b\b\b\b\b\b\b\b\b\b\b\b\b\b\b\b\b\b\b\b\b\b\b\b\b\b\b\b\b\b\b\b\b\b\b\b\b\b\b\b\r299/600 [=============>................] - ETA: 0s - loss: 1.0299 - accuracy: 0.8638"
                ]
              },
              {
                "output_type": "stream",
                "name": "stdout",
                "text": [
                  "\b\b\b\b\b\b\b\b\b\b\b\b\b\b\b\b\b\b\b\b\b\b\b\b\b\b\b\b\b\b\b\b\b\b\b\b\b\b\b\b\b\b\b\b\b\b\b\b\b\b\b\b\b\b\b\b\b\b\b\b\b\b\b\b\b\b\b\b\b\b\b\b\b\b\b\b\b\b\b\b\b\b\b\b\r322/600 [===============>..............] - ETA: 0s - loss: 1.0275 - accuracy: 0.8639"
                ]
              },
              {
                "output_type": "stream",
                "name": "stdout",
                "text": [
                  "\b\b\b\b\b\b\b\b\b\b\b\b\b\b\b\b\b\b\b\b\b\b\b\b\b\b\b\b\b\b\b\b\b\b\b\b\b\b\b\b\b\b\b\b\b\b\b\b\b\b\b\b\b\b\b\b\b\b\b\b\b\b\b\b\b\b\b\b\b\b\b\b\b\b\b\b\b\b\b\b\b\b\b\b\r346/600 [================>.............] - ETA: 0s - loss: 1.0241 - accuracy: 0.8643"
                ]
              },
              {
                "output_type": "stream",
                "name": "stdout",
                "text": [
                  "\b\b\b\b\b\b\b\b\b\b\b\b\b\b\b\b\b\b\b\b\b\b\b\b\b\b\b\b\b\b\b\b\b\b\b\b\b\b\b\b\b\b\b\b\b\b\b\b\b\b\b\b\b\b\b\b\b\b\b\b\b\b\b\b\b\b\b\b\b\b\b\b\b\b\b\b\b\b\b\b\b\b\b\b\r372/600 [=================>............] - ETA: 0s - loss: 1.0205 - accuracy: 0.8646"
                ]
              },
              {
                "output_type": "stream",
                "name": "stdout",
                "text": [
                  "\b\b\b\b\b\b\b\b\b\b\b\b\b\b\b\b\b\b\b\b\b\b\b\b\b\b\b\b\b\b\b\b\b\b\b\b\b\b\b\b\b\b\b\b\b\b\b\b\b\b\b\b\b\b\b\b\b\b\b\b\b\b\b\b\b\b\b\b\b\b\b\b\b\b\b\b\b\b\b\b\b\b\b\b\r392/600 [==================>...........] - ETA: 0s - loss: 1.0193 - accuracy: 0.8641"
                ]
              },
              {
                "output_type": "stream",
                "name": "stdout",
                "text": [
                  "\b\b\b\b\b\b\b\b\b\b\b\b\b\b\b\b\b\b\b\b\b\b\b\b\b\b\b\b\b\b\b\b\b\b\b\b\b\b\b\b\b\b\b\b\b\b\b\b\b\b\b\b\b\b\b\b\b\b\b\b\b\b\b\b\b\b\b\b\b\b\b\b\b\b\b\b\b\b\b\b\b\b\b\b\r416/600 [===================>..........] - ETA: 0s - loss: 1.0165 - accuracy: 0.8640"
                ]
              },
              {
                "output_type": "stream",
                "name": "stdout",
                "text": [
                  "\b\b\b\b\b\b\b\b\b\b\b\b\b\b\b\b\b\b\b\b\b\b\b\b\b\b\b\b\b\b\b\b\b\b\b\b\b\b\b\b\b\b\b\b\b\b\b\b\b\b\b\b\b\b\b\b\b\b\b\b\b\b\b\b\b\b\b\b\b\b\b\b\b\b\b\b\b\b\b\b\b\b\b\b\r439/600 [====================>.........] - ETA: 0s - loss: 1.0138 - accuracy: 0.8637"
                ]
              },
              {
                "output_type": "stream",
                "name": "stdout",
                "text": [
                  "\b\b\b\b\b\b\b\b\b\b\b\b\b\b\b\b\b\b\b\b\b\b\b\b\b\b\b\b\b\b\b\b\b\b\b\b\b\b\b\b\b\b\b\b\b\b\b\b\b\b\b\b\b\b\b\b\b\b\b\b\b\b\b\b\b\b\b\b\b\b\b\b\b\b\b\b\b\b\b\b\b\b\b\b\r463/600 [======================>.......] - ETA: 0s - loss: 1.0100 - accuracy: 0.8640"
                ]
              },
              {
                "output_type": "stream",
                "name": "stdout",
                "text": [
                  "\b\b\b\b\b\b\b\b\b\b\b\b\b\b\b\b\b\b\b\b\b\b\b\b\b\b\b\b\b\b\b\b\b\b\b\b\b\b\b\b\b\b\b\b\b\b\b\b\b\b\b\b\b\b\b\b\b\b\b\b\b\b\b\b\b\b\b\b\b\b\b\b\b\b\b\b\b\b\b\b\b\b\b\b\r486/600 [=======================>......] - ETA: 0s - loss: 1.0066 - accuracy: 0.8644"
                ]
              },
              {
                "output_type": "stream",
                "name": "stdout",
                "text": [
                  "\b\b\b\b\b\b\b\b\b\b\b\b\b\b\b\b\b\b\b\b\b\b\b\b\b\b\b\b\b\b\b\b\b\b\b\b\b\b\b\b\b\b\b\b\b\b\b\b\b\b\b\b\b\b\b\b\b\b\b\b\b\b\b\b\b\b\b\b\b\b\b\b\b\b\b\b\b\b\b\b\b\b\b\b\r506/600 [========================>.....] - ETA: 0s - loss: 1.0033 - accuracy: 0.8648"
                ]
              },
              {
                "output_type": "stream",
                "name": "stdout",
                "text": [
                  "\b\b\b\b\b\b\b\b\b\b\b\b\b\b\b\b\b\b\b\b\b\b\b\b\b\b\b\b\b\b\b\b\b\b\b\b\b\b\b\b\b\b\b\b\b\b\b\b\b\b\b\b\b\b\b\b\b\b\b\b\b\b\b\b\b\b\b\b\b\b\b\b\b\b\b\b\b\b\b\b\b\b\b\b\r524/600 [=========================>....] - ETA: 0s - loss: 0.9998 - accuracy: 0.8653"
                ]
              },
              {
                "output_type": "stream",
                "name": "stdout",
                "text": [
                  "\b\b\b\b\b\b\b\b\b\b\b\b\b\b\b\b\b\b\b\b\b\b\b\b\b\b\b\b\b\b\b\b\b\b\b\b\b\b\b\b\b\b\b\b\b\b\b\b\b\b\b\b\b\b\b\b\b\b\b\b\b\b\b\b\b\b\b\b\b\b\b\b\b\b\b\b\b\b\b\b\b\b\b\b\r549/600 [==========================>...] - ETA: 0s - loss: 0.9967 - accuracy: 0.8656"
                ]
              },
              {
                "output_type": "stream",
                "name": "stdout",
                "text": [
                  "\b\b\b\b\b\b\b\b\b\b\b\b\b\b\b\b\b\b\b\b\b\b\b\b\b\b\b\b\b\b\b\b\b\b\b\b\b\b\b\b\b\b\b\b\b\b\b\b\b\b\b\b\b\b\b\b\b\b\b\b\b\b\b\b\b\b\b\b\b\b\b\b\b\b\b\b\b\b\b\b\b\b\b\b\r571/600 [===========================>..] - ETA: 0s - loss: 0.9941 - accuracy: 0.8659"
                ]
              },
              {
                "output_type": "stream",
                "name": "stdout",
                "text": [
                  "\b\b\b\b\b\b\b\b\b\b\b\b\b\b\b\b\b\b\b\b\b\b\b\b\b\b\b\b\b\b\b\b\b\b\b\b\b\b\b\b\b\b\b\b\b\b\b\b\b\b\b\b\b\b\b\b\b\b\b\b\b\b\b\b\b\b\b\b\b\b\b\b\b\b\b\b\b\b\b\b\b\b\b\b\r595/600 [============================>.] - ETA: 0s - loss: 0.9913 - accuracy: 0.8662"
                ]
              },
              {
                "output_type": "stream",
                "name": "stdout",
                "text": [
                  "\b\b\b\b\b\b\b\b\b\b\b\b\b\b\b\b\b\b\b\b\b\b\b\b\b\b\b\b\b\b\b\b\b\b\b\b\b\b\b\b\b\b\b\b\b\b\b\b\b\b\b\b\b\b\b\b\b\b\b\b\b\b\b\b\b\b\b\b\b\b\b\b\b\b\b\b\b\b\b\b\b\b\b\b\r600/600 [==============================] - 2s 3ms/step - loss: 0.9907 - accuracy: 0.8663 - val_loss: 0.9140 - val_accuracy: 0.8742\n"
                ]
              },
              {
                "output_type": "stream",
                "name": "stdout",
                "text": [
                  "Epoch 11/20\n"
                ]
              },
              {
                "output_type": "stream",
                "name": "stdout",
                "text": [
                  "\r  1/600 [..............................] - ETA: 4s - loss: 0.7999 - accuracy: 0.9000"
                ]
              },
              {
                "output_type": "stream",
                "name": "stdout",
                "text": [
                  "\b\b\b\b\b\b\b\b\b\b\b\b\b\b\b\b\b\b\b\b\b\b\b\b\b\b\b\b\b\b\b\b\b\b\b\b\b\b\b\b\b\b\b\b\b\b\b\b\b\b\b\b\b\b\b\b\b\b\b\b\b\b\b\b\b\b\b\b\b\b\b\b\b\b\b\b\b\b\b\b\b\b\b\b\r 25/600 [>.............................] - ETA: 1s - loss: 0.8831 - accuracy: 0.8820"
                ]
              },
              {
                "output_type": "stream",
                "name": "stdout",
                "text": [
                  "\b\b\b\b\b\b\b\b\b\b\b\b\b\b\b\b\b\b\b\b\b\b\b\b\b\b\b\b\b\b\b\b\b\b\b\b\b\b\b\b\b\b\b\b\b\b\b\b\b\b\b\b\b\b\b\b\b\b\b\b\b\b\b\b\b\b\b\b\b\b\b\b\b\b\b\b\b\b\b\b\b\b\b\b\r 45/600 [=>............................] - ETA: 1s - loss: 0.8946 - accuracy: 0.8749"
                ]
              },
              {
                "output_type": "stream",
                "name": "stdout",
                "text": [
                  "\b\b\b\b\b\b\b\b\b\b\b\b\b\b\b\b\b\b\b\b\b\b\b\b\b\b\b\b\b\b\b\b\b\b\b\b\b\b\b\b\b\b\b\b\b\b\b\b\b\b\b\b\b\b\b\b\b\b\b\b\b\b\b\b\b\b\b\b\b\b\b\b\b\b\b\b\b\b\b\b\b\b\b\b\r 70/600 [==>...........................] - ETA: 1s - loss: 0.8971 - accuracy: 0.8731"
                ]
              },
              {
                "output_type": "stream",
                "name": "stdout",
                "text": [
                  "\b\b\b\b\b\b\b\b\b\b\b\b\b\b\b\b\b\b\b\b\b\b\b\b\b\b\b\b\b\b\b\b\b\b\b\b\b\b\b\b\b\b\b\b\b\b\b\b\b\b\b\b\b\b\b\b\b\b\b\b\b\b\b\b\b\b\b\b\b\b\b\b\b\b\b\b\b\b\b\b\b\b\b\b\r 96/600 [===>..........................] - ETA: 1s - loss: 0.9002 - accuracy: 0.8744"
                ]
              },
              {
                "output_type": "stream",
                "name": "stdout",
                "text": [
                  "\b\b\b\b\b\b\b\b\b\b\b\b\b\b\b\b\b\b\b\b\b\b\b\b\b\b\b\b\b\b\b\b\b\b\b\b\b\b\b\b\b\b\b\b\b\b\b\b\b\b\b\b\b\b\b\b\b\b\b\b\b\b\b\b\b\b\b\b\b\b\b\b\b\b\b\b\b\b\b\b\b\b\b\b\r118/600 [====>.........................] - ETA: 1s - loss: 0.9051 - accuracy: 0.8740"
                ]
              },
              {
                "output_type": "stream",
                "name": "stdout",
                "text": [
                  "\b\b\b\b\b\b\b\b\b\b\b\b\b\b\b\b\b\b\b\b\b\b\b\b\b\b\b\b\b\b\b\b\b\b\b\b\b\b\b\b\b\b\b\b\b\b\b\b\b\b\b\b\b\b\b\b\b\b\b\b\b\b\b\b\b\b\b\b\b\b\b\b\b\b\b\b\b\b\b\b\b\b\b\b\r144/600 [======>.......................] - ETA: 0s - loss: 0.9023 - accuracy: 0.8735"
                ]
              },
              {
                "output_type": "stream",
                "name": "stdout",
                "text": [
                  "\b\b\b\b\b\b\b\b\b\b\b\b\b\b\b\b\b\b\b\b\b\b\b\b\b\b\b\b\b\b\b\b\b\b\b\b\b\b\b\b\b\b\b\b\b\b\b\b\b\b\b\b\b\b\b\b\b\b\b\b\b\b\b\b\b\b\b\b\b\b\b\b\b\b\b\b\b\b\b\b\b\b\b\b\r170/600 [=======>......................] - ETA: 0s - loss: 0.9048 - accuracy: 0.8731"
                ]
              },
              {
                "output_type": "stream",
                "name": "stdout",
                "text": [
                  "\b\b\b\b\b\b\b\b\b\b\b\b\b\b\b\b\b\b\b\b\b\b\b\b\b\b\b\b\b\b\b\b\b\b\b\b\b\b\b\b\b\b\b\b\b\b\b\b\b\b\b\b\b\b\b\b\b\b\b\b\b\b\b\b\b\b\b\b\b\b\b\b\b\b\b\b\b\b\b\b\b\b\b\b\r195/600 [========>.....................] - ETA: 0s - loss: 0.9009 - accuracy: 0.8737"
                ]
              },
              {
                "output_type": "stream",
                "name": "stdout",
                "text": [
                  "\b\b\b\b\b\b\b\b\b\b\b\b\b\b\b\b\b\b\b\b\b\b\b\b\b\b\b\b\b\b\b\b\b\b\b\b\b\b\b\b\b\b\b\b\b\b\b\b\b\b\b\b\b\b\b\b\b\b\b\b\b\b\b\b\b\b\b\b\b\b\b\b\b\b\b\b\b\b\b\b\b\b\b\b\r221/600 [==========>...................] - ETA: 0s - loss: 0.9036 - accuracy: 0.8723"
                ]
              },
              {
                "output_type": "stream",
                "name": "stdout",
                "text": [
                  "\b\b\b\b\b\b\b\b\b\b\b\b\b\b\b\b\b\b\b\b\b\b\b\b\b\b\b\b\b\b\b\b\b\b\b\b\b\b\b\b\b\b\b\b\b\b\b\b\b\b\b\b\b\b\b\b\b\b\b\b\b\b\b\b\b\b\b\b\b\b\b\b\b\b\b\b\b\b\b\b\b\b\b\b\r246/600 [===========>..................] - ETA: 0s - loss: 0.8999 - accuracy: 0.8728"
                ]
              },
              {
                "output_type": "stream",
                "name": "stdout",
                "text": [
                  "\b\b\b\b\b\b\b\b\b\b\b\b\b\b\b\b\b\b\b\b\b\b\b\b\b\b\b\b\b\b\b\b\b\b\b\b\b\b\b\b\b\b\b\b\b\b\b\b\b\b\b\b\b\b\b\b\b\b\b\b\b\b\b\b\b\b\b\b\b\b\b\b\b\b\b\b\b\b\b\b\b\b\b\b\r271/600 [============>.................] - ETA: 0s - loss: 0.8992 - accuracy: 0.8723"
                ]
              },
              {
                "output_type": "stream",
                "name": "stdout",
                "text": [
                  "\b\b\b\b\b\b\b\b\b\b\b\b\b\b\b\b\b\b\b\b\b\b\b\b\b\b\b\b\b\b\b\b\b\b\b\b\b\b\b\b\b\b\b\b\b\b\b\b\b\b\b\b\b\b\b\b\b\b\b\b\b\b\b\b\b\b\b\b\b\b\b\b\b\b\b\b\b\b\b\b\b\b\b\b\r291/600 [=============>................] - ETA: 0s - loss: 0.8989 - accuracy: 0.8721"
                ]
              },
              {
                "output_type": "stream",
                "name": "stdout",
                "text": [
                  "\b\b\b\b\b\b\b\b\b\b\b\b\b\b\b\b\b\b\b\b\b\b\b\b\b\b\b\b\b\b\b\b\b\b\b\b\b\b\b\b\b\b\b\b\b\b\b\b\b\b\b\b\b\b\b\b\b\b\b\b\b\b\b\b\b\b\b\b\b\b\b\b\b\b\b\b\b\b\b\b\b\b\b\b\r316/600 [==============>...............] - ETA: 0s - loss: 0.8969 - accuracy: 0.8725"
                ]
              },
              {
                "output_type": "stream",
                "name": "stdout",
                "text": [
                  "\b\b\b\b\b\b\b\b\b\b\b\b\b\b\b\b\b\b\b\b\b\b\b\b\b\b\b\b\b\b\b\b\b\b\b\b\b\b\b\b\b\b\b\b\b\b\b\b\b\b\b\b\b\b\b\b\b\b\b\b\b\b\b\b\b\b\b\b\b\b\b\b\b\b\b\b\b\b\b\b\b\b\b\b\r342/600 [================>.............] - ETA: 0s - loss: 0.8969 - accuracy: 0.8719"
                ]
              },
              {
                "output_type": "stream",
                "name": "stdout",
                "text": [
                  "\b\b\b\b\b\b\b\b\b\b\b\b\b\b\b\b\b\b\b\b\b\b\b\b\b\b\b\b\b\b\b\b\b\b\b\b\b\b\b\b\b\b\b\b\b\b\b\b\b\b\b\b\b\b\b\b\b\b\b\b\b\b\b\b\b\b\b\b\b\b\b\b\b\b\b\b\b\b\b\b\b\b\b\b\r366/600 [=================>............] - ETA: 0s - loss: 0.8954 - accuracy: 0.8722"
                ]
              },
              {
                "output_type": "stream",
                "name": "stdout",
                "text": [
                  "\b\b\b\b\b\b\b\b\b\b\b\b\b\b\b\b\b\b\b\b\b\b\b\b\b\b\b\b\b\b\b\b\b\b\b\b\b\b\b\b\b\b\b\b\b\b\b\b\b\b\b\b\b\b\b\b\b\b\b\b\b\b\b\b\b\b\b\b\b\b\b\b\b\b\b\b\b\b\b\b\b\b\b\b\r391/600 [==================>...........] - ETA: 0s - loss: 0.8962 - accuracy: 0.8720"
                ]
              },
              {
                "output_type": "stream",
                "name": "stdout",
                "text": [
                  "\b\b\b\b\b\b\b\b\b\b\b\b\b\b\b\b\b\b\b\b\b\b\b\b\b\b\b\b\b\b\b\b\b\b\b\b\b\b\b\b\b\b\b\b\b\b\b\b\b\b\b\b\b\b\b\b\b\b\b\b\b\b\b\b\b\b\b\b\b\b\b\b\b\b\b\b\b\b\b\b\b\b\b\b\r415/600 [===================>..........] - ETA: 0s - loss: 0.8939 - accuracy: 0.8727"
                ]
              },
              {
                "output_type": "stream",
                "name": "stdout",
                "text": [
                  "\b\b\b\b\b\b\b\b\b\b\b\b\b\b\b\b\b\b\b\b\b\b\b\b\b\b\b\b\b\b\b\b\b\b\b\b\b\b\b\b\b\b\b\b\b\b\b\b\b\b\b\b\b\b\b\b\b\b\b\b\b\b\b\b\b\b\b\b\b\b\b\b\b\b\b\b\b\b\b\b\b\b\b\b\r437/600 [====================>.........] - ETA: 0s - loss: 0.8922 - accuracy: 0.8727"
                ]
              },
              {
                "output_type": "stream",
                "name": "stdout",
                "text": [
                  "\b\b\b\b\b\b\b\b\b\b\b\b\b\b\b\b\b\b\b\b\b\b\b\b\b\b\b\b\b\b\b\b\b\b\b\b\b\b\b\b\b\b\b\b\b\b\b\b\b\b\b\b\b\b\b\b\b\b\b\b\b\b\b\b\b\b\b\b\b\b\b\b\b\b\b\b\b\b\b\b\b\b\b\b\r461/600 [======================>.......] - ETA: 0s - loss: 0.8898 - accuracy: 0.8731"
                ]
              },
              {
                "output_type": "stream",
                "name": "stdout",
                "text": [
                  "\b\b\b\b\b\b\b\b\b\b\b\b\b\b\b\b\b\b\b\b\b\b\b\b\b\b\b\b\b\b\b\b\b\b\b\b\b\b\b\b\b\b\b\b\b\b\b\b\b\b\b\b\b\b\b\b\b\b\b\b\b\b\b\b\b\b\b\b\b\b\b\b\b\b\b\b\b\b\b\b\b\b\b\b\r486/600 [=======================>......] - ETA: 0s - loss: 0.8886 - accuracy: 0.8727"
                ]
              },
              {
                "output_type": "stream",
                "name": "stdout",
                "text": [
                  "\b\b\b\b\b\b\b\b\b\b\b\b\b\b\b\b\b\b\b\b\b\b\b\b\b\b\b\b\b\b\b\b\b\b\b\b\b\b\b\b\b\b\b\b\b\b\b\b\b\b\b\b\b\b\b\b\b\b\b\b\b\b\b\b\b\b\b\b\b\b\b\b\b\b\b\b\b\b\b\b\b\b\b\b\r510/600 [========================>.....] - ETA: 0s - loss: 0.8879 - accuracy: 0.8726"
                ]
              },
              {
                "output_type": "stream",
                "name": "stdout",
                "text": [
                  "\b\b\b\b\b\b\b\b\b\b\b\b\b\b\b\b\b\b\b\b\b\b\b\b\b\b\b\b\b\b\b\b\b\b\b\b\b\b\b\b\b\b\b\b\b\b\b\b\b\b\b\b\b\b\b\b\b\b\b\b\b\b\b\b\b\b\b\b\b\b\b\b\b\b\b\b\b\b\b\b\b\b\b\b\r530/600 [=========================>....] - ETA: 0s - loss: 0.8864 - accuracy: 0.8726"
                ]
              },
              {
                "output_type": "stream",
                "name": "stdout",
                "text": [
                  "\b\b\b\b\b\b\b\b\b\b\b\b\b\b\b\b\b\b\b\b\b\b\b\b\b\b\b\b\b\b\b\b\b\b\b\b\b\b\b\b\b\b\b\b\b\b\b\b\b\b\b\b\b\b\b\b\b\b\b\b\b\b\b\b\b\b\b\b\b\b\b\b\b\b\b\b\b\b\b\b\b\b\b\b\r554/600 [==========================>...] - ETA: 0s - loss: 0.8855 - accuracy: 0.8722"
                ]
              },
              {
                "output_type": "stream",
                "name": "stdout",
                "text": [
                  "\b\b\b\b\b\b\b\b\b\b\b\b\b\b\b\b\b\b\b\b\b\b\b\b\b\b\b\b\b\b\b\b\b\b\b\b\b\b\b\b\b\b\b\b\b\b\b\b\b\b\b\b\b\b\b\b\b\b\b\b\b\b\b\b\b\b\b\b\b\b\b\b\b\b\b\b\b\b\b\b\b\b\b\b\r580/600 [============================>.] - ETA: 0s - loss: 0.8855 - accuracy: 0.8717"
                ]
              },
              {
                "output_type": "stream",
                "name": "stdout",
                "text": [
                  "\b\b\b\b\b\b\b\b\b\b\b\b\b\b\b\b\b\b\b\b\b\b\b\b\b\b\b\b\b\b\b\b\b\b\b\b\b\b\b\b\b\b\b\b\b\b\b\b\b\b\b\b\b\b\b\b\b\b\b\b\b\b\b\b\b\b\b\b\b\b\b\b\b\b\b\b\b\b\b\b\b\b\b\b\r600/600 [==============================] - 1s 2ms/step - loss: 0.8846 - accuracy: 0.8717 - val_loss: 0.8329 - val_accuracy: 0.8739\n"
                ]
              },
              {
                "output_type": "stream",
                "name": "stdout",
                "text": [
                  "Epoch 12/20\n"
                ]
              },
              {
                "output_type": "stream",
                "name": "stdout",
                "text": [
                  "\r  1/600 [..............................] - ETA: 3s - loss: 0.9158 - accuracy: 0.8600"
                ]
              },
              {
                "output_type": "stream",
                "name": "stdout",
                "text": [
                  "\b\b\b\b\b\b\b\b\b\b\b\b\b\b\b\b\b\b\b\b\b\b\b\b\b\b\b\b\b\b\b\b\b\b\b\b\b\b\b\b\b\b\b\b\b\b\b\b\b\b\b\b\b\b\b\b\b\b\b\b\b\b\b\b\b\b\b\b\b\b\b\b\b\b\b\b\b\b\b\b\b\b\b\b\r 23/600 [>.............................] - ETA: 1s - loss: 0.8265 - accuracy: 0.8848"
                ]
              },
              {
                "output_type": "stream",
                "name": "stdout",
                "text": [
                  "\b\b\b\b\b\b\b\b\b\b\b\b\b\b\b\b\b\b\b\b\b\b\b\b\b\b\b\b\b\b\b\b\b\b\b\b\b\b\b\b\b\b\b\b\b\b\b\b\b\b\b\b\b\b\b\b\b\b\b\b\b\b\b\b\b\b\b\b\b\b\b\b\b\b\b\b\b\b\b\b\b\b\b\b\r 44/600 [=>............................] - ETA: 1s - loss: 0.8366 - accuracy: 0.8777"
                ]
              },
              {
                "output_type": "stream",
                "name": "stdout",
                "text": [
                  "\b\b\b\b\b\b\b\b\b\b\b\b\b\b\b\b\b\b\b\b\b\b\b\b\b\b\b\b\b\b\b\b\b\b\b\b\b\b\b\b\b\b\b\b\b\b\b\b\b\b\b\b\b\b\b\b\b\b\b\b\b\b\b\b\b\b\b\b\b\b\b\b\b\b\b\b\b\b\b\b\b\b\b\b\r 68/600 [==>...........................] - ETA: 1s - loss: 0.8330 - accuracy: 0.8768"
                ]
              },
              {
                "output_type": "stream",
                "name": "stdout",
                "text": [
                  "\b\b\b\b\b\b\b\b\b\b\b\b\b\b\b\b\b\b\b\b\b\b\b\b\b\b\b\b\b\b\b\b\b\b\b\b\b\b\b\b\b\b\b\b\b\b\b\b\b\b\b\b\b\b\b\b\b\b\b\b\b\b\b\b\b\b\b\b\b\b\b\b\b\b\b\b\b\b\b\b\b\b\b\b\r 89/600 [===>..........................] - ETA: 1s - loss: 0.8325 - accuracy: 0.8736"
                ]
              },
              {
                "output_type": "stream",
                "name": "stdout",
                "text": [
                  "\b\b\b\b\b\b\b\b\b\b\b\b\b\b\b\b\b\b\b\b\b\b\b\b\b\b\b\b\b\b\b\b\b\b\b\b\b\b\b\b\b\b\b\b\b\b\b\b\b\b\b\b\b\b\b\b\b\b\b\b\b\b\b\b\b\b\b\b\b\b\b\b\b\b\b\b\b\b\b\b\b\b\b\b\r112/600 [====>.........................] - ETA: 1s - loss: 0.8324 - accuracy: 0.8745"
                ]
              },
              {
                "output_type": "stream",
                "name": "stdout",
                "text": [
                  "\b\b\b\b\b\b\b\b\b\b\b\b\b\b\b\b\b\b\b\b\b\b\b\b\b\b\b\b\b\b\b\b\b\b\b\b\b\b\b\b\b\b\b\b\b\b\b\b\b\b\b\b\b\b\b\b\b\b\b\b\b\b\b\b\b\b\b\b\b\b\b\b\b\b\b\b\b\b\b\b\b\b\b\b\r135/600 [=====>........................] - ETA: 1s - loss: 0.8325 - accuracy: 0.8753"
                ]
              },
              {
                "output_type": "stream",
                "name": "stdout",
                "text": [
                  "\b\b\b\b\b\b\b\b\b\b\b\b\b\b\b\b\b\b\b\b\b\b\b\b\b\b\b\b\b\b\b\b\b\b\b\b\b\b\b\b\b\b\b\b\b\b\b\b\b\b\b\b\b\b\b\b\b\b\b\b\b\b\b\b\b\b\b\b\b\b\b\b\b\b\b\b\b\b\b\b\b\b\b\b\r159/600 [======>.......................] - ETA: 1s - loss: 0.8315 - accuracy: 0.8754"
                ]
              },
              {
                "output_type": "stream",
                "name": "stdout",
                "text": [
                  "\b\b\b\b\b\b\b\b\b\b\b\b\b\b\b\b\b\b\b\b\b\b\b\b\b\b\b\b\b\b\b\b\b\b\b\b\b\b\b\b\b\b\b\b\b\b\b\b\b\b\b\b\b\b\b\b\b\b\b\b\b\b\b\b\b\b\b\b\b\b\b\b\b\b\b\b\b\b\b\b\b\b\b\b\r177/600 [=======>......................] - ETA: 0s - loss: 0.8305 - accuracy: 0.8752"
                ]
              },
              {
                "output_type": "stream",
                "name": "stdout",
                "text": [
                  "\b\b\b\b\b\b\b\b\b\b\b\b\b\b\b\b\b\b\b\b\b\b\b\b\b\b\b\b\b\b\b\b\b\b\b\b\b\b\b\b\b\b\b\b\b\b\b\b\b\b\b\b\b\b\b\b\b\b\b\b\b\b\b\b\b\b\b\b\b\b\b\b\b\b\b\b\b\b\b\b\b\b\b\b\r199/600 [========>.....................] - ETA: 0s - loss: 0.8326 - accuracy: 0.8739"
                ]
              },
              {
                "output_type": "stream",
                "name": "stdout",
                "text": [
                  "\b\b\b\b\b\b\b\b\b\b\b\b\b\b\b\b\b\b\b\b\b\b\b\b\b\b\b\b\b\b\b\b\b\b\b\b\b\b\b\b\b\b\b\b\b\b\b\b\b\b\b\b\b\b\b\b\b\b\b\b\b\b\b\b\b\b\b\b\b\b\b\b\b\b\b\b\b\b\b\b\b\b\b\b\r223/600 [==========>...................] - ETA: 0s - loss: 0.8296 - accuracy: 0.8742"
                ]
              },
              {
                "output_type": "stream",
                "name": "stdout",
                "text": [
                  "\b\b\b\b\b\b\b\b\b\b\b\b\b\b\b\b\b\b\b\b\b\b\b\b\b\b\b\b\b\b\b\b\b\b\b\b\b\b\b\b\b\b\b\b\b\b\b\b\b\b\b\b\b\b\b\b\b\b\b\b\b\b\b\b\b\b\b\b\b\b\b\b\b\b\b\b\b\b\b\b\b\b\b\b\r246/600 [===========>..................] - ETA: 0s - loss: 0.8289 - accuracy: 0.8748"
                ]
              },
              {
                "output_type": "stream",
                "name": "stdout",
                "text": [
                  "\b\b\b\b\b\b\b\b\b\b\b\b\b\b\b\b\b\b\b\b\b\b\b\b\b\b\b\b\b\b\b\b\b\b\b\b\b\b\b\b\b\b\b\b\b\b\b\b\b\b\b\b\b\b\b\b\b\b\b\b\b\b\b\b\b\b\b\b\b\b\b\b\b\b\b\b\b\b\b\b\b\b\b\b\r269/600 [============>.................] - ETA: 0s - loss: 0.8272 - accuracy: 0.8752"
                ]
              },
              {
                "output_type": "stream",
                "name": "stdout",
                "text": [
                  "\b\b\b\b\b\b\b\b\b\b\b\b\b\b\b\b\b\b\b\b\b\b\b\b\b\b\b\b\b\b\b\b\b\b\b\b\b\b\b\b\b\b\b\b\b\b\b\b\b\b\b\b\b\b\b\b\b\b\b\b\b\b\b\b\b\b\b\b\b\b\b\b\b\b\b\b\b\b\b\b\b\b\b\b\r293/600 [=============>................] - ETA: 0s - loss: 0.8251 - accuracy: 0.8750"
                ]
              },
              {
                "output_type": "stream",
                "name": "stdout",
                "text": [
                  "\b\b\b\b\b\b\b\b\b\b\b\b\b\b\b\b\b\b\b\b\b\b\b\b\b\b\b\b\b\b\b\b\b\b\b\b\b\b\b\b\b\b\b\b\b\b\b\b\b\b\b\b\b\b\b\b\b\b\b\b\b\b\b\b\b\b\b\b\b\b\b\b\b\b\b\b\b\b\b\b\b\b\b\b\r308/600 [==============>...............] - ETA: 0s - loss: 0.8241 - accuracy: 0.8751"
                ]
              },
              {
                "output_type": "stream",
                "name": "stdout",
                "text": [
                  "\b\b\b\b\b\b\b\b\b\b\b\b\b\b\b\b\b\b\b\b\b\b\b\b\b\b\b\b\b\b\b\b\b\b\b\b\b\b\b\b\b\b\b\b\b\b\b\b\b\b\b\b\b\b\b\b\b\b\b\b\b\b\b\b\b\b\b\b\b\b\b\b\b\b\b\b\b\b\b\b\b\b\b\b\r327/600 [===============>..............] - ETA: 0s - loss: 0.8256 - accuracy: 0.8746"
                ]
              },
              {
                "output_type": "stream",
                "name": "stdout",
                "text": [
                  "\b\b\b\b\b\b\b\b\b\b\b\b\b\b\b\b\b\b\b\b\b\b\b\b\b\b\b\b\b\b\b\b\b\b\b\b\b\b\b\b\b\b\b\b\b\b\b\b\b\b\b\b\b\b\b\b\b\b\b\b\b\b\b\b\b\b\b\b\b\b\b\b\b\b\b\b\b\b\b\b\b\b\b\b\r351/600 [================>.............] - ETA: 0s - loss: 0.8258 - accuracy: 0.8743"
                ]
              },
              {
                "output_type": "stream",
                "name": "stdout",
                "text": [
                  "\b\b\b\b\b\b\b\b\b\b\b\b\b\b\b\b\b\b\b\b\b\b\b\b\b\b\b\b\b\b\b\b\b\b\b\b\b\b\b\b\b\b\b\b\b\b\b\b\b\b\b\b\b\b\b\b\b\b\b\b\b\b\b\b\b\b\b\b\b\b\b\b\b\b\b\b\b\b\b\b\b\b\b\b\r374/600 [=================>............] - ETA: 0s - loss: 0.8250 - accuracy: 0.8741"
                ]
              },
              {
                "output_type": "stream",
                "name": "stdout",
                "text": [
                  "\b\b\b\b\b\b\b\b\b\b\b\b\b\b\b\b\b\b\b\b\b\b\b\b\b\b\b\b\b\b\b\b\b\b\b\b\b\b\b\b\b\b\b\b\b\b\b\b\b\b\b\b\b\b\b\b\b\b\b\b\b\b\b\b\b\b\b\b\b\b\b\b\b\b\b\b\b\b\b\b\b\b\b\b\r398/600 [==================>...........] - ETA: 0s - loss: 0.8235 - accuracy: 0.8742"
                ]
              },
              {
                "output_type": "stream",
                "name": "stdout",
                "text": [
                  "\b\b\b\b\b\b\b\b\b\b\b\b\b\b\b\b\b\b\b\b\b\b\b\b\b\b\b\b\b\b\b\b\b\b\b\b\b\b\b\b\b\b\b\b\b\b\b\b\b\b\b\b\b\b\b\b\b\b\b\b\b\b\b\b\b\b\b\b\b\b\b\b\b\b\b\b\b\b\b\b\b\b\b\b\r422/600 [====================>.........] - ETA: 0s - loss: 0.8242 - accuracy: 0.8736"
                ]
              },
              {
                "output_type": "stream",
                "name": "stdout",
                "text": [
                  "\b\b\b\b\b\b\b\b\b\b\b\b\b\b\b\b\b\b\b\b\b\b\b\b\b\b\b\b\b\b\b\b\b\b\b\b\b\b\b\b\b\b\b\b\b\b\b\b\b\b\b\b\b\b\b\b\b\b\b\b\b\b\b\b\b\b\b\b\b\b\b\b\b\b\b\b\b\b\b\b\b\b\b\b\r442/600 [=====================>........] - ETA: 0s - loss: 0.8232 - accuracy: 0.8737"
                ]
              },
              {
                "output_type": "stream",
                "name": "stdout",
                "text": [
                  "\b\b\b\b\b\b\b\b\b\b\b\b\b\b\b\b\b\b\b\b\b\b\b\b\b\b\b\b\b\b\b\b\b\b\b\b\b\b\b\b\b\b\b\b\b\b\b\b\b\b\b\b\b\b\b\b\b\b\b\b\b\b\b\b\b\b\b\b\b\b\b\b\b\b\b\b\b\b\b\b\b\b\b\b\r461/600 [======================>.......] - ETA: 0s - loss: 0.8226 - accuracy: 0.8738"
                ]
              },
              {
                "output_type": "stream",
                "name": "stdout",
                "text": [
                  "\b\b\b\b\b\b\b\b\b\b\b\b\b\b\b\b\b\b\b\b\b\b\b\b\b\b\b\b\b\b\b\b\b\b\b\b\b\b\b\b\b\b\b\b\b\b\b\b\b\b\b\b\b\b\b\b\b\b\b\b\b\b\b\b\b\b\b\b\b\b\b\b\b\b\b\b\b\b\b\b\b\b\b\b\r479/600 [======================>.......] - ETA: 0s - loss: 0.8232 - accuracy: 0.8732"
                ]
              },
              {
                "output_type": "stream",
                "name": "stdout",
                "text": [
                  "\b\b\b\b\b\b\b\b\b\b\b\b\b\b\b\b\b\b\b\b\b\b\b\b\b\b\b\b\b\b\b\b\b\b\b\b\b\b\b\b\b\b\b\b\b\b\b\b\b\b\b\b\b\b\b\b\b\b\b\b\b\b\b\b\b\b\b\b\b\b\b\b\b\b\b\b\b\b\b\b\b\b\b\b\r498/600 [=======================>......] - ETA: 0s - loss: 0.8217 - accuracy: 0.8737"
                ]
              },
              {
                "output_type": "stream",
                "name": "stdout",
                "text": [
                  "\b\b\b\b\b\b\b\b\b\b\b\b\b\b\b\b\b\b\b\b\b\b\b\b\b\b\b\b\b\b\b\b\b\b\b\b\b\b\b\b\b\b\b\b\b\b\b\b\b\b\b\b\b\b\b\b\b\b\b\b\b\b\b\b\b\b\b\b\b\b\b\b\b\b\b\b\b\b\b\b\b\b\b\b\r519/600 [========================>.....] - ETA: 0s - loss: 0.8199 - accuracy: 0.8742"
                ]
              },
              {
                "output_type": "stream",
                "name": "stdout",
                "text": [
                  "\b\b\b\b\b\b\b\b\b\b\b\b\b\b\b\b\b\b\b\b\b\b\b\b\b\b\b\b\b\b\b\b\b\b\b\b\b\b\b\b\b\b\b\b\b\b\b\b\b\b\b\b\b\b\b\b\b\b\b\b\b\b\b\b\b\b\b\b\b\b\b\b\b\b\b\b\b\b\b\b\b\b\b\b\r542/600 [==========================>...] - ETA: 0s - loss: 0.8188 - accuracy: 0.8743"
                ]
              },
              {
                "output_type": "stream",
                "name": "stdout",
                "text": [
                  "\b\b\b\b\b\b\b\b\b\b\b\b\b\b\b\b\b\b\b\b\b\b\b\b\b\b\b\b\b\b\b\b\b\b\b\b\b\b\b\b\b\b\b\b\b\b\b\b\b\b\b\b\b\b\b\b\b\b\b\b\b\b\b\b\b\b\b\b\b\b\b\b\b\b\b\b\b\b\b\b\b\b\b\b\r561/600 [===========================>..] - ETA: 0s - loss: 0.8177 - accuracy: 0.8743"
                ]
              },
              {
                "output_type": "stream",
                "name": "stdout",
                "text": [
                  "\b\b\b\b\b\b\b\b\b\b\b\b\b\b\b\b\b\b\b\b\b\b\b\b\b\b\b\b\b\b\b\b\b\b\b\b\b\b\b\b\b\b\b\b\b\b\b\b\b\b\b\b\b\b\b\b\b\b\b\b\b\b\b\b\b\b\b\b\b\b\b\b\b\b\b\b\b\b\b\b\b\b\b\b\r580/600 [============================>.] - ETA: 0s - loss: 0.8170 - accuracy: 0.8743"
                ]
              },
              {
                "output_type": "stream",
                "name": "stdout",
                "text": [
                  "\b\b\b\b\b\b\b\b\b\b\b\b\b\b\b\b\b\b\b\b\b\b\b\b\b\b\b\b\b\b\b\b\b\b\b\b\b\b\b\b\b\b\b\b\b\b\b\b\b\b\b\b\b\b\b\b\b\b\b\b\b\b\b\b\b\b\b\b\b\b\b\b\b\b\b\b\b\b\b\b\b\b\b\b\r599/600 [============================>.] - ETA: 0s - loss: 0.8153 - accuracy: 0.8744"
                ]
              },
              {
                "output_type": "stream",
                "name": "stdout",
                "text": [
                  "\b\b\b\b\b\b\b\b\b\b\b\b\b\b\b\b\b\b\b\b\b\b\b\b\b\b\b\b\b\b\b\b\b\b\b\b\b\b\b\b\b\b\b\b\b\b\b\b\b\b\b\b\b\b\b\b\b\b\b\b\b\b\b\b\b\b\b\b\b\b\b\b\b\b\b\b\b\b\b\b\b\b\b\b\r600/600 [==============================] - 2s 3ms/step - loss: 0.8151 - accuracy: 0.8744 - val_loss: 0.7722 - val_accuracy: 0.8868\n"
                ]
              },
              {
                "output_type": "stream",
                "name": "stdout",
                "text": [
                  "Epoch 13/20\n"
                ]
              },
              {
                "output_type": "stream",
                "name": "stdout",
                "text": [
                  "\r  1/600 [..............................] - ETA: 5s - loss: 0.8958 - accuracy: 0.8500"
                ]
              },
              {
                "output_type": "stream",
                "name": "stdout",
                "text": [
                  "\b\b\b\b\b\b\b\b\b\b\b\b\b\b\b\b\b\b\b\b\b\b\b\b\b\b\b\b\b\b\b\b\b\b\b\b\b\b\b\b\b\b\b\b\b\b\b\b\b\b\b\b\b\b\b\b\b\b\b\b\b\b\b\b\b\b\b\b\b\b\b\b\b\b\b\b\b\b\b\b\b\b\b\b\r 21/600 [>.............................] - ETA: 1s - loss: 0.7982 - accuracy: 0.8786"
                ]
              },
              {
                "output_type": "stream",
                "name": "stdout",
                "text": [
                  "\b\b\b\b\b\b\b\b\b\b\b\b\b\b\b\b\b\b\b\b\b\b\b\b\b\b\b\b\b\b\b\b\b\b\b\b\b\b\b\b\b\b\b\b\b\b\b\b\b\b\b\b\b\b\b\b\b\b\b\b\b\b\b\b\b\b\b\b\b\b\b\b\b\b\b\b\b\b\b\b\b\b\b\b\r 38/600 [>.............................] - ETA: 1s - loss: 0.7790 - accuracy: 0.8797"
                ]
              },
              {
                "output_type": "stream",
                "name": "stdout",
                "text": [
                  "\b\b\b\b\b\b\b\b\b\b\b\b\b\b\b\b\b\b\b\b\b\b\b\b\b\b\b\b\b\b\b\b\b\b\b\b\b\b\b\b\b\b\b\b\b\b\b\b\b\b\b\b\b\b\b\b\b\b\b\b\b\b\b\b\b\b\b\b\b\b\b\b\b\b\b\b\b\b\b\b\b\b\b\b\r 56/600 [=>............................] - ETA: 1s - loss: 0.7801 - accuracy: 0.8773"
                ]
              },
              {
                "output_type": "stream",
                "name": "stdout",
                "text": [
                  "\b\b\b\b\b\b\b\b\b\b\b\b\b\b\b\b\b\b\b\b\b\b\b\b\b\b\b\b\b\b\b\b\b\b\b\b\b\b\b\b\b\b\b\b\b\b\b\b\b\b\b\b\b\b\b\b\b\b\b\b\b\b\b\b\b\b\b\b\b\b\b\b\b\b\b\b\b\b\b\b\b\b\b\b\r 75/600 [==>...........................] - ETA: 1s - loss: 0.7823 - accuracy: 0.8763"
                ]
              },
              {
                "output_type": "stream",
                "name": "stdout",
                "text": [
                  "\b\b\b\b\b\b\b\b\b\b\b\b\b\b\b\b\b\b\b\b\b\b\b\b\b\b\b\b\b\b\b\b\b\b\b\b\b\b\b\b\b\b\b\b\b\b\b\b\b\b\b\b\b\b\b\b\b\b\b\b\b\b\b\b\b\b\b\b\b\b\b\b\b\b\b\b\b\b\b\b\b\b\b\b\r 96/600 [===>..........................] - ETA: 1s - loss: 0.7806 - accuracy: 0.8754"
                ]
              },
              {
                "output_type": "stream",
                "name": "stdout",
                "text": [
                  "\b\b\b\b\b\b\b\b\b\b\b\b\b\b\b\b\b\b\b\b\b\b\b\b\b\b\b\b\b\b\b\b\b\b\b\b\b\b\b\b\b\b\b\b\b\b\b\b\b\b\b\b\b\b\b\b\b\b\b\b\b\b\b\b\b\b\b\b\b\b\b\b\b\b\b\b\b\b\b\b\b\b\b\b\r117/600 [====>.........................] - ETA: 1s - loss: 0.7722 - accuracy: 0.8790"
                ]
              },
              {
                "output_type": "stream",
                "name": "stdout",
                "text": [
                  "\b\b\b\b\b\b\b\b\b\b\b\b\b\b\b\b\b\b\b\b\b\b\b\b\b\b\b\b\b\b\b\b\b\b\b\b\b\b\b\b\b\b\b\b\b\b\b\b\b\b\b\b\b\b\b\b\b\b\b\b\b\b\b\b\b\b\b\b\b\b\b\b\b\b\b\b\b\b\b\b\b\b\b\b\r140/600 [======>.......................] - ETA: 1s - loss: 0.7778 - accuracy: 0.8777"
                ]
              },
              {
                "output_type": "stream",
                "name": "stdout",
                "text": [
                  "\b\b\b\b\b\b\b\b\b\b\b\b\b\b\b\b\b\b\b\b\b\b\b\b\b\b\b\b\b\b\b\b\b\b\b\b\b\b\b\b\b\b\b\b\b\b\b\b\b\b\b\b\b\b\b\b\b\b\b\b\b\b\b\b\b\b\b\b\b\b\b\b\b\b\b\b\b\b\b\b\b\b\b\b\r158/600 [======>.......................] - ETA: 1s - loss: 0.7774 - accuracy: 0.8778"
                ]
              },
              {
                "output_type": "stream",
                "name": "stdout",
                "text": [
                  "\b\b\b\b\b\b\b\b\b\b\b\b\b\b\b\b\b\b\b\b\b\b\b\b\b\b\b\b\b\b\b\b\b\b\b\b\b\b\b\b\b\b\b\b\b\b\b\b\b\b\b\b\b\b\b\b\b\b\b\b\b\b\b\b\b\b\b\b\b\b\b\b\b\b\b\b\b\b\b\b\b\b\b\b\r172/600 [=======>......................] - ETA: 1s - loss: 0.7766 - accuracy: 0.8783"
                ]
              },
              {
                "output_type": "stream",
                "name": "stdout",
                "text": [
                  "\b\b\b\b\b\b\b\b\b\b\b\b\b\b\b\b\b\b\b\b\b\b\b\b\b\b\b\b\b\b\b\b\b\b\b\b\b\b\b\b\b\b\b\b\b\b\b\b\b\b\b\b\b\b\b\b\b\b\b\b\b\b\b\b\b\b\b\b\b\b\b\b\b\b\b\b\b\b\b\b\b\b\b\b\r185/600 [========>.....................] - ETA: 1s - loss: 0.7781 - accuracy: 0.8771"
                ]
              },
              {
                "output_type": "stream",
                "name": "stdout",
                "text": [
                  "\b\b\b\b\b\b\b\b\b\b\b\b\b\b\b\b\b\b\b\b\b\b\b\b\b\b\b\b\b\b\b\b\b\b\b\b\b\b\b\b\b\b\b\b\b\b\b\b\b\b\b\b\b\b\b\b\b\b\b\b\b\b\b\b\b\b\b\b\b\b\b\b\b\b\b\b\b\b\b\b\b\b\b\b\r197/600 [========>.....................] - ETA: 1s - loss: 0.7787 - accuracy: 0.8769"
                ]
              },
              {
                "output_type": "stream",
                "name": "stdout",
                "text": [
                  "\b\b\b\b\b\b\b\b\b\b\b\b\b\b\b\b\b\b\b\b\b\b\b\b\b\b\b\b\b\b\b\b\b\b\b\b\b\b\b\b\b\b\b\b\b\b\b\b\b\b\b\b\b\b\b\b\b\b\b\b\b\b\b\b\b\b\b\b\b\b\b\b\b\b\b\b\b\b\b\b\b\b\b\b\r209/600 [=========>....................] - ETA: 1s - loss: 0.7783 - accuracy: 0.8767"
                ]
              },
              {
                "output_type": "stream",
                "name": "stdout",
                "text": [
                  "\b\b\b\b\b\b\b\b\b\b\b\b\b\b\b\b\b\b\b\b\b\b\b\b\b\b\b\b\b\b\b\b\b\b\b\b\b\b\b\b\b\b\b\b\b\b\b\b\b\b\b\b\b\b\b\b\b\b\b\b\b\b\b\b\b\b\b\b\b\b\b\b\b\b\b\b\b\b\b\b\b\b\b\b\r220/600 [==========>...................] - ETA: 1s - loss: 0.7782 - accuracy: 0.8771"
                ]
              },
              {
                "output_type": "stream",
                "name": "stdout",
                "text": [
                  "\b\b\b\b\b\b\b\b\b\b\b\b\b\b\b\b\b\b\b\b\b\b\b\b\b\b\b\b\b\b\b\b\b\b\b\b\b\b\b\b\b\b\b\b\b\b\b\b\b\b\b\b\b\b\b\b\b\b\b\b\b\b\b\b\b\b\b\b\b\b\b\b\b\b\b\b\b\b\b\b\b\b\b\b\r232/600 [==========>...................] - ETA: 1s - loss: 0.7783 - accuracy: 0.8766"
                ]
              },
              {
                "output_type": "stream",
                "name": "stdout",
                "text": [
                  "\b\b\b\b\b\b\b\b\b\b\b\b\b\b\b\b\b\b\b\b\b\b\b\b\b\b\b\b\b\b\b\b\b\b\b\b\b\b\b\b\b\b\b\b\b\b\b\b\b\b\b\b\b\b\b\b\b\b\b\b\b\b\b\b\b\b\b\b\b\b\b\b\b\b\b\b\b\b\b\b\b\b\b\b\r243/600 [===========>..................] - ETA: 1s - loss: 0.7758 - accuracy: 0.8772"
                ]
              },
              {
                "output_type": "stream",
                "name": "stdout",
                "text": [
                  "\b\b\b\b\b\b\b\b\b\b\b\b\b\b\b\b\b\b\b\b\b\b\b\b\b\b\b\b\b\b\b\b\b\b\b\b\b\b\b\b\b\b\b\b\b\b\b\b\b\b\b\b\b\b\b\b\b\b\b\b\b\b\b\b\b\b\b\b\b\b\b\b\b\b\b\b\b\b\b\b\b\b\b\b\r256/600 [===========>..................] - ETA: 1s - loss: 0.7769 - accuracy: 0.8768"
                ]
              },
              {
                "output_type": "stream",
                "name": "stdout",
                "text": [
                  "\b\b\b\b\b\b\b\b\b\b\b\b\b\b\b\b\b\b\b\b\b\b\b\b\b\b\b\b\b\b\b\b\b\b\b\b\b\b\b\b\b\b\b\b\b\b\b\b\b\b\b\b\b\b\b\b\b\b\b\b\b\b\b\b\b\b\b\b\b\b\b\b\b\b\b\b\b\b\b\b\b\b\b\b\r268/600 [============>.................] - ETA: 1s - loss: 0.7760 - accuracy: 0.8771"
                ]
              },
              {
                "output_type": "stream",
                "name": "stdout",
                "text": [
                  "\b\b\b\b\b\b\b\b\b\b\b\b\b\b\b\b\b\b\b\b\b\b\b\b\b\b\b\b\b\b\b\b\b\b\b\b\b\b\b\b\b\b\b\b\b\b\b\b\b\b\b\b\b\b\b\b\b\b\b\b\b\b\b\b\b\b\b\b\b\b\b\b\b\b\b\b\b\b\b\b\b\b\b\b\r282/600 [=============>................] - ETA: 1s - loss: 0.7763 - accuracy: 0.8765"
                ]
              },
              {
                "output_type": "stream",
                "name": "stdout",
                "text": [
                  "\b\b\b\b\b\b\b\b\b\b\b\b\b\b\b\b\b\b\b\b\b\b\b\b\b\b\b\b\b\b\b\b\b\b\b\b\b\b\b\b\b\b\b\b\b\b\b\b\b\b\b\b\b\b\b\b\b\b\b\b\b\b\b\b\b\b\b\b\b\b\b\b\b\b\b\b\b\b\b\b\b\b\b\b\r296/600 [=============>................] - ETA: 1s - loss: 0.7764 - accuracy: 0.8767"
                ]
              },
              {
                "output_type": "stream",
                "name": "stdout",
                "text": [
                  "\b\b\b\b\b\b\b\b\b\b\b\b\b\b\b\b\b\b\b\b\b\b\b\b\b\b\b\b\b\b\b\b\b\b\b\b\b\b\b\b\b\b\b\b\b\b\b\b\b\b\b\b\b\b\b\b\b\b\b\b\b\b\b\b\b\b\b\b\b\b\b\b\b\b\b\b\b\b\b\b\b\b\b\b\r309/600 [==============>...............] - ETA: 0s - loss: 0.7762 - accuracy: 0.8768"
                ]
              },
              {
                "output_type": "stream",
                "name": "stdout",
                "text": [
                  "\b\b\b\b\b\b\b\b\b\b\b\b\b\b\b\b\b\b\b\b\b\b\b\b\b\b\b\b\b\b\b\b\b\b\b\b\b\b\b\b\b\b\b\b\b\b\b\b\b\b\b\b\b\b\b\b\b\b\b\b\b\b\b\b\b\b\b\b\b\b\b\b\b\b\b\b\b\b\b\b\b\b\b\b\r323/600 [===============>..............] - ETA: 0s - loss: 0.7758 - accuracy: 0.8775"
                ]
              },
              {
                "output_type": "stream",
                "name": "stdout",
                "text": [
                  "\b\b\b\b\b\b\b\b\b\b\b\b\b\b\b\b\b\b\b\b\b\b\b\b\b\b\b\b\b\b\b\b\b\b\b\b\b\b\b\b\b\b\b\b\b\b\b\b\b\b\b\b\b\b\b\b\b\b\b\b\b\b\b\b\b\b\b\b\b\b\b\b\b\b\b\b\b\b\b\b\b\b\b\b\r335/600 [===============>..............] - ETA: 0s - loss: 0.7740 - accuracy: 0.8779"
                ]
              },
              {
                "output_type": "stream",
                "name": "stdout",
                "text": [
                  "\b\b\b\b\b\b\b\b\b\b\b\b\b\b\b\b\b\b\b\b\b\b\b\b\b\b\b\b\b\b\b\b\b\b\b\b\b\b\b\b\b\b\b\b\b\b\b\b\b\b\b\b\b\b\b\b\b\b\b\b\b\b\b\b\b\b\b\b\b\b\b\b\b\b\b\b\b\b\b\b\b\b\b\b\r348/600 [================>.............] - ETA: 0s - loss: 0.7744 - accuracy: 0.8776"
                ]
              },
              {
                "output_type": "stream",
                "name": "stdout",
                "text": [
                  "\b\b\b\b\b\b\b\b\b\b\b\b\b\b\b\b\b\b\b\b\b\b\b\b\b\b\b\b\b\b\b\b\b\b\b\b\b\b\b\b\b\b\b\b\b\b\b\b\b\b\b\b\b\b\b\b\b\b\b\b\b\b\b\b\b\b\b\b\b\b\b\b\b\b\b\b\b\b\b\b\b\b\b\b\r360/600 [=================>............] - ETA: 0s - loss: 0.7737 - accuracy: 0.8777"
                ]
              },
              {
                "output_type": "stream",
                "name": "stdout",
                "text": [
                  "\b\b\b\b\b\b\b\b\b\b\b\b\b\b\b\b\b\b\b\b\b\b\b\b\b\b\b\b\b\b\b\b\b\b\b\b\b\b\b\b\b\b\b\b\b\b\b\b\b\b\b\b\b\b\b\b\b\b\b\b\b\b\b\b\b\b\b\b\b\b\b\b\b\b\b\b\b\b\b\b\b\b\b\b\r371/600 [=================>............] - ETA: 0s - loss: 0.7737 - accuracy: 0.8778"
                ]
              },
              {
                "output_type": "stream",
                "name": "stdout",
                "text": [
                  "\b\b\b\b\b\b\b\b\b\b\b\b\b\b\b\b\b\b\b\b\b\b\b\b\b\b\b\b\b\b\b\b\b\b\b\b\b\b\b\b\b\b\b\b\b\b\b\b\b\b\b\b\b\b\b\b\b\b\b\b\b\b\b\b\b\b\b\b\b\b\b\b\b\b\b\b\b\b\b\b\b\b\b\b\r374/600 [=================>............] - ETA: 0s - loss: 0.7735 - accuracy: 0.8779"
                ]
              },
              {
                "output_type": "stream",
                "name": "stdout",
                "text": [
                  "\b\b\b\b\b\b\b\b\b\b\b\b\b\b\b\b\b\b\b\b\b\b\b\b\b\b\b\b\b\b\b\b\b\b\b\b\b\b\b\b\b\b\b\b\b\b\b\b\b\b\b\b\b\b\b\b\b\b\b\b\b\b\b\b\b\b\b\b\b\b\b\b\b\b\b\b\b\b\b\b\b\b\b\b\r378/600 [=================>............] - ETA: 0s - loss: 0.7731 - accuracy: 0.8780"
                ]
              },
              {
                "output_type": "stream",
                "name": "stdout",
                "text": [
                  "\b\b\b\b\b\b\b\b\b\b\b\b\b\b\b\b\b\b\b\b\b\b\b\b\b\b\b\b\b\b\b\b\b\b\b\b\b\b\b\b\b\b\b\b\b\b\b\b\b\b\b\b\b\b\b\b\b\b\b\b\b\b\b\b\b\b\b\b\b\b\b\b\b\b\b\b\b\b\b\b\b\b\b\b\r382/600 [==================>...........] - ETA: 0s - loss: 0.7722 - accuracy: 0.8784"
                ]
              },
              {
                "output_type": "stream",
                "name": "stdout",
                "text": [
                  "\b\b\b\b\b\b\b\b\b\b\b\b\b\b\b\b\b\b\b\b\b\b\b\b\b\b\b\b\b\b\b\b\b\b\b\b\b\b\b\b\b\b\b\b\b\b\b\b\b\b\b\b\b\b\b\b\b\b\b\b\b\b\b\b\b\b\b\b\b\b\b\b\b\b\b\b\b\b\b\b\b\b\b\b\r386/600 [==================>...........] - ETA: 0s - loss: 0.7720 - accuracy: 0.8784"
                ]
              },
              {
                "output_type": "stream",
                "name": "stdout",
                "text": [
                  "\b\b\b\b\b\b\b\b\b\b\b\b\b\b\b\b\b\b\b\b\b\b\b\b\b\b\b\b\b\b\b\b\b\b\b\b\b\b\b\b\b\b\b\b\b\b\b\b\b\b\b\b\b\b\b\b\b\b\b\b\b\b\b\b\b\b\b\b\b\b\b\b\b\b\b\b\b\b\b\b\b\b\b\b\r391/600 [==================>...........] - ETA: 0s - loss: 0.7711 - accuracy: 0.8787"
                ]
              },
              {
                "output_type": "stream",
                "name": "stdout",
                "text": [
                  "\b\b\b\b\b\b\b\b\b\b\b\b\b\b\b\b\b\b\b\b\b\b\b\b\b\b\b\b\b\b\b\b\b\b\b\b\b\b\b\b\b\b\b\b\b\b\b\b\b\b\b\b\b\b\b\b\b\b\b\b\b\b\b\b\b\b\b\b\b\b\b\b\b\b\b\b\b\b\b\b\b\b\b\b\r396/600 [==================>...........] - ETA: 0s - loss: 0.7715 - accuracy: 0.8783"
                ]
              },
              {
                "output_type": "stream",
                "name": "stdout",
                "text": [
                  "\b\b\b\b\b\b\b\b\b\b\b\b\b\b\b\b\b\b\b\b\b\b\b\b\b\b\b\b\b\b\b\b\b\b\b\b\b\b\b\b\b\b\b\b\b\b\b\b\b\b\b\b\b\b\b\b\b\b\b\b\b\b\b\b\b\b\b\b\b\b\b\b\b\b\b\b\b\b\b\b\b\b\b\b\r408/600 [===================>..........] - ETA: 0s - loss: 0.7707 - accuracy: 0.8788"
                ]
              },
              {
                "output_type": "stream",
                "name": "stdout",
                "text": [
                  "\b\b\b\b\b\b\b\b\b\b\b\b\b\b\b\b\b\b\b\b\b\b\b\b\b\b\b\b\b\b\b\b\b\b\b\b\b\b\b\b\b\b\b\b\b\b\b\b\b\b\b\b\b\b\b\b\b\b\b\b\b\b\b\b\b\b\b\b\b\b\b\b\b\b\b\b\b\b\b\b\b\b\b\b\r420/600 [====================>.........] - ETA: 0s - loss: 0.7714 - accuracy: 0.8787"
                ]
              },
              {
                "output_type": "stream",
                "name": "stdout",
                "text": [
                  "\b\b\b\b\b\b\b\b\b\b\b\b\b\b\b\b\b\b\b\b\b\b\b\b\b\b\b\b\b\b\b\b\b\b\b\b\b\b\b\b\b\b\b\b\b\b\b\b\b\b\b\b\b\b\b\b\b\b\b\b\b\b\b\b\b\b\b\b\b\b\b\b\b\b\b\b\b\b\b\b\b\b\b\b\r432/600 [====================>.........] - ETA: 0s - loss: 0.7706 - accuracy: 0.8790"
                ]
              },
              {
                "output_type": "stream",
                "name": "stdout",
                "text": [
                  "\b\b\b\b\b\b\b\b\b\b\b\b\b\b\b\b\b\b\b\b\b\b\b\b\b\b\b\b\b\b\b\b\b\b\b\b\b\b\b\b\b\b\b\b\b\b\b\b\b\b\b\b\b\b\b\b\b\b\b\b\b\b\b\b\b\b\b\b\b\b\b\b\b\b\b\b\b\b\b\b\b\b\b\b\r446/600 [=====================>........] - ETA: 0s - loss: 0.7714 - accuracy: 0.8785"
                ]
              },
              {
                "output_type": "stream",
                "name": "stdout",
                "text": [
                  "\b\b\b\b\b\b\b\b\b\b\b\b\b\b\b\b\b\b\b\b\b\b\b\b\b\b\b\b\b\b\b\b\b\b\b\b\b\b\b\b\b\b\b\b\b\b\b\b\b\b\b\b\b\b\b\b\b\b\b\b\b\b\b\b\b\b\b\b\b\b\b\b\b\b\b\b\b\b\b\b\b\b\b\b\r460/600 [======================>.......] - ETA: 0s - loss: 0.7712 - accuracy: 0.8785"
                ]
              },
              {
                "output_type": "stream",
                "name": "stdout",
                "text": [
                  "\b\b\b\b\b\b\b\b\b\b\b\b\b\b\b\b\b\b\b\b\b\b\b\b\b\b\b\b\b\b\b\b\b\b\b\b\b\b\b\b\b\b\b\b\b\b\b\b\b\b\b\b\b\b\b\b\b\b\b\b\b\b\b\b\b\b\b\b\b\b\b\b\b\b\b\b\b\b\b\b\b\b\b\b\r474/600 [======================>.......] - ETA: 0s - loss: 0.7712 - accuracy: 0.8780"
                ]
              },
              {
                "output_type": "stream",
                "name": "stdout",
                "text": [
                  "\b\b\b\b\b\b\b\b\b\b\b\b\b\b\b\b\b\b\b\b\b\b\b\b\b\b\b\b\b\b\b\b\b\b\b\b\b\b\b\b\b\b\b\b\b\b\b\b\b\b\b\b\b\b\b\b\b\b\b\b\b\b\b\b\b\b\b\b\b\b\b\b\b\b\b\b\b\b\b\b\b\b\b\b\r488/600 [=======================>......] - ETA: 0s - loss: 0.7709 - accuracy: 0.8778"
                ]
              },
              {
                "output_type": "stream",
                "name": "stdout",
                "text": [
                  "\b\b\b\b\b\b\b\b\b\b\b\b\b\b\b\b\b\b\b\b\b\b\b\b\b\b\b\b\b\b\b\b\b\b\b\b\b\b\b\b\b\b\b\b\b\b\b\b\b\b\b\b\b\b\b\b\b\b\b\b\b\b\b\b\b\b\b\b\b\b\b\b\b\b\b\b\b\b\b\b\b\b\b\b\r502/600 [========================>.....] - ETA: 0s - loss: 0.7711 - accuracy: 0.8777"
                ]
              },
              {
                "output_type": "stream",
                "name": "stdout",
                "text": [
                  "\b\b\b\b\b\b\b\b\b\b\b\b\b\b\b\b\b\b\b\b\b\b\b\b\b\b\b\b\b\b\b\b\b\b\b\b\b\b\b\b\b\b\b\b\b\b\b\b\b\b\b\b\b\b\b\b\b\b\b\b\b\b\b\b\b\b\b\b\b\b\b\b\b\b\b\b\b\b\b\b\b\b\b\b\r516/600 [========================>.....] - ETA: 0s - loss: 0.7709 - accuracy: 0.8778"
                ]
              },
              {
                "output_type": "stream",
                "name": "stdout",
                "text": [
                  "\b\b\b\b\b\b\b\b\b\b\b\b\b\b\b\b\b\b\b\b\b\b\b\b\b\b\b\b\b\b\b\b\b\b\b\b\b\b\b\b\b\b\b\b\b\b\b\b\b\b\b\b\b\b\b\b\b\b\b\b\b\b\b\b\b\b\b\b\b\b\b\b\b\b\b\b\b\b\b\b\b\b\b\b\r530/600 [=========================>....] - ETA: 0s - loss: 0.7712 - accuracy: 0.8779"
                ]
              },
              {
                "output_type": "stream",
                "name": "stdout",
                "text": [
                  "\b\b\b\b\b\b\b\b\b\b\b\b\b\b\b\b\b\b\b\b\b\b\b\b\b\b\b\b\b\b\b\b\b\b\b\b\b\b\b\b\b\b\b\b\b\b\b\b\b\b\b\b\b\b\b\b\b\b\b\b\b\b\b\b\b\b\b\b\b\b\b\b\b\b\b\b\b\b\b\b\b\b\b\b\r544/600 [==========================>...] - ETA: 0s - loss: 0.7701 - accuracy: 0.8781"
                ]
              },
              {
                "output_type": "stream",
                "name": "stdout",
                "text": [
                  "\b\b\b\b\b\b\b\b\b\b\b\b\b\b\b\b\b\b\b\b\b\b\b\b\b\b\b\b\b\b\b\b\b\b\b\b\b\b\b\b\b\b\b\b\b\b\b\b\b\b\b\b\b\b\b\b\b\b\b\b\b\b\b\b\b\b\b\b\b\b\b\b\b\b\b\b\b\b\b\b\b\b\b\b\r554/600 [==========================>...] - ETA: 0s - loss: 0.7705 - accuracy: 0.8780"
                ]
              },
              {
                "output_type": "stream",
                "name": "stdout",
                "text": [
                  "\b\b\b\b\b\b\b\b\b\b\b\b\b\b\b\b\b\b\b\b\b\b\b\b\b\b\b\b\b\b\b\b\b\b\b\b\b\b\b\b\b\b\b\b\b\b\b\b\b\b\b\b\b\b\b\b\b\b\b\b\b\b\b\b\b\b\b\b\b\b\b\b\b\b\b\b\b\b\b\b\b\b\b\b\r568/600 [===========================>..] - ETA: 0s - loss: 0.7702 - accuracy: 0.8779"
                ]
              },
              {
                "output_type": "stream",
                "name": "stdout",
                "text": [
                  "\b\b\b\b\b\b\b\b\b\b\b\b\b\b\b\b\b\b\b\b\b\b\b\b\b\b\b\b\b\b\b\b\b\b\b\b\b\b\b\b\b\b\b\b\b\b\b\b\b\b\b\b\b\b\b\b\b\b\b\b\b\b\b\b\b\b\b\b\b\b\b\b\b\b\b\b\b\b\b\b\b\b\b\b\r584/600 [============================>.] - ETA: 0s - loss: 0.7704 - accuracy: 0.8779"
                ]
              },
              {
                "output_type": "stream",
                "name": "stdout",
                "text": [
                  "\b\b\b\b\b\b\b\b\b\b\b\b\b\b\b\b\b\b\b\b\b\b\b\b\b\b\b\b\b\b\b\b\b\b\b\b\b\b\b\b\b\b\b\b\b\b\b\b\b\b\b\b\b\b\b\b\b\b\b\b\b\b\b\b\b\b\b\b\b\b\b\b\b\b\b\b\b\b\b\b\b\b\b\b\r599/600 [============================>.] - ETA: 0s - loss: 0.7690 - accuracy: 0.8784"
                ]
              },
              {
                "output_type": "stream",
                "name": "stdout",
                "text": [
                  "\b\b\b\b\b\b\b\b\b\b\b\b\b\b\b\b\b\b\b\b\b\b\b\b\b\b\b\b\b\b\b\b\b\b\b\b\b\b\b\b\b\b\b\b\b\b\b\b\b\b\b\b\b\b\b\b\b\b\b\b\b\b\b\b\b\b\b\b\b\b\b\b\b\b\b\b\b\b\b\b\b\b\b\b\r600/600 [==============================] - 3s 5ms/step - loss: 0.7694 - accuracy: 0.8783 - val_loss: 0.7218 - val_accuracy: 0.8938\n"
                ]
              },
              {
                "output_type": "stream",
                "name": "stdout",
                "text": [
                  "Epoch 14/20\n"
                ]
              },
              {
                "output_type": "stream",
                "name": "stdout",
                "text": [
                  "\r  1/600 [..............................] - ETA: 5s - loss: 0.6753 - accuracy: 0.9200"
                ]
              },
              {
                "output_type": "stream",
                "name": "stdout",
                "text": [
                  "\b\b\b\b\b\b\b\b\b\b\b\b\b\b\b\b\b\b\b\b\b\b\b\b\b\b\b\b\b\b\b\b\b\b\b\b\b\b\b\b\b\b\b\b\b\b\b\b\b\b\b\b\b\b\b\b\b\b\b\b\b\b\b\b\b\b\b\b\b\b\b\b\b\b\b\b\b\b\b\b\b\b\b\b\r 14/600 [..............................] - ETA: 2s - loss: 0.7205 - accuracy: 0.8986"
                ]
              },
              {
                "output_type": "stream",
                "name": "stdout",
                "text": [
                  "\b\b\b\b\b\b\b\b\b\b\b\b\b\b\b\b\b\b\b\b\b\b\b\b\b\b\b\b\b\b\b\b\b\b\b\b\b\b\b\b\b\b\b\b\b\b\b\b\b\b\b\b\b\b\b\b\b\b\b\b\b\b\b\b\b\b\b\b\b\b\b\b\b\b\b\b\b\b\b\b\b\b\b\b\r 26/600 [>.............................] - ETA: 2s - loss: 0.7283 - accuracy: 0.8942"
                ]
              },
              {
                "output_type": "stream",
                "name": "stdout",
                "text": [
                  "\b\b\b\b\b\b\b\b\b\b\b\b\b\b\b\b\b\b\b\b\b\b\b\b\b\b\b\b\b\b\b\b\b\b\b\b\b\b\b\b\b\b\b\b\b\b\b\b\b\b\b\b\b\b\b\b\b\b\b\b\b\b\b\b\b\b\b\b\b\b\b\b\b\b\b\b\b\b\b\b\b\b\b\b\r 40/600 [=>............................] - ETA: 2s - loss: 0.7298 - accuracy: 0.8925"
                ]
              },
              {
                "output_type": "stream",
                "name": "stdout",
                "text": [
                  "\b\b\b\b\b\b\b\b\b\b\b\b\b\b\b\b\b\b\b\b\b\b\b\b\b\b\b\b\b\b\b\b\b\b\b\b\b\b\b\b\b\b\b\b\b\b\b\b\b\b\b\b\b\b\b\b\b\b\b\b\b\b\b\b\b\b\b\b\b\b\b\b\b\b\b\b\b\b\b\b\b\b\b\b\r 52/600 [=>............................] - ETA: 2s - loss: 0.7181 - accuracy: 0.8950"
                ]
              },
              {
                "output_type": "stream",
                "name": "stdout",
                "text": [
                  "\b\b\b\b\b\b\b\b\b\b\b\b\b\b\b\b\b\b\b\b\b\b\b\b\b\b\b\b\b\b\b\b\b\b\b\b\b\b\b\b\b\b\b\b\b\b\b\b\b\b\b\b\b\b\b\b\b\b\b\b\b\b\b\b\b\b\b\b\b\b\b\b\b\b\b\b\b\b\b\b\b\b\b\b\r 66/600 [==>...........................] - ETA: 2s - loss: 0.7177 - accuracy: 0.8933"
                ]
              },
              {
                "output_type": "stream",
                "name": "stdout",
                "text": [
                  "\b\b\b\b\b\b\b\b\b\b\b\b\b\b\b\b\b\b\b\b\b\b\b\b\b\b\b\b\b\b\b\b\b\b\b\b\b\b\b\b\b\b\b\b\b\b\b\b\b\b\b\b\b\b\b\b\b\b\b\b\b\b\b\b\b\b\b\b\b\b\b\b\b\b\b\b\b\b\b\b\b\b\b\b\r 77/600 [==>...........................] - ETA: 2s - loss: 0.7151 - accuracy: 0.8942"
                ]
              },
              {
                "output_type": "stream",
                "name": "stdout",
                "text": [
                  "\b\b\b\b\b\b\b\b\b\b\b\b\b\b\b\b\b\b\b\b\b\b\b\b\b\b\b\b\b\b\b\b\b\b\b\b\b\b\b\b\b\b\b\b\b\b\b\b\b\b\b\b\b\b\b\b\b\b\b\b\b\b\b\b\b\b\b\b\b\b\b\b\b\b\b\b\b\b\b\b\b\b\b\b\r 91/600 [===>..........................] - ETA: 2s - loss: 0.7209 - accuracy: 0.8912"
                ]
              },
              {
                "output_type": "stream",
                "name": "stdout",
                "text": [
                  "\b\b\b\b\b\b\b\b\b\b\b\b\b\b\b\b\b\b\b\b\b\b\b\b\b\b\b\b\b\b\b\b\b\b\b\b\b\b\b\b\b\b\b\b\b\b\b\b\b\b\b\b\b\b\b\b\b\b\b\b\b\b\b\b\b\b\b\b\b\b\b\b\b\b\b\b\b\b\b\b\b\b\b\b\r111/600 [====>.........................] - ETA: 1s - loss: 0.7270 - accuracy: 0.8909"
                ]
              },
              {
                "output_type": "stream",
                "name": "stdout",
                "text": [
                  "\b\b\b\b\b\b\b\b\b\b\b\b\b\b\b\b\b\b\b\b\b\b\b\b\b\b\b\b\b\b\b\b\b\b\b\b\b\b\b\b\b\b\b\b\b\b\b\b\b\b\b\b\b\b\b\b\b\b\b\b\b\b\b\b\b\b\b\b\b\b\b\b\b\b\b\b\b\b\b\b\b\b\b\b\r127/600 [=====>........................] - ETA: 1s - loss: 0.7303 - accuracy: 0.8887"
                ]
              },
              {
                "output_type": "stream",
                "name": "stdout",
                "text": [
                  "\b\b\b\b\b\b\b\b\b\b\b\b\b\b\b\b\b\b\b\b\b\b\b\b\b\b\b\b\b\b\b\b\b\b\b\b\b\b\b\b\b\b\b\b\b\b\b\b\b\b\b\b\b\b\b\b\b\b\b\b\b\b\b\b\b\b\b\b\b\b\b\b\b\b\b\b\b\b\b\b\b\b\b\b\r148/600 [======>.......................] - ETA: 1s - loss: 0.7247 - accuracy: 0.8899"
                ]
              },
              {
                "output_type": "stream",
                "name": "stdout",
                "text": [
                  "\b\b\b\b\b\b\b\b\b\b\b\b\b\b\b\b\b\b\b\b\b\b\b\b\b\b\b\b\b\b\b\b\b\b\b\b\b\b\b\b\b\b\b\b\b\b\b\b\b\b\b\b\b\b\b\b\b\b\b\b\b\b\b\b\b\b\b\b\b\b\b\b\b\b\b\b\b\b\b\b\b\b\b\b\r169/600 [=======>......................] - ETA: 1s - loss: 0.7222 - accuracy: 0.8898"
                ]
              },
              {
                "output_type": "stream",
                "name": "stdout",
                "text": [
                  "\b\b\b\b\b\b\b\b\b\b\b\b\b\b\b\b\b\b\b\b\b\b\b\b\b\b\b\b\b\b\b\b\b\b\b\b\b\b\b\b\b\b\b\b\b\b\b\b\b\b\b\b\b\b\b\b\b\b\b\b\b\b\b\b\b\b\b\b\b\b\b\b\b\b\b\b\b\b\b\b\b\b\b\b\r191/600 [========>.....................] - ETA: 1s - loss: 0.7216 - accuracy: 0.8900"
                ]
              },
              {
                "output_type": "stream",
                "name": "stdout",
                "text": [
                  "\b\b\b\b\b\b\b\b\b\b\b\b\b\b\b\b\b\b\b\b\b\b\b\b\b\b\b\b\b\b\b\b\b\b\b\b\b\b\b\b\b\b\b\b\b\b\b\b\b\b\b\b\b\b\b\b\b\b\b\b\b\b\b\b\b\b\b\b\b\b\b\b\b\b\b\b\b\b\b\b\b\b\b\b\r213/600 [=========>....................] - ETA: 1s - loss: 0.7207 - accuracy: 0.8898"
                ]
              },
              {
                "output_type": "stream",
                "name": "stdout",
                "text": [
                  "\b\b\b\b\b\b\b\b\b\b\b\b\b\b\b\b\b\b\b\b\b\b\b\b\b\b\b\b\b\b\b\b\b\b\b\b\b\b\b\b\b\b\b\b\b\b\b\b\b\b\b\b\b\b\b\b\b\b\b\b\b\b\b\b\b\b\b\b\b\b\b\b\b\b\b\b\b\b\b\b\b\b\b\b\r231/600 [==========>...................] - ETA: 1s - loss: 0.7234 - accuracy: 0.8891"
                ]
              },
              {
                "output_type": "stream",
                "name": "stdout",
                "text": [
                  "\b\b\b\b\b\b\b\b\b\b\b\b\b\b\b\b\b\b\b\b\b\b\b\b\b\b\b\b\b\b\b\b\b\b\b\b\b\b\b\b\b\b\b\b\b\b\b\b\b\b\b\b\b\b\b\b\b\b\b\b\b\b\b\b\b\b\b\b\b\b\b\b\b\b\b\b\b\b\b\b\b\b\b\b\r252/600 [===========>..................] - ETA: 1s - loss: 0.7222 - accuracy: 0.8898"
                ]
              },
              {
                "output_type": "stream",
                "name": "stdout",
                "text": [
                  "\b\b\b\b\b\b\b\b\b\b\b\b\b\b\b\b\b\b\b\b\b\b\b\b\b\b\b\b\b\b\b\b\b\b\b\b\b\b\b\b\b\b\b\b\b\b\b\b\b\b\b\b\b\b\b\b\b\b\b\b\b\b\b\b\b\b\b\b\b\b\b\b\b\b\b\b\b\b\b\b\b\b\b\b\r273/600 [============>.................] - ETA: 0s - loss: 0.7241 - accuracy: 0.8891"
                ]
              },
              {
                "output_type": "stream",
                "name": "stdout",
                "text": [
                  "\b\b\b\b\b\b\b\b\b\b\b\b\b\b\b\b\b\b\b\b\b\b\b\b\b\b\b\b\b\b\b\b\b\b\b\b\b\b\b\b\b\b\b\b\b\b\b\b\b\b\b\b\b\b\b\b\b\b\b\b\b\b\b\b\b\b\b\b\b\b\b\b\b\b\b\b\b\b\b\b\b\b\b\b\r296/600 [=============>................] - ETA: 0s - loss: 0.7231 - accuracy: 0.8889"
                ]
              },
              {
                "output_type": "stream",
                "name": "stdout",
                "text": [
                  "\b\b\b\b\b\b\b\b\b\b\b\b\b\b\b\b\b\b\b\b\b\b\b\b\b\b\b\b\b\b\b\b\b\b\b\b\b\b\b\b\b\b\b\b\b\b\b\b\b\b\b\b\b\b\b\b\b\b\b\b\b\b\b\b\b\b\b\b\b\b\b\b\b\b\b\b\b\b\b\b\b\b\b\b\r316/600 [==============>...............] - ETA: 0s - loss: 0.7221 - accuracy: 0.8893"
                ]
              },
              {
                "output_type": "stream",
                "name": "stdout",
                "text": [
                  "\b\b\b\b\b\b\b\b\b\b\b\b\b\b\b\b\b\b\b\b\b\b\b\b\b\b\b\b\b\b\b\b\b\b\b\b\b\b\b\b\b\b\b\b\b\b\b\b\b\b\b\b\b\b\b\b\b\b\b\b\b\b\b\b\b\b\b\b\b\b\b\b\b\b\b\b\b\b\b\b\b\b\b\b\r336/600 [===============>..............] - ETA: 0s - loss: 0.7217 - accuracy: 0.8894"
                ]
              },
              {
                "output_type": "stream",
                "name": "stdout",
                "text": [
                  "\b\b\b\b\b\b\b\b\b\b\b\b\b\b\b\b\b\b\b\b\b\b\b\b\b\b\b\b\b\b\b\b\b\b\b\b\b\b\b\b\b\b\b\b\b\b\b\b\b\b\b\b\b\b\b\b\b\b\b\b\b\b\b\b\b\b\b\b\b\b\b\b\b\b\b\b\b\b\b\b\b\b\b\b\r354/600 [================>.............] - ETA: 0s - loss: 0.7225 - accuracy: 0.8888"
                ]
              },
              {
                "output_type": "stream",
                "name": "stdout",
                "text": [
                  "\b\b\b\b\b\b\b\b\b\b\b\b\b\b\b\b\b\b\b\b\b\b\b\b\b\b\b\b\b\b\b\b\b\b\b\b\b\b\b\b\b\b\b\b\b\b\b\b\b\b\b\b\b\b\b\b\b\b\b\b\b\b\b\b\b\b\b\b\b\b\b\b\b\b\b\b\b\b\b\b\b\b\b\b\r374/600 [=================>............] - ETA: 0s - loss: 0.7230 - accuracy: 0.8886"
                ]
              },
              {
                "output_type": "stream",
                "name": "stdout",
                "text": [
                  "\b\b\b\b\b\b\b\b\b\b\b\b\b\b\b\b\b\b\b\b\b\b\b\b\b\b\b\b\b\b\b\b\b\b\b\b\b\b\b\b\b\b\b\b\b\b\b\b\b\b\b\b\b\b\b\b\b\b\b\b\b\b\b\b\b\b\b\b\b\b\b\b\b\b\b\b\b\b\b\b\b\b\b\b\r395/600 [==================>...........] - ETA: 0s - loss: 0.7228 - accuracy: 0.8883"
                ]
              },
              {
                "output_type": "stream",
                "name": "stdout",
                "text": [
                  "\b\b\b\b\b\b\b\b\b\b\b\b\b\b\b\b\b\b\b\b\b\b\b\b\b\b\b\b\b\b\b\b\b\b\b\b\b\b\b\b\b\b\b\b\b\b\b\b\b\b\b\b\b\b\b\b\b\b\b\b\b\b\b\b\b\b\b\b\b\b\b\b\b\b\b\b\b\b\b\b\b\b\b\b\r414/600 [===================>..........] - ETA: 0s - loss: 0.7211 - accuracy: 0.8886"
                ]
              },
              {
                "output_type": "stream",
                "name": "stdout",
                "text": [
                  "\b\b\b\b\b\b\b\b\b\b\b\b\b\b\b\b\b\b\b\b\b\b\b\b\b\b\b\b\b\b\b\b\b\b\b\b\b\b\b\b\b\b\b\b\b\b\b\b\b\b\b\b\b\b\b\b\b\b\b\b\b\b\b\b\b\b\b\b\b\b\b\b\b\b\b\b\b\b\b\b\b\b\b\b\r433/600 [====================>.........] - ETA: 0s - loss: 0.7210 - accuracy: 0.8883"
                ]
              },
              {
                "output_type": "stream",
                "name": "stdout",
                "text": [
                  "\b\b\b\b\b\b\b\b\b\b\b\b\b\b\b\b\b\b\b\b\b\b\b\b\b\b\b\b\b\b\b\b\b\b\b\b\b\b\b\b\b\b\b\b\b\b\b\b\b\b\b\b\b\b\b\b\b\b\b\b\b\b\b\b\b\b\b\b\b\b\b\b\b\b\b\b\b\b\b\b\b\b\b\b\r454/600 [=====================>........] - ETA: 0s - loss: 0.7192 - accuracy: 0.8889"
                ]
              },
              {
                "output_type": "stream",
                "name": "stdout",
                "text": [
                  "\b\b\b\b\b\b\b\b\b\b\b\b\b\b\b\b\b\b\b\b\b\b\b\b\b\b\b\b\b\b\b\b\b\b\b\b\b\b\b\b\b\b\b\b\b\b\b\b\b\b\b\b\b\b\b\b\b\b\b\b\b\b\b\b\b\b\b\b\b\b\b\b\b\b\b\b\b\b\b\b\b\b\b\b\r476/600 [======================>.......] - ETA: 0s - loss: 0.7175 - accuracy: 0.8895"
                ]
              },
              {
                "output_type": "stream",
                "name": "stdout",
                "text": [
                  "\b\b\b\b\b\b\b\b\b\b\b\b\b\b\b\b\b\b\b\b\b\b\b\b\b\b\b\b\b\b\b\b\b\b\b\b\b\b\b\b\b\b\b\b\b\b\b\b\b\b\b\b\b\b\b\b\b\b\b\b\b\b\b\b\b\b\b\b\b\b\b\b\b\b\b\b\b\b\b\b\b\b\b\b\r497/600 [=======================>......] - ETA: 0s - loss: 0.7173 - accuracy: 0.8893"
                ]
              },
              {
                "output_type": "stream",
                "name": "stdout",
                "text": [
                  "\b\b\b\b\b\b\b\b\b\b\b\b\b\b\b\b\b\b\b\b\b\b\b\b\b\b\b\b\b\b\b\b\b\b\b\b\b\b\b\b\b\b\b\b\b\b\b\b\b\b\b\b\b\b\b\b\b\b\b\b\b\b\b\b\b\b\b\b\b\b\b\b\b\b\b\b\b\b\b\b\b\b\b\b\r515/600 [========================>.....] - ETA: 0s - loss: 0.7154 - accuracy: 0.8897"
                ]
              },
              {
                "output_type": "stream",
                "name": "stdout",
                "text": [
                  "\b\b\b\b\b\b\b\b\b\b\b\b\b\b\b\b\b\b\b\b\b\b\b\b\b\b\b\b\b\b\b\b\b\b\b\b\b\b\b\b\b\b\b\b\b\b\b\b\b\b\b\b\b\b\b\b\b\b\b\b\b\b\b\b\b\b\b\b\b\b\b\b\b\b\b\b\b\b\b\b\b\b\b\b\r532/600 [=========================>....] - ETA: 0s - loss: 0.7140 - accuracy: 0.8899"
                ]
              },
              {
                "output_type": "stream",
                "name": "stdout",
                "text": [
                  "\b\b\b\b\b\b\b\b\b\b\b\b\b\b\b\b\b\b\b\b\b\b\b\b\b\b\b\b\b\b\b\b\b\b\b\b\b\b\b\b\b\b\b\b\b\b\b\b\b\b\b\b\b\b\b\b\b\b\b\b\b\b\b\b\b\b\b\b\b\b\b\b\b\b\b\b\b\b\b\b\b\b\b\b\r548/600 [==========================>...] - ETA: 0s - loss: 0.7120 - accuracy: 0.8905"
                ]
              },
              {
                "output_type": "stream",
                "name": "stdout",
                "text": [
                  "\b\b\b\b\b\b\b\b\b\b\b\b\b\b\b\b\b\b\b\b\b\b\b\b\b\b\b\b\b\b\b\b\b\b\b\b\b\b\b\b\b\b\b\b\b\b\b\b\b\b\b\b\b\b\b\b\b\b\b\b\b\b\b\b\b\b\b\b\b\b\b\b\b\b\b\b\b\b\b\b\b\b\b\b\r568/600 [===========================>..] - ETA: 0s - loss: 0.7123 - accuracy: 0.8904"
                ]
              },
              {
                "output_type": "stream",
                "name": "stdout",
                "text": [
                  "\b\b\b\b\b\b\b\b\b\b\b\b\b\b\b\b\b\b\b\b\b\b\b\b\b\b\b\b\b\b\b\b\b\b\b\b\b\b\b\b\b\b\b\b\b\b\b\b\b\b\b\b\b\b\b\b\b\b\b\b\b\b\b\b\b\b\b\b\b\b\b\b\b\b\b\b\b\b\b\b\b\b\b\b\r591/600 [============================>.] - ETA: 0s - loss: 0.7121 - accuracy: 0.8900"
                ]
              },
              {
                "output_type": "stream",
                "name": "stdout",
                "text": [
                  "\b\b\b\b\b\b\b\b\b\b\b\b\b\b\b\b\b\b\b\b\b\b\b\b\b\b\b\b\b\b\b\b\b\b\b\b\b\b\b\b\b\b\b\b\b\b\b\b\b\b\b\b\b\b\b\b\b\b\b\b\b\b\b\b\b\b\b\b\b\b\b\b\b\b\b\b\b\b\b\b\b\b\b\b\r600/600 [==============================] - 2s 3ms/step - loss: 0.7118 - accuracy: 0.8903 - val_loss: 0.6848 - val_accuracy: 0.8989\n"
                ]
              },
              {
                "output_type": "stream",
                "name": "stdout",
                "text": [
                  "Epoch 15/20\n"
                ]
              },
              {
                "output_type": "stream",
                "name": "stdout",
                "text": [
                  "\r  1/600 [..............................] - ETA: 5s - loss: 0.6296 - accuracy: 0.9400"
                ]
              },
              {
                "output_type": "stream",
                "name": "stdout",
                "text": [
                  "\b\b\b\b\b\b\b\b\b\b\b\b\b\b\b\b\b\b\b\b\b\b\b\b\b\b\b\b\b\b\b\b\b\b\b\b\b\b\b\b\b\b\b\b\b\b\b\b\b\b\b\b\b\b\b\b\b\b\b\b\b\b\b\b\b\b\b\b\b\b\b\b\b\b\b\b\b\b\b\b\b\b\b\b\r 20/600 [>.............................] - ETA: 1s - loss: 0.6627 - accuracy: 0.9110"
                ]
              },
              {
                "output_type": "stream",
                "name": "stdout",
                "text": [
                  "\b\b\b\b\b\b\b\b\b\b\b\b\b\b\b\b\b\b\b\b\b\b\b\b\b\b\b\b\b\b\b\b\b\b\b\b\b\b\b\b\b\b\b\b\b\b\b\b\b\b\b\b\b\b\b\b\b\b\b\b\b\b\b\b\b\b\b\b\b\b\b\b\b\b\b\b\b\b\b\b\b\b\b\b\r 40/600 [=>............................] - ETA: 1s - loss: 0.6769 - accuracy: 0.9010"
                ]
              },
              {
                "output_type": "stream",
                "name": "stdout",
                "text": [
                  "\b\b\b\b\b\b\b\b\b\b\b\b\b\b\b\b\b\b\b\b\b\b\b\b\b\b\b\b\b\b\b\b\b\b\b\b\b\b\b\b\b\b\b\b\b\b\b\b\b\b\b\b\b\b\b\b\b\b\b\b\b\b\b\b\b\b\b\b\b\b\b\b\b\b\b\b\b\b\b\b\b\b\b\b\r 58/600 [=>............................] - ETA: 1s - loss: 0.6809 - accuracy: 0.8978"
                ]
              },
              {
                "output_type": "stream",
                "name": "stdout",
                "text": [
                  "\b\b\b\b\b\b\b\b\b\b\b\b\b\b\b\b\b\b\b\b\b\b\b\b\b\b\b\b\b\b\b\b\b\b\b\b\b\b\b\b\b\b\b\b\b\b\b\b\b\b\b\b\b\b\b\b\b\b\b\b\b\b\b\b\b\b\b\b\b\b\b\b\b\b\b\b\b\b\b\b\b\b\b\b\r 77/600 [==>...........................] - ETA: 1s - loss: 0.6782 - accuracy: 0.8979"
                ]
              },
              {
                "output_type": "stream",
                "name": "stdout",
                "text": [
                  "\b\b\b\b\b\b\b\b\b\b\b\b\b\b\b\b\b\b\b\b\b\b\b\b\b\b\b\b\b\b\b\b\b\b\b\b\b\b\b\b\b\b\b\b\b\b\b\b\b\b\b\b\b\b\b\b\b\b\b\b\b\b\b\b\b\b\b\b\b\b\b\b\b\b\b\b\b\b\b\b\b\b\b\b\r 96/600 [===>..........................] - ETA: 1s - loss: 0.6810 - accuracy: 0.8949"
                ]
              },
              {
                "output_type": "stream",
                "name": "stdout",
                "text": [
                  "\b\b\b\b\b\b\b\b\b\b\b\b\b\b\b\b\b\b\b\b\b\b\b\b\b\b\b\b\b\b\b\b\b\b\b\b\b\b\b\b\b\b\b\b\b\b\b\b\b\b\b\b\b\b\b\b\b\b\b\b\b\b\b\b\b\b\b\b\b\b\b\b\b\b\b\b\b\b\b\b\b\b\b\b\r118/600 [====>.........................] - ETA: 1s - loss: 0.6803 - accuracy: 0.8953"
                ]
              },
              {
                "output_type": "stream",
                "name": "stdout",
                "text": [
                  "\b\b\b\b\b\b\b\b\b\b\b\b\b\b\b\b\b\b\b\b\b\b\b\b\b\b\b\b\b\b\b\b\b\b\b\b\b\b\b\b\b\b\b\b\b\b\b\b\b\b\b\b\b\b\b\b\b\b\b\b\b\b\b\b\b\b\b\b\b\b\b\b\b\b\b\b\b\b\b\b\b\b\b\b\r136/600 [=====>........................] - ETA: 1s - loss: 0.6797 - accuracy: 0.8965"
                ]
              },
              {
                "output_type": "stream",
                "name": "stdout",
                "text": [
                  "\b\b\b\b\b\b\b\b\b\b\b\b\b\b\b\b\b\b\b\b\b\b\b\b\b\b\b\b\b\b\b\b\b\b\b\b\b\b\b\b\b\b\b\b\b\b\b\b\b\b\b\b\b\b\b\b\b\b\b\b\b\b\b\b\b\b\b\b\b\b\b\b\b\b\b\b\b\b\b\b\b\b\b\b\r158/600 [======>.......................] - ETA: 1s - loss: 0.6844 - accuracy: 0.8957"
                ]
              },
              {
                "output_type": "stream",
                "name": "stdout",
                "text": [
                  "\b\b\b\b\b\b\b\b\b\b\b\b\b\b\b\b\b\b\b\b\b\b\b\b\b\b\b\b\b\b\b\b\b\b\b\b\b\b\b\b\b\b\b\b\b\b\b\b\b\b\b\b\b\b\b\b\b\b\b\b\b\b\b\b\b\b\b\b\b\b\b\b\b\b\b\b\b\b\b\b\b\b\b\b\r180/600 [========>.....................] - ETA: 1s - loss: 0.6851 - accuracy: 0.8962"
                ]
              },
              {
                "output_type": "stream",
                "name": "stdout",
                "text": [
                  "\b\b\b\b\b\b\b\b\b\b\b\b\b\b\b\b\b\b\b\b\b\b\b\b\b\b\b\b\b\b\b\b\b\b\b\b\b\b\b\b\b\b\b\b\b\b\b\b\b\b\b\b\b\b\b\b\b\b\b\b\b\b\b\b\b\b\b\b\b\b\b\b\b\b\b\b\b\b\b\b\b\b\b\b\r196/600 [========>.....................] - ETA: 1s - loss: 0.6873 - accuracy: 0.8960"
                ]
              },
              {
                "output_type": "stream",
                "name": "stdout",
                "text": [
                  "\b\b\b\b\b\b\b\b\b\b\b\b\b\b\b\b\b\b\b\b\b\b\b\b\b\b\b\b\b\b\b\b\b\b\b\b\b\b\b\b\b\b\b\b\b\b\b\b\b\b\b\b\b\b\b\b\b\b\b\b\b\b\b\b\b\b\b\b\b\b\b\b\b\b\b\b\b\b\b\b\b\b\b\b\r220/600 [==========>...................] - ETA: 0s - loss: 0.6874 - accuracy: 0.8954"
                ]
              },
              {
                "output_type": "stream",
                "name": "stdout",
                "text": [
                  "\b\b\b\b\b\b\b\b\b\b\b\b\b\b\b\b\b\b\b\b\b\b\b\b\b\b\b\b\b\b\b\b\b\b\b\b\b\b\b\b\b\b\b\b\b\b\b\b\b\b\b\b\b\b\b\b\b\b\b\b\b\b\b\b\b\b\b\b\b\b\b\b\b\b\b\b\b\b\b\b\b\b\b\b\r241/600 [===========>..................] - ETA: 0s - loss: 0.6861 - accuracy: 0.8952"
                ]
              },
              {
                "output_type": "stream",
                "name": "stdout",
                "text": [
                  "\b\b\b\b\b\b\b\b\b\b\b\b\b\b\b\b\b\b\b\b\b\b\b\b\b\b\b\b\b\b\b\b\b\b\b\b\b\b\b\b\b\b\b\b\b\b\b\b\b\b\b\b\b\b\b\b\b\b\b\b\b\b\b\b\b\b\b\b\b\b\b\b\b\b\b\b\b\b\b\b\b\b\b\b\r265/600 [============>.................] - ETA: 0s - loss: 0.6833 - accuracy: 0.8964"
                ]
              },
              {
                "output_type": "stream",
                "name": "stdout",
                "text": [
                  "\b\b\b\b\b\b\b\b\b\b\b\b\b\b\b\b\b\b\b\b\b\b\b\b\b\b\b\b\b\b\b\b\b\b\b\b\b\b\b\b\b\b\b\b\b\b\b\b\b\b\b\b\b\b\b\b\b\b\b\b\b\b\b\b\b\b\b\b\b\b\b\b\b\b\b\b\b\b\b\b\b\b\b\b\r287/600 [=============>................] - ETA: 0s - loss: 0.6832 - accuracy: 0.8967"
                ]
              },
              {
                "output_type": "stream",
                "name": "stdout",
                "text": [
                  "\b\b\b\b\b\b\b\b\b\b\b\b\b\b\b\b\b\b\b\b\b\b\b\b\b\b\b\b\b\b\b\b\b\b\b\b\b\b\b\b\b\b\b\b\b\b\b\b\b\b\b\b\b\b\b\b\b\b\b\b\b\b\b\b\b\b\b\b\b\b\b\b\b\b\b\b\b\b\b\b\b\b\b\b\r308/600 [==============>...............] - ETA: 0s - loss: 0.6820 - accuracy: 0.8972"
                ]
              },
              {
                "output_type": "stream",
                "name": "stdout",
                "text": [
                  "\b\b\b\b\b\b\b\b\b\b\b\b\b\b\b\b\b\b\b\b\b\b\b\b\b\b\b\b\b\b\b\b\b\b\b\b\b\b\b\b\b\b\b\b\b\b\b\b\b\b\b\b\b\b\b\b\b\b\b\b\b\b\b\b\b\b\b\b\b\b\b\b\b\b\b\b\b\b\b\b\b\b\b\b\r329/600 [===============>..............] - ETA: 0s - loss: 0.6799 - accuracy: 0.8976"
                ]
              },
              {
                "output_type": "stream",
                "name": "stdout",
                "text": [
                  "\b\b\b\b\b\b\b\b\b\b\b\b\b\b\b\b\b\b\b\b\b\b\b\b\b\b\b\b\b\b\b\b\b\b\b\b\b\b\b\b\b\b\b\b\b\b\b\b\b\b\b\b\b\b\b\b\b\b\b\b\b\b\b\b\b\b\b\b\b\b\b\b\b\b\b\b\b\b\b\b\b\b\b\b\r354/600 [================>.............] - ETA: 0s - loss: 0.6798 - accuracy: 0.8979"
                ]
              },
              {
                "output_type": "stream",
                "name": "stdout",
                "text": [
                  "\b\b\b\b\b\b\b\b\b\b\b\b\b\b\b\b\b\b\b\b\b\b\b\b\b\b\b\b\b\b\b\b\b\b\b\b\b\b\b\b\b\b\b\b\b\b\b\b\b\b\b\b\b\b\b\b\b\b\b\b\b\b\b\b\b\b\b\b\b\b\b\b\b\b\b\b\b\b\b\b\b\b\b\b\r375/600 [=================>............] - ETA: 0s - loss: 0.6798 - accuracy: 0.8976"
                ]
              },
              {
                "output_type": "stream",
                "name": "stdout",
                "text": [
                  "\b\b\b\b\b\b\b\b\b\b\b\b\b\b\b\b\b\b\b\b\b\b\b\b\b\b\b\b\b\b\b\b\b\b\b\b\b\b\b\b\b\b\b\b\b\b\b\b\b\b\b\b\b\b\b\b\b\b\b\b\b\b\b\b\b\b\b\b\b\b\b\b\b\b\b\b\b\b\b\b\b\b\b\b\r397/600 [==================>...........] - ETA: 0s - loss: 0.6807 - accuracy: 0.8972"
                ]
              },
              {
                "output_type": "stream",
                "name": "stdout",
                "text": [
                  "\b\b\b\b\b\b\b\b\b\b\b\b\b\b\b\b\b\b\b\b\b\b\b\b\b\b\b\b\b\b\b\b\b\b\b\b\b\b\b\b\b\b\b\b\b\b\b\b\b\b\b\b\b\b\b\b\b\b\b\b\b\b\b\b\b\b\b\b\b\b\b\b\b\b\b\b\b\b\b\b\b\b\b\b\r419/600 [===================>..........] - ETA: 0s - loss: 0.6815 - accuracy: 0.8971"
                ]
              },
              {
                "output_type": "stream",
                "name": "stdout",
                "text": [
                  "\b\b\b\b\b\b\b\b\b\b\b\b\b\b\b\b\b\b\b\b\b\b\b\b\b\b\b\b\b\b\b\b\b\b\b\b\b\b\b\b\b\b\b\b\b\b\b\b\b\b\b\b\b\b\b\b\b\b\b\b\b\b\b\b\b\b\b\b\b\b\b\b\b\b\b\b\b\b\b\b\b\b\b\b\r442/600 [=====================>........] - ETA: 0s - loss: 0.6825 - accuracy: 0.8968"
                ]
              },
              {
                "output_type": "stream",
                "name": "stdout",
                "text": [
                  "\b\b\b\b\b\b\b\b\b\b\b\b\b\b\b\b\b\b\b\b\b\b\b\b\b\b\b\b\b\b\b\b\b\b\b\b\b\b\b\b\b\b\b\b\b\b\b\b\b\b\b\b\b\b\b\b\b\b\b\b\b\b\b\b\b\b\b\b\b\b\b\b\b\b\b\b\b\b\b\b\b\b\b\b\r457/600 [=====================>........] - ETA: 0s - loss: 0.6813 - accuracy: 0.8970"
                ]
              },
              {
                "output_type": "stream",
                "name": "stdout",
                "text": [
                  "\b\b\b\b\b\b\b\b\b\b\b\b\b\b\b\b\b\b\b\b\b\b\b\b\b\b\b\b\b\b\b\b\b\b\b\b\b\b\b\b\b\b\b\b\b\b\b\b\b\b\b\b\b\b\b\b\b\b\b\b\b\b\b\b\b\b\b\b\b\b\b\b\b\b\b\b\b\b\b\b\b\b\b\b\r478/600 [======================>.......] - ETA: 0s - loss: 0.6808 - accuracy: 0.8973"
                ]
              },
              {
                "output_type": "stream",
                "name": "stdout",
                "text": [
                  "\b\b\b\b\b\b\b\b\b\b\b\b\b\b\b\b\b\b\b\b\b\b\b\b\b\b\b\b\b\b\b\b\b\b\b\b\b\b\b\b\b\b\b\b\b\b\b\b\b\b\b\b\b\b\b\b\b\b\b\b\b\b\b\b\b\b\b\b\b\b\b\b\b\b\b\b\b\b\b\b\b\b\b\b\r499/600 [=======================>......] - ETA: 0s - loss: 0.6806 - accuracy: 0.8974"
                ]
              },
              {
                "output_type": "stream",
                "name": "stdout",
                "text": [
                  "\b\b\b\b\b\b\b\b\b\b\b\b\b\b\b\b\b\b\b\b\b\b\b\b\b\b\b\b\b\b\b\b\b\b\b\b\b\b\b\b\b\b\b\b\b\b\b\b\b\b\b\b\b\b\b\b\b\b\b\b\b\b\b\b\b\b\b\b\b\b\b\b\b\b\b\b\b\b\b\b\b\b\b\b\r522/600 [=========================>....] - ETA: 0s - loss: 0.6802 - accuracy: 0.8975"
                ]
              },
              {
                "output_type": "stream",
                "name": "stdout",
                "text": [
                  "\b\b\b\b\b\b\b\b\b\b\b\b\b\b\b\b\b\b\b\b\b\b\b\b\b\b\b\b\b\b\b\b\b\b\b\b\b\b\b\b\b\b\b\b\b\b\b\b\b\b\b\b\b\b\b\b\b\b\b\b\b\b\b\b\b\b\b\b\b\b\b\b\b\b\b\b\b\b\b\b\b\b\b\b\r544/600 [==========================>...] - ETA: 0s - loss: 0.6780 - accuracy: 0.8982"
                ]
              },
              {
                "output_type": "stream",
                "name": "stdout",
                "text": [
                  "\b\b\b\b\b\b\b\b\b\b\b\b\b\b\b\b\b\b\b\b\b\b\b\b\b\b\b\b\b\b\b\b\b\b\b\b\b\b\b\b\b\b\b\b\b\b\b\b\b\b\b\b\b\b\b\b\b\b\b\b\b\b\b\b\b\b\b\b\b\b\b\b\b\b\b\b\b\b\b\b\b\b\b\b\r566/600 [===========================>..] - ETA: 0s - loss: 0.6778 - accuracy: 0.8984"
                ]
              },
              {
                "output_type": "stream",
                "name": "stdout",
                "text": [
                  "\b\b\b\b\b\b\b\b\b\b\b\b\b\b\b\b\b\b\b\b\b\b\b\b\b\b\b\b\b\b\b\b\b\b\b\b\b\b\b\b\b\b\b\b\b\b\b\b\b\b\b\b\b\b\b\b\b\b\b\b\b\b\b\b\b\b\b\b\b\b\b\b\b\b\b\b\b\b\b\b\b\b\b\b\r587/600 [============================>.] - ETA: 0s - loss: 0.6779 - accuracy: 0.8982"
                ]
              },
              {
                "output_type": "stream",
                "name": "stdout",
                "text": [
                  "\b\b\b\b\b\b\b\b\b\b\b\b\b\b\b\b\b\b\b\b\b\b\b\b\b\b\b\b\b\b\b\b\b\b\b\b\b\b\b\b\b\b\b\b\b\b\b\b\b\b\b\b\b\b\b\b\b\b\b\b\b\b\b\b\b\b\b\b\b\b\b\b\b\b\b\b\b\b\b\b\b\b\b\b\r600/600 [==============================] - 2s 3ms/step - loss: 0.6781 - accuracy: 0.8981 - val_loss: 0.6516 - val_accuracy: 0.9047\n"
                ]
              },
              {
                "output_type": "stream",
                "name": "stdout",
                "text": [
                  "Epoch 16/20\n"
                ]
              },
              {
                "output_type": "stream",
                "name": "stdout",
                "text": [
                  "\r  1/600 [..............................] - ETA: 3s - loss: 0.7141 - accuracy: 0.8700"
                ]
              },
              {
                "output_type": "stream",
                "name": "stdout",
                "text": [
                  "\b\b\b\b\b\b\b\b\b\b\b\b\b\b\b\b\b\b\b\b\b\b\b\b\b\b\b\b\b\b\b\b\b\b\b\b\b\b\b\b\b\b\b\b\b\b\b\b\b\b\b\b\b\b\b\b\b\b\b\b\b\b\b\b\b\b\b\b\b\b\b\b\b\b\b\b\b\b\b\b\b\b\b\b\r 25/600 [>.............................] - ETA: 1s - loss: 0.6620 - accuracy: 0.8900"
                ]
              },
              {
                "output_type": "stream",
                "name": "stdout",
                "text": [
                  "\b\b\b\b\b\b\b\b\b\b\b\b\b\b\b\b\b\b\b\b\b\b\b\b\b\b\b\b\b\b\b\b\b\b\b\b\b\b\b\b\b\b\b\b\b\b\b\b\b\b\b\b\b\b\b\b\b\b\b\b\b\b\b\b\b\b\b\b\b\b\b\b\b\b\b\b\b\b\b\b\b\b\b\b\r 47/600 [=>............................] - ETA: 1s - loss: 0.6479 - accuracy: 0.8983"
                ]
              },
              {
                "output_type": "stream",
                "name": "stdout",
                "text": [
                  "\b\b\b\b\b\b\b\b\b\b\b\b\b\b\b\b\b\b\b\b\b\b\b\b\b\b\b\b\b\b\b\b\b\b\b\b\b\b\b\b\b\b\b\b\b\b\b\b\b\b\b\b\b\b\b\b\b\b\b\b\b\b\b\b\b\b\b\b\b\b\b\b\b\b\b\b\b\b\b\b\b\b\b\b\r 69/600 [==>...........................] - ETA: 1s - loss: 0.6502 - accuracy: 0.8984"
                ]
              },
              {
                "output_type": "stream",
                "name": "stdout",
                "text": [
                  "\b\b\b\b\b\b\b\b\b\b\b\b\b\b\b\b\b\b\b\b\b\b\b\b\b\b\b\b\b\b\b\b\b\b\b\b\b\b\b\b\b\b\b\b\b\b\b\b\b\b\b\b\b\b\b\b\b\b\b\b\b\b\b\b\b\b\b\b\b\b\b\b\b\b\b\b\b\b\b\b\b\b\b\b\r 88/600 [===>..........................] - ETA: 1s - loss: 0.6579 - accuracy: 0.8985"
                ]
              },
              {
                "output_type": "stream",
                "name": "stdout",
                "text": [
                  "\b\b\b\b\b\b\b\b\b\b\b\b\b\b\b\b\b\b\b\b\b\b\b\b\b\b\b\b\b\b\b\b\b\b\b\b\b\b\b\b\b\b\b\b\b\b\b\b\b\b\b\b\b\b\b\b\b\b\b\b\b\b\b\b\b\b\b\b\b\b\b\b\b\b\b\b\b\b\b\b\b\b\b\b\r112/600 [====>.........................] - ETA: 1s - loss: 0.6562 - accuracy: 0.8988"
                ]
              },
              {
                "output_type": "stream",
                "name": "stdout",
                "text": [
                  "\b\b\b\b\b\b\b\b\b\b\b\b\b\b\b\b\b\b\b\b\b\b\b\b\b\b\b\b\b\b\b\b\b\b\b\b\b\b\b\b\b\b\b\b\b\b\b\b\b\b\b\b\b\b\b\b\b\b\b\b\b\b\b\b\b\b\b\b\b\b\b\b\b\b\b\b\b\b\b\b\b\b\b\b\r135/600 [=====>........................] - ETA: 1s - loss: 0.6570 - accuracy: 0.8993"
                ]
              },
              {
                "output_type": "stream",
                "name": "stdout",
                "text": [
                  "\b\b\b\b\b\b\b\b\b\b\b\b\b\b\b\b\b\b\b\b\b\b\b\b\b\b\b\b\b\b\b\b\b\b\b\b\b\b\b\b\b\b\b\b\b\b\b\b\b\b\b\b\b\b\b\b\b\b\b\b\b\b\b\b\b\b\b\b\b\b\b\b\b\b\b\b\b\b\b\b\b\b\b\b\r158/600 [======>.......................] - ETA: 1s - loss: 0.6571 - accuracy: 0.8996"
                ]
              },
              {
                "output_type": "stream",
                "name": "stdout",
                "text": [
                  "\b\b\b\b\b\b\b\b\b\b\b\b\b\b\b\b\b\b\b\b\b\b\b\b\b\b\b\b\b\b\b\b\b\b\b\b\b\b\b\b\b\b\b\b\b\b\b\b\b\b\b\b\b\b\b\b\b\b\b\b\b\b\b\b\b\b\b\b\b\b\b\b\b\b\b\b\b\b\b\b\b\b\b\b\r179/600 [=======>......................] - ETA: 0s - loss: 0.6581 - accuracy: 0.9004"
                ]
              },
              {
                "output_type": "stream",
                "name": "stdout",
                "text": [
                  "\b\b\b\b\b\b\b\b\b\b\b\b\b\b\b\b\b\b\b\b\b\b\b\b\b\b\b\b\b\b\b\b\b\b\b\b\b\b\b\b\b\b\b\b\b\b\b\b\b\b\b\b\b\b\b\b\b\b\b\b\b\b\b\b\b\b\b\b\b\b\b\b\b\b\b\b\b\b\b\b\b\b\b\b\r202/600 [=========>....................] - ETA: 0s - loss: 0.6572 - accuracy: 0.9010"
                ]
              },
              {
                "output_type": "stream",
                "name": "stdout",
                "text": [
                  "\b\b\b\b\b\b\b\b\b\b\b\b\b\b\b\b\b\b\b\b\b\b\b\b\b\b\b\b\b\b\b\b\b\b\b\b\b\b\b\b\b\b\b\b\b\b\b\b\b\b\b\b\b\b\b\b\b\b\b\b\b\b\b\b\b\b\b\b\b\b\b\b\b\b\b\b\b\b\b\b\b\b\b\b\r225/600 [==========>...................] - ETA: 0s - loss: 0.6576 - accuracy: 0.9006"
                ]
              },
              {
                "output_type": "stream",
                "name": "stdout",
                "text": [
                  "\b\b\b\b\b\b\b\b\b\b\b\b\b\b\b\b\b\b\b\b\b\b\b\b\b\b\b\b\b\b\b\b\b\b\b\b\b\b\b\b\b\b\b\b\b\b\b\b\b\b\b\b\b\b\b\b\b\b\b\b\b\b\b\b\b\b\b\b\b\b\b\b\b\b\b\b\b\b\b\b\b\b\b\b\r250/600 [===========>..................] - ETA: 0s - loss: 0.6585 - accuracy: 0.9003"
                ]
              },
              {
                "output_type": "stream",
                "name": "stdout",
                "text": [
                  "\b\b\b\b\b\b\b\b\b\b\b\b\b\b\b\b\b\b\b\b\b\b\b\b\b\b\b\b\b\b\b\b\b\b\b\b\b\b\b\b\b\b\b\b\b\b\b\b\b\b\b\b\b\b\b\b\b\b\b\b\b\b\b\b\b\b\b\b\b\b\b\b\b\b\b\b\b\b\b\b\b\b\b\b\r275/600 [============>.................] - ETA: 0s - loss: 0.6592 - accuracy: 0.9003"
                ]
              },
              {
                "output_type": "stream",
                "name": "stdout",
                "text": [
                  "\b\b\b\b\b\b\b\b\b\b\b\b\b\b\b\b\b\b\b\b\b\b\b\b\b\b\b\b\b\b\b\b\b\b\b\b\b\b\b\b\b\b\b\b\b\b\b\b\b\b\b\b\b\b\b\b\b\b\b\b\b\b\b\b\b\b\b\b\b\b\b\b\b\b\b\b\b\b\b\b\b\b\b\b\r297/600 [=============>................] - ETA: 0s - loss: 0.6595 - accuracy: 0.9004"
                ]
              },
              {
                "output_type": "stream",
                "name": "stdout",
                "text": [
                  "\b\b\b\b\b\b\b\b\b\b\b\b\b\b\b\b\b\b\b\b\b\b\b\b\b\b\b\b\b\b\b\b\b\b\b\b\b\b\b\b\b\b\b\b\b\b\b\b\b\b\b\b\b\b\b\b\b\b\b\b\b\b\b\b\b\b\b\b\b\b\b\b\b\b\b\b\b\b\b\b\b\b\b\b\r316/600 [==============>...............] - ETA: 0s - loss: 0.6585 - accuracy: 0.9003"
                ]
              },
              {
                "output_type": "stream",
                "name": "stdout",
                "text": [
                  "\b\b\b\b\b\b\b\b\b\b\b\b\b\b\b\b\b\b\b\b\b\b\b\b\b\b\b\b\b\b\b\b\b\b\b\b\b\b\b\b\b\b\b\b\b\b\b\b\b\b\b\b\b\b\b\b\b\b\b\b\b\b\b\b\b\b\b\b\b\b\b\b\b\b\b\b\b\b\b\b\b\b\b\b\r337/600 [===============>..............] - ETA: 0s - loss: 0.6583 - accuracy: 0.9007"
                ]
              },
              {
                "output_type": "stream",
                "name": "stdout",
                "text": [
                  "\b\b\b\b\b\b\b\b\b\b\b\b\b\b\b\b\b\b\b\b\b\b\b\b\b\b\b\b\b\b\b\b\b\b\b\b\b\b\b\b\b\b\b\b\b\b\b\b\b\b\b\b\b\b\b\b\b\b\b\b\b\b\b\b\b\b\b\b\b\b\b\b\b\b\b\b\b\b\b\b\b\b\b\b\r361/600 [=================>............] - ETA: 0s - loss: 0.6586 - accuracy: 0.9006"
                ]
              },
              {
                "output_type": "stream",
                "name": "stdout",
                "text": [
                  "\b\b\b\b\b\b\b\b\b\b\b\b\b\b\b\b\b\b\b\b\b\b\b\b\b\b\b\b\b\b\b\b\b\b\b\b\b\b\b\b\b\b\b\b\b\b\b\b\b\b\b\b\b\b\b\b\b\b\b\b\b\b\b\b\b\b\b\b\b\b\b\b\b\b\b\b\b\b\b\b\b\b\b\b\r384/600 [==================>...........] - ETA: 0s - loss: 0.6579 - accuracy: 0.9006"
                ]
              },
              {
                "output_type": "stream",
                "name": "stdout",
                "text": [
                  "\b\b\b\b\b\b\b\b\b\b\b\b\b\b\b\b\b\b\b\b\b\b\b\b\b\b\b\b\b\b\b\b\b\b\b\b\b\b\b\b\b\b\b\b\b\b\b\b\b\b\b\b\b\b\b\b\b\b\b\b\b\b\b\b\b\b\b\b\b\b\b\b\b\b\b\b\b\b\b\b\b\b\b\b\r407/600 [===================>..........] - ETA: 0s - loss: 0.6592 - accuracy: 0.9000"
                ]
              },
              {
                "output_type": "stream",
                "name": "stdout",
                "text": [
                  "\b\b\b\b\b\b\b\b\b\b\b\b\b\b\b\b\b\b\b\b\b\b\b\b\b\b\b\b\b\b\b\b\b\b\b\b\b\b\b\b\b\b\b\b\b\b\b\b\b\b\b\b\b\b\b\b\b\b\b\b\b\b\b\b\b\b\b\b\b\b\b\b\b\b\b\b\b\b\b\b\b\b\b\b\r430/600 [====================>.........] - ETA: 0s - loss: 0.6580 - accuracy: 0.9003"
                ]
              },
              {
                "output_type": "stream",
                "name": "stdout",
                "text": [
                  "\b\b\b\b\b\b\b\b\b\b\b\b\b\b\b\b\b\b\b\b\b\b\b\b\b\b\b\b\b\b\b\b\b\b\b\b\b\b\b\b\b\b\b\b\b\b\b\b\b\b\b\b\b\b\b\b\b\b\b\b\b\b\b\b\b\b\b\b\b\b\b\b\b\b\b\b\b\b\b\b\b\b\b\b\r452/600 [=====================>........] - ETA: 0s - loss: 0.6587 - accuracy: 0.9000"
                ]
              },
              {
                "output_type": "stream",
                "name": "stdout",
                "text": [
                  "\b\b\b\b\b\b\b\b\b\b\b\b\b\b\b\b\b\b\b\b\b\b\b\b\b\b\b\b\b\b\b\b\b\b\b\b\b\b\b\b\b\b\b\b\b\b\b\b\b\b\b\b\b\b\b\b\b\b\b\b\b\b\b\b\b\b\b\b\b\b\b\b\b\b\b\b\b\b\b\b\b\b\b\b\r476/600 [======================>.......] - ETA: 0s - loss: 0.6586 - accuracy: 0.9000"
                ]
              },
              {
                "output_type": "stream",
                "name": "stdout",
                "text": [
                  "\b\b\b\b\b\b\b\b\b\b\b\b\b\b\b\b\b\b\b\b\b\b\b\b\b\b\b\b\b\b\b\b\b\b\b\b\b\b\b\b\b\b\b\b\b\b\b\b\b\b\b\b\b\b\b\b\b\b\b\b\b\b\b\b\b\b\b\b\b\b\b\b\b\b\b\b\b\b\b\b\b\b\b\b\r493/600 [=======================>......] - ETA: 0s - loss: 0.6586 - accuracy: 0.8999"
                ]
              },
              {
                "output_type": "stream",
                "name": "stdout",
                "text": [
                  "\b\b\b\b\b\b\b\b\b\b\b\b\b\b\b\b\b\b\b\b\b\b\b\b\b\b\b\b\b\b\b\b\b\b\b\b\b\b\b\b\b\b\b\b\b\b\b\b\b\b\b\b\b\b\b\b\b\b\b\b\b\b\b\b\b\b\b\b\b\b\b\b\b\b\b\b\b\b\b\b\b\b\b\b\r515/600 [========================>.....] - ETA: 0s - loss: 0.6583 - accuracy: 0.9001"
                ]
              },
              {
                "output_type": "stream",
                "name": "stdout",
                "text": [
                  "\b\b\b\b\b\b\b\b\b\b\b\b\b\b\b\b\b\b\b\b\b\b\b\b\b\b\b\b\b\b\b\b\b\b\b\b\b\b\b\b\b\b\b\b\b\b\b\b\b\b\b\b\b\b\b\b\b\b\b\b\b\b\b\b\b\b\b\b\b\b\b\b\b\b\b\b\b\b\b\b\b\b\b\b\r538/600 [=========================>....] - ETA: 0s - loss: 0.6572 - accuracy: 0.9007"
                ]
              },
              {
                "output_type": "stream",
                "name": "stdout",
                "text": [
                  "\b\b\b\b\b\b\b\b\b\b\b\b\b\b\b\b\b\b\b\b\b\b\b\b\b\b\b\b\b\b\b\b\b\b\b\b\b\b\b\b\b\b\b\b\b\b\b\b\b\b\b\b\b\b\b\b\b\b\b\b\b\b\b\b\b\b\b\b\b\b\b\b\b\b\b\b\b\b\b\b\b\b\b\b\r561/600 [===========================>..] - ETA: 0s - loss: 0.6575 - accuracy: 0.9005"
                ]
              },
              {
                "output_type": "stream",
                "name": "stdout",
                "text": [
                  "\b\b\b\b\b\b\b\b\b\b\b\b\b\b\b\b\b\b\b\b\b\b\b\b\b\b\b\b\b\b\b\b\b\b\b\b\b\b\b\b\b\b\b\b\b\b\b\b\b\b\b\b\b\b\b\b\b\b\b\b\b\b\b\b\b\b\b\b\b\b\b\b\b\b\b\b\b\b\b\b\b\b\b\b\r583/600 [============================>.] - ETA: 0s - loss: 0.6590 - accuracy: 0.8998"
                ]
              },
              {
                "output_type": "stream",
                "name": "stdout",
                "text": [
                  "\b\b\b\b\b\b\b\b\b\b\b\b\b\b\b\b\b\b\b\b\b\b\b\b\b\b\b\b\b\b\b\b\b\b\b\b\b\b\b\b\b\b\b\b\b\b\b\b\b\b\b\b\b\b\b\b\b\b\b\b\b\b\b\b\b\b\b\b\b\b\b\b\b\b\b\b\b\b\b\b\b\b\b\b\r600/600 [==============================] - 2s 3ms/step - loss: 0.6587 - accuracy: 0.9000 - val_loss: 0.6335 - val_accuracy: 0.9064\n"
                ]
              },
              {
                "output_type": "stream",
                "name": "stdout",
                "text": [
                  "Epoch 17/20\n"
                ]
              },
              {
                "output_type": "stream",
                "name": "stdout",
                "text": [
                  "\r  1/600 [..............................] - ETA: 5s - loss: 0.5696 - accuracy: 0.9100"
                ]
              },
              {
                "output_type": "stream",
                "name": "stdout",
                "text": [
                  "\b\b\b\b\b\b\b\b\b\b\b\b\b\b\b\b\b\b\b\b\b\b\b\b\b\b\b\b\b\b\b\b\b\b\b\b\b\b\b\b\b\b\b\b\b\b\b\b\b\b\b\b\b\b\b\b\b\b\b\b\b\b\b\b\b\b\b\b\b\b\b\b\b\b\b\b\b\b\b\b\b\b\b\b\r 21/600 [>.............................] - ETA: 1s - loss: 0.6605 - accuracy: 0.8919"
                ]
              },
              {
                "output_type": "stream",
                "name": "stdout",
                "text": [
                  "\b\b\b\b\b\b\b\b\b\b\b\b\b\b\b\b\b\b\b\b\b\b\b\b\b\b\b\b\b\b\b\b\b\b\b\b\b\b\b\b\b\b\b\b\b\b\b\b\b\b\b\b\b\b\b\b\b\b\b\b\b\b\b\b\b\b\b\b\b\b\b\b\b\b\b\b\b\b\b\b\b\b\b\b\r 43/600 [=>............................] - ETA: 1s - loss: 0.6495 - accuracy: 0.8995"
                ]
              },
              {
                "output_type": "stream",
                "name": "stdout",
                "text": [
                  "\b\b\b\b\b\b\b\b\b\b\b\b\b\b\b\b\b\b\b\b\b\b\b\b\b\b\b\b\b\b\b\b\b\b\b\b\b\b\b\b\b\b\b\b\b\b\b\b\b\b\b\b\b\b\b\b\b\b\b\b\b\b\b\b\b\b\b\b\b\b\b\b\b\b\b\b\b\b\b\b\b\b\b\b\r 66/600 [==>...........................] - ETA: 1s - loss: 0.6489 - accuracy: 0.8989"
                ]
              },
              {
                "output_type": "stream",
                "name": "stdout",
                "text": [
                  "\b\b\b\b\b\b\b\b\b\b\b\b\b\b\b\b\b\b\b\b\b\b\b\b\b\b\b\b\b\b\b\b\b\b\b\b\b\b\b\b\b\b\b\b\b\b\b\b\b\b\b\b\b\b\b\b\b\b\b\b\b\b\b\b\b\b\b\b\b\b\b\b\b\b\b\b\b\b\b\b\b\b\b\b\r 87/600 [===>..........................] - ETA: 1s - loss: 0.6476 - accuracy: 0.9016"
                ]
              },
              {
                "output_type": "stream",
                "name": "stdout",
                "text": [
                  "\b\b\b\b\b\b\b\b\b\b\b\b\b\b\b\b\b\b\b\b\b\b\b\b\b\b\b\b\b\b\b\b\b\b\b\b\b\b\b\b\b\b\b\b\b\b\b\b\b\b\b\b\b\b\b\b\b\b\b\b\b\b\b\b\b\b\b\b\b\b\b\b\b\b\b\b\b\b\b\b\b\b\b\b\r108/600 [====>.........................] - ETA: 1s - loss: 0.6497 - accuracy: 0.9016"
                ]
              },
              {
                "output_type": "stream",
                "name": "stdout",
                "text": [
                  "\b\b\b\b\b\b\b\b\b\b\b\b\b\b\b\b\b\b\b\b\b\b\b\b\b\b\b\b\b\b\b\b\b\b\b\b\b\b\b\b\b\b\b\b\b\b\b\b\b\b\b\b\b\b\b\b\b\b\b\b\b\b\b\b\b\b\b\b\b\b\b\b\b\b\b\b\b\b\b\b\b\b\b\b\r132/600 [=====>........................] - ETA: 1s - loss: 0.6502 - accuracy: 0.9009"
                ]
              },
              {
                "output_type": "stream",
                "name": "stdout",
                "text": [
                  "\b\b\b\b\b\b\b\b\b\b\b\b\b\b\b\b\b\b\b\b\b\b\b\b\b\b\b\b\b\b\b\b\b\b\b\b\b\b\b\b\b\b\b\b\b\b\b\b\b\b\b\b\b\b\b\b\b\b\b\b\b\b\b\b\b\b\b\b\b\b\b\b\b\b\b\b\b\b\b\b\b\b\b\b\r157/600 [======>.......................] - ETA: 1s - loss: 0.6534 - accuracy: 0.9005"
                ]
              },
              {
                "output_type": "stream",
                "name": "stdout",
                "text": [
                  "\b\b\b\b\b\b\b\b\b\b\b\b\b\b\b\b\b\b\b\b\b\b\b\b\b\b\b\b\b\b\b\b\b\b\b\b\b\b\b\b\b\b\b\b\b\b\b\b\b\b\b\b\b\b\b\b\b\b\b\b\b\b\b\b\b\b\b\b\b\b\b\b\b\b\b\b\b\b\b\b\b\b\b\b\r181/600 [========>.....................] - ETA: 0s - loss: 0.6571 - accuracy: 0.9002"
                ]
              },
              {
                "output_type": "stream",
                "name": "stdout",
                "text": [
                  "\b\b\b\b\b\b\b\b\b\b\b\b\b\b\b\b\b\b\b\b\b\b\b\b\b\b\b\b\b\b\b\b\b\b\b\b\b\b\b\b\b\b\b\b\b\b\b\b\b\b\b\b\b\b\b\b\b\b\b\b\b\b\b\b\b\b\b\b\b\b\b\b\b\b\b\b\b\b\b\b\b\b\b\b\r199/600 [========>.....................] - ETA: 0s - loss: 0.6542 - accuracy: 0.9012"
                ]
              },
              {
                "output_type": "stream",
                "name": "stdout",
                "text": [
                  "\b\b\b\b\b\b\b\b\b\b\b\b\b\b\b\b\b\b\b\b\b\b\b\b\b\b\b\b\b\b\b\b\b\b\b\b\b\b\b\b\b\b\b\b\b\b\b\b\b\b\b\b\b\b\b\b\b\b\b\b\b\b\b\b\b\b\b\b\b\b\b\b\b\b\b\b\b\b\b\b\b\b\b\b\r223/600 [==========>...................] - ETA: 0s - loss: 0.6533 - accuracy: 0.9017"
                ]
              },
              {
                "output_type": "stream",
                "name": "stdout",
                "text": [
                  "\b\b\b\b\b\b\b\b\b\b\b\b\b\b\b\b\b\b\b\b\b\b\b\b\b\b\b\b\b\b\b\b\b\b\b\b\b\b\b\b\b\b\b\b\b\b\b\b\b\b\b\b\b\b\b\b\b\b\b\b\b\b\b\b\b\b\b\b\b\b\b\b\b\b\b\b\b\b\b\b\b\b\b\b\r246/600 [===========>..................] - ETA: 0s - loss: 0.6536 - accuracy: 0.9015"
                ]
              },
              {
                "output_type": "stream",
                "name": "stdout",
                "text": [
                  "\b\b\b\b\b\b\b\b\b\b\b\b\b\b\b\b\b\b\b\b\b\b\b\b\b\b\b\b\b\b\b\b\b\b\b\b\b\b\b\b\b\b\b\b\b\b\b\b\b\b\b\b\b\b\b\b\b\b\b\b\b\b\b\b\b\b\b\b\b\b\b\b\b\b\b\b\b\b\b\b\b\b\b\b\r271/600 [============>.................] - ETA: 0s - loss: 0.6523 - accuracy: 0.9014"
                ]
              },
              {
                "output_type": "stream",
                "name": "stdout",
                "text": [
                  "\b\b\b\b\b\b\b\b\b\b\b\b\b\b\b\b\b\b\b\b\b\b\b\b\b\b\b\b\b\b\b\b\b\b\b\b\b\b\b\b\b\b\b\b\b\b\b\b\b\b\b\b\b\b\b\b\b\b\b\b\b\b\b\b\b\b\b\b\b\b\b\b\b\b\b\b\b\b\b\b\b\b\b\b\r294/600 [=============>................] - ETA: 0s - loss: 0.6524 - accuracy: 0.9015"
                ]
              },
              {
                "output_type": "stream",
                "name": "stdout",
                "text": [
                  "\b\b\b\b\b\b\b\b\b\b\b\b\b\b\b\b\b\b\b\b\b\b\b\b\b\b\b\b\b\b\b\b\b\b\b\b\b\b\b\b\b\b\b\b\b\b\b\b\b\b\b\b\b\b\b\b\b\b\b\b\b\b\b\b\b\b\b\b\b\b\b\b\b\b\b\b\b\b\b\b\b\b\b\b\r318/600 [==============>...............] - ETA: 0s - loss: 0.6501 - accuracy: 0.9021"
                ]
              },
              {
                "output_type": "stream",
                "name": "stdout",
                "text": [
                  "\b\b\b\b\b\b\b\b\b\b\b\b\b\b\b\b\b\b\b\b\b\b\b\b\b\b\b\b\b\b\b\b\b\b\b\b\b\b\b\b\b\b\b\b\b\b\b\b\b\b\b\b\b\b\b\b\b\b\b\b\b\b\b\b\b\b\b\b\b\b\b\b\b\b\b\b\b\b\b\b\b\b\b\b\r335/600 [===============>..............] - ETA: 0s - loss: 0.6496 - accuracy: 0.9026"
                ]
              },
              {
                "output_type": "stream",
                "name": "stdout",
                "text": [
                  "\b\b\b\b\b\b\b\b\b\b\b\b\b\b\b\b\b\b\b\b\b\b\b\b\b\b\b\b\b\b\b\b\b\b\b\b\b\b\b\b\b\b\b\b\b\b\b\b\b\b\b\b\b\b\b\b\b\b\b\b\b\b\b\b\b\b\b\b\b\b\b\b\b\b\b\b\b\b\b\b\b\b\b\b\r360/600 [=================>............] - ETA: 0s - loss: 0.6505 - accuracy: 0.9021"
                ]
              },
              {
                "output_type": "stream",
                "name": "stdout",
                "text": [
                  "\b\b\b\b\b\b\b\b\b\b\b\b\b\b\b\b\b\b\b\b\b\b\b\b\b\b\b\b\b\b\b\b\b\b\b\b\b\b\b\b\b\b\b\b\b\b\b\b\b\b\b\b\b\b\b\b\b\b\b\b\b\b\b\b\b\b\b\b\b\b\b\b\b\b\b\b\b\b\b\b\b\b\b\b\r384/600 [==================>...........] - ETA: 0s - loss: 0.6509 - accuracy: 0.9020"
                ]
              },
              {
                "output_type": "stream",
                "name": "stdout",
                "text": [
                  "\b\b\b\b\b\b\b\b\b\b\b\b\b\b\b\b\b\b\b\b\b\b\b\b\b\b\b\b\b\b\b\b\b\b\b\b\b\b\b\b\b\b\b\b\b\b\b\b\b\b\b\b\b\b\b\b\b\b\b\b\b\b\b\b\b\b\b\b\b\b\b\b\b\b\b\b\b\b\b\b\b\b\b\b\r406/600 [===================>..........] - ETA: 0s - loss: 0.6489 - accuracy: 0.9028"
                ]
              },
              {
                "output_type": "stream",
                "name": "stdout",
                "text": [
                  "\b\b\b\b\b\b\b\b\b\b\b\b\b\b\b\b\b\b\b\b\b\b\b\b\b\b\b\b\b\b\b\b\b\b\b\b\b\b\b\b\b\b\b\b\b\b\b\b\b\b\b\b\b\b\b\b\b\b\b\b\b\b\b\b\b\b\b\b\b\b\b\b\b\b\b\b\b\b\b\b\b\b\b\b\r428/600 [====================>.........] - ETA: 0s - loss: 0.6490 - accuracy: 0.9024"
                ]
              },
              {
                "output_type": "stream",
                "name": "stdout",
                "text": [
                  "\b\b\b\b\b\b\b\b\b\b\b\b\b\b\b\b\b\b\b\b\b\b\b\b\b\b\b\b\b\b\b\b\b\b\b\b\b\b\b\b\b\b\b\b\b\b\b\b\b\b\b\b\b\b\b\b\b\b\b\b\b\b\b\b\b\b\b\b\b\b\b\b\b\b\b\b\b\b\b\b\b\b\b\b\r450/600 [=====================>........] - ETA: 0s - loss: 0.6491 - accuracy: 0.9023"
                ]
              },
              {
                "output_type": "stream",
                "name": "stdout",
                "text": [
                  "\b\b\b\b\b\b\b\b\b\b\b\b\b\b\b\b\b\b\b\b\b\b\b\b\b\b\b\b\b\b\b\b\b\b\b\b\b\b\b\b\b\b\b\b\b\b\b\b\b\b\b\b\b\b\b\b\b\b\b\b\b\b\b\b\b\b\b\b\b\b\b\b\b\b\b\b\b\b\b\b\b\b\b\b\r472/600 [======================>.......] - ETA: 0s - loss: 0.6484 - accuracy: 0.9025"
                ]
              },
              {
                "output_type": "stream",
                "name": "stdout",
                "text": [
                  "\b\b\b\b\b\b\b\b\b\b\b\b\b\b\b\b\b\b\b\b\b\b\b\b\b\b\b\b\b\b\b\b\b\b\b\b\b\b\b\b\b\b\b\b\b\b\b\b\b\b\b\b\b\b\b\b\b\b\b\b\b\b\b\b\b\b\b\b\b\b\b\b\b\b\b\b\b\b\b\b\b\b\b\b\r493/600 [=======================>......] - ETA: 0s - loss: 0.6487 - accuracy: 0.9025"
                ]
              },
              {
                "output_type": "stream",
                "name": "stdout",
                "text": [
                  "\b\b\b\b\b\b\b\b\b\b\b\b\b\b\b\b\b\b\b\b\b\b\b\b\b\b\b\b\b\b\b\b\b\b\b\b\b\b\b\b\b\b\b\b\b\b\b\b\b\b\b\b\b\b\b\b\b\b\b\b\b\b\b\b\b\b\b\b\b\b\b\b\b\b\b\b\b\b\b\b\b\b\b\b\r515/600 [========================>.....] - ETA: 0s - loss: 0.6482 - accuracy: 0.9027"
                ]
              },
              {
                "output_type": "stream",
                "name": "stdout",
                "text": [
                  "\b\b\b\b\b\b\b\b\b\b\b\b\b\b\b\b\b\b\b\b\b\b\b\b\b\b\b\b\b\b\b\b\b\b\b\b\b\b\b\b\b\b\b\b\b\b\b\b\b\b\b\b\b\b\b\b\b\b\b\b\b\b\b\b\b\b\b\b\b\b\b\b\b\b\b\b\b\b\b\b\b\b\b\b\r534/600 [=========================>....] - ETA: 0s - loss: 0.6470 - accuracy: 0.9031"
                ]
              },
              {
                "output_type": "stream",
                "name": "stdout",
                "text": [
                  "\b\b\b\b\b\b\b\b\b\b\b\b\b\b\b\b\b\b\b\b\b\b\b\b\b\b\b\b\b\b\b\b\b\b\b\b\b\b\b\b\b\b\b\b\b\b\b\b\b\b\b\b\b\b\b\b\b\b\b\b\b\b\b\b\b\b\b\b\b\b\b\b\b\b\b\b\b\b\b\b\b\b\b\b\r554/600 [==========================>...] - ETA: 0s - loss: 0.6468 - accuracy: 0.9032"
                ]
              },
              {
                "output_type": "stream",
                "name": "stdout",
                "text": [
                  "\b\b\b\b\b\b\b\b\b\b\b\b\b\b\b\b\b\b\b\b\b\b\b\b\b\b\b\b\b\b\b\b\b\b\b\b\b\b\b\b\b\b\b\b\b\b\b\b\b\b\b\b\b\b\b\b\b\b\b\b\b\b\b\b\b\b\b\b\b\b\b\b\b\b\b\b\b\b\b\b\b\b\b\b\r570/600 [===========================>..] - ETA: 0s - loss: 0.6467 - accuracy: 0.9032"
                ]
              },
              {
                "output_type": "stream",
                "name": "stdout",
                "text": [
                  "\b\b\b\b\b\b\b\b\b\b\b\b\b\b\b\b\b\b\b\b\b\b\b\b\b\b\b\b\b\b\b\b\b\b\b\b\b\b\b\b\b\b\b\b\b\b\b\b\b\b\b\b\b\b\b\b\b\b\b\b\b\b\b\b\b\b\b\b\b\b\b\b\b\b\b\b\b\b\b\b\b\b\b\b\r590/600 [============================>.] - ETA: 0s - loss: 0.6463 - accuracy: 0.9034"
                ]
              },
              {
                "output_type": "stream",
                "name": "stdout",
                "text": [
                  "\b\b\b\b\b\b\b\b\b\b\b\b\b\b\b\b\b\b\b\b\b\b\b\b\b\b\b\b\b\b\b\b\b\b\b\b\b\b\b\b\b\b\b\b\b\b\b\b\b\b\b\b\b\b\b\b\b\b\b\b\b\b\b\b\b\b\b\b\b\b\b\b\b\b\b\b\b\b\b\b\b\b\b\b\r600/600 [==============================] - 2s 3ms/step - loss: 0.6461 - accuracy: 0.9034 - val_loss: 0.6218 - val_accuracy: 0.9103\n"
                ]
              },
              {
                "output_type": "stream",
                "name": "stdout",
                "text": [
                  "Epoch 18/20\n"
                ]
              },
              {
                "output_type": "stream",
                "name": "stdout",
                "text": [
                  "\r  1/600 [..............................] - ETA: 3s - loss: 0.6098 - accuracy: 0.9200"
                ]
              },
              {
                "output_type": "stream",
                "name": "stdout",
                "text": [
                  "\b\b\b\b\b\b\b\b\b\b\b\b\b\b\b\b\b\b\b\b\b\b\b\b\b\b\b\b\b\b\b\b\b\b\b\b\b\b\b\b\b\b\b\b\b\b\b\b\b\b\b\b\b\b\b\b\b\b\b\b\b\b\b\b\b\b\b\b\b\b\b\b\b\b\b\b\b\b\b\b\b\b\b\b\r 22/600 [>.............................] - ETA: 1s - loss: 0.6437 - accuracy: 0.9041"
                ]
              },
              {
                "output_type": "stream",
                "name": "stdout",
                "text": [
                  "\b\b\b\b\b\b\b\b\b\b\b\b\b\b\b\b\b\b\b\b\b\b\b\b\b\b\b\b\b\b\b\b\b\b\b\b\b\b\b\b\b\b\b\b\b\b\b\b\b\b\b\b\b\b\b\b\b\b\b\b\b\b\b\b\b\b\b\b\b\b\b\b\b\b\b\b\b\b\b\b\b\b\b\b\r 38/600 [>.............................] - ETA: 1s - loss: 0.6521 - accuracy: 0.8982"
                ]
              },
              {
                "output_type": "stream",
                "name": "stdout",
                "text": [
                  "\b\b\b\b\b\b\b\b\b\b\b\b\b\b\b\b\b\b\b\b\b\b\b\b\b\b\b\b\b\b\b\b\b\b\b\b\b\b\b\b\b\b\b\b\b\b\b\b\b\b\b\b\b\b\b\b\b\b\b\b\b\b\b\b\b\b\b\b\b\b\b\b\b\b\b\b\b\b\b\b\b\b\b\b\r 58/600 [=>............................] - ETA: 1s - loss: 0.6536 - accuracy: 0.8997"
                ]
              },
              {
                "output_type": "stream",
                "name": "stdout",
                "text": [
                  "\b\b\b\b\b\b\b\b\b\b\b\b\b\b\b\b\b\b\b\b\b\b\b\b\b\b\b\b\b\b\b\b\b\b\b\b\b\b\b\b\b\b\b\b\b\b\b\b\b\b\b\b\b\b\b\b\b\b\b\b\b\b\b\b\b\b\b\b\b\b\b\b\b\b\b\b\b\b\b\b\b\b\b\b\r 77/600 [==>...........................] - ETA: 1s - loss: 0.6443 - accuracy: 0.9026"
                ]
              },
              {
                "output_type": "stream",
                "name": "stdout",
                "text": [
                  "\b\b\b\b\b\b\b\b\b\b\b\b\b\b\b\b\b\b\b\b\b\b\b\b\b\b\b\b\b\b\b\b\b\b\b\b\b\b\b\b\b\b\b\b\b\b\b\b\b\b\b\b\b\b\b\b\b\b\b\b\b\b\b\b\b\b\b\b\b\b\b\b\b\b\b\b\b\b\b\b\b\b\b\b\r 97/600 [===>..........................] - ETA: 1s - loss: 0.6425 - accuracy: 0.9023"
                ]
              },
              {
                "output_type": "stream",
                "name": "stdout",
                "text": [
                  "\b\b\b\b\b\b\b\b\b\b\b\b\b\b\b\b\b\b\b\b\b\b\b\b\b\b\b\b\b\b\b\b\b\b\b\b\b\b\b\b\b\b\b\b\b\b\b\b\b\b\b\b\b\b\b\b\b\b\b\b\b\b\b\b\b\b\b\b\b\b\b\b\b\b\b\b\b\b\b\b\b\b\b\b\r119/600 [====>.........................] - ETA: 1s - loss: 0.6448 - accuracy: 0.9021"
                ]
              },
              {
                "output_type": "stream",
                "name": "stdout",
                "text": [
                  "\b\b\b\b\b\b\b\b\b\b\b\b\b\b\b\b\b\b\b\b\b\b\b\b\b\b\b\b\b\b\b\b\b\b\b\b\b\b\b\b\b\b\b\b\b\b\b\b\b\b\b\b\b\b\b\b\b\b\b\b\b\b\b\b\b\b\b\b\b\b\b\b\b\b\b\b\b\b\b\b\b\b\b\b\r142/600 [======>.......................] - ETA: 1s - loss: 0.6438 - accuracy: 0.9020"
                ]
              },
              {
                "output_type": "stream",
                "name": "stdout",
                "text": [
                  "\b\b\b\b\b\b\b\b\b\b\b\b\b\b\b\b\b\b\b\b\b\b\b\b\b\b\b\b\b\b\b\b\b\b\b\b\b\b\b\b\b\b\b\b\b\b\b\b\b\b\b\b\b\b\b\b\b\b\b\b\b\b\b\b\b\b\b\b\b\b\b\b\b\b\b\b\b\b\b\b\b\b\b\b\r165/600 [=======>......................] - ETA: 1s - loss: 0.6458 - accuracy: 0.9012"
                ]
              },
              {
                "output_type": "stream",
                "name": "stdout",
                "text": [
                  "\b\b\b\b\b\b\b\b\b\b\b\b\b\b\b\b\b\b\b\b\b\b\b\b\b\b\b\b\b\b\b\b\b\b\b\b\b\b\b\b\b\b\b\b\b\b\b\b\b\b\b\b\b\b\b\b\b\b\b\b\b\b\b\b\b\b\b\b\b\b\b\b\b\b\b\b\b\b\b\b\b\b\b\b\r187/600 [========>.....................] - ETA: 1s - loss: 0.6473 - accuracy: 0.9002"
                ]
              },
              {
                "output_type": "stream",
                "name": "stdout",
                "text": [
                  "\b\b\b\b\b\b\b\b\b\b\b\b\b\b\b\b\b\b\b\b\b\b\b\b\b\b\b\b\b\b\b\b\b\b\b\b\b\b\b\b\b\b\b\b\b\b\b\b\b\b\b\b\b\b\b\b\b\b\b\b\b\b\b\b\b\b\b\b\b\b\b\b\b\b\b\b\b\b\b\b\b\b\b\b\r209/600 [=========>....................] - ETA: 0s - loss: 0.6464 - accuracy: 0.9011"
                ]
              },
              {
                "output_type": "stream",
                "name": "stdout",
                "text": [
                  "\b\b\b\b\b\b\b\b\b\b\b\b\b\b\b\b\b\b\b\b\b\b\b\b\b\b\b\b\b\b\b\b\b\b\b\b\b\b\b\b\b\b\b\b\b\b\b\b\b\b\b\b\b\b\b\b\b\b\b\b\b\b\b\b\b\b\b\b\b\b\b\b\b\b\b\b\b\b\b\b\b\b\b\b\r230/600 [==========>...................] - ETA: 0s - loss: 0.6466 - accuracy: 0.9013"
                ]
              },
              {
                "output_type": "stream",
                "name": "stdout",
                "text": [
                  "\b\b\b\b\b\b\b\b\b\b\b\b\b\b\b\b\b\b\b\b\b\b\b\b\b\b\b\b\b\b\b\b\b\b\b\b\b\b\b\b\b\b\b\b\b\b\b\b\b\b\b\b\b\b\b\b\b\b\b\b\b\b\b\b\b\b\b\b\b\b\b\b\b\b\b\b\b\b\b\b\b\b\b\b\r251/600 [===========>..................] - ETA: 0s - loss: 0.6442 - accuracy: 0.9024"
                ]
              },
              {
                "output_type": "stream",
                "name": "stdout",
                "text": [
                  "\b\b\b\b\b\b\b\b\b\b\b\b\b\b\b\b\b\b\b\b\b\b\b\b\b\b\b\b\b\b\b\b\b\b\b\b\b\b\b\b\b\b\b\b\b\b\b\b\b\b\b\b\b\b\b\b\b\b\b\b\b\b\b\b\b\b\b\b\b\b\b\b\b\b\b\b\b\b\b\b\b\b\b\b\r271/600 [============>.................] - ETA: 0s - loss: 0.6417 - accuracy: 0.9035"
                ]
              },
              {
                "output_type": "stream",
                "name": "stdout",
                "text": [
                  "\b\b\b\b\b\b\b\b\b\b\b\b\b\b\b\b\b\b\b\b\b\b\b\b\b\b\b\b\b\b\b\b\b\b\b\b\b\b\b\b\b\b\b\b\b\b\b\b\b\b\b\b\b\b\b\b\b\b\b\b\b\b\b\b\b\b\b\b\b\b\b\b\b\b\b\b\b\b\b\b\b\b\b\b\r289/600 [=============>................] - ETA: 0s - loss: 0.6416 - accuracy: 0.9032"
                ]
              },
              {
                "output_type": "stream",
                "name": "stdout",
                "text": [
                  "\b\b\b\b\b\b\b\b\b\b\b\b\b\b\b\b\b\b\b\b\b\b\b\b\b\b\b\b\b\b\b\b\b\b\b\b\b\b\b\b\b\b\b\b\b\b\b\b\b\b\b\b\b\b\b\b\b\b\b\b\b\b\b\b\b\b\b\b\b\b\b\b\b\b\b\b\b\b\b\b\b\b\b\b\r312/600 [==============>...............] - ETA: 0s - loss: 0.6409 - accuracy: 0.9032"
                ]
              },
              {
                "output_type": "stream",
                "name": "stdout",
                "text": [
                  "\b\b\b\b\b\b\b\b\b\b\b\b\b\b\b\b\b\b\b\b\b\b\b\b\b\b\b\b\b\b\b\b\b\b\b\b\b\b\b\b\b\b\b\b\b\b\b\b\b\b\b\b\b\b\b\b\b\b\b\b\b\b\b\b\b\b\b\b\b\b\b\b\b\b\b\b\b\b\b\b\b\b\b\b\r334/600 [===============>..............] - ETA: 0s - loss: 0.6416 - accuracy: 0.9031"
                ]
              },
              {
                "output_type": "stream",
                "name": "stdout",
                "text": [
                  "\b\b\b\b\b\b\b\b\b\b\b\b\b\b\b\b\b\b\b\b\b\b\b\b\b\b\b\b\b\b\b\b\b\b\b\b\b\b\b\b\b\b\b\b\b\b\b\b\b\b\b\b\b\b\b\b\b\b\b\b\b\b\b\b\b\b\b\b\b\b\b\b\b\b\b\b\b\b\b\b\b\b\b\b\r355/600 [================>.............] - ETA: 0s - loss: 0.6419 - accuracy: 0.9032"
                ]
              },
              {
                "output_type": "stream",
                "name": "stdout",
                "text": [
                  "\b\b\b\b\b\b\b\b\b\b\b\b\b\b\b\b\b\b\b\b\b\b\b\b\b\b\b\b\b\b\b\b\b\b\b\b\b\b\b\b\b\b\b\b\b\b\b\b\b\b\b\b\b\b\b\b\b\b\b\b\b\b\b\b\b\b\b\b\b\b\b\b\b\b\b\b\b\b\b\b\b\b\b\b\r375/600 [=================>............] - ETA: 0s - loss: 0.6420 - accuracy: 0.9029"
                ]
              },
              {
                "output_type": "stream",
                "name": "stdout",
                "text": [
                  "\b\b\b\b\b\b\b\b\b\b\b\b\b\b\b\b\b\b\b\b\b\b\b\b\b\b\b\b\b\b\b\b\b\b\b\b\b\b\b\b\b\b\b\b\b\b\b\b\b\b\b\b\b\b\b\b\b\b\b\b\b\b\b\b\b\b\b\b\b\b\b\b\b\b\b\b\b\b\b\b\b\b\b\b\r396/600 [==================>...........] - ETA: 0s - loss: 0.6408 - accuracy: 0.9034"
                ]
              },
              {
                "output_type": "stream",
                "name": "stdout",
                "text": [
                  "\b\b\b\b\b\b\b\b\b\b\b\b\b\b\b\b\b\b\b\b\b\b\b\b\b\b\b\b\b\b\b\b\b\b\b\b\b\b\b\b\b\b\b\b\b\b\b\b\b\b\b\b\b\b\b\b\b\b\b\b\b\b\b\b\b\b\b\b\b\b\b\b\b\b\b\b\b\b\b\b\b\b\b\b\r417/600 [===================>..........] - ETA: 0s - loss: 0.6401 - accuracy: 0.9038"
                ]
              },
              {
                "output_type": "stream",
                "name": "stdout",
                "text": [
                  "\b\b\b\b\b\b\b\b\b\b\b\b\b\b\b\b\b\b\b\b\b\b\b\b\b\b\b\b\b\b\b\b\b\b\b\b\b\b\b\b\b\b\b\b\b\b\b\b\b\b\b\b\b\b\b\b\b\b\b\b\b\b\b\b\b\b\b\b\b\b\b\b\b\b\b\b\b\b\b\b\b\b\b\b\r434/600 [====================>.........] - ETA: 0s - loss: 0.6400 - accuracy: 0.9041"
                ]
              },
              {
                "output_type": "stream",
                "name": "stdout",
                "text": [
                  "\b\b\b\b\b\b\b\b\b\b\b\b\b\b\b\b\b\b\b\b\b\b\b\b\b\b\b\b\b\b\b\b\b\b\b\b\b\b\b\b\b\b\b\b\b\b\b\b\b\b\b\b\b\b\b\b\b\b\b\b\b\b\b\b\b\b\b\b\b\b\b\b\b\b\b\b\b\b\b\b\b\b\b\b\r456/600 [=====================>........] - ETA: 0s - loss: 0.6397 - accuracy: 0.9041"
                ]
              },
              {
                "output_type": "stream",
                "name": "stdout",
                "text": [
                  "\b\b\b\b\b\b\b\b\b\b\b\b\b\b\b\b\b\b\b\b\b\b\b\b\b\b\b\b\b\b\b\b\b\b\b\b\b\b\b\b\b\b\b\b\b\b\b\b\b\b\b\b\b\b\b\b\b\b\b\b\b\b\b\b\b\b\b\b\b\b\b\b\b\b\b\b\b\b\b\b\b\b\b\b\r474/600 [======================>.......] - ETA: 0s - loss: 0.6396 - accuracy: 0.9040"
                ]
              },
              {
                "output_type": "stream",
                "name": "stdout",
                "text": [
                  "\b\b\b\b\b\b\b\b\b\b\b\b\b\b\b\b\b\b\b\b\b\b\b\b\b\b\b\b\b\b\b\b\b\b\b\b\b\b\b\b\b\b\b\b\b\b\b\b\b\b\b\b\b\b\b\b\b\b\b\b\b\b\b\b\b\b\b\b\b\b\b\b\b\b\b\b\b\b\b\b\b\b\b\b\r493/600 [=======================>......] - ETA: 0s - loss: 0.6390 - accuracy: 0.9042"
                ]
              },
              {
                "output_type": "stream",
                "name": "stdout",
                "text": [
                  "\b\b\b\b\b\b\b\b\b\b\b\b\b\b\b\b\b\b\b\b\b\b\b\b\b\b\b\b\b\b\b\b\b\b\b\b\b\b\b\b\b\b\b\b\b\b\b\b\b\b\b\b\b\b\b\b\b\b\b\b\b\b\b\b\b\b\b\b\b\b\b\b\b\b\b\b\b\b\b\b\b\b\b\b\r515/600 [========================>.....] - ETA: 0s - loss: 0.6376 - accuracy: 0.9043"
                ]
              },
              {
                "output_type": "stream",
                "name": "stdout",
                "text": [
                  "\b\b\b\b\b\b\b\b\b\b\b\b\b\b\b\b\b\b\b\b\b\b\b\b\b\b\b\b\b\b\b\b\b\b\b\b\b\b\b\b\b\b\b\b\b\b\b\b\b\b\b\b\b\b\b\b\b\b\b\b\b\b\b\b\b\b\b\b\b\b\b\b\b\b\b\b\b\b\b\b\b\b\b\b\r536/600 [=========================>....] - ETA: 0s - loss: 0.6366 - accuracy: 0.9049"
                ]
              },
              {
                "output_type": "stream",
                "name": "stdout",
                "text": [
                  "\b\b\b\b\b\b\b\b\b\b\b\b\b\b\b\b\b\b\b\b\b\b\b\b\b\b\b\b\b\b\b\b\b\b\b\b\b\b\b\b\b\b\b\b\b\b\b\b\b\b\b\b\b\b\b\b\b\b\b\b\b\b\b\b\b\b\b\b\b\b\b\b\b\b\b\b\b\b\b\b\b\b\b\b\r557/600 [==========================>...] - ETA: 0s - loss: 0.6363 - accuracy: 0.9050"
                ]
              },
              {
                "output_type": "stream",
                "name": "stdout",
                "text": [
                  "\b\b\b\b\b\b\b\b\b\b\b\b\b\b\b\b\b\b\b\b\b\b\b\b\b\b\b\b\b\b\b\b\b\b\b\b\b\b\b\b\b\b\b\b\b\b\b\b\b\b\b\b\b\b\b\b\b\b\b\b\b\b\b\b\b\b\b\b\b\b\b\b\b\b\b\b\b\b\b\b\b\b\b\b\r575/600 [===========================>..] - ETA: 0s - loss: 0.6359 - accuracy: 0.9050"
                ]
              },
              {
                "output_type": "stream",
                "name": "stdout",
                "text": [
                  "\b\b\b\b\b\b\b\b\b\b\b\b\b\b\b\b\b\b\b\b\b\b\b\b\b\b\b\b\b\b\b\b\b\b\b\b\b\b\b\b\b\b\b\b\b\b\b\b\b\b\b\b\b\b\b\b\b\b\b\b\b\b\b\b\b\b\b\b\b\b\b\b\b\b\b\b\b\b\b\b\b\b\b\b\r591/600 [============================>.] - ETA: 0s - loss: 0.6359 - accuracy: 0.9052"
                ]
              },
              {
                "output_type": "stream",
                "name": "stdout",
                "text": [
                  "\b\b\b\b\b\b\b\b\b\b\b\b\b\b\b\b\b\b\b\b\b\b\b\b\b\b\b\b\b\b\b\b\b\b\b\b\b\b\b\b\b\b\b\b\b\b\b\b\b\b\b\b\b\b\b\b\b\b\b\b\b\b\b\b\b\b\b\b\b\b\b\b\b\b\b\b\b\b\b\b\b\b\b\b\r600/600 [==============================] - 2s 3ms/step - loss: 0.6364 - accuracy: 0.9049 - val_loss: 0.6177 - val_accuracy: 0.9138\n"
                ]
              },
              {
                "output_type": "stream",
                "name": "stdout",
                "text": [
                  "Epoch 19/20\n"
                ]
              },
              {
                "output_type": "stream",
                "name": "stdout",
                "text": [
                  "\r  1/600 [..............................] - ETA: 4s - loss: 0.5324 - accuracy: 0.9400"
                ]
              },
              {
                "output_type": "stream",
                "name": "stdout",
                "text": [
                  "\b\b\b\b\b\b\b\b\b\b\b\b\b\b\b\b\b\b\b\b\b\b\b\b\b\b\b\b\b\b\b\b\b\b\b\b\b\b\b\b\b\b\b\b\b\b\b\b\b\b\b\b\b\b\b\b\b\b\b\b\b\b\b\b\b\b\b\b\b\b\b\b\b\b\b\b\b\b\b\b\b\b\b\b\r 20/600 [>.............................] - ETA: 1s - loss: 0.6199 - accuracy: 0.9065"
                ]
              },
              {
                "output_type": "stream",
                "name": "stdout",
                "text": [
                  "\b\b\b\b\b\b\b\b\b\b\b\b\b\b\b\b\b\b\b\b\b\b\b\b\b\b\b\b\b\b\b\b\b\b\b\b\b\b\b\b\b\b\b\b\b\b\b\b\b\b\b\b\b\b\b\b\b\b\b\b\b\b\b\b\b\b\b\b\b\b\b\b\b\b\b\b\b\b\b\b\b\b\b\b\r 36/600 [>.............................] - ETA: 1s - loss: 0.6139 - accuracy: 0.9089"
                ]
              },
              {
                "output_type": "stream",
                "name": "stdout",
                "text": [
                  "\b\b\b\b\b\b\b\b\b\b\b\b\b\b\b\b\b\b\b\b\b\b\b\b\b\b\b\b\b\b\b\b\b\b\b\b\b\b\b\b\b\b\b\b\b\b\b\b\b\b\b\b\b\b\b\b\b\b\b\b\b\b\b\b\b\b\b\b\b\b\b\b\b\b\b\b\b\b\b\b\b\b\b\b\r 55/600 [=>............................] - ETA: 1s - loss: 0.6211 - accuracy: 0.9060"
                ]
              },
              {
                "output_type": "stream",
                "name": "stdout",
                "text": [
                  "\b\b\b\b\b\b\b\b\b\b\b\b\b\b\b\b\b\b\b\b\b\b\b\b\b\b\b\b\b\b\b\b\b\b\b\b\b\b\b\b\b\b\b\b\b\b\b\b\b\b\b\b\b\b\b\b\b\b\b\b\b\b\b\b\b\b\b\b\b\b\b\b\b\b\b\b\b\b\b\b\b\b\b\b\r 77/600 [==>...........................] - ETA: 1s - loss: 0.6230 - accuracy: 0.9069"
                ]
              },
              {
                "output_type": "stream",
                "name": "stdout",
                "text": [
                  "\b\b\b\b\b\b\b\b\b\b\b\b\b\b\b\b\b\b\b\b\b\b\b\b\b\b\b\b\b\b\b\b\b\b\b\b\b\b\b\b\b\b\b\b\b\b\b\b\b\b\b\b\b\b\b\b\b\b\b\b\b\b\b\b\b\b\b\b\b\b\b\b\b\b\b\b\b\b\b\b\b\b\b\b\r 97/600 [===>..........................] - ETA: 1s - loss: 0.6256 - accuracy: 0.9062"
                ]
              },
              {
                "output_type": "stream",
                "name": "stdout",
                "text": [
                  "\b\b\b\b\b\b\b\b\b\b\b\b\b\b\b\b\b\b\b\b\b\b\b\b\b\b\b\b\b\b\b\b\b\b\b\b\b\b\b\b\b\b\b\b\b\b\b\b\b\b\b\b\b\b\b\b\b\b\b\b\b\b\b\b\b\b\b\b\b\b\b\b\b\b\b\b\b\b\b\b\b\b\b\b\r118/600 [====>.........................] - ETA: 1s - loss: 0.6305 - accuracy: 0.9055"
                ]
              },
              {
                "output_type": "stream",
                "name": "stdout",
                "text": [
                  "\b\b\b\b\b\b\b\b\b\b\b\b\b\b\b\b\b\b\b\b\b\b\b\b\b\b\b\b\b\b\b\b\b\b\b\b\b\b\b\b\b\b\b\b\b\b\b\b\b\b\b\b\b\b\b\b\b\b\b\b\b\b\b\b\b\b\b\b\b\b\b\b\b\b\b\b\b\b\b\b\b\b\b\b\r137/600 [=====>........................] - ETA: 1s - loss: 0.6302 - accuracy: 0.9055"
                ]
              },
              {
                "output_type": "stream",
                "name": "stdout",
                "text": [
                  "\b\b\b\b\b\b\b\b\b\b\b\b\b\b\b\b\b\b\b\b\b\b\b\b\b\b\b\b\b\b\b\b\b\b\b\b\b\b\b\b\b\b\b\b\b\b\b\b\b\b\b\b\b\b\b\b\b\b\b\b\b\b\b\b\b\b\b\b\b\b\b\b\b\b\b\b\b\b\b\b\b\b\b\b\r154/600 [======>.......................] - ETA: 1s - loss: 0.6299 - accuracy: 0.9059"
                ]
              },
              {
                "output_type": "stream",
                "name": "stdout",
                "text": [
                  "\b\b\b\b\b\b\b\b\b\b\b\b\b\b\b\b\b\b\b\b\b\b\b\b\b\b\b\b\b\b\b\b\b\b\b\b\b\b\b\b\b\b\b\b\b\b\b\b\b\b\b\b\b\b\b\b\b\b\b\b\b\b\b\b\b\b\b\b\b\b\b\b\b\b\b\b\b\b\b\b\b\b\b\b\r175/600 [=======>......................] - ETA: 1s - loss: 0.6299 - accuracy: 0.9072"
                ]
              },
              {
                "output_type": "stream",
                "name": "stdout",
                "text": [
                  "\b\b\b\b\b\b\b\b\b\b\b\b\b\b\b\b\b\b\b\b\b\b\b\b\b\b\b\b\b\b\b\b\b\b\b\b\b\b\b\b\b\b\b\b\b\b\b\b\b\b\b\b\b\b\b\b\b\b\b\b\b\b\b\b\b\b\b\b\b\b\b\b\b\b\b\b\b\b\b\b\b\b\b\b\r194/600 [========>.....................] - ETA: 1s - loss: 0.6289 - accuracy: 0.9080"
                ]
              },
              {
                "output_type": "stream",
                "name": "stdout",
                "text": [
                  "\b\b\b\b\b\b\b\b\b\b\b\b\b\b\b\b\b\b\b\b\b\b\b\b\b\b\b\b\b\b\b\b\b\b\b\b\b\b\b\b\b\b\b\b\b\b\b\b\b\b\b\b\b\b\b\b\b\b\b\b\b\b\b\b\b\b\b\b\b\b\b\b\b\b\b\b\b\b\b\b\b\b\b\b\r212/600 [=========>....................] - ETA: 1s - loss: 0.6278 - accuracy: 0.9085"
                ]
              },
              {
                "output_type": "stream",
                "name": "stdout",
                "text": [
                  "\b\b\b\b\b\b\b\b\b\b\b\b\b\b\b\b\b\b\b\b\b\b\b\b\b\b\b\b\b\b\b\b\b\b\b\b\b\b\b\b\b\b\b\b\b\b\b\b\b\b\b\b\b\b\b\b\b\b\b\b\b\b\b\b\b\b\b\b\b\b\b\b\b\b\b\b\b\b\b\b\b\b\b\b\r233/600 [==========>...................] - ETA: 0s - loss: 0.6300 - accuracy: 0.9081"
                ]
              },
              {
                "output_type": "stream",
                "name": "stdout",
                "text": [
                  "\b\b\b\b\b\b\b\b\b\b\b\b\b\b\b\b\b\b\b\b\b\b\b\b\b\b\b\b\b\b\b\b\b\b\b\b\b\b\b\b\b\b\b\b\b\b\b\b\b\b\b\b\b\b\b\b\b\b\b\b\b\b\b\b\b\b\b\b\b\b\b\b\b\b\b\b\b\b\b\b\b\b\b\b\r254/600 [===========>..................] - ETA: 0s - loss: 0.6310 - accuracy: 0.9077"
                ]
              },
              {
                "output_type": "stream",
                "name": "stdout",
                "text": [
                  "\b\b\b\b\b\b\b\b\b\b\b\b\b\b\b\b\b\b\b\b\b\b\b\b\b\b\b\b\b\b\b\b\b\b\b\b\b\b\b\b\b\b\b\b\b\b\b\b\b\b\b\b\b\b\b\b\b\b\b\b\b\b\b\b\b\b\b\b\b\b\b\b\b\b\b\b\b\b\b\b\b\b\b\b\r273/600 [============>.................] - ETA: 0s - loss: 0.6302 - accuracy: 0.9077"
                ]
              },
              {
                "output_type": "stream",
                "name": "stdout",
                "text": [
                  "\b\b\b\b\b\b\b\b\b\b\b\b\b\b\b\b\b\b\b\b\b\b\b\b\b\b\b\b\b\b\b\b\b\b\b\b\b\b\b\b\b\b\b\b\b\b\b\b\b\b\b\b\b\b\b\b\b\b\b\b\b\b\b\b\b\b\b\b\b\b\b\b\b\b\b\b\b\b\b\b\b\b\b\b\r293/600 [=============>................] - ETA: 0s - loss: 0.6308 - accuracy: 0.9076"
                ]
              },
              {
                "output_type": "stream",
                "name": "stdout",
                "text": [
                  "\b\b\b\b\b\b\b\b\b\b\b\b\b\b\b\b\b\b\b\b\b\b\b\b\b\b\b\b\b\b\b\b\b\b\b\b\b\b\b\b\b\b\b\b\b\b\b\b\b\b\b\b\b\b\b\b\b\b\b\b\b\b\b\b\b\b\b\b\b\b\b\b\b\b\b\b\b\b\b\b\b\b\b\b\r313/600 [==============>...............] - ETA: 0s - loss: 0.6289 - accuracy: 0.9082"
                ]
              },
              {
                "output_type": "stream",
                "name": "stdout",
                "text": [
                  "\b\b\b\b\b\b\b\b\b\b\b\b\b\b\b\b\b\b\b\b\b\b\b\b\b\b\b\b\b\b\b\b\b\b\b\b\b\b\b\b\b\b\b\b\b\b\b\b\b\b\b\b\b\b\b\b\b\b\b\b\b\b\b\b\b\b\b\b\b\b\b\b\b\b\b\b\b\b\b\b\b\b\b\b\r335/600 [===============>..............] - ETA: 0s - loss: 0.6289 - accuracy: 0.9085"
                ]
              },
              {
                "output_type": "stream",
                "name": "stdout",
                "text": [
                  "\b\b\b\b\b\b\b\b\b\b\b\b\b\b\b\b\b\b\b\b\b\b\b\b\b\b\b\b\b\b\b\b\b\b\b\b\b\b\b\b\b\b\b\b\b\b\b\b\b\b\b\b\b\b\b\b\b\b\b\b\b\b\b\b\b\b\b\b\b\b\b\b\b\b\b\b\b\b\b\b\b\b\b\b\r352/600 [================>.............] - ETA: 0s - loss: 0.6294 - accuracy: 0.9081"
                ]
              },
              {
                "output_type": "stream",
                "name": "stdout",
                "text": [
                  "\b\b\b\b\b\b\b\b\b\b\b\b\b\b\b\b\b\b\b\b\b\b\b\b\b\b\b\b\b\b\b\b\b\b\b\b\b\b\b\b\b\b\b\b\b\b\b\b\b\b\b\b\b\b\b\b\b\b\b\b\b\b\b\b\b\b\b\b\b\b\b\b\b\b\b\b\b\b\b\b\b\b\b\b\r373/600 [=================>............] - ETA: 0s - loss: 0.6293 - accuracy: 0.9076"
                ]
              },
              {
                "output_type": "stream",
                "name": "stdout",
                "text": [
                  "\b\b\b\b\b\b\b\b\b\b\b\b\b\b\b\b\b\b\b\b\b\b\b\b\b\b\b\b\b\b\b\b\b\b\b\b\b\b\b\b\b\b\b\b\b\b\b\b\b\b\b\b\b\b\b\b\b\b\b\b\b\b\b\b\b\b\b\b\b\b\b\b\b\b\b\b\b\b\b\b\b\b\b\b\r389/600 [==================>...........] - ETA: 0s - loss: 0.6296 - accuracy: 0.9076"
                ]
              },
              {
                "output_type": "stream",
                "name": "stdout",
                "text": [
                  "\b\b\b\b\b\b\b\b\b\b\b\b\b\b\b\b\b\b\b\b\b\b\b\b\b\b\b\b\b\b\b\b\b\b\b\b\b\b\b\b\b\b\b\b\b\b\b\b\b\b\b\b\b\b\b\b\b\b\b\b\b\b\b\b\b\b\b\b\b\b\b\b\b\b\b\b\b\b\b\b\b\b\b\b\r410/600 [===================>..........] - ETA: 0s - loss: 0.6292 - accuracy: 0.9075"
                ]
              },
              {
                "output_type": "stream",
                "name": "stdout",
                "text": [
                  "\b\b\b\b\b\b\b\b\b\b\b\b\b\b\b\b\b\b\b\b\b\b\b\b\b\b\b\b\b\b\b\b\b\b\b\b\b\b\b\b\b\b\b\b\b\b\b\b\b\b\b\b\b\b\b\b\b\b\b\b\b\b\b\b\b\b\b\b\b\b\b\b\b\b\b\b\b\b\b\b\b\b\b\b\r430/600 [====================>.........] - ETA: 0s - loss: 0.6287 - accuracy: 0.9074"
                ]
              },
              {
                "output_type": "stream",
                "name": "stdout",
                "text": [
                  "\b\b\b\b\b\b\b\b\b\b\b\b\b\b\b\b\b\b\b\b\b\b\b\b\b\b\b\b\b\b\b\b\b\b\b\b\b\b\b\b\b\b\b\b\b\b\b\b\b\b\b\b\b\b\b\b\b\b\b\b\b\b\b\b\b\b\b\b\b\b\b\b\b\b\b\b\b\b\b\b\b\b\b\b\r450/600 [=====================>........] - ETA: 0s - loss: 0.6297 - accuracy: 0.9071"
                ]
              },
              {
                "output_type": "stream",
                "name": "stdout",
                "text": [
                  "\b\b\b\b\b\b\b\b\b\b\b\b\b\b\b\b\b\b\b\b\b\b\b\b\b\b\b\b\b\b\b\b\b\b\b\b\b\b\b\b\b\b\b\b\b\b\b\b\b\b\b\b\b\b\b\b\b\b\b\b\b\b\b\b\b\b\b\b\b\b\b\b\b\b\b\b\b\b\b\b\b\b\b\b\r469/600 [======================>.......] - ETA: 0s - loss: 0.6287 - accuracy: 0.9074"
                ]
              },
              {
                "output_type": "stream",
                "name": "stdout",
                "text": [
                  "\b\b\b\b\b\b\b\b\b\b\b\b\b\b\b\b\b\b\b\b\b\b\b\b\b\b\b\b\b\b\b\b\b\b\b\b\b\b\b\b\b\b\b\b\b\b\b\b\b\b\b\b\b\b\b\b\b\b\b\b\b\b\b\b\b\b\b\b\b\b\b\b\b\b\b\b\b\b\b\b\b\b\b\b\r490/600 [=======================>......] - ETA: 0s - loss: 0.6301 - accuracy: 0.9067"
                ]
              },
              {
                "output_type": "stream",
                "name": "stdout",
                "text": [
                  "\b\b\b\b\b\b\b\b\b\b\b\b\b\b\b\b\b\b\b\b\b\b\b\b\b\b\b\b\b\b\b\b\b\b\b\b\b\b\b\b\b\b\b\b\b\b\b\b\b\b\b\b\b\b\b\b\b\b\b\b\b\b\b\b\b\b\b\b\b\b\b\b\b\b\b\b\b\b\b\b\b\b\b\b\r511/600 [========================>.....] - ETA: 0s - loss: 0.6307 - accuracy: 0.9067"
                ]
              },
              {
                "output_type": "stream",
                "name": "stdout",
                "text": [
                  "\b\b\b\b\b\b\b\b\b\b\b\b\b\b\b\b\b\b\b\b\b\b\b\b\b\b\b\b\b\b\b\b\b\b\b\b\b\b\b\b\b\b\b\b\b\b\b\b\b\b\b\b\b\b\b\b\b\b\b\b\b\b\b\b\b\b\b\b\b\b\b\b\b\b\b\b\b\b\b\b\b\b\b\b\r531/600 [=========================>....] - ETA: 0s - loss: 0.6311 - accuracy: 0.9065"
                ]
              },
              {
                "output_type": "stream",
                "name": "stdout",
                "text": [
                  "\b\b\b\b\b\b\b\b\b\b\b\b\b\b\b\b\b\b\b\b\b\b\b\b\b\b\b\b\b\b\b\b\b\b\b\b\b\b\b\b\b\b\b\b\b\b\b\b\b\b\b\b\b\b\b\b\b\b\b\b\b\b\b\b\b\b\b\b\b\b\b\b\b\b\b\b\b\b\b\b\b\b\b\b\r552/600 [==========================>...] - ETA: 0s - loss: 0.6301 - accuracy: 0.9065"
                ]
              },
              {
                "output_type": "stream",
                "name": "stdout",
                "text": [
                  "\b\b\b\b\b\b\b\b\b\b\b\b\b\b\b\b\b\b\b\b\b\b\b\b\b\b\b\b\b\b\b\b\b\b\b\b\b\b\b\b\b\b\b\b\b\b\b\b\b\b\b\b\b\b\b\b\b\b\b\b\b\b\b\b\b\b\b\b\b\b\b\b\b\b\b\b\b\b\b\b\b\b\b\b\r570/600 [===========================>..] - ETA: 0s - loss: 0.6299 - accuracy: 0.9067"
                ]
              },
              {
                "output_type": "stream",
                "name": "stdout",
                "text": [
                  "\b\b\b\b\b\b\b\b\b\b\b\b\b\b\b\b\b\b\b\b\b\b\b\b\b\b\b\b\b\b\b\b\b\b\b\b\b\b\b\b\b\b\b\b\b\b\b\b\b\b\b\b\b\b\b\b\b\b\b\b\b\b\b\b\b\b\b\b\b\b\b\b\b\b\b\b\b\b\b\b\b\b\b\b\r592/600 [============================>.] - ETA: 0s - loss: 0.6296 - accuracy: 0.9068"
                ]
              },
              {
                "output_type": "stream",
                "name": "stdout",
                "text": [
                  "\b\b\b\b\b\b\b\b\b\b\b\b\b\b\b\b\b\b\b\b\b\b\b\b\b\b\b\b\b\b\b\b\b\b\b\b\b\b\b\b\b\b\b\b\b\b\b\b\b\b\b\b\b\b\b\b\b\b\b\b\b\b\b\b\b\b\b\b\b\b\b\b\b\b\b\b\b\b\b\b\b\b\b\b\r600/600 [==============================] - 2s 3ms/step - loss: 0.6298 - accuracy: 0.9067 - val_loss: 0.6075 - val_accuracy: 0.9111\n"
                ]
              },
              {
                "output_type": "stream",
                "name": "stdout",
                "text": [
                  "Epoch 20/20\n"
                ]
              },
              {
                "output_type": "stream",
                "name": "stdout",
                "text": [
                  "\r  1/600 [..............................] - ETA: 3s - loss: 0.6361 - accuracy: 0.9000"
                ]
              },
              {
                "output_type": "stream",
                "name": "stdout",
                "text": [
                  "\b\b\b\b\b\b\b\b\b\b\b\b\b\b\b\b\b\b\b\b\b\b\b\b\b\b\b\b\b\b\b\b\b\b\b\b\b\b\b\b\b\b\b\b\b\b\b\b\b\b\b\b\b\b\b\b\b\b\b\b\b\b\b\b\b\b\b\b\b\b\b\b\b\b\b\b\b\b\b\b\b\b\b\b\r 12/600 [..............................] - ETA: 2s - loss: 0.6303 - accuracy: 0.8992"
                ]
              },
              {
                "output_type": "stream",
                "name": "stdout",
                "text": [
                  "\b\b\b\b\b\b\b\b\b\b\b\b\b\b\b\b\b\b\b\b\b\b\b\b\b\b\b\b\b\b\b\b\b\b\b\b\b\b\b\b\b\b\b\b\b\b\b\b\b\b\b\b\b\b\b\b\b\b\b\b\b\b\b\b\b\b\b\b\b\b\b\b\b\b\b\b\b\b\b\b\b\b\b\b\r 26/600 [>.............................] - ETA: 2s - loss: 0.6188 - accuracy: 0.9085"
                ]
              },
              {
                "output_type": "stream",
                "name": "stdout",
                "text": [
                  "\b\b\b\b\b\b\b\b\b\b\b\b\b\b\b\b\b\b\b\b\b\b\b\b\b\b\b\b\b\b\b\b\b\b\b\b\b\b\b\b\b\b\b\b\b\b\b\b\b\b\b\b\b\b\b\b\b\b\b\b\b\b\b\b\b\b\b\b\b\b\b\b\b\b\b\b\b\b\b\b\b\b\b\b\r 40/600 [=>............................] - ETA: 2s - loss: 0.6252 - accuracy: 0.9087"
                ]
              },
              {
                "output_type": "stream",
                "name": "stdout",
                "text": [
                  "\b\b\b\b\b\b\b\b\b\b\b\b\b\b\b\b\b\b\b\b\b\b\b\b\b\b\b\b\b\b\b\b\b\b\b\b\b\b\b\b\b\b\b\b\b\b\b\b\b\b\b\b\b\b\b\b\b\b\b\b\b\b\b\b\b\b\b\b\b\b\b\b\b\b\b\b\b\b\b\b\b\b\b\b\r 54/600 [=>............................] - ETA: 2s - loss: 0.6283 - accuracy: 0.9085"
                ]
              },
              {
                "output_type": "stream",
                "name": "stdout",
                "text": [
                  "\b\b\b\b\b\b\b\b\b\b\b\b\b\b\b\b\b\b\b\b\b\b\b\b\b\b\b\b\b\b\b\b\b\b\b\b\b\b\b\b\b\b\b\b\b\b\b\b\b\b\b\b\b\b\b\b\b\b\b\b\b\b\b\b\b\b\b\b\b\b\b\b\b\b\b\b\b\b\b\b\b\b\b\b\r 68/600 [==>...........................] - ETA: 2s - loss: 0.6270 - accuracy: 0.9078"
                ]
              },
              {
                "output_type": "stream",
                "name": "stdout",
                "text": [
                  "\b\b\b\b\b\b\b\b\b\b\b\b\b\b\b\b\b\b\b\b\b\b\b\b\b\b\b\b\b\b\b\b\b\b\b\b\b\b\b\b\b\b\b\b\b\b\b\b\b\b\b\b\b\b\b\b\b\b\b\b\b\b\b\b\b\b\b\b\b\b\b\b\b\b\b\b\b\b\b\b\b\b\b\b\r 83/600 [===>..........................] - ETA: 1s - loss: 0.6233 - accuracy: 0.9082"
                ]
              },
              {
                "output_type": "stream",
                "name": "stdout",
                "text": [
                  "\b\b\b\b\b\b\b\b\b\b\b\b\b\b\b\b\b\b\b\b\b\b\b\b\b\b\b\b\b\b\b\b\b\b\b\b\b\b\b\b\b\b\b\b\b\b\b\b\b\b\b\b\b\b\b\b\b\b\b\b\b\b\b\b\b\b\b\b\b\b\b\b\b\b\b\b\b\b\b\b\b\b\b\b\r 94/600 [===>..........................] - ETA: 1s - loss: 0.6312 - accuracy: 0.9048"
                ]
              },
              {
                "output_type": "stream",
                "name": "stdout",
                "text": [
                  "\b\b\b\b\b\b\b\b\b\b\b\b\b\b\b\b\b\b\b\b\b\b\b\b\b\b\b\b\b\b\b\b\b\b\b\b\b\b\b\b\b\b\b\b\b\b\b\b\b\b\b\b\b\b\b\b\b\b\b\b\b\b\b\b\b\b\b\b\b\b\b\b\b\b\b\b\b\b\b\b\b\b\b\b\r106/600 [====>.........................] - ETA: 1s - loss: 0.6271 - accuracy: 0.9060"
                ]
              },
              {
                "output_type": "stream",
                "name": "stdout",
                "text": [
                  "\b\b\b\b\b\b\b\b\b\b\b\b\b\b\b\b\b\b\b\b\b\b\b\b\b\b\b\b\b\b\b\b\b\b\b\b\b\b\b\b\b\b\b\b\b\b\b\b\b\b\b\b\b\b\b\b\b\b\b\b\b\b\b\b\b\b\b\b\b\b\b\b\b\b\b\b\b\b\b\b\b\b\b\b\r115/600 [====>.........................] - ETA: 2s - loss: 0.6255 - accuracy: 0.9066"
                ]
              },
              {
                "output_type": "stream",
                "name": "stdout",
                "text": [
                  "\b\b\b\b\b\b\b\b\b\b\b\b\b\b\b\b\b\b\b\b\b\b\b\b\b\b\b\b\b\b\b\b\b\b\b\b\b\b\b\b\b\b\b\b\b\b\b\b\b\b\b\b\b\b\b\b\b\b\b\b\b\b\b\b\b\b\b\b\b\b\b\b\b\b\b\b\b\b\b\b\b\b\b\b\r119/600 [====>.........................] - ETA: 2s - loss: 0.6281 - accuracy: 0.9061"
                ]
              },
              {
                "output_type": "stream",
                "name": "stdout",
                "text": [
                  "\b\b\b\b\b\b\b\b\b\b\b\b\b\b\b\b\b\b\b\b\b\b\b\b\b\b\b\b\b\b\b\b\b\b\b\b\b\b\b\b\b\b\b\b\b\b\b\b\b\b\b\b\b\b\b\b\b\b\b\b\b\b\b\b\b\b\b\b\b\b\b\b\b\b\b\b\b\b\b\b\b\b\b\b\r123/600 [=====>........................] - ETA: 2s - loss: 0.6319 - accuracy: 0.9050"
                ]
              },
              {
                "output_type": "stream",
                "name": "stdout",
                "text": [
                  "\b\b\b\b\b\b\b\b\b\b\b\b\b\b\b\b\b\b\b\b\b\b\b\b\b\b\b\b\b\b\b\b\b\b\b\b\b\b\b\b\b\b\b\b\b\b\b\b\b\b\b\b\b\b\b\b\b\b\b\b\b\b\b\b\b\b\b\b\b\b\b\b\b\b\b\b\b\b\b\b\b\b\b\b\r127/600 [=====>........................] - ETA: 2s - loss: 0.6303 - accuracy: 0.9057"
                ]
              },
              {
                "output_type": "stream",
                "name": "stdout",
                "text": [
                  "\b\b\b\b\b\b\b\b\b\b\b\b\b\b\b\b\b\b\b\b\b\b\b\b\b\b\b\b\b\b\b\b\b\b\b\b\b\b\b\b\b\b\b\b\b\b\b\b\b\b\b\b\b\b\b\b\b\b\b\b\b\b\b\b\b\b\b\b\b\b\b\b\b\b\b\b\b\b\b\b\b\b\b\b\r131/600 [=====>........................] - ETA: 2s - loss: 0.6307 - accuracy: 0.9056"
                ]
              },
              {
                "output_type": "stream",
                "name": "stdout",
                "text": [
                  "\b\b\b\b\b\b\b\b\b\b\b\b\b\b\b\b\b\b\b\b\b\b\b\b\b\b\b\b\b\b\b\b\b\b\b\b\b\b\b\b\b\b\b\b\b\b\b\b\b\b\b\b\b\b\b\b\b\b\b\b\b\b\b\b\b\b\b\b\b\b\b\b\b\b\b\b\b\b\b\b\b\b\b\b\r135/600 [=====>........................] - ETA: 2s - loss: 0.6321 - accuracy: 0.9054"
                ]
              },
              {
                "output_type": "stream",
                "name": "stdout",
                "text": [
                  "\b\b\b\b\b\b\b\b\b\b\b\b\b\b\b\b\b\b\b\b\b\b\b\b\b\b\b\b\b\b\b\b\b\b\b\b\b\b\b\b\b\b\b\b\b\b\b\b\b\b\b\b\b\b\b\b\b\b\b\b\b\b\b\b\b\b\b\b\b\b\b\b\b\b\b\b\b\b\b\b\b\b\b\b\r139/600 [=====>........................] - ETA: 2s - loss: 0.6318 - accuracy: 0.9054"
                ]
              },
              {
                "output_type": "stream",
                "name": "stdout",
                "text": [
                  "\b\b\b\b\b\b\b\b\b\b\b\b\b\b\b\b\b\b\b\b\b\b\b\b\b\b\b\b\b\b\b\b\b\b\b\b\b\b\b\b\b\b\b\b\b\b\b\b\b\b\b\b\b\b\b\b\b\b\b\b\b\b\b\b\b\b\b\b\b\b\b\b\b\b\b\b\b\b\b\b\b\b\b\b\r143/600 [======>.......................] - ETA: 2s - loss: 0.6313 - accuracy: 0.9058"
                ]
              },
              {
                "output_type": "stream",
                "name": "stdout",
                "text": [
                  "\b\b\b\b\b\b\b\b\b\b\b\b\b\b\b\b\b\b\b\b\b\b\b\b\b\b\b\b\b\b\b\b\b\b\b\b\b\b\b\b\b\b\b\b\b\b\b\b\b\b\b\b\b\b\b\b\b\b\b\b\b\b\b\b\b\b\b\b\b\b\b\b\b\b\b\b\b\b\b\b\b\b\b\b\r147/600 [======>.......................] - ETA: 2s - loss: 0.6315 - accuracy: 0.9058"
                ]
              },
              {
                "output_type": "stream",
                "name": "stdout",
                "text": [
                  "\b\b\b\b\b\b\b\b\b\b\b\b\b\b\b\b\b\b\b\b\b\b\b\b\b\b\b\b\b\b\b\b\b\b\b\b\b\b\b\b\b\b\b\b\b\b\b\b\b\b\b\b\b\b\b\b\b\b\b\b\b\b\b\b\b\b\b\b\b\b\b\b\b\b\b\b\b\b\b\b\b\b\b\b\r151/600 [======>.......................] - ETA: 2s - loss: 0.6306 - accuracy: 0.9064"
                ]
              },
              {
                "output_type": "stream",
                "name": "stdout",
                "text": [
                  "\b\b\b\b\b\b\b\b\b\b\b\b\b\b\b\b\b\b\b\b\b\b\b\b\b\b\b\b\b\b\b\b\b\b\b\b\b\b\b\b\b\b\b\b\b\b\b\b\b\b\b\b\b\b\b\b\b\b\b\b\b\b\b\b\b\b\b\b\b\b\b\b\b\b\b\b\b\b\b\b\b\b\b\b\r155/600 [======>.......................] - ETA: 3s - loss: 0.6299 - accuracy: 0.9068"
                ]
              },
              {
                "output_type": "stream",
                "name": "stdout",
                "text": [
                  "\b\b\b\b\b\b\b\b\b\b\b\b\b\b\b\b\b\b\b\b\b\b\b\b\b\b\b\b\b\b\b\b\b\b\b\b\b\b\b\b\b\b\b\b\b\b\b\b\b\b\b\b\b\b\b\b\b\b\b\b\b\b\b\b\b\b\b\b\b\b\b\b\b\b\b\b\b\b\b\b\b\b\b\b\r159/600 [======>.......................] - ETA: 3s - loss: 0.6312 - accuracy: 0.9062"
                ]
              },
              {
                "output_type": "stream",
                "name": "stdout",
                "text": [
                  "\b\b\b\b\b\b\b\b\b\b\b\b\b\b\b\b\b\b\b\b\b\b\b\b\b\b\b\b\b\b\b\b\b\b\b\b\b\b\b\b\b\b\b\b\b\b\b\b\b\b\b\b\b\b\b\b\b\b\b\b\b\b\b\b\b\b\b\b\b\b\b\b\b\b\b\b\b\b\b\b\b\b\b\b\r163/600 [=======>......................] - ETA: 3s - loss: 0.6312 - accuracy: 0.9064"
                ]
              },
              {
                "output_type": "stream",
                "name": "stdout",
                "text": [
                  "\b\b\b\b\b\b\b\b\b\b\b\b\b\b\b\b\b\b\b\b\b\b\b\b\b\b\b\b\b\b\b\b\b\b\b\b\b\b\b\b\b\b\b\b\b\b\b\b\b\b\b\b\b\b\b\b\b\b\b\b\b\b\b\b\b\b\b\b\b\b\b\b\b\b\b\b\b\b\b\b\b\b\b\b\r169/600 [=======>......................] - ETA: 3s - loss: 0.6295 - accuracy: 0.9069"
                ]
              },
              {
                "output_type": "stream",
                "name": "stdout",
                "text": [
                  "\b\b\b\b\b\b\b\b\b\b\b\b\b\b\b\b\b\b\b\b\b\b\b\b\b\b\b\b\b\b\b\b\b\b\b\b\b\b\b\b\b\b\b\b\b\b\b\b\b\b\b\b\b\b\b\b\b\b\b\b\b\b\b\b\b\b\b\b\b\b\b\b\b\b\b\b\b\b\b\b\b\b\b\b\r174/600 [=======>......................] - ETA: 3s - loss: 0.6286 - accuracy: 0.9071"
                ]
              },
              {
                "output_type": "stream",
                "name": "stdout",
                "text": [
                  "\b\b\b\b\b\b\b\b\b\b\b\b\b\b\b\b\b\b\b\b\b\b\b\b\b\b\b\b\b\b\b\b\b\b\b\b\b\b\b\b\b\b\b\b\b\b\b\b\b\b\b\b\b\b\b\b\b\b\b\b\b\b\b\b\b\b\b\b\b\b\b\b\b\b\b\b\b\b\b\b\b\b\b\b\r182/600 [========>.....................] - ETA: 3s - loss: 0.6302 - accuracy: 0.9067"
                ]
              },
              {
                "output_type": "stream",
                "name": "stdout",
                "text": [
                  "\b\b\b\b\b\b\b\b\b\b\b\b\b\b\b\b\b\b\b\b\b\b\b\b\b\b\b\b\b\b\b\b\b\b\b\b\b\b\b\b\b\b\b\b\b\b\b\b\b\b\b\b\b\b\b\b\b\b\b\b\b\b\b\b\b\b\b\b\b\b\b\b\b\b\b\b\b\b\b\b\b\b\b\b\r185/600 [========>.....................] - ETA: 3s - loss: 0.6299 - accuracy: 0.9066"
                ]
              },
              {
                "output_type": "stream",
                "name": "stdout",
                "text": [
                  "\b\b\b\b\b\b\b\b\b\b\b\b\b\b\b\b\b\b\b\b\b\b\b\b\b\b\b\b\b\b\b\b\b\b\b\b\b\b\b\b\b\b\b\b\b\b\b\b\b\b\b\b\b\b\b\b\b\b\b\b\b\b\b\b\b\b\b\b\b\b\b\b\b\b\b\b\b\b\b\b\b\b\b\b\r190/600 [========>.....................] - ETA: 3s - loss: 0.6303 - accuracy: 0.9065"
                ]
              },
              {
                "output_type": "stream",
                "name": "stdout",
                "text": [
                  "\b\b\b\b\b\b\b\b\b\b\b\b\b\b\b\b\b\b\b\b\b\b\b\b\b\b\b\b\b\b\b\b\b\b\b\b\b\b\b\b\b\b\b\b\b\b\b\b\b\b\b\b\b\b\b\b\b\b\b\b\b\b\b\b\b\b\b\b\b\b\b\b\b\b\b\b\b\b\b\b\b\b\b\b\r194/600 [========>.....................] - ETA: 3s - loss: 0.6302 - accuracy: 0.9063"
                ]
              },
              {
                "output_type": "stream",
                "name": "stdout",
                "text": [
                  "\b\b\b\b\b\b\b\b\b\b\b\b\b\b\b\b\b\b\b\b\b\b\b\b\b\b\b\b\b\b\b\b\b\b\b\b\b\b\b\b\b\b\b\b\b\b\b\b\b\b\b\b\b\b\b\b\b\b\b\b\b\b\b\b\b\b\b\b\b\b\b\b\b\b\b\b\b\b\b\b\b\b\b\b\r200/600 [=========>....................] - ETA: 3s - loss: 0.6290 - accuracy: 0.9062"
                ]
              },
              {
                "output_type": "stream",
                "name": "stdout",
                "text": [
                  "\b\b\b\b\b\b\b\b\b\b\b\b\b\b\b\b\b\b\b\b\b\b\b\b\b\b\b\b\b\b\b\b\b\b\b\b\b\b\b\b\b\b\b\b\b\b\b\b\b\b\b\b\b\b\b\b\b\b\b\b\b\b\b\b\b\b\b\b\b\b\b\b\b\b\b\b\b\b\b\b\b\b\b\b\r206/600 [=========>....................] - ETA: 3s - loss: 0.6285 - accuracy: 0.9064"
                ]
              },
              {
                "output_type": "stream",
                "name": "stdout",
                "text": [
                  "\b\b\b\b\b\b\b\b\b\b\b\b\b\b\b\b\b\b\b\b\b\b\b\b\b\b\b\b\b\b\b\b\b\b\b\b\b\b\b\b\b\b\b\b\b\b\b\b\b\b\b\b\b\b\b\b\b\b\b\b\b\b\b\b\b\b\b\b\b\b\b\b\b\b\b\b\b\b\b\b\b\b\b\b\r214/600 [=========>....................] - ETA: 2s - loss: 0.6274 - accuracy: 0.9066"
                ]
              },
              {
                "output_type": "stream",
                "name": "stdout",
                "text": [
                  "\b\b\b\b\b\b\b\b\b\b\b\b\b\b\b\b\b\b\b\b\b\b\b\b\b\b\b\b\b\b\b\b\b\b\b\b\b\b\b\b\b\b\b\b\b\b\b\b\b\b\b\b\b\b\b\b\b\b\b\b\b\b\b\b\b\b\b\b\b\b\b\b\b\b\b\b\b\b\b\b\b\b\b\b\r229/600 [==========>...................] - ETA: 2s - loss: 0.6255 - accuracy: 0.9070"
                ]
              },
              {
                "output_type": "stream",
                "name": "stdout",
                "text": [
                  "\b\b\b\b\b\b\b\b\b\b\b\b\b\b\b\b\b\b\b\b\b\b\b\b\b\b\b\b\b\b\b\b\b\b\b\b\b\b\b\b\b\b\b\b\b\b\b\b\b\b\b\b\b\b\b\b\b\b\b\b\b\b\b\b\b\b\b\b\b\b\b\b\b\b\b\b\b\b\b\b\b\b\b\b\r245/600 [===========>..................] - ETA: 2s - loss: 0.6236 - accuracy: 0.9074"
                ]
              },
              {
                "output_type": "stream",
                "name": "stdout",
                "text": [
                  "\b\b\b\b\b\b\b\b\b\b\b\b\b\b\b\b\b\b\b\b\b\b\b\b\b\b\b\b\b\b\b\b\b\b\b\b\b\b\b\b\b\b\b\b\b\b\b\b\b\b\b\b\b\b\b\b\b\b\b\b\b\b\b\b\b\b\b\b\b\b\b\b\b\b\b\b\b\b\b\b\b\b\b\b\r259/600 [===========>..................] - ETA: 2s - loss: 0.6238 - accuracy: 0.9069"
                ]
              },
              {
                "output_type": "stream",
                "name": "stdout",
                "text": [
                  "\b\b\b\b\b\b\b\b\b\b\b\b\b\b\b\b\b\b\b\b\b\b\b\b\b\b\b\b\b\b\b\b\b\b\b\b\b\b\b\b\b\b\b\b\b\b\b\b\b\b\b\b\b\b\b\b\b\b\b\b\b\b\b\b\b\b\b\b\b\b\b\b\b\b\b\b\b\b\b\b\b\b\b\b\r272/600 [============>.................] - ETA: 2s - loss: 0.6249 - accuracy: 0.9065"
                ]
              },
              {
                "output_type": "stream",
                "name": "stdout",
                "text": [
                  "\b\b\b\b\b\b\b\b\b\b\b\b\b\b\b\b\b\b\b\b\b\b\b\b\b\b\b\b\b\b\b\b\b\b\b\b\b\b\b\b\b\b\b\b\b\b\b\b\b\b\b\b\b\b\b\b\b\b\b\b\b\b\b\b\b\b\b\b\b\b\b\b\b\b\b\b\b\b\b\b\b\b\b\b\r285/600 [=============>................] - ETA: 2s - loss: 0.6241 - accuracy: 0.9068"
                ]
              },
              {
                "output_type": "stream",
                "name": "stdout",
                "text": [
                  "\b\b\b\b\b\b\b\b\b\b\b\b\b\b\b\b\b\b\b\b\b\b\b\b\b\b\b\b\b\b\b\b\b\b\b\b\b\b\b\b\b\b\b\b\b\b\b\b\b\b\b\b\b\b\b\b\b\b\b\b\b\b\b\b\b\b\b\b\b\b\b\b\b\b\b\b\b\b\b\b\b\b\b\b\r299/600 [=============>................] - ETA: 1s - loss: 0.6244 - accuracy: 0.9070"
                ]
              },
              {
                "output_type": "stream",
                "name": "stdout",
                "text": [
                  "\b\b\b\b\b\b\b\b\b\b\b\b\b\b\b\b\b\b\b\b\b\b\b\b\b\b\b\b\b\b\b\b\b\b\b\b\b\b\b\b\b\b\b\b\b\b\b\b\b\b\b\b\b\b\b\b\b\b\b\b\b\b\b\b\b\b\b\b\b\b\b\b\b\b\b\b\b\b\b\b\b\b\b\b\r312/600 [==============>...............] - ETA: 1s - loss: 0.6228 - accuracy: 0.9076"
                ]
              },
              {
                "output_type": "stream",
                "name": "stdout",
                "text": [
                  "\b\b\b\b\b\b\b\b\b\b\b\b\b\b\b\b\b\b\b\b\b\b\b\b\b\b\b\b\b\b\b\b\b\b\b\b\b\b\b\b\b\b\b\b\b\b\b\b\b\b\b\b\b\b\b\b\b\b\b\b\b\b\b\b\b\b\b\b\b\b\b\b\b\b\b\b\b\b\b\b\b\b\b\b\r326/600 [===============>..............] - ETA: 1s - loss: 0.6232 - accuracy: 0.9074"
                ]
              },
              {
                "output_type": "stream",
                "name": "stdout",
                "text": [
                  "\b\b\b\b\b\b\b\b\b\b\b\b\b\b\b\b\b\b\b\b\b\b\b\b\b\b\b\b\b\b\b\b\b\b\b\b\b\b\b\b\b\b\b\b\b\b\b\b\b\b\b\b\b\b\b\b\b\b\b\b\b\b\b\b\b\b\b\b\b\b\b\b\b\b\b\b\b\b\b\b\b\b\b\b\r340/600 [================>.............] - ETA: 1s - loss: 0.6234 - accuracy: 0.9068"
                ]
              },
              {
                "output_type": "stream",
                "name": "stdout",
                "text": [
                  "\b\b\b\b\b\b\b\b\b\b\b\b\b\b\b\b\b\b\b\b\b\b\b\b\b\b\b\b\b\b\b\b\b\b\b\b\b\b\b\b\b\b\b\b\b\b\b\b\b\b\b\b\b\b\b\b\b\b\b\b\b\b\b\b\b\b\b\b\b\b\b\b\b\b\b\b\b\b\b\b\b\b\b\b\r351/600 [================>.............] - ETA: 1s - loss: 0.6230 - accuracy: 0.9071"
                ]
              },
              {
                "output_type": "stream",
                "name": "stdout",
                "text": [
                  "\b\b\b\b\b\b\b\b\b\b\b\b\b\b\b\b\b\b\b\b\b\b\b\b\b\b\b\b\b\b\b\b\b\b\b\b\b\b\b\b\b\b\b\b\b\b\b\b\b\b\b\b\b\b\b\b\b\b\b\b\b\b\b\b\b\b\b\b\b\b\b\b\b\b\b\b\b\b\b\b\b\b\b\b\r363/600 [=================>............] - ETA: 1s - loss: 0.6236 - accuracy: 0.9071"
                ]
              },
              {
                "output_type": "stream",
                "name": "stdout",
                "text": [
                  "\b\b\b\b\b\b\b\b\b\b\b\b\b\b\b\b\b\b\b\b\b\b\b\b\b\b\b\b\b\b\b\b\b\b\b\b\b\b\b\b\b\b\b\b\b\b\b\b\b\b\b\b\b\b\b\b\b\b\b\b\b\b\b\b\b\b\b\b\b\b\b\b\b\b\b\b\b\b\b\b\b\b\b\b\r376/600 [=================>............] - ETA: 1s - loss: 0.6231 - accuracy: 0.9070"
                ]
              },
              {
                "output_type": "stream",
                "name": "stdout",
                "text": [
                  "\b\b\b\b\b\b\b\b\b\b\b\b\b\b\b\b\b\b\b\b\b\b\b\b\b\b\b\b\b\b\b\b\b\b\b\b\b\b\b\b\b\b\b\b\b\b\b\b\b\b\b\b\b\b\b\b\b\b\b\b\b\b\b\b\b\b\b\b\b\b\b\b\b\b\b\b\b\b\b\b\b\b\b\b\r388/600 [==================>...........] - ETA: 1s - loss: 0.6239 - accuracy: 0.9069"
                ]
              },
              {
                "output_type": "stream",
                "name": "stdout",
                "text": [
                  "\b\b\b\b\b\b\b\b\b\b\b\b\b\b\b\b\b\b\b\b\b\b\b\b\b\b\b\b\b\b\b\b\b\b\b\b\b\b\b\b\b\b\b\b\b\b\b\b\b\b\b\b\b\b\b\b\b\b\b\b\b\b\b\b\b\b\b\b\b\b\b\b\b\b\b\b\b\b\b\b\b\b\b\b\r400/600 [===================>..........] - ETA: 1s - loss: 0.6228 - accuracy: 0.9072"
                ]
              },
              {
                "output_type": "stream",
                "name": "stdout",
                "text": [
                  "\b\b\b\b\b\b\b\b\b\b\b\b\b\b\b\b\b\b\b\b\b\b\b\b\b\b\b\b\b\b\b\b\b\b\b\b\b\b\b\b\b\b\b\b\b\b\b\b\b\b\b\b\b\b\b\b\b\b\b\b\b\b\b\b\b\b\b\b\b\b\b\b\b\b\b\b\b\b\b\b\b\b\b\b\r412/600 [===================>..........] - ETA: 1s - loss: 0.6239 - accuracy: 0.9071"
                ]
              },
              {
                "output_type": "stream",
                "name": "stdout",
                "text": [
                  "\b\b\b\b\b\b\b\b\b\b\b\b\b\b\b\b\b\b\b\b\b\b\b\b\b\b\b\b\b\b\b\b\b\b\b\b\b\b\b\b\b\b\b\b\b\b\b\b\b\b\b\b\b\b\b\b\b\b\b\b\b\b\b\b\b\b\b\b\b\b\b\b\b\b\b\b\b\b\b\b\b\b\b\b\r425/600 [====================>.........] - ETA: 1s - loss: 0.6245 - accuracy: 0.9069"
                ]
              },
              {
                "output_type": "stream",
                "name": "stdout",
                "text": [
                  "\b\b\b\b\b\b\b\b\b\b\b\b\b\b\b\b\b\b\b\b\b\b\b\b\b\b\b\b\b\b\b\b\b\b\b\b\b\b\b\b\b\b\b\b\b\b\b\b\b\b\b\b\b\b\b\b\b\b\b\b\b\b\b\b\b\b\b\b\b\b\b\b\b\b\b\b\b\b\b\b\b\b\b\b\r437/600 [====================>.........] - ETA: 0s - loss: 0.6248 - accuracy: 0.9069"
                ]
              },
              {
                "output_type": "stream",
                "name": "stdout",
                "text": [
                  "\b\b\b\b\b\b\b\b\b\b\b\b\b\b\b\b\b\b\b\b\b\b\b\b\b\b\b\b\b\b\b\b\b\b\b\b\b\b\b\b\b\b\b\b\b\b\b\b\b\b\b\b\b\b\b\b\b\b\b\b\b\b\b\b\b\b\b\b\b\b\b\b\b\b\b\b\b\b\b\b\b\b\b\b\r449/600 [=====================>........] - ETA: 0s - loss: 0.6251 - accuracy: 0.9068"
                ]
              },
              {
                "output_type": "stream",
                "name": "stdout",
                "text": [
                  "\b\b\b\b\b\b\b\b\b\b\b\b\b\b\b\b\b\b\b\b\b\b\b\b\b\b\b\b\b\b\b\b\b\b\b\b\b\b\b\b\b\b\b\b\b\b\b\b\b\b\b\b\b\b\b\b\b\b\b\b\b\b\b\b\b\b\b\b\b\b\b\b\b\b\b\b\b\b\b\b\b\b\b\b\r469/600 [======================>.......] - ETA: 0s - loss: 0.6250 - accuracy: 0.9067"
                ]
              },
              {
                "output_type": "stream",
                "name": "stdout",
                "text": [
                  "\b\b\b\b\b\b\b\b\b\b\b\b\b\b\b\b\b\b\b\b\b\b\b\b\b\b\b\b\b\b\b\b\b\b\b\b\b\b\b\b\b\b\b\b\b\b\b\b\b\b\b\b\b\b\b\b\b\b\b\b\b\b\b\b\b\b\b\b\b\b\b\b\b\b\b\b\b\b\b\b\b\b\b\b\r492/600 [=======================>......] - ETA: 0s - loss: 0.6258 - accuracy: 0.9064"
                ]
              },
              {
                "output_type": "stream",
                "name": "stdout",
                "text": [
                  "\b\b\b\b\b\b\b\b\b\b\b\b\b\b\b\b\b\b\b\b\b\b\b\b\b\b\b\b\b\b\b\b\b\b\b\b\b\b\b\b\b\b\b\b\b\b\b\b\b\b\b\b\b\b\b\b\b\b\b\b\b\b\b\b\b\b\b\b\b\b\b\b\b\b\b\b\b\b\b\b\b\b\b\b\r514/600 [========================>.....] - ETA: 0s - loss: 0.6250 - accuracy: 0.9067"
                ]
              },
              {
                "output_type": "stream",
                "name": "stdout",
                "text": [
                  "\b\b\b\b\b\b\b\b\b\b\b\b\b\b\b\b\b\b\b\b\b\b\b\b\b\b\b\b\b\b\b\b\b\b\b\b\b\b\b\b\b\b\b\b\b\b\b\b\b\b\b\b\b\b\b\b\b\b\b\b\b\b\b\b\b\b\b\b\b\b\b\b\b\b\b\b\b\b\b\b\b\b\b\b\r538/600 [=========================>....] - ETA: 0s - loss: 0.6250 - accuracy: 0.9069"
                ]
              },
              {
                "output_type": "stream",
                "name": "stdout",
                "text": [
                  "\b\b\b\b\b\b\b\b\b\b\b\b\b\b\b\b\b\b\b\b\b\b\b\b\b\b\b\b\b\b\b\b\b\b\b\b\b\b\b\b\b\b\b\b\b\b\b\b\b\b\b\b\b\b\b\b\b\b\b\b\b\b\b\b\b\b\b\b\b\b\b\b\b\b\b\b\b\b\b\b\b\b\b\b\r557/600 [==========================>...] - ETA: 0s - loss: 0.6241 - accuracy: 0.9073"
                ]
              },
              {
                "output_type": "stream",
                "name": "stdout",
                "text": [
                  "\b\b\b\b\b\b\b\b\b\b\b\b\b\b\b\b\b\b\b\b\b\b\b\b\b\b\b\b\b\b\b\b\b\b\b\b\b\b\b\b\b\b\b\b\b\b\b\b\b\b\b\b\b\b\b\b\b\b\b\b\b\b\b\b\b\b\b\b\b\b\b\b\b\b\b\b\b\b\b\b\b\b\b\b\r578/600 [===========================>..] - ETA: 0s - loss: 0.6234 - accuracy: 0.9076"
                ]
              },
              {
                "output_type": "stream",
                "name": "stdout",
                "text": [
                  "\b\b\b\b\b\b\b\b\b\b\b\b\b\b\b\b\b\b\b\b\b\b\b\b\b\b\b\b\b\b\b\b\b\b\b\b\b\b\b\b\b\b\b\b\b\b\b\b\b\b\b\b\b\b\b\b\b\b\b\b\b\b\b\b\b\b\b\b\b\b\b\b\b\b\b\b\b\b\b\b\b\b\b\b\r600/600 [==============================] - ETA: 0s - loss: 0.6239 - accuracy: 0.9075"
                ]
              },
              {
                "output_type": "stream",
                "name": "stdout",
                "text": [
                  "\b\b\b\b\b\b\b\b\b\b\b\b\b\b\b\b\b\b\b\b\b\b\b\b\b\b\b\b\b\b\b\b\b\b\b\b\b\b\b\b\b\b\b\b\b\b\b\b\b\b\b\b\b\b\b\b\b\b\b\b\b\b\b\b\b\b\b\b\b\b\b\b\b\b\b\b\b\b\b\b\b\b\b\b\r600/600 [==============================] - 3s 5ms/step - loss: 0.6239 - accuracy: 0.9075 - val_loss: 0.6176 - val_accuracy: 0.9103\n"
                ]
              },
              {
                "output_type": "stream",
                "name": "stdout",
                "text": [
                  "Accuracy:  0.9103000164031982\n"
                ]
              },
              {
                "output_type": "display_data",
                "data": {
                  "text/plain": "<Figure size 640x480 with 1 Axes>",
                  "image/png": "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\n"
                },
                "metadata": {}
              },
              {
                "output_type": "display_data",
                "data": {
                  "text/plain": "<Figure size 640x480 with 1 Axes>",
                  "image/png": "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\n"
                },
                "metadata": {}
              }
            ]
          }
        },
        "f987ff41a42d4b309b00ef6672596cf8": {
          "model_module": "@jupyter-widgets/base",
          "model_name": "LayoutModel",
          "model_module_version": "1.2.0",
          "state": {
            "_model_module": "@jupyter-widgets/base",
            "_model_module_version": "1.2.0",
            "_model_name": "LayoutModel",
            "_view_count": null,
            "_view_module": "@jupyter-widgets/base",
            "_view_module_version": "1.2.0",
            "_view_name": "LayoutView",
            "align_content": null,
            "align_items": null,
            "align_self": null,
            "border": null,
            "bottom": null,
            "display": null,
            "flex": null,
            "flex_flow": null,
            "grid_area": null,
            "grid_auto_columns": null,
            "grid_auto_flow": null,
            "grid_auto_rows": null,
            "grid_column": null,
            "grid_gap": null,
            "grid_row": null,
            "grid_template_areas": null,
            "grid_template_columns": null,
            "grid_template_rows": null,
            "height": null,
            "justify_content": null,
            "justify_items": null,
            "left": null,
            "margin": null,
            "max_height": null,
            "max_width": null,
            "min_height": null,
            "min_width": null,
            "object_fit": null,
            "object_position": null,
            "order": null,
            "overflow": null,
            "overflow_x": null,
            "overflow_y": null,
            "padding": null,
            "right": null,
            "top": null,
            "visibility": null,
            "width": null
          }
        },
        "42a2b473f0b6443ca276f4cd15c2cbc7": {
          "model_module": "@jupyter-widgets/base",
          "model_name": "LayoutModel",
          "model_module_version": "1.2.0",
          "state": {
            "_model_module": "@jupyter-widgets/base",
            "_model_module_version": "1.2.0",
            "_model_name": "LayoutModel",
            "_view_count": null,
            "_view_module": "@jupyter-widgets/base",
            "_view_module_version": "1.2.0",
            "_view_name": "LayoutView",
            "align_content": null,
            "align_items": null,
            "align_self": null,
            "border": null,
            "bottom": null,
            "display": null,
            "flex": null,
            "flex_flow": null,
            "grid_area": null,
            "grid_auto_columns": null,
            "grid_auto_flow": null,
            "grid_auto_rows": null,
            "grid_column": null,
            "grid_gap": null,
            "grid_row": null,
            "grid_template_areas": null,
            "grid_template_columns": null,
            "grid_template_rows": null,
            "height": null,
            "justify_content": null,
            "justify_items": null,
            "left": null,
            "margin": null,
            "max_height": null,
            "max_width": null,
            "min_height": null,
            "min_width": null,
            "object_fit": null,
            "object_position": null,
            "order": null,
            "overflow": null,
            "overflow_x": null,
            "overflow_y": null,
            "padding": null,
            "right": null,
            "top": null,
            "visibility": null,
            "width": null
          }
        },
        "0120b6ad1de54e6bae24ab5f941ca47d": {
          "model_module": "@jupyter-widgets/controls",
          "model_name": "SliderStyleModel",
          "model_module_version": "1.5.0",
          "state": {
            "_model_module": "@jupyter-widgets/controls",
            "_model_module_version": "1.5.0",
            "_model_name": "SliderStyleModel",
            "_view_count": null,
            "_view_module": "@jupyter-widgets/base",
            "_view_module_version": "1.2.0",
            "_view_name": "StyleView",
            "description_width": "",
            "handle_color": null
          }
        },
        "14465c7cce2a47acb9ebca2c9990d4a0": {
          "model_module": "@jupyter-widgets/base",
          "model_name": "LayoutModel",
          "model_module_version": "1.2.0",
          "state": {
            "_model_module": "@jupyter-widgets/base",
            "_model_module_version": "1.2.0",
            "_model_name": "LayoutModel",
            "_view_count": null,
            "_view_module": "@jupyter-widgets/base",
            "_view_module_version": "1.2.0",
            "_view_name": "LayoutView",
            "align_content": null,
            "align_items": null,
            "align_self": null,
            "border": null,
            "bottom": null,
            "display": null,
            "flex": null,
            "flex_flow": null,
            "grid_area": null,
            "grid_auto_columns": null,
            "grid_auto_flow": null,
            "grid_auto_rows": null,
            "grid_column": null,
            "grid_gap": null,
            "grid_row": null,
            "grid_template_areas": null,
            "grid_template_columns": null,
            "grid_template_rows": null,
            "height": null,
            "justify_content": null,
            "justify_items": null,
            "left": null,
            "margin": null,
            "max_height": null,
            "max_width": null,
            "min_height": null,
            "min_width": null,
            "object_fit": null,
            "object_position": null,
            "order": null,
            "overflow": null,
            "overflow_x": null,
            "overflow_y": null,
            "padding": null,
            "right": null,
            "top": null,
            "visibility": null,
            "width": null
          }
        },
        "9a228377527a4832821695c2ae7bf00b": {
          "model_module": "@jupyter-widgets/controls",
          "model_name": "DescriptionStyleModel",
          "model_module_version": "1.5.0",
          "state": {
            "_model_module": "@jupyter-widgets/controls",
            "_model_module_version": "1.5.0",
            "_model_name": "DescriptionStyleModel",
            "_view_count": null,
            "_view_module": "@jupyter-widgets/base",
            "_view_module_version": "1.2.0",
            "_view_name": "StyleView",
            "description_width": ""
          }
        },
        "3a771722b0e94b4992306a137623ee07": {
          "model_module": "@jupyter-widgets/base",
          "model_name": "LayoutModel",
          "model_module_version": "1.2.0",
          "state": {
            "_model_module": "@jupyter-widgets/base",
            "_model_module_version": "1.2.0",
            "_model_name": "LayoutModel",
            "_view_count": null,
            "_view_module": "@jupyter-widgets/base",
            "_view_module_version": "1.2.0",
            "_view_name": "LayoutView",
            "align_content": null,
            "align_items": null,
            "align_self": null,
            "border": null,
            "bottom": null,
            "display": null,
            "flex": null,
            "flex_flow": null,
            "grid_area": null,
            "grid_auto_columns": null,
            "grid_auto_flow": null,
            "grid_auto_rows": null,
            "grid_column": null,
            "grid_gap": null,
            "grid_row": null,
            "grid_template_areas": null,
            "grid_template_columns": null,
            "grid_template_rows": null,
            "height": null,
            "justify_content": null,
            "justify_items": null,
            "left": null,
            "margin": null,
            "max_height": null,
            "max_width": null,
            "min_height": null,
            "min_width": null,
            "object_fit": null,
            "object_position": null,
            "order": null,
            "overflow": null,
            "overflow_x": null,
            "overflow_y": null,
            "padding": null,
            "right": null,
            "top": null,
            "visibility": null,
            "width": null
          }
        },
        "ad843b8098db4989ba205998de18117d": {
          "model_module": "@jupyter-widgets/controls",
          "model_name": "DescriptionStyleModel",
          "model_module_version": "1.5.0",
          "state": {
            "_model_module": "@jupyter-widgets/controls",
            "_model_module_version": "1.5.0",
            "_model_name": "DescriptionStyleModel",
            "_view_count": null,
            "_view_module": "@jupyter-widgets/base",
            "_view_module_version": "1.2.0",
            "_view_name": "StyleView",
            "description_width": ""
          }
        },
        "1638e0173c30406285ecff68ff32c0d5": {
          "model_module": "@jupyter-widgets/base",
          "model_name": "LayoutModel",
          "model_module_version": "1.2.0",
          "state": {
            "_model_module": "@jupyter-widgets/base",
            "_model_module_version": "1.2.0",
            "_model_name": "LayoutModel",
            "_view_count": null,
            "_view_module": "@jupyter-widgets/base",
            "_view_module_version": "1.2.0",
            "_view_name": "LayoutView",
            "align_content": null,
            "align_items": null,
            "align_self": null,
            "border": null,
            "bottom": null,
            "display": null,
            "flex": null,
            "flex_flow": null,
            "grid_area": null,
            "grid_auto_columns": null,
            "grid_auto_flow": null,
            "grid_auto_rows": null,
            "grid_column": null,
            "grid_gap": null,
            "grid_row": null,
            "grid_template_areas": null,
            "grid_template_columns": null,
            "grid_template_rows": null,
            "height": null,
            "justify_content": null,
            "justify_items": null,
            "left": null,
            "margin": null,
            "max_height": null,
            "max_width": null,
            "min_height": null,
            "min_width": null,
            "object_fit": null,
            "object_position": null,
            "order": null,
            "overflow": null,
            "overflow_x": null,
            "overflow_y": null,
            "padding": null,
            "right": null,
            "top": null,
            "visibility": null,
            "width": null
          }
        },
        "e91bff43faa04c37ad5ba02edf2e8ba4": {
          "model_module": "@jupyter-widgets/controls",
          "model_name": "ToggleButtonsStyleModel",
          "model_module_version": "1.5.0",
          "state": {
            "_model_module": "@jupyter-widgets/controls",
            "_model_module_version": "1.5.0",
            "_model_name": "ToggleButtonsStyleModel",
            "_view_count": null,
            "_view_module": "@jupyter-widgets/base",
            "_view_module_version": "1.2.0",
            "_view_name": "StyleView",
            "button_width": "",
            "description_width": "",
            "font_weight": ""
          }
        },
        "4d14860dc30a46c29ef730da9951e1b2": {
          "model_module": "@jupyter-widgets/base",
          "model_name": "LayoutModel",
          "model_module_version": "1.2.0",
          "state": {
            "_model_module": "@jupyter-widgets/base",
            "_model_module_version": "1.2.0",
            "_model_name": "LayoutModel",
            "_view_count": null,
            "_view_module": "@jupyter-widgets/base",
            "_view_module_version": "1.2.0",
            "_view_name": "LayoutView",
            "align_content": null,
            "align_items": null,
            "align_self": null,
            "border": null,
            "bottom": null,
            "display": null,
            "flex": null,
            "flex_flow": null,
            "grid_area": null,
            "grid_auto_columns": null,
            "grid_auto_flow": null,
            "grid_auto_rows": null,
            "grid_column": null,
            "grid_gap": null,
            "grid_row": null,
            "grid_template_areas": null,
            "grid_template_columns": null,
            "grid_template_rows": null,
            "height": null,
            "justify_content": null,
            "justify_items": null,
            "left": null,
            "margin": null,
            "max_height": null,
            "max_width": null,
            "min_height": null,
            "min_width": null,
            "object_fit": null,
            "object_position": null,
            "order": null,
            "overflow": null,
            "overflow_x": null,
            "overflow_y": null,
            "padding": null,
            "right": null,
            "top": null,
            "visibility": null,
            "width": null
          }
        },
        "186cbeb63dc747f39ef91ab60aa0047a": {
          "model_module": "@jupyter-widgets/controls",
          "model_name": "ToggleButtonsStyleModel",
          "model_module_version": "1.5.0",
          "state": {
            "_model_module": "@jupyter-widgets/controls",
            "_model_module_version": "1.5.0",
            "_model_name": "ToggleButtonsStyleModel",
            "_view_count": null,
            "_view_module": "@jupyter-widgets/base",
            "_view_module_version": "1.2.0",
            "_view_name": "StyleView",
            "button_width": "",
            "description_width": "",
            "font_weight": ""
          }
        },
        "71e09b03d1d34e618bec8d8299d0ff9c": {
          "model_module": "@jupyter-widgets/base",
          "model_name": "LayoutModel",
          "model_module_version": "1.2.0",
          "state": {
            "_model_module": "@jupyter-widgets/base",
            "_model_module_version": "1.2.0",
            "_model_name": "LayoutModel",
            "_view_count": null,
            "_view_module": "@jupyter-widgets/base",
            "_view_module_version": "1.2.0",
            "_view_name": "LayoutView",
            "align_content": null,
            "align_items": null,
            "align_self": null,
            "border": null,
            "bottom": null,
            "display": null,
            "flex": null,
            "flex_flow": null,
            "grid_area": null,
            "grid_auto_columns": null,
            "grid_auto_flow": null,
            "grid_auto_rows": null,
            "grid_column": null,
            "grid_gap": null,
            "grid_row": null,
            "grid_template_areas": null,
            "grid_template_columns": null,
            "grid_template_rows": null,
            "height": null,
            "justify_content": null,
            "justify_items": null,
            "left": null,
            "margin": null,
            "max_height": null,
            "max_width": null,
            "min_height": null,
            "min_width": null,
            "object_fit": null,
            "object_position": null,
            "order": null,
            "overflow": null,
            "overflow_x": null,
            "overflow_y": null,
            "padding": null,
            "right": null,
            "top": null,
            "visibility": null,
            "width": null
          }
        },
        "75b279c5a08942fe8128fb1571191862": {
          "model_module": "@jupyter-widgets/controls",
          "model_name": "ToggleButtonsStyleModel",
          "model_module_version": "1.5.0",
          "state": {
            "_model_module": "@jupyter-widgets/controls",
            "_model_module_version": "1.5.0",
            "_model_name": "ToggleButtonsStyleModel",
            "_view_count": null,
            "_view_module": "@jupyter-widgets/base",
            "_view_module_version": "1.2.0",
            "_view_name": "StyleView",
            "button_width": "",
            "description_width": "",
            "font_weight": ""
          }
        },
        "a7152c0676cf4bc5960407c6b0bb397c": {
          "model_module": "@jupyter-widgets/base",
          "model_name": "LayoutModel",
          "model_module_version": "1.2.0",
          "state": {
            "_model_module": "@jupyter-widgets/base",
            "_model_module_version": "1.2.0",
            "_model_name": "LayoutModel",
            "_view_count": null,
            "_view_module": "@jupyter-widgets/base",
            "_view_module_version": "1.2.0",
            "_view_name": "LayoutView",
            "align_content": null,
            "align_items": null,
            "align_self": null,
            "border": null,
            "bottom": null,
            "display": null,
            "flex": null,
            "flex_flow": null,
            "grid_area": null,
            "grid_auto_columns": null,
            "grid_auto_flow": null,
            "grid_auto_rows": null,
            "grid_column": null,
            "grid_gap": null,
            "grid_row": null,
            "grid_template_areas": null,
            "grid_template_columns": null,
            "grid_template_rows": null,
            "height": null,
            "justify_content": null,
            "justify_items": null,
            "left": null,
            "margin": null,
            "max_height": null,
            "max_width": null,
            "min_height": null,
            "min_width": null,
            "object_fit": null,
            "object_position": null,
            "order": null,
            "overflow": null,
            "overflow_x": null,
            "overflow_y": null,
            "padding": null,
            "right": null,
            "top": null,
            "visibility": null,
            "width": null
          }
        },
        "01c071a87d0e48eb86bbcc01d908a809": {
          "model_module": "@jupyter-widgets/controls",
          "model_name": "DescriptionStyleModel",
          "model_module_version": "1.5.0",
          "state": {
            "_model_module": "@jupyter-widgets/controls",
            "_model_module_version": "1.5.0",
            "_model_name": "DescriptionStyleModel",
            "_view_count": null,
            "_view_module": "@jupyter-widgets/base",
            "_view_module_version": "1.2.0",
            "_view_name": "StyleView",
            "description_width": ""
          }
        },
        "668dc001b6ca41058d45ddf05b762933": {
          "model_module": "@jupyter-widgets/base",
          "model_name": "LayoutModel",
          "model_module_version": "1.2.0",
          "state": {
            "_model_module": "@jupyter-widgets/base",
            "_model_module_version": "1.2.0",
            "_model_name": "LayoutModel",
            "_view_count": null,
            "_view_module": "@jupyter-widgets/base",
            "_view_module_version": "1.2.0",
            "_view_name": "LayoutView",
            "align_content": null,
            "align_items": null,
            "align_self": null,
            "border": null,
            "bottom": null,
            "display": null,
            "flex": null,
            "flex_flow": null,
            "grid_area": null,
            "grid_auto_columns": null,
            "grid_auto_flow": null,
            "grid_auto_rows": null,
            "grid_column": null,
            "grid_gap": null,
            "grid_row": null,
            "grid_template_areas": null,
            "grid_template_columns": null,
            "grid_template_rows": null,
            "height": null,
            "justify_content": null,
            "justify_items": null,
            "left": null,
            "margin": null,
            "max_height": null,
            "max_width": null,
            "min_height": null,
            "min_width": null,
            "object_fit": null,
            "object_position": null,
            "order": null,
            "overflow": null,
            "overflow_x": null,
            "overflow_y": null,
            "padding": null,
            "right": null,
            "top": null,
            "visibility": null,
            "width": null
          }
        },
        "985fb28f7eb64fbea481342f01d8d126": {
          "model_module": "@jupyter-widgets/controls",
          "model_name": "SliderStyleModel",
          "model_module_version": "1.5.0",
          "state": {
            "_model_module": "@jupyter-widgets/controls",
            "_model_module_version": "1.5.0",
            "_model_name": "SliderStyleModel",
            "_view_count": null,
            "_view_module": "@jupyter-widgets/base",
            "_view_module_version": "1.2.0",
            "_view_name": "StyleView",
            "description_width": "",
            "handle_color": null
          }
        },
        "3a449bf1d7b94067909a0cacf6375388": {
          "model_module": "@jupyter-widgets/base",
          "model_name": "LayoutModel",
          "model_module_version": "1.2.0",
          "state": {
            "_model_module": "@jupyter-widgets/base",
            "_model_module_version": "1.2.0",
            "_model_name": "LayoutModel",
            "_view_count": null,
            "_view_module": "@jupyter-widgets/base",
            "_view_module_version": "1.2.0",
            "_view_name": "LayoutView",
            "align_content": null,
            "align_items": null,
            "align_self": null,
            "border": null,
            "bottom": null,
            "display": null,
            "flex": null,
            "flex_flow": null,
            "grid_area": null,
            "grid_auto_columns": null,
            "grid_auto_flow": null,
            "grid_auto_rows": null,
            "grid_column": null,
            "grid_gap": null,
            "grid_row": null,
            "grid_template_areas": null,
            "grid_template_columns": null,
            "grid_template_rows": null,
            "height": null,
            "justify_content": null,
            "justify_items": null,
            "left": null,
            "margin": null,
            "max_height": null,
            "max_width": null,
            "min_height": null,
            "min_width": null,
            "object_fit": null,
            "object_position": null,
            "order": null,
            "overflow": null,
            "overflow_x": null,
            "overflow_y": null,
            "padding": null,
            "right": null,
            "top": null,
            "visibility": null,
            "width": null
          }
        },
        "cb44a179ea314a2ab7b50e181dd5ed45": {
          "model_module": "@jupyter-widgets/controls",
          "model_name": "SliderStyleModel",
          "model_module_version": "1.5.0",
          "state": {
            "_model_module": "@jupyter-widgets/controls",
            "_model_module_version": "1.5.0",
            "_model_name": "SliderStyleModel",
            "_view_count": null,
            "_view_module": "@jupyter-widgets/base",
            "_view_module_version": "1.2.0",
            "_view_name": "StyleView",
            "description_width": "",
            "handle_color": null
          }
        },
        "3cef73cfe2f34eec94b31480cc407145": {
          "model_module": "@jupyter-widgets/base",
          "model_name": "LayoutModel",
          "model_module_version": "1.2.0",
          "state": {
            "_model_module": "@jupyter-widgets/base",
            "_model_module_version": "1.2.0",
            "_model_name": "LayoutModel",
            "_view_count": null,
            "_view_module": "@jupyter-widgets/base",
            "_view_module_version": "1.2.0",
            "_view_name": "LayoutView",
            "align_content": null,
            "align_items": null,
            "align_self": null,
            "border": null,
            "bottom": null,
            "display": null,
            "flex": null,
            "flex_flow": null,
            "grid_area": null,
            "grid_auto_columns": null,
            "grid_auto_flow": null,
            "grid_auto_rows": null,
            "grid_column": null,
            "grid_gap": null,
            "grid_row": null,
            "grid_template_areas": null,
            "grid_template_columns": null,
            "grid_template_rows": null,
            "height": null,
            "justify_content": null,
            "justify_items": null,
            "left": null,
            "margin": null,
            "max_height": null,
            "max_width": null,
            "min_height": null,
            "min_width": null,
            "object_fit": null,
            "object_position": null,
            "order": null,
            "overflow": null,
            "overflow_x": null,
            "overflow_y": null,
            "padding": null,
            "right": null,
            "top": null,
            "visibility": null,
            "width": null
          }
        },
        "e595b1459e704d549f26642b1dbb1fee": {
          "model_module": "@jupyter-widgets/controls",
          "model_name": "DescriptionStyleModel",
          "model_module_version": "1.5.0",
          "state": {
            "_model_module": "@jupyter-widgets/controls",
            "_model_module_version": "1.5.0",
            "_model_name": "DescriptionStyleModel",
            "_view_count": null,
            "_view_module": "@jupyter-widgets/base",
            "_view_module_version": "1.2.0",
            "_view_name": "StyleView",
            "description_width": ""
          }
        },
        "419876d0f9444f3eab9f9aa41adce5c3": {
          "model_module": "@jupyter-widgets/base",
          "model_name": "LayoutModel",
          "model_module_version": "1.2.0",
          "state": {
            "_model_module": "@jupyter-widgets/base",
            "_model_module_version": "1.2.0",
            "_model_name": "LayoutModel",
            "_view_count": null,
            "_view_module": "@jupyter-widgets/base",
            "_view_module_version": "1.2.0",
            "_view_name": "LayoutView",
            "align_content": null,
            "align_items": null,
            "align_self": null,
            "border": null,
            "bottom": null,
            "display": null,
            "flex": null,
            "flex_flow": null,
            "grid_area": null,
            "grid_auto_columns": null,
            "grid_auto_flow": null,
            "grid_auto_rows": null,
            "grid_column": null,
            "grid_gap": null,
            "grid_row": null,
            "grid_template_areas": null,
            "grid_template_columns": null,
            "grid_template_rows": null,
            "height": null,
            "justify_content": null,
            "justify_items": null,
            "left": null,
            "margin": null,
            "max_height": null,
            "max_width": null,
            "min_height": null,
            "min_width": null,
            "object_fit": null,
            "object_position": null,
            "order": null,
            "overflow": null,
            "overflow_x": null,
            "overflow_y": null,
            "padding": null,
            "right": null,
            "top": null,
            "visibility": null,
            "width": null
          }
        },
        "0dc8fc58d3944f109dcef3b7e431970b": {
          "model_module": "@jupyter-widgets/controls",
          "model_name": "DescriptionStyleModel",
          "model_module_version": "1.5.0",
          "state": {
            "_model_module": "@jupyter-widgets/controls",
            "_model_module_version": "1.5.0",
            "_model_name": "DescriptionStyleModel",
            "_view_count": null,
            "_view_module": "@jupyter-widgets/base",
            "_view_module_version": "1.2.0",
            "_view_name": "StyleView",
            "description_width": ""
          }
        },
        "8cbc82a19cef489f969a7ddd499b9199": {
          "model_module": "@jupyter-widgets/base",
          "model_name": "LayoutModel",
          "model_module_version": "1.2.0",
          "state": {
            "_model_module": "@jupyter-widgets/base",
            "_model_module_version": "1.2.0",
            "_model_name": "LayoutModel",
            "_view_count": null,
            "_view_module": "@jupyter-widgets/base",
            "_view_module_version": "1.2.0",
            "_view_name": "LayoutView",
            "align_content": null,
            "align_items": null,
            "align_self": null,
            "border": null,
            "bottom": null,
            "display": null,
            "flex": null,
            "flex_flow": null,
            "grid_area": null,
            "grid_auto_columns": null,
            "grid_auto_flow": null,
            "grid_auto_rows": null,
            "grid_column": null,
            "grid_gap": null,
            "grid_row": null,
            "grid_template_areas": null,
            "grid_template_columns": null,
            "grid_template_rows": null,
            "height": null,
            "justify_content": null,
            "justify_items": null,
            "left": null,
            "margin": null,
            "max_height": null,
            "max_width": null,
            "min_height": null,
            "min_width": null,
            "object_fit": null,
            "object_position": null,
            "order": null,
            "overflow": null,
            "overflow_x": null,
            "overflow_y": null,
            "padding": null,
            "right": null,
            "top": null,
            "visibility": null,
            "width": null
          }
        },
        "e07b9edebed04ec9be49978c912eecf6": {
          "model_module": "@jupyter-widgets/controls",
          "model_name": "DescriptionStyleModel",
          "model_module_version": "1.5.0",
          "state": {
            "_model_module": "@jupyter-widgets/controls",
            "_model_module_version": "1.5.0",
            "_model_name": "DescriptionStyleModel",
            "_view_count": null,
            "_view_module": "@jupyter-widgets/base",
            "_view_module_version": "1.2.0",
            "_view_name": "StyleView",
            "description_width": ""
          }
        },
        "73ada098c08a4843ab17f5efaf85be63": {
          "model_module": "@jupyter-widgets/base",
          "model_name": "LayoutModel",
          "model_module_version": "1.2.0",
          "state": {
            "_model_module": "@jupyter-widgets/base",
            "_model_module_version": "1.2.0",
            "_model_name": "LayoutModel",
            "_view_count": null,
            "_view_module": "@jupyter-widgets/base",
            "_view_module_version": "1.2.0",
            "_view_name": "LayoutView",
            "align_content": null,
            "align_items": null,
            "align_self": null,
            "border": null,
            "bottom": null,
            "display": null,
            "flex": null,
            "flex_flow": null,
            "grid_area": null,
            "grid_auto_columns": null,
            "grid_auto_flow": null,
            "grid_auto_rows": null,
            "grid_column": null,
            "grid_gap": null,
            "grid_row": null,
            "grid_template_areas": null,
            "grid_template_columns": null,
            "grid_template_rows": null,
            "height": null,
            "justify_content": null,
            "justify_items": null,
            "left": null,
            "margin": null,
            "max_height": null,
            "max_width": null,
            "min_height": null,
            "min_width": null,
            "object_fit": null,
            "object_position": null,
            "order": null,
            "overflow": null,
            "overflow_x": null,
            "overflow_y": null,
            "padding": null,
            "right": null,
            "top": null,
            "visibility": null,
            "width": null
          }
        },
        "8ff03ebf1e6341829d793c6237d7ce15": {
          "model_module": "@jupyter-widgets/controls",
          "model_name": "DescriptionStyleModel",
          "model_module_version": "1.5.0",
          "state": {
            "_model_module": "@jupyter-widgets/controls",
            "_model_module_version": "1.5.0",
            "_model_name": "DescriptionStyleModel",
            "_view_count": null,
            "_view_module": "@jupyter-widgets/base",
            "_view_module_version": "1.2.0",
            "_view_name": "StyleView",
            "description_width": ""
          }
        },
        "7852604a12ef4dfb97cd778a4a5b0bc8": {
          "model_module": "@jupyter-widgets/base",
          "model_name": "LayoutModel",
          "model_module_version": "1.2.0",
          "state": {
            "_model_module": "@jupyter-widgets/base",
            "_model_module_version": "1.2.0",
            "_model_name": "LayoutModel",
            "_view_count": null,
            "_view_module": "@jupyter-widgets/base",
            "_view_module_version": "1.2.0",
            "_view_name": "LayoutView",
            "align_content": null,
            "align_items": null,
            "align_self": null,
            "border": null,
            "bottom": null,
            "display": null,
            "flex": null,
            "flex_flow": null,
            "grid_area": null,
            "grid_auto_columns": null,
            "grid_auto_flow": null,
            "grid_auto_rows": null,
            "grid_column": null,
            "grid_gap": null,
            "grid_row": null,
            "grid_template_areas": null,
            "grid_template_columns": null,
            "grid_template_rows": null,
            "height": null,
            "justify_content": null,
            "justify_items": null,
            "left": null,
            "margin": null,
            "max_height": null,
            "max_width": null,
            "min_height": null,
            "min_width": null,
            "object_fit": null,
            "object_position": null,
            "order": null,
            "overflow": null,
            "overflow_x": null,
            "overflow_y": null,
            "padding": null,
            "right": null,
            "top": null,
            "visibility": null,
            "width": null
          }
        },
        "3716395f5ea34966aadffc51975ecca8": {
          "model_module": "@jupyter-widgets/controls",
          "model_name": "ButtonStyleModel",
          "model_module_version": "1.5.0",
          "state": {
            "_model_module": "@jupyter-widgets/controls",
            "_model_module_version": "1.5.0",
            "_model_name": "ButtonStyleModel",
            "_view_count": null,
            "_view_module": "@jupyter-widgets/base",
            "_view_module_version": "1.2.0",
            "_view_name": "StyleView",
            "button_color": null,
            "font_weight": ""
          }
        },
        "cc6bcaa5cdf84dcaae99b85181ee8ade": {
          "model_module": "@jupyter-widgets/base",
          "model_name": "LayoutModel",
          "model_module_version": "1.2.0",
          "state": {
            "_model_module": "@jupyter-widgets/base",
            "_model_module_version": "1.2.0",
            "_model_name": "LayoutModel",
            "_view_count": null,
            "_view_module": "@jupyter-widgets/base",
            "_view_module_version": "1.2.0",
            "_view_name": "LayoutView",
            "align_content": null,
            "align_items": null,
            "align_self": null,
            "border": null,
            "bottom": null,
            "display": null,
            "flex": null,
            "flex_flow": null,
            "grid_area": null,
            "grid_auto_columns": null,
            "grid_auto_flow": null,
            "grid_auto_rows": null,
            "grid_column": null,
            "grid_gap": null,
            "grid_row": null,
            "grid_template_areas": null,
            "grid_template_columns": null,
            "grid_template_rows": null,
            "height": null,
            "justify_content": null,
            "justify_items": null,
            "left": null,
            "margin": null,
            "max_height": null,
            "max_width": null,
            "min_height": null,
            "min_width": null,
            "object_fit": null,
            "object_position": null,
            "order": null,
            "overflow": null,
            "overflow_x": null,
            "overflow_y": null,
            "padding": null,
            "right": null,
            "top": null,
            "visibility": null,
            "width": null
          }
        }
      }
    }
  },
  "nbformat": 4,
  "nbformat_minor": 0
}